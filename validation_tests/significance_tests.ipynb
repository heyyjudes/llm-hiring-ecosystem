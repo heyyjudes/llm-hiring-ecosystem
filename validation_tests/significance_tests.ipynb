{
 "cells": [
  {
   "cell_type": "code",
   "execution_count": 2,
   "metadata": {},
   "outputs": [],
   "source": [
    "# Imports needed in every section\n",
    "import pandas as pd\n",
    "import numpy as np\n",
    "import matplotlib.pyplot as plt\n",
    "%load_ext autoreload\n",
    "%autoreload 2"
   ]
  },
  {
   "cell_type": "markdown",
   "metadata": {},
   "source": [
    "# Import and simplify score data"
   ]
  },
  {
   "cell_type": "code",
   "execution_count": 5,
   "metadata": {},
   "outputs": [],
   "source": [
    "# Read in data from file\n",
    "raw_data = pd.read_csv(\"oct_data.csv\")"
   ]
  },
  {
   "cell_type": "code",
   "execution_count": 42,
   "metadata": {},
   "outputs": [],
   "source": [
    "# Select only the relevant columns\n",
    "score_df = raw_data.copy()\n",
    "\n",
    "# t is the number of manipulations\n",
    "column_renaming = {\"True Label\": \"Y\",\n",
    "                    \"CVDoorDash PM Score\": \"t=0\", \n",
    "                    \"Cleaned GPT-4o Conversation-Improved CVDoorDash PM Score\": \"t=1\",\n",
    "                    \"Cleaned Twice GPT-4o Conversation-Improved CVDoorDash PM Score\": \"t=2\"\n",
    "                }\n",
    "\n",
    "score_df = score_df.rename(columns = column_renaming)\n",
    "\n",
    "score_df = score_df[column_renaming.values()]"
   ]
  },
  {
   "cell_type": "code",
   "execution_count": 43,
   "metadata": {},
   "outputs": [
    {
     "data": {
      "text/html": [
       "<div>\n",
       "<style scoped>\n",
       "    .dataframe tbody tr th:only-of-type {\n",
       "        vertical-align: middle;\n",
       "    }\n",
       "\n",
       "    .dataframe tbody tr th {\n",
       "        vertical-align: top;\n",
       "    }\n",
       "\n",
       "    .dataframe thead th {\n",
       "        text-align: right;\n",
       "    }\n",
       "</style>\n",
       "<table border=\"1\" class=\"dataframe\">\n",
       "  <thead>\n",
       "    <tr style=\"text-align: right;\">\n",
       "      <th></th>\n",
       "      <th>Y</th>\n",
       "      <th>t=0</th>\n",
       "      <th>t=1</th>\n",
       "      <th>t=2</th>\n",
       "    </tr>\n",
       "  </thead>\n",
       "  <tbody>\n",
       "    <tr>\n",
       "      <th>0</th>\n",
       "      <td>0</td>\n",
       "      <td>77.283</td>\n",
       "      <td>77.720</td>\n",
       "      <td>77.467</td>\n",
       "    </tr>\n",
       "    <tr>\n",
       "      <th>1</th>\n",
       "      <td>0</td>\n",
       "      <td>77.283</td>\n",
       "      <td>79.134</td>\n",
       "      <td>78.956</td>\n",
       "    </tr>\n",
       "    <tr>\n",
       "      <th>2</th>\n",
       "      <td>0</td>\n",
       "      <td>76.478</td>\n",
       "      <td>77.406</td>\n",
       "      <td>77.301</td>\n",
       "    </tr>\n",
       "    <tr>\n",
       "      <th>3</th>\n",
       "      <td>0</td>\n",
       "      <td>77.730</td>\n",
       "      <td>78.668</td>\n",
       "      <td>80.373</td>\n",
       "    </tr>\n",
       "    <tr>\n",
       "      <th>4</th>\n",
       "      <td>0</td>\n",
       "      <td>78.287</td>\n",
       "      <td>78.450</td>\n",
       "      <td>77.869</td>\n",
       "    </tr>\n",
       "    <tr>\n",
       "      <th>...</th>\n",
       "      <td>...</td>\n",
       "      <td>...</td>\n",
       "      <td>...</td>\n",
       "      <td>...</td>\n",
       "    </tr>\n",
       "    <tr>\n",
       "      <th>515</th>\n",
       "      <td>1</td>\n",
       "      <td>74.669</td>\n",
       "      <td>75.305</td>\n",
       "      <td>75.530</td>\n",
       "    </tr>\n",
       "    <tr>\n",
       "      <th>516</th>\n",
       "      <td>1</td>\n",
       "      <td>78.783</td>\n",
       "      <td>81.236</td>\n",
       "      <td>80.971</td>\n",
       "    </tr>\n",
       "    <tr>\n",
       "      <th>517</th>\n",
       "      <td>1</td>\n",
       "      <td>81.537</td>\n",
       "      <td>80.474</td>\n",
       "      <td>80.565</td>\n",
       "    </tr>\n",
       "    <tr>\n",
       "      <th>518</th>\n",
       "      <td>1</td>\n",
       "      <td>79.434</td>\n",
       "      <td>81.882</td>\n",
       "      <td>81.805</td>\n",
       "    </tr>\n",
       "    <tr>\n",
       "      <th>519</th>\n",
       "      <td>1</td>\n",
       "      <td>79.470</td>\n",
       "      <td>79.687</td>\n",
       "      <td>79.123</td>\n",
       "    </tr>\n",
       "  </tbody>\n",
       "</table>\n",
       "<p>520 rows × 4 columns</p>\n",
       "</div>"
      ],
      "text/plain": [
       "     Y     t=0     t=1     t=2\n",
       "0    0  77.283  77.720  77.467\n",
       "1    0  77.283  79.134  78.956\n",
       "2    0  76.478  77.406  77.301\n",
       "3    0  77.730  78.668  80.373\n",
       "4    0  78.287  78.450  77.869\n",
       "..  ..     ...     ...     ...\n",
       "515  1  74.669  75.305  75.530\n",
       "516  1  78.783  81.236  80.971\n",
       "517  1  81.537  80.474  80.565\n",
       "518  1  79.434  81.882  81.805\n",
       "519  1  79.470  79.687  79.123\n",
       "\n",
       "[520 rows x 4 columns]"
      ]
     },
     "execution_count": 43,
     "metadata": {},
     "output_type": "execute_result"
    }
   ],
   "source": [
    "score_df"
   ]
  },
  {
   "cell_type": "code",
   "execution_count": 27,
   "metadata": {},
   "outputs": [],
   "source": [
    "# Export\n",
    "score_df.to_csv(\"simple_data.csv\")"
   ]
  },
  {
   "cell_type": "markdown",
   "metadata": {},
   "source": [
    "# Partition the data into groups/test-train"
   ]
  },
  {
   "cell_type": "code",
   "execution_count": 48,
   "metadata": {},
   "outputs": [],
   "source": [
    "from typing import *\n",
    "\n",
    "# Given the dataframe, return a new column with the given colum_name\n",
    "# alpha proportion of these will be randomly assigned to label_1 \n",
    "# Optionally accept a random_state for consistency\n",
    "def randomly_partition(df, column_name: str, label_1: str, label_2: str, alpha: float, random_state = None):\n",
    "    sliced_df = df.copy()\n",
    "\n",
    "    # Assign randomly\n",
    "    sliced_df[column_name] = label_2\n",
    "    sliced_df.loc[sliced_df.sample(frac=alpha, random_state=random_state).index, column_name] = label_1\n",
    "\n",
    "    return sliced_df\n",
    "\n",
    "\n",
    "TRAIN_PROPORTION = 0.5      # The amount of the dataset to dedicate to train (e.g. 0.80)\n",
    "GROUP_A_PROPORTION = 0.5    # The amount of the dataset to dedicate to Group A\n",
    "\n",
    "assign_test_train = lambda df : randomly_partition(df, \"Set\", \"Test\", \"Train\", TRAIN_PROPORTION, random_state = 0)  # stay consistent\n",
    "assign_groups = lambda df : randomly_partition(df, \"Group\", \"A\", \"B\", GROUP_A_PROPORTION)                           # randomize the groups\n",
    "\n",
    "assign_groups = lambda df : randomly_partition(df, \"Group\", \"A\", \"B\", GROUP_A_PROPORTION, random_state = 0)                           # randomize the groups\n"
   ]
  },
  {
   "cell_type": "markdown",
   "metadata": {},
   "source": [
    "# Evaluate Performance"
   ]
  },
  {
   "cell_type": "code",
   "execution_count": 56,
   "metadata": {},
   "outputs": [],
   "source": [
    "# Given a row, return the score that the Hirer evaluates\n",
    "def get_evaluated_score(row) -> float:\n",
    "    if row[\"Group\"] == \"A\":\n",
    "        return row[\"t=2\"]       # Both Applicant and Hirer manipulation\n",
    "    else:\n",
    "        return row[\"t=1\"]       # Only Hirer manipulation\n",
    "\n",
    "# Given a dataset with a testing-training split and group split, compute the exclusive threshold\n",
    "# (highest score from negative class in the testing_training split)\n"
   ]
  },
  {
   "cell_type": "code",
   "execution_count": 49,
   "metadata": {},
   "outputs": [],
   "source": [
    "example_df = assign_groups(assign_test_train(score_df))"
   ]
  },
  {
   "cell_type": "code",
   "execution_count": 54,
   "metadata": {},
   "outputs": [
    {
     "data": {
      "text/html": [
       "<div>\n",
       "<style scoped>\n",
       "    .dataframe tbody tr th:only-of-type {\n",
       "        vertical-align: middle;\n",
       "    }\n",
       "\n",
       "    .dataframe tbody tr th {\n",
       "        vertical-align: top;\n",
       "    }\n",
       "\n",
       "    .dataframe thead th {\n",
       "        text-align: right;\n",
       "    }\n",
       "</style>\n",
       "<table border=\"1\" class=\"dataframe\">\n",
       "  <thead>\n",
       "    <tr style=\"text-align: right;\">\n",
       "      <th></th>\n",
       "      <th>Y</th>\n",
       "      <th>t=0</th>\n",
       "      <th>t=1</th>\n",
       "      <th>t=2</th>\n",
       "      <th>Set</th>\n",
       "      <th>Group</th>\n",
       "    </tr>\n",
       "  </thead>\n",
       "  <tbody>\n",
       "    <tr>\n",
       "      <th>0</th>\n",
       "      <td>0</td>\n",
       "      <td>77.283</td>\n",
       "      <td>77.720</td>\n",
       "      <td>77.467</td>\n",
       "      <td>Train</td>\n",
       "      <td>B</td>\n",
       "    </tr>\n",
       "    <tr>\n",
       "      <th>3</th>\n",
       "      <td>0</td>\n",
       "      <td>77.730</td>\n",
       "      <td>78.668</td>\n",
       "      <td>80.373</td>\n",
       "      <td>Train</td>\n",
       "      <td>B</td>\n",
       "    </tr>\n",
       "    <tr>\n",
       "      <th>9</th>\n",
       "      <td>0</td>\n",
       "      <td>78.540</td>\n",
       "      <td>79.292</td>\n",
       "      <td>79.364</td>\n",
       "      <td>Train</td>\n",
       "      <td>B</td>\n",
       "    </tr>\n",
       "    <tr>\n",
       "      <th>11</th>\n",
       "      <td>0</td>\n",
       "      <td>80.955</td>\n",
       "      <td>79.763</td>\n",
       "      <td>79.920</td>\n",
       "      <td>Train</td>\n",
       "      <td>B</td>\n",
       "    </tr>\n",
       "    <tr>\n",
       "      <th>13</th>\n",
       "      <td>0</td>\n",
       "      <td>78.539</td>\n",
       "      <td>82.988</td>\n",
       "      <td>83.225</td>\n",
       "      <td>Train</td>\n",
       "      <td>B</td>\n",
       "    </tr>\n",
       "    <tr>\n",
       "      <th>...</th>\n",
       "      <td>...</td>\n",
       "      <td>...</td>\n",
       "      <td>...</td>\n",
       "      <td>...</td>\n",
       "      <td>...</td>\n",
       "      <td>...</td>\n",
       "    </tr>\n",
       "    <tr>\n",
       "      <th>507</th>\n",
       "      <td>1</td>\n",
       "      <td>80.373</td>\n",
       "      <td>80.979</td>\n",
       "      <td>83.271</td>\n",
       "      <td>Train</td>\n",
       "      <td>B</td>\n",
       "    </tr>\n",
       "    <tr>\n",
       "      <th>511</th>\n",
       "      <td>1</td>\n",
       "      <td>84.207</td>\n",
       "      <td>82.870</td>\n",
       "      <td>82.859</td>\n",
       "      <td>Train</td>\n",
       "      <td>B</td>\n",
       "    </tr>\n",
       "    <tr>\n",
       "      <th>513</th>\n",
       "      <td>1</td>\n",
       "      <td>81.576</td>\n",
       "      <td>82.495</td>\n",
       "      <td>81.755</td>\n",
       "      <td>Train</td>\n",
       "      <td>B</td>\n",
       "    </tr>\n",
       "    <tr>\n",
       "      <th>514</th>\n",
       "      <td>1</td>\n",
       "      <td>84.274</td>\n",
       "      <td>82.952</td>\n",
       "      <td>83.053</td>\n",
       "      <td>Train</td>\n",
       "      <td>B</td>\n",
       "    </tr>\n",
       "    <tr>\n",
       "      <th>518</th>\n",
       "      <td>1</td>\n",
       "      <td>79.434</td>\n",
       "      <td>81.882</td>\n",
       "      <td>81.805</td>\n",
       "      <td>Train</td>\n",
       "      <td>B</td>\n",
       "    </tr>\n",
       "  </tbody>\n",
       "</table>\n",
       "<p>260 rows × 6 columns</p>\n",
       "</div>"
      ],
      "text/plain": [
       "     Y     t=0     t=1     t=2    Set Group\n",
       "0    0  77.283  77.720  77.467  Train     B\n",
       "3    0  77.730  78.668  80.373  Train     B\n",
       "9    0  78.540  79.292  79.364  Train     B\n",
       "11   0  80.955  79.763  79.920  Train     B\n",
       "13   0  78.539  82.988  83.225  Train     B\n",
       "..  ..     ...     ...     ...    ...   ...\n",
       "507  1  80.373  80.979  83.271  Train     B\n",
       "511  1  84.207  82.870  82.859  Train     B\n",
       "513  1  81.576  82.495  81.755  Train     B\n",
       "514  1  84.274  82.952  83.053  Train     B\n",
       "518  1  79.434  81.882  81.805  Train     B\n",
       "\n",
       "[260 rows x 6 columns]"
      ]
     },
     "execution_count": 54,
     "metadata": {},
     "output_type": "execute_result"
    }
   ],
   "source": [
    "example_df.loc[example_df[\"Set\"] == \"Train\"]"
   ]
  },
  {
   "cell_type": "code",
   "execution_count": 58,
   "metadata": {},
   "outputs": [
    {
     "data": {
      "text/plain": [
       "0      77.720\n",
       "3      78.668\n",
       "9      79.292\n",
       "11     79.763\n",
       "13     82.988\n",
       "        ...  \n",
       "507    80.979\n",
       "511    82.870\n",
       "513    82.495\n",
       "514    82.952\n",
       "518    81.882\n",
       "Length: 260, dtype: float64"
      ]
     },
     "execution_count": 58,
     "metadata": {},
     "output_type": "execute_result"
    }
   ],
   "source": [
    "example_df.loc[example_df[\"Set\"] == \"Train\"].apply(get_evaluated_score, axis=1)"
   ]
  },
  {
   "cell_type": "markdown",
   "metadata": {},
   "source": [
    "# Old Code"
   ]
  },
  {
   "cell_type": "code",
   "execution_count": 14,
   "metadata": {},
   "outputs": [
    {
     "name": "stderr",
     "output_type": "stream",
     "text": [
      "/var/folders/6d/ffdjbx496k5dqjgrkzxf2zlw0000gp/T/ipykernel_21940/492999276.py:22: UserWarning: No artists with labels found to put in legend.  Note that artists whose label start with an underscore are ignored when legend() is called with no argument.\n",
      "  plt.legend()\n"
     ]
    },
    {
     "data": {
      "text/plain": [
       "<matplotlib.legend.Legend at 0x3014d64d0>"
      ]
     },
     "execution_count": 14,
     "metadata": {},
     "output_type": "execute_result"
    },
    {
     "data": {
      "text/plain": [
       "<Figure size 1000x700 with 0 Axes>"
      ]
     },
     "metadata": {},
     "output_type": "display_data"
    },
    {
     "data": {
      "image/png": "[encoded data removed]",
      "text/plain": [
       "<Figure size 582.611x500 with 1 Axes>"
      ]
     },
     "metadata": {},
     "output_type": "display_data"
    },
    {
     "data": {
      "image/png": "[encoded data removed]",
      "text/plain": [
       "<Figure size 582.611x500 with 1 Axes>"
      ]
     },
     "metadata": {},
     "output_type": "display_data"
    },
    {
     "data": {
      "image/png": "[encoded data removed]",
      "text/plain": [
       "<Figure size 582.611x500 with 1 Axes>"
      ]
     },
     "metadata": {},
     "output_type": "display_data"
    }
   ],
   "source": [
    "# Import data\n",
    "# Plot\n",
    "import matplotlib.pyplot as plt\n",
    "import seaborn as sns\n",
    "kwargs = dict(hist_kws={'alpha':.6}, kde_kws={'linewidth':2})\n",
    "og_col = 'CVDoorDash PM Score'\n",
    "one_mod_col = \"Cleaned GPT-4o Conversation-Improved CVDoorDash PM Score\"\n",
    "twice_mod_col = \"Cleaned Twice GPT-4o Conversation-Improved CVDoorDash PM Score\"\n",
    "plt.figure(figsize=(10,7), dpi= 100)\n",
    "sns.displot(data=finaldata, x=\"CVDoorDash PM Score\", hue = 'True Label', kde=True)\n",
    "plt.xlim(70,95)\n",
    "#ee.map(specs,'CV Score')\n",
    "sns.displot(data=finaldata, x=one_mod_col, hue = 'True Label', kde=True)\n",
    "plt.xlim(70,95)\n",
    "sns.displot(data=finaldata, x=twice_mod_col, hue = 'True Label', kde=True)\n",
    "\n",
    "#sns.displot(data=truedata, x=\"CV Score\", color = 'deeppink', kde=True)\n",
    "###sns.displot(x1, color=\"dodgerblue\", label=\"Compact\", **kwargs)\n",
    "#sns.displot(x2, color=\"orange\", label=\"SUV\", **kwargs)\n",
    "#sns.displot(x3, color=\"deeppink\", label=\"minivan\", **kwargs)\n",
    "plt.xlim(70,95)\n",
    "plt.legend()"
   ]
  },
  {
   "cell_type": "code",
   "execution_count": 17,
   "metadata": {},
   "outputs": [
    {
     "name": "stdout",
     "output_type": "stream",
     "text": [
      "Original Score\n",
      "+ Mean: 80.68283076923079\n",
      "+ STD: 2.4001032049555433\n",
      "- Mean: 78.52512692307694\n",
      "- STD: 1.93339949790671\n",
      "All Mean: 79.60397884615385\n",
      "All STD: 2.4317043361392994\n",
      "Once Mod Score\n",
      "+ Mean: 81.86902692307693\n",
      "+ STD: 2.2116990865113517\n",
      "- Mean: 79.71520769230769\n",
      "- STD: 1.9270170299680751\n",
      "All Mean: 80.79211730769231\n",
      "All STD: 2.3371431409391477\n",
      "Twice Mod Score\n",
      "+ Mean: 81.82341923076923\n",
      "+ STD: 2.154062836830623\n",
      "- Mean: 79.64893846153845\n",
      "- STD: 1.9121587005824117\n",
      "All Mean: 80.73617884615385\n",
      "All STD: 2.308735683128867\n"
     ]
    }
   ],
   "source": [
    "import numpy as np\n",
    "'''(+) Mean\n",
    "(+) STD\n",
    "(-) Mean\n",
    "(-) STD\n",
    "Overall Mean'''\n",
    "print(\"Original Score\")\n",
    "print(\"+ Mean:\", np.mean(list(finaldata[finaldata['True Label']==1][og_col])))\n",
    "print(\"+ STD:\", np.std(list(finaldata[finaldata['True Label']==1][og_col])))\n",
    "print(\"- Mean:\", np.mean(list(finaldata[finaldata['True Label']==0][og_col])))\n",
    "print(\"- STD:\", np.std(list(finaldata[finaldata['True Label']==0][og_col])))\n",
    "print(\"All Mean:\", np.mean(list(finaldata[og_col])))\n",
    "print(\"All STD:\", np.std(list(finaldata[og_col])))\n",
    "\n",
    "print(\"Once Mod Score\")\n",
    "print(\"+ Mean:\", np.mean(list(finaldata[finaldata['True Label']==1][one_mod_col])))\n",
    "print(\"+ STD:\", np.std(list(finaldata[finaldata['True Label']==1][one_mod_col])))\n",
    "print(\"- Mean:\", np.mean(list(finaldata[finaldata['True Label']==0][one_mod_col])))\n",
    "print(\"- STD:\", np.std(list(finaldata[finaldata['True Label']==0][one_mod_col])))\n",
    "print(\"All Mean:\", np.mean(list(finaldata[one_mod_col])))\n",
    "print(\"All STD:\", np.std(list(finaldata[one_mod_col])))\n",
    "\n",
    "print(\"Twice Mod Score\")\n",
    "print(\"+ Mean:\", np.mean(list(finaldata[finaldata['True Label']==1][twice_mod_col])))\n",
    "print(\"+ STD:\", np.std(list(finaldata[finaldata['True Label']==1][twice_mod_col])))\n",
    "print(\"- Mean:\", np.mean(list(finaldata[finaldata['True Label']==0][twice_mod_col])))\n",
    "print(\"- STD:\", np.std(list(finaldata[finaldata['True Label']==0][twice_mod_col])))\n",
    "print(\"All Mean:\", np.mean(list(finaldata[twice_mod_col])))\n",
    "print(\"All STD:\", np.std(list(finaldata[twice_mod_col])))"
   ]
  },
  {
   "cell_type": "code",
   "execution_count": 28,
   "metadata": {},
   "outputs": [],
   "source": [
    "adv_true = 0\n",
    "adv_neg = 0\n",
    "marked_for_advantage = []\n",
    "for index, row in input_data.iterrows():\n",
    "    if row['True Label'] == 1:\n",
    "        if adv_true < 25:\n",
    "            marked_for_advantage.append(1)\n",
    "        else:\n",
    "            marked_for_advantage.append(0)\n",
    "        adv_true +=1\n",
    "\n",
    "    if row['True Label'] == 0:\n",
    "        if adv_neg < 25:\n",
    "            marked_for_advantage.append(1)\n",
    "        else:\n",
    "            marked_for_advantage.append(0)\n",
    "        adv_neg +=1\n",
    "    "
   ]
  },
  {
   "cell_type": "code",
   "execution_count": 30,
   "metadata": {},
   "outputs": [],
   "source": [
    "input_data['Applicant Will Manipulate'] = marked_for_advantage"
   ]
  },
  {
   "cell_type": "code",
   "execution_count": 33,
   "metadata": {},
   "outputs": [
    {
     "data": {
      "text/plain": [
       "25"
      ]
     },
     "execution_count": 33,
     "metadata": {},
     "output_type": "execute_result"
    }
   ],
   "source": [
    "len(input_data[(input_data['Applicant Will Manipulate']==1) & (input_data['True Label']==0)])"
   ]
  },
  {
   "cell_type": "code",
   "execution_count": 41,
   "metadata": {},
   "outputs": [
    {
     "data": {
      "text/plain": [
       "Index(['Unnamed: 0.3', 'Unnamed: 0.2', 'Unnamed: 0.1', 'Unnamed: 0',\n",
       "       'Position', 'Moreinfo', 'Looking For', 'Highlights', 'Primary Keyword',\n",
       "       'English Level', 'Experience Years', 'CV', 'CV_lang', 'id',\n",
       "       '__index_level_0__', 'True Label', 'Marked for Experiments',\n",
       "       'GPT-4o Conversation-Improved CV',\n",
       "       'Cleaned GPT-4o Conversation-Improved CV',\n",
       "       'Twice GPT-4o Conversation-Improved CV',\n",
       "       'Cleaned Twice GPT-4o Conversation-Improved CV', 'CV Score',\n",
       "       'Cleaned GPT-4o Conversation-Improved CV Score',\n",
       "       'Cleaned Twice GPT-4o Conversation-Improved CV Score', 'CVBIT PM Score',\n",
       "       'Cleaned GPT-4o Conversation-Improved CVBIT PM Score',\n",
       "       'Cleaned Twice GPT-4o Conversation-Improved CVBIT PM Score',\n",
       "       'Applicant Will Manipulate'],\n",
       "      dtype='object')"
      ]
     },
     "execution_count": 41,
     "metadata": {},
     "output_type": "execute_result"
    }
   ],
   "source": [
    "input_data.columns"
   ]
  },
  {
   "cell_type": "code",
   "execution_count": 57,
   "metadata": {},
   "outputs": [],
   "source": [
    "def add_applicant_scores(input_csv, no_mod_col, mod_one_col, twice_mod_col, job_name:str = \"\"):\n",
    "    applicant_scores = []\n",
    "    for index, row in input_csv.iterrows():\n",
    "        if row['Applicant Will Manipulate'] ==1:\n",
    "            #print(input_csv[one_mod_col])\n",
    "            applicant_scores.append(max(row[mod_one_col], row[no_mod_col]))\n",
    "        else:\n",
    "            applicant_scores.append(row[no_mod_col])\n",
    "    input_csv[job_name + \" Applicant Reported Scores\"] = applicant_scores\n",
    "    return\n",
    "\n",
    "def add_two_ticket_scores(input_csv, reported_col, mod_one_col, twice_mod_col, job_name:str = \"\"):\n",
    "    testing_scores = []\n",
    "    for index, row in input_csv.iterrows():\n",
    "        if row['Applicant Will Manipulate']==1:\n",
    "            testing_scores.append(max(row[reported_col], row[twice_mod_col]))\n",
    "        else:\n",
    "            testing_scores.append(max(row[reported_col], row[mod_one_col]))\n",
    "    input_csv[job_name + \" Testing Scores\"] = testing_scores"
   ]
  },
  {
   "cell_type": "code",
   "execution_count": 55,
   "metadata": {},
   "outputs": [],
   "source": [
    "add_applicant_scores(input_data, \"CVBIT PM Score\", \"Cleaned GPT-4o Conversation-Improved CVBIT PM Score\", 'Cleaned Twice GPT-4o Conversation-Improved CVBIT PM Score', 'BIT PM')"
   ]
  },
  {
   "cell_type": "code",
   "execution_count": 58,
   "metadata": {},
   "outputs": [],
   "source": [
    "add_two_ticket_scores(input_data, \"BIT PM Applicant Reported Scores\", \"Cleaned GPT-4o Conversation-Improved CVBIT PM Score\", 'Cleaned Twice GPT-4o Conversation-Improved CVBIT PM Score', 'BIT PM')"
   ]
  },
  {
   "cell_type": "code",
   "execution_count": 6,
   "metadata": {},
   "outputs": [
    {
     "data": {
      "text/plain": [
       "Index(['Unnamed: 0.4', 'Unnamed: 0.3', 'Unnamed: 0.2', 'Unnamed: 0.1',\n",
       "       'Unnamed: 0', 'Position', 'Moreinfo', 'Looking For', 'Highlights',\n",
       "       'Primary Keyword', 'English Level', 'Experience Years', 'CV', 'CV_lang',\n",
       "       'id', '__index_level_0__', 'True Label', 'Marked for Experiments',\n",
       "       'GPT-4o Conversation-Improved CV',\n",
       "       'Cleaned GPT-4o Conversation-Improved CV',\n",
       "       'Twice GPT-4o Conversation-Improved CV',\n",
       "       'Cleaned Twice GPT-4o Conversation-Improved CV', 'CV Score',\n",
       "       'Cleaned GPT-4o Conversation-Improved CV Score',\n",
       "       'Cleaned Twice GPT-4o Conversation-Improved CV Score', 'CVBIT PM Score',\n",
       "       'Cleaned GPT-4o Conversation-Improved CVBIT PM Score',\n",
       "       'Cleaned Twice GPT-4o Conversation-Improved CVBIT PM Score',\n",
       "       'Applicant Will Manipulate', ' Applicant Reported Scores',\n",
       "       'BIT PM Applicant Reported Scores', 'BIT PM Testing Scores',\n",
       "       ' Testing Scores'],\n",
       "      dtype='object')"
      ]
     },
     "execution_count": 6,
     "metadata": {},
     "output_type": "execute_result"
    }
   ],
   "source": [
    "final_data.columns"
   ]
  },
  {
   "cell_type": "code",
   "execution_count": 7,
   "metadata": {},
   "outputs": [],
   "source": [
    "#add_two_ticket_scores(input_data, \" Applicant Reported Scores\", \"Cleaned GPT-4o Conversation-Improved CV Score\", 'Cleaned Twice GPT-4o Conversation-Improved CV Score')"
   ]
  },
  {
   "cell_type": "code",
   "execution_count": 67,
   "metadata": {},
   "outputs": [],
   "source": [
    "input_data.to_csv('data/connie_data.csv')"
   ]
  },
  {
   "cell_type": "code",
   "execution_count": 12,
   "metadata": {},
   "outputs": [],
   "source": [
    "output_data = pd.read_csv(\"data/connie_data.csv\")\n",
    "output_data.head"
   ]
  },
  {
   "cell_type": "code",
   "execution_count": 17,
   "metadata": {},
   "outputs": [
    {
     "data": {
      "text/plain": [
       "139"
      ]
     },
     "execution_count": 17,
     "metadata": {},
     "output_type": "execute_result"
    }
   ],
   "source": [
    "row_chosen = random.choice([i for i in range(len(output_data))])\n",
    "row_chosen"
   ]
  },
  {
   "cell_type": "code",
   "execution_count": 48,
   "metadata": {},
   "outputs": [
    {
     "data": {
      "text/plain": [
       "Index(['Unnamed: 0.6', 'Unnamed: 0.5', 'Unnamed: 0.4', 'Unnamed: 0.3',\n",
       "       'Unnamed: 0.2', 'Unnamed: 0.1', 'Unnamed: 0', 'Position', 'Moreinfo',\n",
       "       'Looking For', 'Highlights', 'Primary Keyword', 'English Level',\n",
       "       'Experience Years', 'CV', 'CV_lang', 'id', '__index_level_0__',\n",
       "       'True Label', 'Marked for Experiments',\n",
       "       'GPT-4o Conversation-Improved CV',\n",
       "       'Cleaned GPT-4o Conversation-Improved CV',\n",
       "       'Twice GPT-4o Conversation-Improved CV',\n",
       "       'Cleaned Twice GPT-4o Conversation-Improved CV',\n",
       "       'Cleaned GPT-4o Conversation-Improved CVDoorDash PM Score',\n",
       "       'Cleaned Twice GPT-4o Conversation-Improved CVDoorDash PM Score',\n",
       "       'CVDoorDash PM Score', 'Together Conversation-Improved CV',\n",
       "       'Cleaned Together Conversation-Improved CV',\n",
       "       'Cleaned Together Conversation-Improved CVDoorDash PM Score',\n",
       "       'Will Manipulate', 'Applicant Reported Scores', 'Testing Scores'],\n",
       "      dtype='object')"
      ]
     },
     "execution_count": 48,
     "metadata": {},
     "output_type": "execute_result"
    }
   ],
   "source": [
    "finaldata.columns"
   ]
  },
  {
   "cell_type": "code",
   "execution_count": 82,
   "metadata": {},
   "outputs": [],
   "source": [
    "#positive_cv_scores = original_positive_cv_scores\n",
    "#negative_cv_scores = original_negative_cv_scores\n",
    "#positive_name: str = \"Original PM\"          # change me\n",
    "#negative_name: str = \"Original UI\"          # change me\n",
    "\n",
    "output_data = finaldata\n",
    "positive_cv_scores_one_ticket = list(output_data[output_data['True Label']==1]['Applicant Reported Scores'])\n",
    "negative_cv_scores_one_ticket = list(output_data[output_data['True Label']==0]['Applicant Reported Scores'])\n",
    "positive_name: str = \"Tailored PM\"          # change me\n",
    "negative_name: str = \"Tailored UI\"          # change me\n",
    "\n",
    "\n",
    "def conservatively_optimal_TPR_and_Threshold(positive_cv_scores, negative_cv_scores, positive_name, negative_name):\n",
    "    '''\n",
    "    Collect key statistics\n",
    "    '''\n",
    "    #print(num_positive_scores, num_negative_scores)\n",
    "    num_positive_scores = len(positive_cv_scores)\n",
    "    num_negative_scores = len(negative_cv_scores)\n",
    "    print(num_positive_scores, num_negative_scores)\n",
    "    positive_proportion = num_positive_scores / (num_positive_scores + num_negative_scores)\n",
    "    negative_proportion = 1 - positive_proportion\n",
    "\n",
    "    positive_mean = np.mean(positive_cv_scores)\n",
    "    positive_std = np.std(positive_cv_scores)\n",
    "    negative_mean = np.mean(negative_cv_scores)\n",
    "    negative_std = np.std(negative_cv_scores)\n",
    "\n",
    "    from sklearn.metrics import roc_curve, auc\n",
    "    y_true = np.concatenate((np.ones(num_positive_scores), np.zeros(num_negative_scores)))\n",
    "    y_score = np.concatenate((positive_cv_scores, negative_cv_scores))\n",
    "    FPRs, TPRs, thresholds = roc_curve(y_true, y_score, drop_intermediate=False) \n",
    "    roc_auc = auc(FPRs, TPRs)\n",
    "\n",
    "    accuracies = positive_proportion * TPRs + negative_proportion * (1 - FPRs)\n",
    "    optimal_index = np.argmax(accuracies)\n",
    "    optimal_accuracy = accuracies[optimal_index]\n",
    "    optimal_threshold = thresholds[optimal_index]\n",
    "    optimal_TPR = TPRs[optimal_index]\n",
    "    optimal_TNR = 1 - FPRs[optimal_index]\n",
    "\n",
    "    conservatively_optimal_index = np.argmax(np.where(FPRs == 0, TPRs, -np.NAN))      # mask elements where FPR is not 0 with negative infinity\n",
    "    conservatively_optimal_TPR = TPRs[conservatively_optimal_index]\n",
    "    conservatively_optimal_threshold = thresholds[conservatively_optimal_index]\n",
    "\n",
    "    return {\"TPR\":conservatively_optimal_TPR, \"Threshold\":conservatively_optimal_threshold}\n",
    "\n",
    "def conservatively_optimal_TPR_difference_A_B(dataframe, threshold):\n",
    "    total = len(dataframe)\n",
    "    TPR_A = 0\n",
    "    TPR_B=0\n",
    "    a_s, b_s = 0, 0\n",
    "    for index, row in dataframe.iterrows():\n",
    "        if row['Will Manipulate']==1:\n",
    "            #print(row['True Label'], row['CVBIT PM Score'])\n",
    "            if row['True Label']==1:\n",
    "                if row['CVDoorDash PM Score'] >=threshold:\n",
    "                    TPR_A +=1\n",
    "            a_s+=1\n",
    "        else:\n",
    "            if row['True Label']==1:\n",
    "                if row['CVDoorDash PM Score'] >=threshold:\n",
    "                    TPR_B +=1\n",
    "            b_s+=1\n",
    "    return TPR_A/a_s-TPR_B/b_s\n"
   ]
  },
  {
   "cell_type": "code",
   "execution_count": 53,
   "metadata": {},
   "outputs": [
    {
     "data": {
      "text/plain": [
       "Index(['Unnamed: 0.6', 'Unnamed: 0.5', 'Unnamed: 0.4', 'Unnamed: 0.3',\n",
       "       'Unnamed: 0.2', 'Unnamed: 0.1', 'Unnamed: 0', 'Position', 'Moreinfo',\n",
       "       'Looking For', 'Highlights', 'Primary Keyword', 'English Level',\n",
       "       'Experience Years', 'CV', 'CV_lang', 'id', '__index_level_0__',\n",
       "       'True Label', 'Marked for Experiments',\n",
       "       'GPT-4o Conversation-Improved CV',\n",
       "       'Cleaned GPT-4o Conversation-Improved CV',\n",
       "       'Twice GPT-4o Conversation-Improved CV',\n",
       "       'Cleaned Twice GPT-4o Conversation-Improved CV',\n",
       "       'Cleaned GPT-4o Conversation-Improved CVDoorDash PM Score',\n",
       "       'Cleaned Twice GPT-4o Conversation-Improved CVDoorDash PM Score',\n",
       "       'CVDoorDash PM Score', 'Together Conversation-Improved CV',\n",
       "       'Cleaned Together Conversation-Improved CV',\n",
       "       'Cleaned Together Conversation-Improved CVDoorDash PM Score',\n",
       "       'Will Manipulate', 'Applicant Reported Scores', 'Testing Scores'],\n",
       "      dtype='object')"
      ]
     },
     "execution_count": 53,
     "metadata": {},
     "output_type": "execute_result"
    }
   ],
   "source": [
    "finaldata.columns"
   ]
  },
  {
   "cell_type": "code",
   "execution_count": 83,
   "metadata": {},
   "outputs": [
    {
     "name": "stdout",
     "output_type": "stream",
     "text": [
      "260 260\n",
      "1 Ticket Results:\n",
      "\n",
      "Conservatively Optimal TPR 0.0\n",
      "Conservatively Optimal Threshold 86.701\n",
      "Difference in TPR_A - TPR_B: 0.0038461538461538464\n"
     ]
    }
   ],
   "source": [
    "#positive_cv_scores = original_positive_cv_scores\n",
    "#negative_cv_scores = original_negative_cv_scores\n",
    "#positive_name: str = \"Original PM\"          # change me\n",
    "#negative_name: str = \"Original UI\"          # change me\n",
    "\n",
    "positive_cv_scores_1 = list(output_data[output_data['True Label']==1]['Applicant Reported Scores'])\n",
    "negative_cv_scores_1 = list(output_data[output_data['True Label']==0]['Applicant Reported Scores'])\n",
    "positive_name_1: str = \"Tailored PM\"          # change me\n",
    "negative_name_1: str = \"Tailored UI\"          # change me\n",
    "\n",
    "one_ticket_TPR_and_Threshold = conservatively_optimal_TPR_and_Threshold(positive_cv_scores_1, negative_cv_scores_1, positive_name_1, negative_name_1)\n",
    "one_ticket_TPR = one_ticket_TPR_and_Threshold['TPR']\n",
    "one_ticket_treshold = one_ticket_TPR_and_Threshold['Threshold']\n",
    "\n",
    "TPR_diff_1 = conservatively_optimal_TPR_difference_A_B(output_data, one_ticket_treshold)\n",
    "print(\"1 Ticket Results:\\n\")\n",
    "print(\"Conservatively Optimal TPR\", one_ticket_TPR)\n",
    "print(\"Conservatively Optimal Threshold\", one_ticket_treshold)\n",
    "print(\"Difference in TPR_A - TPR_B:\", TPR_diff_1)\n",
    "\n"
   ]
  },
  {
   "cell_type": "code",
   "execution_count": 84,
   "metadata": {},
   "outputs": [
    {
     "name": "stdout",
     "output_type": "stream",
     "text": [
      "260 260\n",
      "Two Ticket Results:\n",
      "\n",
      "Conservatively Optimal TPR 0.011538461538461539\n",
      "Conservatively Optimal Threshold 86.398\n",
      "Difference in TPR_A - TPR_B: 0.0038461538461538464\n"
     ]
    }
   ],
   "source": [
    "#positive_cv_scores = original_positive_cv_scores\n",
    "#negative_cv_scores = original_negative_cv_scores\n",
    "#positive_name: str = \"Original PM\"          # change me\n",
    "#negative_name: str = \"Original UI\"          # change me\n",
    "\n",
    "positive_cv_scores_2 = list(output_data[output_data['True Label']==1]['Testing Scores'])\n",
    "negative_cv_scores_2 = list(output_data[output_data['True Label']==0]['Testing Scores'])\n",
    "positive_name_2: str = \"Tailored PM\"          # change me\n",
    "negative_name_2: str = \"Tailored UI\"          # change me\n",
    "\n",
    "two_ticket_TPR_and_Threshold = conservatively_optimal_TPR_and_Threshold(positive_cv_scores_2, negative_cv_scores_2, positive_name_2, negative_name_2)\n",
    "two_ticket_TPR = two_ticket_TPR_and_Threshold['TPR']\n",
    "two_ticket_treshold = two_ticket_TPR_and_Threshold['Threshold']\n",
    "\n",
    "TPR_diff_2 = conservatively_optimal_TPR_difference_A_B(output_data, two_ticket_treshold)\n",
    "\n",
    "\n",
    "print(\"Two Ticket Results:\\n\")\n",
    "print(\"Conservatively Optimal TPR\", two_ticket_TPR)\n",
    "print(\"Conservatively Optimal Threshold\", two_ticket_treshold)\n",
    "print(\"Difference in TPR_A - TPR_B:\", TPR_diff_2)\n",
    "\n"
   ]
  },
  {
   "cell_type": "code",
   "execution_count": 87,
   "metadata": {},
   "outputs": [],
   "source": [
    "#Bootstrapping Test\n",
    "from random import sample\n",
    "import random\n",
    "from sklearn.metrics import roc_curve, auc\n",
    "output_data = finaldata\n",
    "\n",
    "testing_scores = 'Testing Scores'\n",
    "applicant_scores = 'Applicant Reported Scores'\n",
    "samples_one_ticket = list(output_data[applicant_scores])\n",
    "samples_two_ticket = list(output_data[testing_scores])\n",
    "\n",
    "tpr_two_tickets = []\n",
    "tpr_one_tickets = []\n",
    "tpr_diffs_two_tickets = []\n",
    "tpr_diffs_one_tickets = []\n",
    "\n",
    "for test_index in range(1000):\n",
    "    one_tick_pos= []\n",
    "    two_tick_pos = []\n",
    "\n",
    "    one_tick_neg = []\n",
    "    two_tick_neg = []\n",
    "\n",
    "    #Randomly sample 500 from population. Assign to +/- class accordingly\n",
    "    '''for elem in range(0, 500):\n",
    "        #subdata = output_data[output_data['True Label']==1]\n",
    "        row_chosen = random.choice([i for i in range(len(output_data))])\n",
    "\n",
    "        if output_data.loc[row_chosen]['True Label']==1:\n",
    "            one_tick_pos.append([output_data.loc[row_chosen][applicant_scores]])\n",
    "            two_tick_pos.append([output_data.loc[row_chosen][testing_scores]])\n",
    "        else:\n",
    "            one_tick_neg.append([output_data.loc[row_chosen][applicant_scores]])\n",
    "            two_tick_neg.append([output_data.loc[row_chosen][testing_scores]])\n",
    "'''\n",
    "    for elem in range(0, 100):\n",
    "        subdata = output_data[(output_data['True Label']==1) & (output_data['Will Manipulate']==True)]\n",
    "        row_chosen = random.choice([i for i in range(len(subdata))])\n",
    "\n",
    "        one_tick_pos.append([output_data.loc[row_chosen][applicant_scores]])\n",
    "        two_tick_pos.append([output_data.loc[row_chosen][testing_scores]])\n",
    "    for elem in range(0, 100):\n",
    "        subdata = output_data[(output_data['True Label']==1) & (output_data['Will Manipulate']==False)]\n",
    "        row_chosen = random.choice([i for i in range(len(subdata))])\n",
    "\n",
    "        one_tick_pos.append([output_data.loc[row_chosen][applicant_scores]])\n",
    "        two_tick_pos.append([output_data.loc[row_chosen][testing_scores]])\n",
    "\n",
    "    for elem in range(0, 100):\n",
    "        subdata = output_data[(output_data['True Label']==0) & (output_data['Will Manipulate']==False)]\n",
    "        row_chosen = random.choice([i for i in range(len(subdata))])\n",
    "\n",
    "        one_tick_neg.append([output_data.loc[row_chosen][applicant_scores]])\n",
    "        two_tick_neg.append([output_data.loc[row_chosen][testing_scores]])\n",
    "\n",
    "    for elem in range(0, 100):\n",
    "        subdata = output_data[(output_data['True Label']==0) & (output_data['Will Manipulate']==True)]\n",
    "        row_chosen = random.choice([i for i in range(len(subdata))])\n",
    "\n",
    "        one_tick_neg.append([output_data.loc[row_chosen][applicant_scores]])\n",
    "        two_tick_neg.append([output_data.loc[row_chosen][testing_scores]])\n",
    "    \n",
    "       \n",
    "   # print(len(one_tick_neg)+len(one_tick_pos))#+len(two_tick_pos))\n",
    "    y_one_tick_true = np.concatenate((np.ones(len(one_tick_pos)), np.zeros(len(one_tick_neg))))\n",
    "    y_two_tick_true = np.concatenate((np.ones(len(two_tick_pos)), np.zeros(len(two_tick_neg))))\n",
    "    y_one_tick_scores_true = np.concatenate((one_tick_pos, one_tick_neg))\n",
    "    y_two_tick_scores_true = np.concatenate((two_tick_pos, two_tick_neg))\n",
    "\n",
    "    #Outcomes of One-Ticket Classifer\n",
    "    FPRs_one, TPRs_one, thresholds_1 = roc_curve(y_one_tick_true, y_one_tick_scores_true, drop_intermediate=False) \n",
    "\n",
    "    #Outcomes of Two-Ticket Classifer\n",
    "    FPRs_2, TPRs_2, thresholds_2 = roc_curve(y_two_tick_true, y_two_tick_scores_true, drop_intermediate=False) \n",
    "\n",
    "    conservatively_optimal_index_one = np.argmax(np.where(FPRs_one == 0, TPRs_one, -np.NAN))      # mask elements where FPR is not 0 with negative infinity\n",
    "    conservatively_optimal_TPR_1 = TPRs_one[conservatively_optimal_index_one]\n",
    "    conservatively_optimal_threshold_1= thresholds_1[conservatively_optimal_index_one]\n",
    "\n",
    "    conservatively_optimal_index_two = np.argmax(np.where(FPRs_2 == 0, TPRs_2, -np.NAN))      # mask elements where FPR is not 0 with negative infinity\n",
    "    conservatively_optimal_TPR_2 = TPRs_one[conservatively_optimal_index_two]\n",
    "    conservatively_optimal_threshold_2= thresholds_2[conservatively_optimal_index_two]\n",
    "\n",
    "    tpr_two_tickets.append(round(conservatively_optimal_TPR_2, 3))\n",
    "    tpr_one_tickets.append(round(conservatively_optimal_TPR_1, 3))\n",
    "    #print(thresholds_2)\n",
    "    tpr_diffs_two_tickets.append(conservatively_optimal_TPR_difference_A_B(output_data, conservatively_optimal_threshold_2))\n",
    "    tpr_diffs_one_tickets.append(conservatively_optimal_TPR_difference_A_B(output_data, conservatively_optimal_threshold_1))\n",
    "\n",
    "\n",
    "tpr_diffs_1_vs_2 = [tpr_two_tickets[i]-tpr_one_tickets[i] for i in range(0, len(tpr_two_tickets))]\n",
    "diff_A_B_diffs = [tpr_diffs_two_tickets[i]-tpr_diffs_one_tickets[i] for i in range(0, len(tpr_diffs_two_tickets))]\n",
    "#If 0 is in the below range, that means our increase in TPR is not significant: currently the values are very high, because our POPULATION size is only 200... "
   ]
  },
  {
   "cell_type": "code",
   "execution_count": 88,
   "metadata": {},
   "outputs": [],
   "source": [
    "info = pd.DataFrame()\n",
    "info['TPR One Ticket'] = tpr_one_tickets\n",
    "info['TPR Two Ticket'] = tpr_two_tickets\n",
    "info['TPR Diff A B One Ticket'] = tpr_diffs_one_tickets\n",
    "info['TPR Diff A B Two Ticket'] = tpr_diffs_two_tickets\n",
    "info['TPR Diff Between Two One Ticket'] = tpr_diffs_1_vs_2\n",
    "info['TPR Diff A B One vs Two Ticket'] = diff_A_B_diffs"
   ]
  },
  {
   "cell_type": "code",
   "execution_count": 93,
   "metadata": {},
   "outputs": [
    {
     "name": "stdout",
     "output_type": "stream",
     "text": [
      "TPR does not increase significantlly for a two ticket system (compared to a one ticket).\n",
      "0.006927001795603536 0.011538461538461539 0.01614992128131954\n",
      "TPR Differences between Groups A and B decreases significantly.\n",
      "-0.00317968518779629 0.0 0.0008111441805602781\n"
     ]
    }
   ],
   "source": [
    "print(\"TPR does not increase significantlly for a two ticket system (compared to a one ticket).\")\n",
    "sample_difference = two_ticket_TPR-one_ticket_TPR\n",
    "#print(current_mean-1.96*np.std(tpr_diffs_1_vs_2), current_mean, current_mean+1.96*np.std(tpr_diffs_1_vs_2))\n",
    "print(sample_difference-1.96*np.std(tpr_diffs_1_vs_2), sample_difference, sample_difference+1.96*np.std(tpr_diffs_1_vs_2))\n",
    "\n",
    "print(\"TPR Differences between Groups A and B decreases significantly.\")\n",
    "sample_app_B_diff =TPR_diff_2-TPR_diff_1\n",
    "#print(current_A_B_diff-1.96*np.std(diff_A_B_diffs), current_A_B_diff, current_A_B_diff+1.96*np.std(diff_A_B_diffs))\n",
    "print(sample_app_B_diff-1.96*np.std(diff_A_B_diffs), sample_app_B_diff, 1.96*sample_app_B_diff+0.5*np.std(diff_A_B_diffs))"
   ]
  },
  {
   "cell_type": "code",
   "execution_count": 90,
   "metadata": {},
   "outputs": [
    {
     "name": "stdout",
     "output_type": "stream",
     "text": [
      "0.0001269230769230769\n"
     ]
    }
   ],
   "source": [
    "print(np.mean(diff_A_B_diffs))"
   ]
  },
  {
   "cell_type": "code",
   "execution_count": null,
   "metadata": {},
   "outputs": [],
   "source": []
  }
 ],
 "metadata": {
  "kernelspec": {
   "display_name": "hiring-test",
   "language": "python",
   "name": "python3"
  },
  "language_info": {
   "codemirror_mode": {
    "name": "ipython",
    "version": 3
   },
   "file_extension": ".py",
   "mimetype": "text/x-python",
   "name": "python",
   "nbconvert_exporter": "python",
   "pygments_lexer": "ipython3",
   "version": "3.10.13"
  }
 },
 "nbformat": 4,
 "nbformat_minor": 2
}
