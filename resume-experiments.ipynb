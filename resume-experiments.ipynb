{
 "cells": [
  {
   "cell_type": "code",
   "execution_count": 2,
   "id": "b01ae009",
   "metadata": {
    "jupyter": {
     "is_executing": true
    }
   },
   "outputs": [],
   "source": [
    "import numpy as np\n",
    "import yaml\n",
    "\n",
    "import pandas as pd\n",
    "import seaborn as sns\n",
    "import matplotlib.pyplot as plt\n",
    "import scipy.stats as stats\n",
    "\n",
    "from collections import Counter\n",
    "import operator as op\n",
    "\n",
    "import os\n",
    "from together import Together\n",
    "%load_ext autoreload\n",
    "%autoreload 2\n",
    "\n",
    "from sklearn.pipeline import Pipeline\n",
    "from sklearn.preprocessing import StandardScaler\n",
    "from sklearn.linear_model import LogisticRegression\n",
    "from sklearn.model_selection import train_test_split\n",
    "from sklearn.metrics import accuracy_score\n",
    "import sklearn.metrics as metrics"
   ]
  },
  {
   "cell_type": "markdown",
   "id": "f4b9326e",
   "metadata": {},
   "source": [
    "## Section 1: Existing CVs data analysis\n",
    "\n",
    "Here is a recent collection of CVs from https://github.com/Stereotypes-in-LLMs/recruitment-dataset \n",
    "We will use these CVs as the basis for generating cover letters for our hiring model"
   ]
  },
  {
   "cell_type": "code",
   "execution_count": 113,
   "id": "a279dd63",
   "metadata": {},
   "outputs": [],
   "source": [
    "df = pd.read_parquet('data/resumes.parquet', engine='pyarrow')  # raw dataframe\n",
    "\n",
    "# Filter the dataframe minimum cv length\n",
    "MIN_CV_LENGTH = 500\n",
    "filtered_df = df.loc[df['CV'].dropna().apply(len) >= MIN_CV_LENGTH]"
   ]
  },
  {
   "cell_type": "code",
   "execution_count": 115,
   "id": "d904c70a",
   "metadata": {},
   "outputs": [
    {
     "name": "stdout",
     "output_type": "stream",
     "text": [
      "                            Moreinfo  Looking For  Highlights  \\\n",
      "Position                                                        \n",
      "Project Manager                 5299         2582        3298   \n",
      "QA Engineer                     4886         2392        2577   \n",
      "Junior QA Engineer              3333         1847        2206   \n",
      "Front-end developer             3045         1602        1475   \n",
      "Manual QA Engineer              2683         1243        1349   \n",
      "UI/UX Designer                  2521         1303        1364   \n",
      "Java Developer                  2246         1257        1167   \n",
      "IT Recruiter                    1947          852         844   \n",
      "Junior Front-end Developer      1861         1116        1270   \n",
      "UX/UI Designer                  1771          967        1002   \n",
      "Front-End Developer             1744          914         891   \n",
      "Business Analyst                1710          794         947   \n",
      "Python Developer                1509          835         821   \n",
      "Product manager                 1309          678         867   \n",
      "Frontend Developer              1296          725         665   \n",
      "Senior Software Engineer        1260          719         720   \n",
      "Junior Project Manager          1203          575         746   \n",
      "Full Stack Web Developer        1177          531         528   \n",
      "Senior QA Engineer              1139          651         642   \n",
      "Software Engineer               1119          591         597   \n",
      "\n",
      "                            Primary Keyword  English Level  Experience Years  \\\n",
      "Position                                                                       \n",
      "Project Manager                        5299           5293              5299   \n",
      "QA Engineer                            4886           4878              4886   \n",
      "Junior QA Engineer                     3333           3329              3333   \n",
      "Front-end developer                    3045           3044              3045   \n",
      "Manual QA Engineer                     2683           2683              2683   \n",
      "UI/UX Designer                         2521           2521              2521   \n",
      "Java Developer                         2245           2244              2246   \n",
      "IT Recruiter                           1947           1947              1947   \n",
      "Junior Front-end Developer             1861           1861              1861   \n",
      "UX/UI Designer                         1771           1771              1771   \n",
      "Front-End Developer                    1744           1744              1744   \n",
      "Business Analyst                       1710           1707              1710   \n",
      "Python Developer                       1509           1508              1509   \n",
      "Product manager                        1309           1309              1309   \n",
      "Frontend Developer                     1296           1296              1296   \n",
      "Senior Software Engineer               1260           1260              1260   \n",
      "Junior Project Manager                 1203           1203              1203   \n",
      "Full Stack Web Developer               1177           1177              1177   \n",
      "Senior QA Engineer                     1139           1139              1139   \n",
      "Software Engineer                      1119           1118              1119   \n",
      "\n",
      "                              CV  CV_lang    id  __index_level_0__  \n",
      "Position                                                            \n",
      "Project Manager             5299     5299  5299               5299  \n",
      "QA Engineer                 4886     4886  4886               4886  \n",
      "Junior QA Engineer          3333     3333  3333               3333  \n",
      "Front-end developer         3045     3045  3045               3045  \n",
      "Manual QA Engineer          2683     2683  2683               2683  \n",
      "UI/UX Designer              2521     2521  2521               2521  \n",
      "Java Developer              2246     2246  2246               2246  \n",
      "IT Recruiter                1947     1947  1947               1947  \n",
      "Junior Front-end Developer  1861     1861  1861               1861  \n",
      "UX/UI Designer              1771     1771  1771               1771  \n",
      "Front-End Developer         1744     1744  1744               1744  \n",
      "Business Analyst            1710     1710  1710               1710  \n",
      "Python Developer            1509     1509  1509               1509  \n",
      "Product manager             1309     1309  1309               1309  \n",
      "Frontend Developer          1296     1296  1296               1296  \n",
      "Senior Software Engineer    1260     1260  1260               1260  \n",
      "Junior Project Manager      1203     1203  1203               1203  \n",
      "Full Stack Web Developer    1177     1177  1177               1177  \n",
      "Senior QA Engineer          1139     1139  1139               1139  \n",
      "Software Engineer           1119     1119  1119               1119  \n"
     ]
    }
   ],
   "source": [
    "# See the top 20 most frequent positions\n",
    "top20df = filtered_df.groupby(\"Position\").count().sort_values(\"Moreinfo\", ascending=False).head(20)\n",
    "print(top20df)"
   ]
  },
  {
   "cell_type": "markdown",
   "metadata": {},
   "source": [
    "### True Labels"
   ]
  },
  {
   "cell_type": "code",
   "execution_count": 118,
   "id": "0e851727",
   "metadata": {},
   "outputs": [
    {
     "data": {
      "text/html": [
       "<div>\n",
       "<style scoped>\n",
       "    .dataframe tbody tr th:only-of-type {\n",
       "        vertical-align: middle;\n",
       "    }\n",
       "\n",
       "    .dataframe tbody tr th {\n",
       "        vertical-align: top;\n",
       "    }\n",
       "\n",
       "    .dataframe thead th {\n",
       "        text-align: right;\n",
       "    }\n",
       "</style>\n",
       "<table border=\"1\" class=\"dataframe\">\n",
       "  <thead>\n",
       "    <tr style=\"text-align: right;\">\n",
       "      <th></th>\n",
       "      <th>Position</th>\n",
       "      <th>Moreinfo</th>\n",
       "      <th>Looking For</th>\n",
       "      <th>Highlights</th>\n",
       "      <th>Primary Keyword</th>\n",
       "      <th>English Level</th>\n",
       "      <th>Experience Years</th>\n",
       "      <th>CV</th>\n",
       "      <th>CV_lang</th>\n",
       "      <th>id</th>\n",
       "      <th>__index_level_0__</th>\n",
       "      <th>True Label</th>\n",
       "    </tr>\n",
       "  </thead>\n",
       "  <tbody>\n",
       "    <tr>\n",
       "      <th>129971</th>\n",
       "      <td>project manager</td>\n",
       "      <td>Seven years of experience in Ericsson, leading...</td>\n",
       "      <td>Professional growth. High culture innovative t...</td>\n",
       "      <td>More then three E2E IT multi-vendor projects (...</td>\n",
       "      <td>Project Manager</td>\n",
       "      <td>fluent</td>\n",
       "      <td>11.0</td>\n",
       "      <td>More then three E2E IT multi-vendor projects (...</td>\n",
       "      <td>en</td>\n",
       "      <td>0e3da2ed-e213-5823-ad90-bd8504aab3ae</td>\n",
       "      <td>154201</td>\n",
       "      <td>1</td>\n",
       "    </tr>\n",
       "    <tr>\n",
       "      <th>129974</th>\n",
       "      <td>Project manager</td>\n",
       "      <td>2+ years of experience in project management a...</td>\n",
       "      <td>I prefer working in/managing small teams (up t...</td>\n",
       "      <td>Initiating and launching my own educational pr...</td>\n",
       "      <td>Project Manager</td>\n",
       "      <td>fluent</td>\n",
       "      <td>3.0</td>\n",
       "      <td>Initiating and launching my own educational pr...</td>\n",
       "      <td>en</td>\n",
       "      <td>8adcec30-5311-5c2e-8d3a-6f06cb38e33c</td>\n",
       "      <td>154204</td>\n",
       "      <td>1</td>\n",
       "    </tr>\n",
       "    <tr>\n",
       "      <th>129975</th>\n",
       "      <td>Project manager</td>\n",
       "      <td>3+ years of experience managing IT projects\\r\\...</td>\n",
       "      <td>Clear understanding of company mission and my ...</td>\n",
       "      <td>Successfully delivered end-to-end projects;\\r\\...</td>\n",
       "      <td>Project Manager</td>\n",
       "      <td>intermediate</td>\n",
       "      <td>3.0</td>\n",
       "      <td>Successfully delivered end-to-end projects;\\r\\...</td>\n",
       "      <td>en</td>\n",
       "      <td>35355781-166e-5f50-9970-86d240ba3a7c</td>\n",
       "      <td>154205</td>\n",
       "      <td>1</td>\n",
       "    </tr>\n",
       "    <tr>\n",
       "      <th>129976</th>\n",
       "      <td>Project manager</td>\n",
       "      <td>4 years experience in project/product manageme...</td>\n",
       "      <td>I'm looking for a company with a friendly atmo...</td>\n",
       "      <td>- Managed to resolve situations on a complicat...</td>\n",
       "      <td>Project Manager</td>\n",
       "      <td>fluent</td>\n",
       "      <td>4.0</td>\n",
       "      <td>- Managed to resolve situations on a complicat...</td>\n",
       "      <td>en</td>\n",
       "      <td>121619c0-044f-564d-8929-a347c61fc67d</td>\n",
       "      <td>154206</td>\n",
       "      <td>1</td>\n",
       "    </tr>\n",
       "    <tr>\n",
       "      <th>129977</th>\n",
       "      <td>Project manager</td>\n",
       "      <td>4+ years of experience in HR management and re...</td>\n",
       "      <td>Looking for interesting projects in the field ...</td>\n",
       "      <td>Experience of building a few HR and recruitmen...</td>\n",
       "      <td>Project Manager</td>\n",
       "      <td>upper</td>\n",
       "      <td>5.0</td>\n",
       "      <td>Experience of building a few HR and recruitmen...</td>\n",
       "      <td>en</td>\n",
       "      <td>47fab0ac-5298-5a43-a619-87deb840386c</td>\n",
       "      <td>154207</td>\n",
       "      <td>1</td>\n",
       "    </tr>\n",
       "    <tr>\n",
       "      <th>...</th>\n",
       "      <td>...</td>\n",
       "      <td>...</td>\n",
       "      <td>...</td>\n",
       "      <td>...</td>\n",
       "      <td>...</td>\n",
       "      <td>...</td>\n",
       "      <td>...</td>\n",
       "      <td>...</td>\n",
       "      <td>...</td>\n",
       "      <td>...</td>\n",
       "      <td>...</td>\n",
       "      <td>...</td>\n",
       "    </tr>\n",
       "    <tr>\n",
       "      <th>154016</th>\n",
       "      <td>QA Team Lead / Senior QA Engineer</td>\n",
       "      <td>Professional skills:\\r\\n• Strong knowledge in ...</td>\n",
       "      <td>I'm looking for opportunity of relocation to C...</td>\n",
       "      <td>• Growth from beginner specialist to strong on...</td>\n",
       "      <td>QA</td>\n",
       "      <td>upper</td>\n",
       "      <td>11.0</td>\n",
       "      <td>• Growth from beginner specialist to strong on...</td>\n",
       "      <td>en</td>\n",
       "      <td>329d227a-633c-5f79-b287-9b6fa9cdab80</td>\n",
       "      <td>178246</td>\n",
       "      <td>0</td>\n",
       "    </tr>\n",
       "    <tr>\n",
       "      <th>154018</th>\n",
       "      <td>QA Team Lead, Senior QA Engineer (GameDev)</td>\n",
       "      <td>Senior QA Engineer:\\r\\n- Led quality assurance...</td>\n",
       "      <td>- Seek a company that fosters a friendly and s...</td>\n",
       "      <td>- Spearheaded the establishment of the complet...</td>\n",
       "      <td>QA</td>\n",
       "      <td>upper</td>\n",
       "      <td>4.0</td>\n",
       "      <td>- Spearheaded the establishment of the complet...</td>\n",
       "      <td>en</td>\n",
       "      <td>e74b8434-35db-5e69-9b68-90bbec1fe52e</td>\n",
       "      <td>178248</td>\n",
       "      <td>0</td>\n",
       "    </tr>\n",
       "    <tr>\n",
       "      <th>154019</th>\n",
       "      <td>QA Team Lead, Senior QA Engineer(Manual)</td>\n",
       "      <td>Slice - Sr. QA Engineer, Team Lead - Full-time...</td>\n",
       "      <td>Competitive salary\\r\\nGood social package\\r\\nW...</td>\n",
       "      <td>Manual testing web/desktop/mobile applications...</td>\n",
       "      <td>QA</td>\n",
       "      <td>intermediate</td>\n",
       "      <td>11.0</td>\n",
       "      <td>Manual testing web/desktop/mobile applications...</td>\n",
       "      <td>en</td>\n",
       "      <td>fc46ad75-1338-5a9c-ace3-0af4199c0d2e</td>\n",
       "      <td>178249</td>\n",
       "      <td>0</td>\n",
       "    </tr>\n",
       "    <tr>\n",
       "      <th>154038</th>\n",
       "      <td>QA Tech Lead / Senior Automation QA Engineer /...</td>\n",
       "      <td>- Perform applications functional, usability, ...</td>\n",
       "      <td>- Manual testing is not more than 40% of testi...</td>\n",
       "      <td>- Mentoring of QAs and Devs how to write tests...</td>\n",
       "      <td>QA Automation</td>\n",
       "      <td>fluent</td>\n",
       "      <td>8.0</td>\n",
       "      <td>- Mentoring of QAs and Devs how to write tests...</td>\n",
       "      <td>en</td>\n",
       "      <td>c5fc0f38-0c9b-5ef0-8667-7a8a94b025e3</td>\n",
       "      <td>178268</td>\n",
       "      <td>0</td>\n",
       "    </tr>\n",
       "    <tr>\n",
       "      <th>154128</th>\n",
       "      <td>QA trainee, Junior QA Engineer</td>\n",
       "      <td>I have a couple of Certificates which endorse ...</td>\n",
       "      <td>Professional development</td>\n",
       "      <td>On-line course \"Software Testing\" from QATestL...</td>\n",
       "      <td>QA</td>\n",
       "      <td>intermediate</td>\n",
       "      <td>0.5</td>\n",
       "      <td>On-line course \"Software Testing\" from QATestL...</td>\n",
       "      <td>en</td>\n",
       "      <td>45f5f6b9-df55-53fd-9115-b2ef03e0d3e4</td>\n",
       "      <td>178358</td>\n",
       "      <td>0</td>\n",
       "    </tr>\n",
       "  </tbody>\n",
       "</table>\n",
       "<p>5012 rows × 12 columns</p>\n",
       "</div>"
      ],
      "text/plain": [
       "                                                 Position  \\\n",
       "129971                                    project manager   \n",
       "129974                                    Project manager   \n",
       "129975                                    Project manager   \n",
       "129976                                    Project manager   \n",
       "129977                                    Project manager   \n",
       "...                                                   ...   \n",
       "154016                  QA Team Lead / Senior QA Engineer   \n",
       "154018         QA Team Lead, Senior QA Engineer (GameDev)   \n",
       "154019           QA Team Lead, Senior QA Engineer(Manual)   \n",
       "154038  QA Tech Lead / Senior Automation QA Engineer /...   \n",
       "154128                     QA trainee, Junior QA Engineer   \n",
       "\n",
       "                                                 Moreinfo  \\\n",
       "129971  Seven years of experience in Ericsson, leading...   \n",
       "129974  2+ years of experience in project management a...   \n",
       "129975  3+ years of experience managing IT projects\\r\\...   \n",
       "129976  4 years experience in project/product manageme...   \n",
       "129977  4+ years of experience in HR management and re...   \n",
       "...                                                   ...   \n",
       "154016  Professional skills:\\r\\n• Strong knowledge in ...   \n",
       "154018  Senior QA Engineer:\\r\\n- Led quality assurance...   \n",
       "154019  Slice - Sr. QA Engineer, Team Lead - Full-time...   \n",
       "154038  - Perform applications functional, usability, ...   \n",
       "154128  I have a couple of Certificates which endorse ...   \n",
       "\n",
       "                                              Looking For  \\\n",
       "129971  Professional growth. High culture innovative t...   \n",
       "129974  I prefer working in/managing small teams (up t...   \n",
       "129975  Clear understanding of company mission and my ...   \n",
       "129976  I'm looking for a company with a friendly atmo...   \n",
       "129977  Looking for interesting projects in the field ...   \n",
       "...                                                   ...   \n",
       "154016  I'm looking for opportunity of relocation to C...   \n",
       "154018  - Seek a company that fosters a friendly and s...   \n",
       "154019  Competitive salary\\r\\nGood social package\\r\\nW...   \n",
       "154038  - Manual testing is not more than 40% of testi...   \n",
       "154128                           Professional development   \n",
       "\n",
       "                                               Highlights  Primary Keyword  \\\n",
       "129971  More then three E2E IT multi-vendor projects (...  Project Manager   \n",
       "129974  Initiating and launching my own educational pr...  Project Manager   \n",
       "129975  Successfully delivered end-to-end projects;\\r\\...  Project Manager   \n",
       "129976  - Managed to resolve situations on a complicat...  Project Manager   \n",
       "129977  Experience of building a few HR and recruitmen...  Project Manager   \n",
       "...                                                   ...              ...   \n",
       "154016  • Growth from beginner specialist to strong on...               QA   \n",
       "154018  - Spearheaded the establishment of the complet...               QA   \n",
       "154019  Manual testing web/desktop/mobile applications...               QA   \n",
       "154038  - Mentoring of QAs and Devs how to write tests...    QA Automation   \n",
       "154128  On-line course \"Software Testing\" from QATestL...               QA   \n",
       "\n",
       "       English Level  Experience Years  \\\n",
       "129971        fluent              11.0   \n",
       "129974        fluent               3.0   \n",
       "129975  intermediate               3.0   \n",
       "129976        fluent               4.0   \n",
       "129977         upper               5.0   \n",
       "...              ...               ...   \n",
       "154016         upper              11.0   \n",
       "154018         upper               4.0   \n",
       "154019  intermediate              11.0   \n",
       "154038        fluent               8.0   \n",
       "154128  intermediate               0.5   \n",
       "\n",
       "                                                       CV CV_lang  \\\n",
       "129971  More then three E2E IT multi-vendor projects (...      en   \n",
       "129974  Initiating and launching my own educational pr...      en   \n",
       "129975  Successfully delivered end-to-end projects;\\r\\...      en   \n",
       "129976  - Managed to resolve situations on a complicat...      en   \n",
       "129977  Experience of building a few HR and recruitmen...      en   \n",
       "...                                                   ...     ...   \n",
       "154016  • Growth from beginner specialist to strong on...      en   \n",
       "154018  - Spearheaded the establishment of the complet...      en   \n",
       "154019  Manual testing web/desktop/mobile applications...      en   \n",
       "154038  - Mentoring of QAs and Devs how to write tests...      en   \n",
       "154128  On-line course \"Software Testing\" from QATestL...      en   \n",
       "\n",
       "                                          id  __index_level_0__ True Label  \n",
       "129971  0e3da2ed-e213-5823-ad90-bd8504aab3ae             154201          1  \n",
       "129974  8adcec30-5311-5c2e-8d3a-6f06cb38e33c             154204          1  \n",
       "129975  35355781-166e-5f50-9970-86d240ba3a7c             154205          1  \n",
       "129976  121619c0-044f-564d-8929-a347c61fc67d             154206          1  \n",
       "129977  47fab0ac-5298-5a43-a619-87deb840386c             154207          1  \n",
       "...                                      ...                ...        ...  \n",
       "154016  329d227a-633c-5f79-b287-9b6fa9cdab80             178246          0  \n",
       "154018  e74b8434-35db-5e69-9b68-90bbec1fe52e             178248          0  \n",
       "154019  fc46ad75-1338-5a9c-ace3-0af4199c0d2e             178249          0  \n",
       "154038  c5fc0f38-0c9b-5ef0-8667-7a8a94b025e3             178268          0  \n",
       "154128  45f5f6b9-df55-53fd-9115-b2ef03e0d3e4             178358          0  \n",
       "\n",
       "[5012 rows x 12 columns]"
      ]
     },
     "execution_count": 118,
     "metadata": {},
     "output_type": "execute_result"
    }
   ],
   "source": [
    "# Assign each entry in the filtered dataframe a label (0 for negative, 1 for positive)\n",
    "POSITIVE_LABEL, NEGATIVE_LABEL = 1, 0\n",
    "\n",
    "POSITIVE_POSITION = \"Project Manager\"\n",
    "POSITIVE_KEYWORD = \"Project Manager\"\n",
    "\n",
    "NEGATIVE_POSITION = \"QA Engineer\"   # \"Java Developer\"\n",
    "NEGATIVE_KEYWORD = \"QA\"             # \"Java\"\n",
    "\n",
    "'''\n",
    "Given a row of the dataframe, returns \n",
    "    1 if the entry belongs to the positive class\n",
    "    0 if the entry belongs to the negative class\n",
    "    NA if the entry is to be excluded\n",
    "Can be thought of as \"h\" (although this function does not operate on a feature vector)\n",
    "\n",
    "Currently, the positive class are entries where\n",
    "   1. The primary keyword is \"Project manager\" (case insensitive) AND  \n",
    "   2. The position contains \"Project manager\" (case insensitive),\n",
    "while the negative class are entries where\n",
    "   1. The primary keyword is \"Java Developer\" (case insensitive) AND  \n",
    "   2. The position contains \"Java Developer\" (case insensitive),\n",
    "\n",
    "Examine the effect of the second condition with\n",
    "   print(labeled_df.loc[ (labeled_df[\"True Label\"] == NEGATIVE_LABEL) & (labeled_df[\"Primary Keyword\"] == PM) ])\n",
    "'''\n",
    "import re\n",
    "def trueLabelFunction(row):\n",
    "    # print(f\"id = {row['id']}, Position = {row['Position']}, Primary Keyword = {row['Primary Keyword']}\")\n",
    "    \n",
    "    # Positive match\n",
    "    positivePositionRegex = re.compile(f'.*{POSITIVE_POSITION}.*', re.IGNORECASE)\n",
    "    isPositivePositionMatch: bool = isinstance(row[\"Position\"], str) and bool(positivePositionRegex.match(row[\"Position\"]))\n",
    "    positivePrimaryKeywordRegex = re.compile(f'{POSITIVE_KEYWORD}', re.IGNORECASE)\n",
    "    isPositivePrimaryKeywordMatch: bool = isinstance(row[\"Primary Keyword\"], str) and bool(positivePrimaryKeywordRegex.match(row[\"Position\"]))\n",
    "\n",
    "    isPositiveMatch: bool = isPositivePositionMatch and isPositivePrimaryKeywordMatch\n",
    "\n",
    "    # Negative match\n",
    "    negativePositionRegex = re.compile(f'.*{NEGATIVE_POSITION}.*', re.IGNORECASE)\n",
    "    isNegativePositionMatch: bool = isinstance(row[\"Position\"], str) and bool(negativePositionRegex.match(row[\"Position\"]))\n",
    "    negativePrimaryKeywordRegex = re.compile(f'{NEGATIVE_KEYWORD}', re.IGNORECASE)\n",
    "    isNegativePrimaryKeywordMatch: bool = isinstance(row[\"Primary Keyword\"], str) and bool(negativePrimaryKeywordRegex.match(row[\"Position\"]))\n",
    "\n",
    "    isNegativeMatch: bool = isNegativePositionMatch and isNegativePrimaryKeywordMatch\n",
    "\n",
    "    if isPositiveMatch:\n",
    "        return POSITIVE_LABEL\n",
    "    elif isNegativeMatch:\n",
    "        return NEGATIVE_LABEL\n",
    "    else:\n",
    "        return pd.NA\n",
    "\n",
    "# Creates a true label column\n",
    "labeled_df = filtered_df.copy()\n",
    "labeled_df[\"True Label\"] = labeled_df.apply(trueLabelFunction, axis=1)\n",
    "labeled_df.dropna()"
   ]
  },
  {
   "cell_type": "code",
   "execution_count": 122,
   "id": "548b81c2",
   "metadata": {},
   "outputs": [
    {
     "name": "stdout",
     "output_type": "stream",
     "text": [
      "True Label\n",
      "1    6753\n",
      "0    6379\n",
      "Name: count, dtype: int64\n",
      "proportion of positives = 0.5142400243679561\n"
     ]
    }
   ],
   "source": [
    "# Prints the sizes of the positive and negative class\n",
    "value_counts = labeled_df[\"True Label\"].value_counts()\n",
    "print(value_counts)\n",
    "\n",
    "positiveClassSize = value_counts.get(POSITIVE_LABEL, default=0)\n",
    "negativeClassSize = value_counts.get(NEGATIVE_LABEL, default=0)\n",
    "# print(f\"positiveClassSize = {positiveClassSize}\")\n",
    "# print(f\"negativeClassSize = {negativeClassSize}\")\n",
    "print(f\"proportion of positives = {positiveClassSize / (positiveClassSize + negativeClassSize)}\")"
   ]
  },
  {
   "cell_type": "code",
   "execution_count": null,
   "id": "66bbad89",
   "metadata": {},
   "outputs": [],
   "source": [
    "pm = \"Project Manager\"\n",
    "java_dev = \"Java Developer\"\n",
    "pm_occupation_df = df[df[\"Position\"]==pm]\n",
    "java_dev_occupation_df = df[df[\"Position\"]==java_dev]"
   ]
  },
  {
   "cell_type": "code",
   "execution_count": 5,
   "id": "aa9edf23",
   "metadata": {
    "scrolled": true
   },
   "outputs": [
    {
     "data": {
      "text/plain": [
       "['',\n",
       " '01.11.2018   PE «SoloService»Position: Java Developer.• Software design, investigating technical solutions• Reviewing project documentation, analyzing requirements• Troubleshoot and analyze problems identified in the system software04.05.2018 – 31.10.2018   PE «SoloService» Position: IT Support Specialist.• provide user support for computer systems and user applications, including: website, mobile app, intranet, Outlook, Skype, operating systems (Windows and Linux);• installing and configuring computer hardware, software, mobile devices, video projection systems and audio systems;26.09.2017 – 03.05.2018   LLC «ЕКО» (supermarkets ЕКО)Position: Head of Project department.• project management of modernization, automation, reconstruction and  construction of trade objects;• to control the timing of project delivery;• establishment of consolidate budgets of projects;• organization of meetings, presentation of project (technology, visualization, business plan);• collaboration with project members, contractors and suppliers.20.04.2012 – 25.09.2017   LLC «ЕКО» (supermarkets ЕКО)Position: Chief design engineer of Project department. • development of architectural drawings and technical specifications for supermarkets and shopping centers in AutoCAD.29.05.2008 – 19.04.2012  LLC«Pharmastor» (Pharmacy of the Good Day)Position: Chief design engineer of Project department. • development of architectural drawings, projects, passports and design of pharmacies in AutoCAD.01.11.2006 – 28.05.2008  PE «Evrotex»Position: Sales manager. • international trade of automation equipment from Austria, Germany, Czech Republic, Italy;• technical solutions developed according to customer requirements;• organized and participated in exhibitions.01.07.2003 – 04.09.2006  PE «Kiev-SM»Position: Sales manager. • order of goods, payment control, delivery organization.',\n",
       " '']"
      ]
     },
     "execution_count": 5,
     "metadata": {},
     "output_type": "execute_result"
    }
   ],
   "source": [
    "# example entry \n",
    "\"\".join(java_dev_occupation_df.iloc[0].to_dict()['CV'].split('\\r\\n')).split('\\n')"
   ]
  },
  {
   "cell_type": "code",
   "execution_count": 6,
   "id": "b4de7270",
   "metadata": {},
   "outputs": [
    {
     "data": {
      "text/plain": [
       "'- Managing multiple projects at a time\\r\\n- Experience working with foreign customers\\r\\n- Successful team management with up to 7 members\\r\\n- SDLC understanding in terms of management perspective\\r\\n- Good communication skills\\r\\n- Project processes organization with Agile approaches(Agile, Kanban)\\r\\n- Working with the project documentation using Atlassian and Google services\\r\\n- Understanding of proper time management with further timelines control\\r\\n- Internal projects acceptance before delivering to the customer\\r\\n- Resources planning\\r\\n- Taking part in potential team members interviewing\\r\\n- Defend both customer and the company interests\\r\\n- Account management, pre-sales, upsales, risk management\\n01.2020 - 04.2020\\r\\nProject manager/Account manager\\r\\n1. Working as a PM was responsible for project planning, resource planning, business communication, upsales.\\r\\n2. As an AM was involved in Outsataff projects monitoring and support. A few of the main responsibilities were to make research and investigate customer development processes and approaches resulting in advisory improvement strategies. Together with Sales manager took part in the upsales initiatives, finding out suitable upsales positions, profitable both for the client and company.\\r\\n\\r\\n06.2018 - 01.2020\\r\\nProject manager\\r\\nAs a Project Manager, I was responsible for projects estimation to match customers expectations and budget; was involved in resource management;  took the initiatives to make roadmaps planning together with the team; worked with risks; kept up team activities on control, to set the development process on track and up to the schedule; took the project delivery responsibility including infrastructure configuration with further product deployment; was engaged in tight and long-term project support.\\r\\nActivities, such as Business Analysis (requirements clarifications, project documentation), Internal acceptance testing (UAT testing), team members recruitment, people management were also a part of my day-to-day responsibilities. \\r\\n\\r\\n08.2017-06.2019\\r\\nManual QA engineer\\r\\nTook part in project development and support on various project lifecycle stages, beginning with the requirements clarification, test kits creation using different test design techniques and approaches up to product deployment and support using functional/non-functional quality assurance technics.\\r\\n\\r\\n04.2017 - 07.2017\\r\\nQA engineer\\r\\nTook part in a startup project development (small business accounting system), starting with the product idea clarification and approval, test cases preparation, requirements clarification, team management.\\nSeeking for the company with cool people to cooperate with, exiting projects and ideas to get involved in and interesting challenges to overcome.'"
      ]
     },
     "execution_count": 6,
     "metadata": {},
     "output_type": "execute_result"
    }
   ],
   "source": [
    "pm_occupation_df.iloc[0].to_dict()['CV']"
   ]
  },
  {
   "cell_type": "code",
   "execution_count": 7,
   "id": "c55ad5eb",
   "metadata": {},
   "outputs": [
    {
     "data": {
      "text/plain": [
       "'for i in range(0, len(top_twenty_jobs)):\\n    print(top_twenty_jobs[i])\\n    plot_position_y = i % 4\\n    plot_position_x = i%5\\n    print(plot_position_y, plot_position_x)\\n    axs[plot_position_y, plot_position_x].set_title(\\'Frequency of Words in \\' + top_twenty_jobs[i] + \" CVs\",loc =\\'left\\', )\\n    axs[plot_position_y, plot_position_x].invert_yaxis()\\n    axs[plot_position_y, plot_position_x].barh(plot_position_words(top_twenty_jobs[i])[0], plot_position_words(top_twenty_jobs[i])[1])\\nfig.savefig(\"word-frequncies.png\")'"
      ]
     },
     "execution_count": 7,
     "metadata": {},
     "output_type": "execute_result"
    }
   ],
   "source": [
    "## TODO: further explorations of CV data, bring 2-3 insights about the CV itself and Insights and highlights\n",
    "\n",
    "#First: What words are used more? Collaboration base Terms or Technical terms?\n",
    "\n",
    "def plot_position_words(position):\n",
    "    pm_occupation_df = df[df[\"Position\"]==position]\n",
    "    all_cvs = \"\\n\".join(list(pm_occupation_df['CV']))\n",
    "    all_words = all_cvs.split(\" \")\n",
    "    all_long_words = [word for word in all_words if len(word) > 10]\n",
    "    word_counts = Counter(all_long_words)\n",
    "    top_ten = word_counts.most_common(20)\n",
    "    words =  [item[0] for item in top_ten]\n",
    "    counts = [item[1]/len(pm_occupation_df) for item in top_ten]\n",
    "    #fig, ax = plt.subplots(figsize =(10, 6))\n",
    "    return [words, counts]\n",
    "    # Horizontal Bar Plot\n",
    "    #ax.barh(words, counts)\n",
    "    #ax.set_title('Frequency of Words in ' + position + \" CVs\",loc ='left', )\n",
    "    #ax.invert_yaxis()\n",
    " \n",
    "#plot_position_words(\"Java Developer\")\n",
    "\n",
    "#fig, axs = plt.subplots(4, 5, figsize=(100, 100))\n",
    "#fig.suptitle('Word Frequencies')\n",
    "\n",
    "'''for i in range(0, len(top_twenty_jobs)):\n",
    "    print(top_twenty_jobs[i])\n",
    "    plot_position_y = i % 4\n",
    "    plot_position_x = i%5\n",
    "    print(plot_position_y, plot_position_x)\n",
    "    axs[plot_position_y, plot_position_x].set_title('Frequency of Words in ' + top_twenty_jobs[i] + \" CVs\",loc ='left', )\n",
    "    axs[plot_position_y, plot_position_x].invert_yaxis()\n",
    "    axs[plot_position_y, plot_position_x].barh(plot_position_words(top_twenty_jobs[i])[0], plot_position_words(top_twenty_jobs[i])[1])\n",
    "fig.savefig(\"word-frequncies.png\")'''\n"
   ]
  },
  {
   "cell_type": "markdown",
   "id": "08830b8e",
   "metadata": {},
   "source": [
    "## Section 2: Prompting LLMs for generating cover letters \n",
    "\n",
    "Now we will use a generic prompt to generate a cover letters for each resume using API calls"
   ]
  },
  {
   "cell_type": "code",
   "execution_count": 8,
   "id": "9968e6b4",
   "metadata": {},
   "outputs": [],
   "source": [
    "# Load the YAML file\n",
    "with open('llm_api_keys.yaml', 'r') as file:\n",
    "    config = yaml.safe_load(file)\n",
    "\n",
    "together_api_key = config['services']['together']['api_key'] # replace with openai or anthropic also in yaml file"
   ]
  },
  {
   "cell_type": "code",
   "execution_count": 12,
   "id": "9f48e3c4-fb69-4314-9ab4-d3e0b68a4eee",
   "metadata": {},
   "outputs": [],
   "source": [
    "# example usage of Together AI \n",
    "\n",
    "client = Together(api_key=together_api_key) \n",
    "position = \"Project Manager\"\n",
    "response = client.chat.completions.create(\n",
    "    model=\"mistralai/Mixtral-8x7B-Instruct-v0.1\",\n",
    "    messages=[{\"role\": \"user\", \"content\": \"Modify this resume to help me get a \"+ position+\" Job:\" + \"\".join(\"\".join(java_dev_occupation_df.iloc[0].to_dict()['CV'].split('\\r\\n')).split('\\n'))}],\n",
    ")\n",
    "coverletter = response.choices[0].message.content"
   ]
  },
  {
   "cell_type": "code",
   "execution_count": 13,
   "id": "b9e40e28-5177-4645-9ccc-a0bab721bbf3",
   "metadata": {},
   "outputs": [
    {
     "name": "stdout",
     "output_type": "stream",
     "text": [
      " [Your Name]\n",
      "[Address]\n",
      "[City, State ZIP]\n",
      "[Phone Number]\n",
      "[Email Address]\n",
      "\n",
      "PROFESSIONAL EXPERIENCE\n",
      "\n",
      "Project Manager, LLC \"ЕКО\" (supermarkets ЕКО), [City, State]\n",
      "September 2017 - Present\n",
      "\n",
      "* Oversee project management of modernization, automation, reconstruction, and construction of trade objects, ensuring timely delivery and adherence to consolidated budgets.\n",
      "* Collaborate with project members, contractors, and suppliers, fostering strong relationships and effective communication.\n",
      "* Organize meetings and present projects, utilizing technology, visualization, and business plans to effectively convey project details and objectives.\n",
      "* Develop architectural drawings and technical specifications for supermarkets and shopping centers using AutoCAD.\n",
      "\n",
      "IT Support Specialist, PE \"SoloService\", [City, State]\n",
      "May 2018 - October 2018\n",
      "\n",
      "* Provided user support for computer systems and user applications, including website, mobile app, intranet, Outlook, Skype, operating systems (Windows and Linux).\n",
      "* Installed and configured computer hardware, software, mobile devices, video projection systems, and audio systems.\n",
      "\n",
      "Java Developer, PE \"SoloService\", [City, State]\n",
      "November 2018 - Present\n",
      "\n",
      "* Designed software, investigated technical solutions, and reviewed project documentation and analyzed requirements.\n",
      "* Troubleshot and analyzed problems identified in the system software.\n",
      "\n",
      "Chief Design Engineer, Project Department, LLC \"ЕКО\" (supermarkets ЕКО), [City, State]\n",
      "September 2017 - May 2018\n",
      "\n",
      "* Developed architectural drawings and technical specifications for supermarkets and shopping centers using AutoCAD.\n",
      "\n",
      "Chief Design Engineer, Project Department, LLC \"Pharmastor\" (Pharmacy of the Good Day), [City, State]\n",
      "April 2012 - September 2017\n",
      "\n",
      "* Developed architectural drawings, projects, passports, and design of pharmacies using AutoCAD.\n",
      "\n",
      "Sales Manager, PE \"Evrotex\", [City, State]\n",
      "November 2006 - April 2012\n",
      "\n",
      "* Managed international trade of automation equipment from Austria, Germany, Czech Republic, and Italy.\n",
      "* Developed technical solutions according to customer requirements.\n",
      "* Organized and participated in exhibitions.\n",
      "\n",
      "Sales Manager, PE \"Kiev-SM\", [City, State]\n",
      "July 2003 - September 2006\n",
      "\n",
      "* Managed order of goods, payment control, and delivery organization.\n"
     ]
    }
   ],
   "source": [
    "print(coverletter)"
   ]
  },
  {
   "cell_type": "code",
   "execution_count": 14,
   "id": "401e98ef-3589-4c3c-859d-d0939456c058",
   "metadata": {},
   "outputs": [],
   "source": [
    "# TODO: \n",
    "\n",
    "# decide on a prompt and use prompt + CVs to generate cover letters \n",
    "prompt = \"Modify the following resume to help get a *POSITION* \""
   ]
  },
  {
   "cell_type": "code",
   "execution_count": 19,
   "id": "f8aa7011",
   "metadata": {},
   "outputs": [],
   "source": [
    "# Script to generate resumes\n",
    "\n",
    "df = pd.read_parquet('data/resumes.parquet', engine='pyarrow')\n",
    "\n",
    "java_dev_occupation_df = df[df[\"Position\"]==\"Java Developer\"]\n",
    "\n",
    "\n",
    "with open('llm_api_keys.yaml', 'r') as file:\n",
    "    config = yaml.safe_load(file)\n",
    "\n",
    "together_api_key = config['services']['together']['api_key'] # replace with openai or anthropic also in yaml file\n",
    "\n",
    "df = pd.read_parquet('data/resumes.parquet', engine='pyarrow')\n",
    "\n",
    "java_dev_occupation_df = df[df[\"Position\"]==\"Java Developer\"]\n",
    "\n",
    "def create_modified_resumes(unmodifiedresumes, num_of_resumes, originalposition):\n",
    "    # example usage of Together AI \n",
    "    modifiedresumes = []\n",
    "    for resume in unmodifiedresumes[0:num_of_resumes]:\n",
    "        client = Together(api_key=together_api_key) \n",
    "        position = \"Project Manager\"\n",
    "        response = client.chat.completions.create(\n",
    "            model=\"mistralai/Mixtral-8x7B-Instruct-v0.1\",\n",
    "            messages=[{\"role\": \"user\", \"content\": \"Modify the following resume to help me get a \"+ position+\" Job:\" + resume}],\n",
    "        )\n",
    "\n",
    "        #Trim out the AI conversation (I hope this faldskraewr! stuff).\n",
    "        output = response.choices[0].message.content\n",
    "        output = output[output.find(\"\\n\"):output.rfind('\\n')]\n",
    "        output = \"\".join(\"\".join(output.split('\\r\\n')).split('\\n'))\n",
    "        modifiedresumes.append(output)\n",
    "\n",
    "    with open(originalposition+'to'+position+'.txt', 'w') as f:\n",
    "        for resume in modifiedresumes:\n",
    "            f.write(f\"{resume}\\n\")\n",
    "    return modifiedresumes\n",
    "\n",
    "java_to_pm_mod_resume = create_modified_resumes(list(java_dev_occupation_df['CV']), 2, \"java\")"
   ]
  },
  {
   "cell_type": "markdown",
   "id": "f7eb97ee",
   "metadata": {},
   "source": [
    "## Section 3: Training a simple hiring model \n",
    "\n",
    "We will now use fast text to create a hiring model which will make a binary decision of whether we should hire a candidate or not based on years of experience as the ground truth. Fasttext (https://fasttext.cc/) is an easy to use library you can run on your local computer to build text classification models or get embedding representations for different inputs. Here we will use Fast text to generate embeddings and then use a logistic classifier on top of it. "
   ]
  },
  {
   "cell_type": "markdown",
   "id": "051b060e-4529-498f-97ee-b4a3016d65e0",
   "metadata": {},
   "source": [
    "### Step 1: Generate embeddings from cover letters "
   ]
  },
  {
   "cell_type": "code",
   "execution_count": 20,
   "id": "1b689cc6",
   "metadata": {},
   "outputs": [],
   "source": [
    "import fasttext\n",
    "# load fast text vectors\n",
    "ft = fasttext.load_model('../../../Downloads/cc.en.300.bin') # replace with your own path to the vector binary"
   ]
  },
  {
   "cell_type": "code",
   "execution_count": 21,
   "id": "89517210-8189-4e61-9af8-643ac321be2b",
   "metadata": {},
   "outputs": [],
   "source": [
    "def get_vector_rep(text): \n",
    "    tokens = text.lower().split() # feel free to use other tokenizations if you want\n",
    "    if len(tokens) ==0:\n",
    "        print(tokens)\n",
    "        print(text)\n",
    "        print(len(text))\n",
    "    for i, t in enumerate(tokens):\n",
    "        if i == 0:\n",
    "            vec = ft.get_word_vector(t)\n",
    "        else:\n",
    "            vec += ft.get_word_vector(t)\n",
    "    return vec"
   ]
  },
  {
   "cell_type": "code",
   "execution_count": 22,
   "id": "83ccf783-38f6-423b-a675-3a1fede3d41e",
   "metadata": {},
   "outputs": [],
   "source": [
    "datasets = {0:list(java_dev_occupation_df['CV']), 1: list(pm_occupation_df['CV'])}\n",
    "\n",
    "vector_rep = get_vector_rep(\"\".join(\"\".join(java_dev_occupation_df.iloc[0].to_dict()['CV'].split('\\r\\n')).split('\\n')))"
   ]
  },
  {
   "cell_type": "code",
   "execution_count": 23,
   "id": "4ab74eb4",
   "metadata": {},
   "outputs": [],
   "source": [
    "def create_test_train_dataset(true_dataset, false_dataset):\n",
    "    x_s = []\n",
    "    y_s = []\n",
    "    for cv_s in true_dataset:\n",
    "        x_s.append(get_vector_rep(\"\".join(\"\".join(cv_s.split('\\r\\n')).split('\\n'))))\n",
    "        y_s.append(1)\n",
    "    for cv_s in false_dataset:\n",
    "        x_s.append(get_vector_rep(\"\".join(\"\".join(cv_s.split('\\r\\n')).split('\\n'))))\n",
    "        y_s.append(0)\n",
    "    return [x_s, y_s]"
   ]
  },
  {
   "cell_type": "code",
   "execution_count": 24,
   "id": "d133f970",
   "metadata": {},
   "outputs": [
    {
     "data": {
      "text/plain": [
       "'01.11.2018   PE «SoloService»Position: Java Developer.• Software design, investigating technical solutions• Reviewing project documentation, analyzing requirements• Troubleshoot and analyze problems identified in the system software04.05.2018 – 31.10.2018   PE «SoloService» Position: IT Support Specialist.• provide user support for computer systems and user applications, including: website, mobile app, intranet, Outlook, Skype, operating systems (Windows and Linux);• installing and configuring computer hardware, software, mobile devices, video projection systems and audio systems;26.09.2017 – 03.05.2018   LLC «ЕКО» (supermarkets ЕКО)Position: Head of Project department.• project management of modernization, automation, reconstruction and  construction of trade objects;• to control the timing of project delivery;• establishment of consolidate budgets of projects;• organization of meetings, presentation of project (technology, visualization, business plan);• collaboration with project members, contractors and suppliers.20.04.2012 – 25.09.2017   LLC «ЕКО» (supermarkets ЕКО)Position: Chief design engineer of Project department. • development of architectural drawings and technical specifications for supermarkets and shopping centers in AutoCAD.29.05.2008 – 19.04.2012  LLC«Pharmastor» (Pharmacy of the Good Day)Position: Chief design engineer of Project department. • development of architectural drawings, projects, passports and design of pharmacies in AutoCAD.01.11.2006 – 28.05.2008  PE «Evrotex»Position: Sales manager. • international trade of automation equipment from Austria, Germany, Czech Republic, Italy;• technical solutions developed according to customer requirements;• organized and participated in exhibitions.01.07.2003 – 04.09.2006  PE «Kiev-SM»Position: Sales manager. • order of goods, payment control, delivery organization.'"
      ]
     },
     "execution_count": 24,
     "metadata": {},
     "output_type": "execute_result"
    }
   ],
   "source": [
    "\"\".join(\"\".join(datasets[0][0].split('\\r\\n')).split('\\n'))"
   ]
  },
  {
   "cell_type": "code",
   "execution_count": 25,
   "id": "0ff3e37d-fa1f-4304-9f5f-54867b970a0d",
   "metadata": {},
   "outputs": [],
   "source": [
    "# TODO: build vector embeddings and lables for positive label examples experience more than 5 years, negative examples less than 5\n",
    "training_data = create_test_train_dataset(datasets[1], datasets[0])"
   ]
  },
  {
   "cell_type": "markdown",
   "id": "27e3b1af-bf5c-470e-8f64-c00d131b44b4",
   "metadata": {},
   "source": [
    "### Step 2: Build classifier for resume classification"
   ]
  },
  {
   "cell_type": "code",
   "execution_count": 26,
   "id": "6061ee07-d3b3-4d0a-b050-f91a6a1ad859",
   "metadata": {},
   "outputs": [],
   "source": [
    "no_applicant_modification_data = [training_data[0], training_data[1]]"
   ]
  },
  {
   "cell_type": "code",
   "execution_count": 27,
   "id": "79c8ad5e",
   "metadata": {},
   "outputs": [],
   "source": [
    "#Generates (model, x_test, y_test) based on input (x, y) data\n",
    "def train_model(data):\n",
    "    x = data[0]\n",
    "    y=data[1]\n",
    "    x_train, x_test, y_train, y_test = train_test_split(x, y, test_size=0.2)\n",
    "\n",
    "    clf = LogisticRegression(random_state=16)\n",
    "    clf.fit(x_train, y_train)\n",
    "\n",
    "    p = clf.predict_proba(x_test)[:, 1]\n",
    "    p_acc = accuracy_score(y_test, p > 0.5)\n",
    "    print(\"clf_acc\", p_acc)\n",
    "    return [clf, x_test, y_test]\n",
    "\n",
    "#Plots confusion matrix\n",
    "def plot_conf_matrix(xtest, ytest, output_model):\n",
    "    cnf_matrix = metrics.confusion_matrix(ytest, output_model.predict(xtest))\n",
    "    class_names=[0,1] # name  of classes\n",
    "    fig, ax = plt.subplots()\n",
    "    tick_marks = np.arange(len(class_names))\n",
    "    plt.xticks(tick_marks, class_names)\n",
    "    plt.yticks(tick_marks, class_names)\n",
    "    # create heatmap\n",
    "    sns.heatmap(pd.DataFrame(cnf_matrix), annot=True, cmap=\"YlGnBu\" ,fmt='g')\n",
    "    ax.xaxis.set_label_position(\"top\")\n",
    "    plt.tight_layout()\n",
    "    plt.title('Confusion Matrix', y=1.1)\n",
    "    plt.ylabel('Actual Label')\n",
    "    plt.xlabel('Predicted Label')"
   ]
  },
  {
   "cell_type": "code",
   "execution_count": 81,
   "id": "f89453ea",
   "metadata": {},
   "outputs": [],
   "source": [
    "test_resumes = []\n",
    "\n",
    "with open(\"javadeveloper_to_pm.text\", 'r') as f:\n",
    "    for line in f:\n",
    "        if len(line) >1:\n",
    "            test_resumes.append(get_vector_rep(line))\n",
    "        #print(\"new\")\n"
   ]
  },
  {
   "cell_type": "markdown",
   "id": "33ebba9c-71f0-494d-9801-a60086502244",
   "metadata": {},
   "source": [
    "## Section 4: Simulation manipulations and evaluate disparity "
   ]
  },
  {
   "cell_type": "code",
   "execution_count": null,
   "id": "d57790c2",
   "metadata": {},
   "outputs": [],
   "source": [
    "test_resumes = []\n",
    "\n",
    "with open(\"javadeveloper_to_pm.text\", 'r') as f:\n",
    "    for line in f:\n",
    "        if len(line) >1:\n",
    "            test_resumes.append(get_vector_rep(line))"
   ]
  },
  {
   "cell_type": "code",
   "execution_count": 160,
   "id": "06fb0c3d",
   "metadata": {},
   "outputs": [
    {
     "name": "stderr",
     "output_type": "stream",
     "text": [
      "/Users/ch/miniforge3/envs/llm_jobs/lib/python3.10/site-packages/sklearn/linear_model/_logistic.py:469: ConvergenceWarning: lbfgs failed to converge (status=1):\n",
      "STOP: TOTAL NO. of ITERATIONS REACHED LIMIT.\n",
      "\n",
      "Increase the number of iterations (max_iter) or scale the data as shown in:\n",
      "    https://scikit-learn.org/stable/modules/preprocessing.html\n",
      "Please also refer to the documentation for alternative solver options:\n",
      "    https://scikit-learn.org/stable/modules/linear_model.html#logistic-regression\n",
      "  n_iter_i = _check_optimize_result(\n"
     ]
    },
    {
     "name": "stdout",
     "output_type": "stream",
     "text": [
      "clf_acc 0.9648780487804878\n",
      "Intercept: [-0.34687288]\n"
     ]
    },
    {
     "data": {
      "image/png": "[encoded data removed]",
      "text/plain": [
       "<Figure size 640x480 with 2 Axes>"
      ]
     },
     "metadata": {},
     "output_type": "display_data"
    }
   ],
   "source": [
    "#Question 1: Let's train a model on just the non-modified resumes. Does modify the Java SWE resumes increase the chance of acceptance?\n",
    "\n",
    "#train model on unmodified data\n",
    "model_output = train_model(no_applicant_modification_data)\n",
    "print('Intercept: {0}'.format(model_output[0].intercept_))\n",
    "plot_conf_matrix(model_output[1], model_output[2], model_output[0])"
   ]
  },
  {
   "cell_type": "code",
   "execution_count": 161,
   "id": "b2fdf5c2",
   "metadata": {},
   "outputs": [
    {
     "name": "stdout",
     "output_type": "stream",
     "text": [
      "THe ratio of FP in the Java SWE modified data, amongst all the JAVA SWE is 0.22795153564384332 .\n"
     ]
    }
   ],
   "source": [
    "#Predict on modified JAVA SWE data. Do these \"0\" datapoints became incorrectly labeled as 1?\n",
    "java_predictions = model_output[0].predict(test_resumes)\n",
    "ratiooffalsepositives = len([i for i in java_predictions if i==1])/len(java_predictions)\n",
    "print(\"THe ratio of FP in the Java SWE modified data, amongst all the JAVA SWE is\", ratiooffalsepositives, \".\")"
   ]
  },
  {
   "cell_type": "code",
   "execution_count": null,
   "id": "24490c01",
   "metadata": {},
   "outputs": [],
   "source": [
    "#train model on unmodified data\n",
    "model_output = train_model(no_applicant_modification_data)\n",
    "print('Intercept: {0}'.format(model_output[0].intercept_))\n",
    "plot_conf_matrix(model_output[1], model_output[2], model_output[0])"
   ]
  },
  {
   "cell_type": "code",
   "execution_count": 158,
   "id": "85373d0f",
   "metadata": {},
   "outputs": [],
   "source": [
    "datasets[0] = test_resumes"
   ]
  },
  {
   "cell_type": "code",
   "execution_count": 170,
   "id": "d317adf8",
   "metadata": {},
   "outputs": [
    {
     "name": "stdout",
     "output_type": "stream",
     "text": [
      "**[Your Name]****Contact Information:**[Include your contact information here]**Summary:**Experienced Project Manager with a proven track record of delivering projects on time and within budget. Skilled in project management, team leadership, and technical problem-solving. Proficient in AutoCAD, Windows, and Linux.**Experience:****Project Manager, LLC \"ЕКО\" (supermarkets ЕКО)***26.09.2017 – 03.05.2018** Managed the modernization, automation, reconstruction, and construction of trade objects, ensuring timely delivery and consolidated budgets.* Organized meetings and presented project technology, visualization, and business plans.* Collaborated with project members, contractors, and suppliers to ensure project success.**Chief Design Engineer, Project Department, LLC \"ЕКО\" (supermarkets ЕКО)***20.04.2012 – 25.09.2017** Developed architectural drawings and technical specifications for supermarkets and shopping centers in AutoCAD.* Collaborated with project managers to ensure project success.**Chief Design Engineer, Project Department, LLC \"Pharmastor\" (Pharmacy of the Good Day)***29.05.2008 – 19.04.2012** Developed architectural drawings, projects, passports, and design of pharmacies in AutoCAD.* Collaborated with project managers to ensure project success.**Sales Manager, PE \"Evrotex\"***01.11.2006 – 28.05.2008** Managed international trade of automation equipment from Austria, Germany, Czech Republic, and Italy.* Developed technical solutions according to customer requirements.* Organized and participated in exhibitions.**Sales Manager, PE \"Kiev-SM\"***01.07.2003 – 04.09.2006** Ordered goods, controlled payments, and organized delivery.**Skills:*** Project management* Team leadership* Technical problem-solving* AutoCAD* Windows* Linux\n",
      "\n"
     ]
    }
   ],
   "source": [
    "with open(\"javadeveloper_to_pm.text\", 'r') as f:\n",
    "    for line in f:\n",
    "        print(line)\n",
    "        break"
   ]
  },
  {
   "cell_type": "code",
   "execution_count": null,
   "id": "a283b1e5",
   "metadata": {},
   "outputs": [],
   "source": []
  }
 ],
 "metadata": {
  "kernelspec": {
   "display_name": "Python 3.10.14",
   "language": "python",
   "name": "python3"
  },
  "language_info": {
   "codemirror_mode": {
    "name": "ipython",
    "version": 3
   },
   "file_extension": ".py",
   "mimetype": "text/x-python",
   "name": "python",
   "nbconvert_exporter": "python",
   "pygments_lexer": "ipython3",
   "version": "3.10.14"
  },
  "vscode": {
   "interpreter": {
    "hash": "1ef90e252922ec218579f878e8875693d0f6f915d658626d8644d9a71eb203b8"
   }
  }
 },
 "nbformat": 4,
 "nbformat_minor": 5
}
