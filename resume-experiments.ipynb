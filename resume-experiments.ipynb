{
 "cells": [
  {
   "cell_type": "code",
   "execution_count": 9,
   "id": "b01ae009",
   "metadata": {
    "jupyter": {
     "is_executing": true
    }
   },
   "outputs": [
    {
     "name": "stdout",
     "output_type": "stream",
     "text": [
      "The autoreload extension is already loaded. To reload it, use:\n",
      "  %reload_ext autoreload\n"
     ]
    }
   ],
   "source": [
    "import numpy as np\n",
    "import yaml\n",
    "\n",
    "import pandas as pd\n",
    "import seaborn as sns\n",
    "import matplotlib.pyplot as plt\n",
    "import scipy.stats as stats\n",
    "\n",
    "import os\n",
    "from together import Together\n",
    "%load_ext autoreload\n",
    "%autoreload 2"
   ]
  },
  {
   "cell_type": "markdown",
   "id": "f4b9326e",
   "metadata": {},
   "source": [
    "## Section 1: Existing CVs data analysis\n",
    "\n",
    "Here is a recent collection of CVs from https://github.com/Stereotypes-in-LLMs/recruitment-dataset \n",
    "We will use these CVs as the basis for generating cover letters for our hiring model"
   ]
  },
  {
   "cell_type": "code",
   "execution_count": 4,
   "id": "a279dd63",
   "metadata": {},
   "outputs": [
    {
     "data": {
      "text/html": [
       "<div>\n",
       "<style scoped>\n",
       "    .dataframe tbody tr th:only-of-type {\n",
       "        vertical-align: middle;\n",
       "    }\n",
       "\n",
       "    .dataframe tbody tr th {\n",
       "        vertical-align: top;\n",
       "    }\n",
       "\n",
       "    .dataframe thead th {\n",
       "        text-align: right;\n",
       "    }\n",
       "</style>\n",
       "<table border=\"1\" class=\"dataframe\">\n",
       "  <thead>\n",
       "    <tr style=\"text-align: right;\">\n",
       "      <th></th>\n",
       "      <th>Moreinfo</th>\n",
       "      <th>Looking For</th>\n",
       "      <th>Highlights</th>\n",
       "      <th>Primary Keyword</th>\n",
       "      <th>English Level</th>\n",
       "      <th>Experience Years</th>\n",
       "      <th>CV</th>\n",
       "      <th>CV_lang</th>\n",
       "      <th>id</th>\n",
       "      <th>__index_level_0__</th>\n",
       "    </tr>\n",
       "    <tr>\n",
       "      <th>Position</th>\n",
       "      <th></th>\n",
       "      <th></th>\n",
       "      <th></th>\n",
       "      <th></th>\n",
       "      <th></th>\n",
       "      <th></th>\n",
       "      <th></th>\n",
       "      <th></th>\n",
       "      <th></th>\n",
       "      <th></th>\n",
       "    </tr>\n",
       "  </thead>\n",
       "  <tbody>\n",
       "    <tr>\n",
       "      <th>Project Manager</th>\n",
       "      <td>2302</td>\n",
       "      <td>2302</td>\n",
       "      <td>2302</td>\n",
       "      <td>2302</td>\n",
       "      <td>2302</td>\n",
       "      <td>2302</td>\n",
       "      <td>2302</td>\n",
       "      <td>2302</td>\n",
       "      <td>2302</td>\n",
       "      <td>2302</td>\n",
       "    </tr>\n",
       "    <tr>\n",
       "      <th>QA Engineer</th>\n",
       "      <td>1813</td>\n",
       "      <td>1813</td>\n",
       "      <td>1813</td>\n",
       "      <td>1813</td>\n",
       "      <td>1813</td>\n",
       "      <td>1813</td>\n",
       "      <td>1813</td>\n",
       "      <td>1813</td>\n",
       "      <td>1813</td>\n",
       "      <td>1813</td>\n",
       "    </tr>\n",
       "    <tr>\n",
       "      <th>Junior QA Engineer</th>\n",
       "      <td>1583</td>\n",
       "      <td>1583</td>\n",
       "      <td>1583</td>\n",
       "      <td>1583</td>\n",
       "      <td>1583</td>\n",
       "      <td>1583</td>\n",
       "      <td>1583</td>\n",
       "      <td>1583</td>\n",
       "      <td>1583</td>\n",
       "      <td>1583</td>\n",
       "    </tr>\n",
       "    <tr>\n",
       "      <th>Front-end developer</th>\n",
       "      <td>1343</td>\n",
       "      <td>1343</td>\n",
       "      <td>1343</td>\n",
       "      <td>1343</td>\n",
       "      <td>1343</td>\n",
       "      <td>1343</td>\n",
       "      <td>1343</td>\n",
       "      <td>1343</td>\n",
       "      <td>1343</td>\n",
       "      <td>1343</td>\n",
       "    </tr>\n",
       "    <tr>\n",
       "      <th>Java Developer</th>\n",
       "      <td>1126</td>\n",
       "      <td>1126</td>\n",
       "      <td>1126</td>\n",
       "      <td>1126</td>\n",
       "      <td>1126</td>\n",
       "      <td>1126</td>\n",
       "      <td>1126</td>\n",
       "      <td>1126</td>\n",
       "      <td>1126</td>\n",
       "      <td>1126</td>\n",
       "    </tr>\n",
       "    <tr>\n",
       "      <th>Junior Front-end Developer</th>\n",
       "      <td>1095</td>\n",
       "      <td>1095</td>\n",
       "      <td>1095</td>\n",
       "      <td>1095</td>\n",
       "      <td>1095</td>\n",
       "      <td>1095</td>\n",
       "      <td>1095</td>\n",
       "      <td>1095</td>\n",
       "      <td>1095</td>\n",
       "      <td>1095</td>\n",
       "    </tr>\n",
       "    <tr>\n",
       "      <th>UI/UX Designer</th>\n",
       "      <td>1027</td>\n",
       "      <td>1027</td>\n",
       "      <td>1027</td>\n",
       "      <td>1027</td>\n",
       "      <td>1027</td>\n",
       "      <td>1027</td>\n",
       "      <td>1027</td>\n",
       "      <td>1027</td>\n",
       "      <td>1027</td>\n",
       "      <td>1027</td>\n",
       "    </tr>\n",
       "    <tr>\n",
       "      <th>Manual QA Engineer</th>\n",
       "      <td>948</td>\n",
       "      <td>948</td>\n",
       "      <td>948</td>\n",
       "      <td>948</td>\n",
       "      <td>948</td>\n",
       "      <td>948</td>\n",
       "      <td>948</td>\n",
       "      <td>948</td>\n",
       "      <td>948</td>\n",
       "      <td>948</td>\n",
       "    </tr>\n",
       "    <tr>\n",
       "      <th>Front-End Developer</th>\n",
       "      <td>775</td>\n",
       "      <td>775</td>\n",
       "      <td>775</td>\n",
       "      <td>775</td>\n",
       "      <td>775</td>\n",
       "      <td>775</td>\n",
       "      <td>775</td>\n",
       "      <td>775</td>\n",
       "      <td>775</td>\n",
       "      <td>775</td>\n",
       "    </tr>\n",
       "    <tr>\n",
       "      <th>UX/UI Designer</th>\n",
       "      <td>761</td>\n",
       "      <td>761</td>\n",
       "      <td>761</td>\n",
       "      <td>761</td>\n",
       "      <td>761</td>\n",
       "      <td>761</td>\n",
       "      <td>761</td>\n",
       "      <td>761</td>\n",
       "      <td>761</td>\n",
       "      <td>761</td>\n",
       "    </tr>\n",
       "  </tbody>\n",
       "</table>\n",
       "</div>"
      ],
      "text/plain": [
       "                            Moreinfo  Looking For  Highlights  \\\n",
       "Position                                                        \n",
       "Project Manager                 2302         2302        2302   \n",
       "QA Engineer                     1813         1813        1813   \n",
       "Junior QA Engineer              1583         1583        1583   \n",
       "Front-end developer             1343         1343        1343   \n",
       "Java Developer                  1126         1126        1126   \n",
       "Junior Front-end Developer      1095         1095        1095   \n",
       "UI/UX Designer                  1027         1027        1027   \n",
       "Manual QA Engineer               948          948         948   \n",
       "Front-End Developer              775          775         775   \n",
       "UX/UI Designer                   761          761         761   \n",
       "\n",
       "                            Primary Keyword  English Level  Experience Years  \\\n",
       "Position                                                                       \n",
       "Project Manager                        2302           2302              2302   \n",
       "QA Engineer                            1813           1813              1813   \n",
       "Junior QA Engineer                     1583           1583              1583   \n",
       "Front-end developer                    1343           1343              1343   \n",
       "Java Developer                         1126           1126              1126   \n",
       "Junior Front-end Developer             1095           1095              1095   \n",
       "UI/UX Designer                         1027           1027              1027   \n",
       "Manual QA Engineer                      948            948               948   \n",
       "Front-End Developer                     775            775               775   \n",
       "UX/UI Designer                          761            761               761   \n",
       "\n",
       "                              CV  CV_lang    id  __index_level_0__  \n",
       "Position                                                            \n",
       "Project Manager             2302     2302  2302               2302  \n",
       "QA Engineer                 1813     1813  1813               1813  \n",
       "Junior QA Engineer          1583     1583  1583               1583  \n",
       "Front-end developer         1343     1343  1343               1343  \n",
       "Java Developer              1126     1126  1126               1126  \n",
       "Junior Front-end Developer  1095     1095  1095               1095  \n",
       "UI/UX Designer              1027     1027  1027               1027  \n",
       "Manual QA Engineer           948      948   948                948  \n",
       "Front-End Developer          775      775   775                775  \n",
       "UX/UI Designer               761      761   761                761  "
      ]
     },
     "execution_count": 4,
     "metadata": {},
     "output_type": "execute_result"
    }
   ],
   "source": [
    "df = pd.read_parquet('data/resumes.parquet', engine='pyarrow')\n",
    "# top 10 positions in resume database\n",
    "df.dropna().groupby(\"Position\").count().sort_values(\"Moreinfo\", ascending=False).head(10)"
   ]
  },
  {
   "cell_type": "code",
   "execution_count": 5,
   "id": "3911b1bc",
   "metadata": {},
   "outputs": [],
   "source": [
    "position = \"Project Manager\"\n",
    "occupation_df = df[df[\"Position\"]==position]"
   ]
  },
  {
   "cell_type": "code",
   "execution_count": 6,
   "id": "aa9edf23",
   "metadata": {
    "scrolled": true
   },
   "outputs": [
    {
     "data": {
      "text/plain": [
       "{'Position': 'Project Manager',\n",
       " 'Moreinfo': '01.2020 - 04.2020\\r\\nProject manager/Account manager\\r\\n1. Working as a PM was responsible for project planning, resource planning, business communication, upsales.\\r\\n2. As an AM was involved in Outsataff projects monitoring and support. A few of the main responsibilities were to make research and investigate customer development processes and approaches resulting in advisory improvement strategies. Together with Sales manager took part in the upsales initiatives, finding out suitable upsales positions, profitable both for the client and company.\\r\\n\\r\\n06.2018 - 01.2020\\r\\nProject manager\\r\\nAs a Project Manager, I was responsible for projects estimation to match customers expectations and budget; was involved in resource management;  took the initiatives to make roadmaps planning together with the team; worked with risks; kept up team activities on control, to set the development process on track and up to the schedule; took the project delivery responsibility including infrastructure configuration with further product deployment; was engaged in tight and long-term project support.\\r\\nActivities, such as Business Analysis (requirements clarifications, project documentation), Internal acceptance testing (UAT testing), team members recruitment, people management were also a part of my day-to-day responsibilities. \\r\\n\\r\\n08.2017-06.2019\\r\\nManual QA engineer\\r\\nTook part in project development and support on various project lifecycle stages, beginning with the requirements clarification, test kits creation using different test design techniques and approaches up to product deployment and support using functional/non-functional quality assurance technics.\\r\\n\\r\\n04.2017 - 07.2017\\r\\nQA engineer\\r\\nTook part in a startup project development (small business accounting system), starting with the product idea clarification and approval, test cases preparation, requirements clarification, team management.',\n",
       " 'Looking For': 'Seeking for the company with cool people to cooperate with, exiting projects and ideas to get involved in and interesting challenges to overcome.',\n",
       " 'Highlights': '- Managing multiple projects at a time\\r\\n- Experience working with foreign customers\\r\\n- Successful team management with up to 7 members\\r\\n- SDLC understanding in terms of management perspective\\r\\n- Good communication skills\\r\\n- Project processes organization with Agile approaches(Agile, Kanban)\\r\\n- Working with the project documentation using Atlassian and Google services\\r\\n- Understanding of proper time management with further timelines control\\r\\n- Internal projects acceptance before delivering to the customer\\r\\n- Resources planning\\r\\n- Taking part in potential team members interviewing\\r\\n- Defend both customer and the company interests\\r\\n- Account management, pre-sales, upsales, risk management',\n",
       " 'Primary Keyword': 'Project Manager',\n",
       " 'English Level': 'upper',\n",
       " 'Experience Years': 2.0,\n",
       " 'CV': '- Managing multiple projects at a time\\r\\n- Experience working with foreign customers\\r\\n- Successful team management with up to 7 members\\r\\n- SDLC understanding in terms of management perspective\\r\\n- Good communication skills\\r\\n- Project processes organization with Agile approaches(Agile, Kanban)\\r\\n- Working with the project documentation using Atlassian and Google services\\r\\n- Understanding of proper time management with further timelines control\\r\\n- Internal projects acceptance before delivering to the customer\\r\\n- Resources planning\\r\\n- Taking part in potential team members interviewing\\r\\n- Defend both customer and the company interests\\r\\n- Account management, pre-sales, upsales, risk management\\n01.2020 - 04.2020\\r\\nProject manager/Account manager\\r\\n1. Working as a PM was responsible for project planning, resource planning, business communication, upsales.\\r\\n2. As an AM was involved in Outsataff projects monitoring and support. A few of the main responsibilities were to make research and investigate customer development processes and approaches resulting in advisory improvement strategies. Together with Sales manager took part in the upsales initiatives, finding out suitable upsales positions, profitable both for the client and company.\\r\\n\\r\\n06.2018 - 01.2020\\r\\nProject manager\\r\\nAs a Project Manager, I was responsible for projects estimation to match customers expectations and budget; was involved in resource management;  took the initiatives to make roadmaps planning together with the team; worked with risks; kept up team activities on control, to set the development process on track and up to the schedule; took the project delivery responsibility including infrastructure configuration with further product deployment; was engaged in tight and long-term project support.\\r\\nActivities, such as Business Analysis (requirements clarifications, project documentation), Internal acceptance testing (UAT testing), team members recruitment, people management were also a part of my day-to-day responsibilities. \\r\\n\\r\\n08.2017-06.2019\\r\\nManual QA engineer\\r\\nTook part in project development and support on various project lifecycle stages, beginning with the requirements clarification, test kits creation using different test design techniques and approaches up to product deployment and support using functional/non-functional quality assurance technics.\\r\\n\\r\\n04.2017 - 07.2017\\r\\nQA engineer\\r\\nTook part in a startup project development (small business accounting system), starting with the product idea clarification and approval, test cases preparation, requirements clarification, team management.\\nSeeking for the company with cool people to cooperate with, exiting projects and ideas to get involved in and interesting challenges to overcome.',\n",
       " 'CV_lang': 'en',\n",
       " 'id': '08130374-27aa-5c92-954f-4e6b7f528fea',\n",
       " '__index_level_0__': 154267}"
      ]
     },
     "execution_count": 6,
     "metadata": {},
     "output_type": "execute_result"
    }
   ],
   "source": [
    "# example entry \n",
    "occupation_df.iloc[0].to_dict()"
   ]
  },
  {
   "cell_type": "code",
   "execution_count": 12,
   "id": "c55ad5eb",
   "metadata": {},
   "outputs": [],
   "source": [
    "## TODO: further explorations of CV data, bring 2-3 insights about the CV itself and Insights and highlights"
   ]
  },
  {
   "cell_type": "markdown",
   "id": "08830b8e",
   "metadata": {},
   "source": [
    "## Section 2: Prompting LLMs for generating cover letters \n",
    "\n",
    "Now we will use a generic prompt to generate a cover letters for each resume using API calls"
   ]
  },
  {
   "cell_type": "code",
   "execution_count": 7,
   "id": "9968e6b4",
   "metadata": {},
   "outputs": [],
   "source": [
    "# Load the YAML file\n",
    "with open('llm_api_keys.yaml', 'r') as file:\n",
    "    config = yaml.safe_load(file)\n",
    "\n",
    "together_api_key = config['services']['together']['api_key'] # replace with openai or anthropic also in yaml file"
   ]
  },
  {
   "cell_type": "code",
   "execution_count": 14,
   "id": "9f48e3c4-fb69-4314-9ab4-d3e0b68a4eee",
   "metadata": {},
   "outputs": [],
   "source": [
    "# example usage of Together AI \n",
    "\n",
    "client = Together(api_key=together_api_key) \n",
    "\n",
    "response = client.chat.completions.create(\n",
    "    model=\"mistralai/Mixtral-8x7B-Instruct-v0.1\",\n",
    "    messages=[{\"role\": \"user\", \"content\": \"write a cover letter for a project manager\"}],\n",
    ")\n",
    "coverletter = response.choices[0].message.content"
   ]
  },
  {
   "cell_type": "code",
   "execution_count": 15,
   "id": "b9e40e28-5177-4645-9ccc-a0bab721bbf3",
   "metadata": {},
   "outputs": [
    {
     "name": "stdout",
     "output_type": "stream",
     "text": [
      " Dear Hiring Manager,\n",
      "\n",
      "I am writing to apply for the position of Project Manager at [Company Name]. With my extensive experience in project management, strong leadership skills, and proven track record of delivering projects on time and within budget, I am confident that I would be a valuable addition to your team.\n",
      "\n",
      "In my current role as a Project Manager at [Current Company Name], I have successfully managed multiple projects simultaneously, ranging from software development to infrastructure deployment. I have experience working with cross-functional teams, including developers, designers, and stakeholders, to ensure that projects are delivered to the highest standards.\n",
      "\n",
      "My experience in Agile project management methodologies, such as Scrum and Kanban, has enabled me to effectively manage project timelines, resources, and risks. I am also proficient in project management tools such as Jira, Trello, and Microsoft Project.\n",
      "\n",
      "One of my greatest strengths is my ability to communicate effectively with stakeholders at all levels of an organization. I have experience presenting project updates and progress reports to executives, as well as working closely with team members to ensure that everyone is aligned and working towards the same goals.\n",
      "\n",
      "In addition to my technical skills, I am a dedicated and results-driven project manager. I am committed to ensuring that projects are delivered on time, within budget, and to the satisfaction of all stakeholders. I am also passionate about continuous learning and improvement, and I am always looking for ways to improve my skills and knowledge.\n",
      "\n",
      "I am excited about the opportunity to join [Company Name] and contribute my skills and experience to your team. Thank you for considering my application. I look forward to the opportunity to discuss my qualifications further.\n",
      "\n",
      "Sincerely,\n",
      "\n",
      "[Your Name]\n"
     ]
    }
   ],
   "source": [
    "print(coverletter)"
   ]
  },
  {
   "cell_type": "code",
   "execution_count": 13,
   "id": "401e98ef-3589-4c3c-859d-d0939456c058",
   "metadata": {},
   "outputs": [],
   "source": [
    "# TODO: \n",
    "\n",
    "# decide on a prompt and use prompt + CVs to generate cover letters "
   ]
  },
  {
   "cell_type": "markdown",
   "id": "f7eb97ee",
   "metadata": {},
   "source": [
    "## Section 3: Training a simple hiring model \n",
    "\n",
    "We will now use fast text to create a hiring model which will make a binary decision of whether we should hire a candidate or not based on years of experience as the ground truth. Fasttext (https://fasttext.cc/) is an easy to use library you can run on your local computer to build text classification models or get embedding representations for different inputs. Here we will use Fast text to generate embeddings and then use a logistic classifier on top of it. "
   ]
  },
  {
   "cell_type": "markdown",
   "id": "051b060e-4529-498f-97ee-b4a3016d65e0",
   "metadata": {},
   "source": [
    "### Step 1: Generate embeddings from cover letters "
   ]
  },
  {
   "cell_type": "code",
   "execution_count": 18,
   "id": "1b689cc6",
   "metadata": {},
   "outputs": [],
   "source": [
    "import fasttext\n",
    "# load fast text vectors\n",
    "ft = fasttext.load_model('../common/fasttext/cc.en.300.bin') # replace with your own path to the vector binary"
   ]
  },
  {
   "cell_type": "code",
   "execution_count": 20,
   "id": "89517210-8189-4e61-9af8-643ac321be2b",
   "metadata": {},
   "outputs": [],
   "source": [
    "def get_vector_rep(text): \n",
    "    tokens = text.lower().split() # feel free to use other tokenizations if you want\n",
    "    for i, t in enumerate(tokens):\n",
    "        if i == 0:\n",
    "            vec = ft.get_word_vector(t)\n",
    "        else:\n",
    "            vec += ft.get_word_vector(t)\n",
    "    return vec"
   ]
  },
  {
   "cell_type": "code",
   "execution_count": 21,
   "id": "83ccf783-38f6-423b-a675-3a1fede3d41e",
   "metadata": {},
   "outputs": [],
   "source": [
    "vector_rep = get_vector_rep(coverletter)"
   ]
  },
  {
   "cell_type": "code",
   "execution_count": 22,
   "id": "0ff3e37d-fa1f-4304-9f5f-54867b970a0d",
   "metadata": {},
   "outputs": [],
   "source": [
    "# TODO: build vector embeddings and lables for positive label examples experience more than 5 years, negative examples less than 5"
   ]
  },
  {
   "cell_type": "markdown",
   "id": "27e3b1af-bf5c-470e-8f64-c00d131b44b4",
   "metadata": {},
   "source": [
    "### Step 2: Build classifier for resume classification"
   ]
  },
  {
   "cell_type": "code",
   "execution_count": 24,
   "id": "0e2781ff-acbd-4abf-b6d6-866f4dc61ef7",
   "metadata": {},
   "outputs": [],
   "source": [
    "from sklearn.pipeline import Pipeline\n",
    "from sklearn.preprocessing import StandardScaler\n",
    "from sklearn.linear_model import LogisticRegression"
   ]
  },
  {
   "cell_type": "code",
   "execution_count": 26,
   "id": "6061ee07-d3b3-4d0a-b050-f91a6a1ad859",
   "metadata": {},
   "outputs": [
    {
     "ename": "SyntaxError",
     "evalue": "invalid syntax (995344463.py, line 1)",
     "output_type": "error",
     "traceback": [
      "\u001b[0;36m  Cell \u001b[0;32mIn[26], line 1\u001b[0;36m\u001b[0m\n\u001b[0;31m    x_train = # Fill in\u001b[0m\n\u001b[0m              ^\u001b[0m\n\u001b[0;31mSyntaxError\u001b[0m\u001b[0;31m:\u001b[0m invalid syntax\n"
     ]
    }
   ],
   "source": [
    "x = # Fill in \n",
    "y = # Fill in\n",
    "\n",
    "x_train, x_test, y_train, y_test = train_test_split(x, y, test_size=0.2)\n",
    "\n",
    "clf = LogisticRegression()\n",
    "clf.fit(x_train, y_train)\n",
    "\n",
    "p = clf.predict_proba(x_test)[:, 1]\n",
    "p_acc = accuracy_score(y_test, p > 0.5)\n",
    "print(\"clf_acc\", p_acc) # ideally about 0.75, dont forget to check types of errors (e.g. confusion matrix)"
   ]
  },
  {
   "cell_type": "markdown",
   "id": "33ebba9c-71f0-494d-9801-a60086502244",
   "metadata": {},
   "source": [
    "## Section 4: Simulation manipulations and evaluate disparity "
   ]
  },
  {
   "cell_type": "code",
   "execution_count": 27,
   "id": "d963bc6e-6877-4484-ae99-8801a97f2d25",
   "metadata": {},
   "outputs": [],
   "source": [
    "# TODO: which all the tools above, use several different models to generate coverletters to be classified with the hiring model"
   ]
  },
  {
   "cell_type": "code",
   "execution_count": null,
   "id": "ca0c4394-0b50-4746-b14e-247c60b12fcd",
   "metadata": {},
   "outputs": [],
   "source": [
    "# TODO: do all the modified resumes reach the threshold for classification as hire/interview? "
   ]
  }
 ],
 "metadata": {
  "kernelspec": {
   "display_name": "Python 3 (ipykernel)",
   "language": "python",
   "name": "python3"
  },
  "language_info": {
   "codemirror_mode": {
    "name": "ipython",
    "version": 3
   },
   "file_extension": ".py",
   "mimetype": "text/x-python",
   "name": "python",
   "nbconvert_exporter": "python",
   "pygments_lexer": "ipython3",
   "version": "3.10.14"
  }
 },
 "nbformat": 4,
 "nbformat_minor": 5
}
