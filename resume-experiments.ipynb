{
 "cells": [
  {
   "cell_type": "code",
   "execution_count": 7,
   "id": "b01ae009",
   "metadata": {
    "jupyter": {
     "is_executing": true
    }
   },
   "outputs": [],
   "source": [
    "import numpy as np\n",
    "import yaml\n",
    "\n",
    "import pandas as pd\n",
    "import seaborn as sns\n",
    "import matplotlib.pyplot as plt\n",
    "import scipy.stats as stats\n",
    "\n",
    "from collections import Counter\n",
    "import operator as op\n",
    "\n",
    "import os\n",
    "from together import Together\n",
    "%load_ext autoreload\n",
    "%autoreload 2\n",
    "\n",
    "from sklearn.pipeline import Pipeline\n",
    "from sklearn.preprocessing import StandardScaler\n",
    "from sklearn.linear_model import LogisticRegression\n",
    "from sklearn.model_selection import train_test_split\n",
    "from sklearn.metrics import accuracy_score\n",
    "import sklearn.metrics as metrics"
   ]
  },
  {
   "cell_type": "markdown",
   "id": "f4b9326e",
   "metadata": {},
   "source": [
    "## Section 1: Existing CVs data analysis\n",
    "\n",
    "Here is a recent collection of CVs from https://github.com/Stereotypes-in-LLMs/recruitment-dataset \n",
    "We will use these CVs as the basis for generating cover letters for our hiring model"
   ]
  },
  {
   "cell_type": "code",
   "execution_count": 5,
   "id": "a279dd63",
   "metadata": {},
   "outputs": [],
   "source": [
    "df = pd.read_parquet('data/resumes.parquet', engine='pyarrow')  # raw dataframe\n",
    "\n",
    "# Filter the dataframe minimum cv length\n",
    "MIN_CV_LENGTH = 500\n",
    "filtered_df = df.loc[df['CV'].dropna().apply(len) >= MIN_CV_LENGTH]"
   ]
  },
  {
   "cell_type": "code",
   "execution_count": 115,
   "id": "d904c70a",
   "metadata": {},
   "outputs": [
    {
     "name": "stdout",
     "output_type": "stream",
     "text": [
      "                            Moreinfo  Looking For  Highlights  \\\n",
      "Position                                                        \n",
      "Project Manager                 5299         2582        3298   \n",
      "QA Engineer                     4886         2392        2577   \n",
      "Junior QA Engineer              3333         1847        2206   \n",
      "Front-end developer             3045         1602        1475   \n",
      "Manual QA Engineer              2683         1243        1349   \n",
      "UI/UX Designer                  2521         1303        1364   \n",
      "Java Developer                  2246         1257        1167   \n",
      "IT Recruiter                    1947          852         844   \n",
      "Junior Front-end Developer      1861         1116        1270   \n",
      "UX/UI Designer                  1771          967        1002   \n",
      "Front-End Developer             1744          914         891   \n",
      "Business Analyst                1710          794         947   \n",
      "Python Developer                1509          835         821   \n",
      "Product manager                 1309          678         867   \n",
      "Frontend Developer              1296          725         665   \n",
      "Senior Software Engineer        1260          719         720   \n",
      "Junior Project Manager          1203          575         746   \n",
      "Full Stack Web Developer        1177          531         528   \n",
      "Senior QA Engineer              1139          651         642   \n",
      "Software Engineer               1119          591         597   \n",
      "\n",
      "                            Primary Keyword  English Level  Experience Years  \\\n",
      "Position                                                                       \n",
      "Project Manager                        5299           5293              5299   \n",
      "QA Engineer                            4886           4878              4886   \n",
      "Junior QA Engineer                     3333           3329              3333   \n",
      "Front-end developer                    3045           3044              3045   \n",
      "Manual QA Engineer                     2683           2683              2683   \n",
      "UI/UX Designer                         2521           2521              2521   \n",
      "Java Developer                         2245           2244              2246   \n",
      "IT Recruiter                           1947           1947              1947   \n",
      "Junior Front-end Developer             1861           1861              1861   \n",
      "UX/UI Designer                         1771           1771              1771   \n",
      "Front-End Developer                    1744           1744              1744   \n",
      "Business Analyst                       1710           1707              1710   \n",
      "Python Developer                       1509           1508              1509   \n",
      "Product manager                        1309           1309              1309   \n",
      "Frontend Developer                     1296           1296              1296   \n",
      "Senior Software Engineer               1260           1260              1260   \n",
      "Junior Project Manager                 1203           1203              1203   \n",
      "Full Stack Web Developer               1177           1177              1177   \n",
      "Senior QA Engineer                     1139           1139              1139   \n",
      "Software Engineer                      1119           1118              1119   \n",
      "\n",
      "                              CV  CV_lang    id  __index_level_0__  \n",
      "Position                                                            \n",
      "Project Manager             5299     5299  5299               5299  \n",
      "QA Engineer                 4886     4886  4886               4886  \n",
      "Junior QA Engineer          3333     3333  3333               3333  \n",
      "Front-end developer         3045     3045  3045               3045  \n",
      "Manual QA Engineer          2683     2683  2683               2683  \n",
      "UI/UX Designer              2521     2521  2521               2521  \n",
      "Java Developer              2246     2246  2246               2246  \n",
      "IT Recruiter                1947     1947  1947               1947  \n",
      "Junior Front-end Developer  1861     1861  1861               1861  \n",
      "UX/UI Designer              1771     1771  1771               1771  \n",
      "Front-End Developer         1744     1744  1744               1744  \n",
      "Business Analyst            1710     1710  1710               1710  \n",
      "Python Developer            1509     1509  1509               1509  \n",
      "Product manager             1309     1309  1309               1309  \n",
      "Frontend Developer          1296     1296  1296               1296  \n",
      "Senior Software Engineer    1260     1260  1260               1260  \n",
      "Junior Project Manager      1203     1203  1203               1203  \n",
      "Full Stack Web Developer    1177     1177  1177               1177  \n",
      "Senior QA Engineer          1139     1139  1139               1139  \n",
      "Software Engineer           1119     1119  1119               1119  \n"
     ]
    }
   ],
   "source": [
    "# See the top 20 most frequent positions\n",
    "top20df = filtered_df.groupby(\"Position\").count().sort_values(\"Moreinfo\", ascending=False).head(20)\n",
    "print(top20df)"
   ]
  },
  {
   "cell_type": "markdown",
   "id": "4cc22a6f",
   "metadata": {},
   "source": [
    "### True Labels (Positive and Negative Classes)"
   ]
  },
  {
   "cell_type": "code",
   "execution_count": 22,
   "id": "0e851727",
   "metadata": {},
   "outputs": [],
   "source": [
    "# Assign each entry in the filtered dataframe a label (0 for negative, 1 for positive)\n",
    "POSITIVE_LABEL, NEGATIVE_LABEL = 1, 0\n",
    "\n",
    "'''\n",
    "Given a row of the dataframe, returns \n",
    "    1 if the entry belongs to the positive class\n",
    "    0 if the entry belongs to the negative class\n",
    "    NA if the entry is to be excluded\n",
    "Can be thought of as \"h\" (although this function does not operate on a feature vector)\n",
    "\n",
    "Currently, the positive class are entries where\n",
    "   1. The primary keyword is \"Project manager\" (case insensitive) AND  \n",
    "   2. The position contains \"Project manager\" (case insensitive),\n",
    "while the negative class are entries where\n",
    "   1. The primary keyword is \"Java Developer\" (case insensitive) AND  \n",
    "   2. The position contains \"Java Developer\" (case insensitive),\n",
    "\n",
    "Examine the effect of the second condition with\n",
    "   print(labeled_df.loc[ (labeled_df[\"True Label\"] == NEGATIVE_LABEL) & (labeled_df[\"Primary Keyword\"] == PM) ])\n",
    "'''\n",
    "import re\n",
    "def trueLabelFunction(row):\n",
    "    # print(f\"id = {row['id']}, Position = {row['Position']}, Primary Keyword = {row['Primary Keyword']}\")\n",
    "    \n",
    "    POSITIVE_POSITION = \"Project Manager\"\n",
    "    POSITIVE_KEYWORD = \"Project Manager\"\n",
    "\n",
    "    NEGATIVE_POSITION = \"QA Engineer\"   # \"Java Developer\"\n",
    "    NEGATIVE_KEYWORD = \"QA\"             # \"Java\"\n",
    "\n",
    "    # Positive match\n",
    "    positivePositionRegex = re.compile(f'.*{POSITIVE_POSITION}.*', re.IGNORECASE)\n",
    "    isPositivePositionMatch: bool = isinstance(row[\"Position\"], str) and bool(positivePositionRegex.match(row[\"Position\"]))\n",
    "    positivePrimaryKeywordRegex = re.compile(f'{POSITIVE_KEYWORD}', re.IGNORECASE)\n",
    "    isPositivePrimaryKeywordMatch: bool = isinstance(row[\"Primary Keyword\"], str) and bool(positivePrimaryKeywordRegex.match(row[\"Position\"]))\n",
    "\n",
    "    isPositiveMatch: bool = isPositivePositionMatch and isPositivePrimaryKeywordMatch\n",
    "\n",
    "    # Negative match\n",
    "    negativePositionRegex = re.compile(f'.*{NEGATIVE_POSITION}.*', re.IGNORECASE)\n",
    "    isNegativePositionMatch: bool = isinstance(row[\"Position\"], str) and bool(negativePositionRegex.match(row[\"Position\"]))\n",
    "    negativePrimaryKeywordRegex = re.compile(f'{NEGATIVE_KEYWORD}', re.IGNORECASE)\n",
    "    isNegativePrimaryKeywordMatch: bool = isinstance(row[\"Primary Keyword\"], str) and bool(negativePrimaryKeywordRegex.match(row[\"Position\"]))\n",
    "\n",
    "    isNegativeMatch: bool = isNegativePositionMatch and isNegativePrimaryKeywordMatch\n",
    "\n",
    "    if isPositiveMatch:\n",
    "        return POSITIVE_LABEL\n",
    "    elif isNegativeMatch:\n",
    "        return NEGATIVE_LABEL\n",
    "    else:\n",
    "        return pd.NA\n",
    "\n",
    "# Creates a true label column\n",
    "labeled_df = filtered_df.copy()\n",
    "labeled_df[\"True Label\"] = labeled_df.apply(trueLabelFunction, axis=1)\n",
    "labeled_df = labeled_df[labeled_df[\"True Label\"].notna()]       # Filter out rows whose label value is NA"
   ]
  },
  {
   "cell_type": "code",
   "execution_count": 24,
   "id": "548b81c2",
   "metadata": {},
   "outputs": [
    {
     "name": "stdout",
     "output_type": "stream",
     "text": [
      "True Label\n",
      "1    6753\n",
      "0    6379\n",
      "Name: count, dtype: int64\n",
      "proportion of positives = 0.5142400243679561\n"
     ]
    }
   ],
   "source": [
    "# Prints the sizes of the positive and negative class\n",
    "value_counts = labeled_df[\"True Label\"].value_counts()\n",
    "print(value_counts)\n",
    "\n",
    "positiveClassSize = value_counts.get(POSITIVE_LABEL, default=0)\n",
    "negativeClassSize = value_counts.get(NEGATIVE_LABEL, default=0)\n",
    "# print(f\"positiveClassSize = {positiveClassSize}\")\n",
    "# print(f\"negativeClassSize = {negativeClassSize}\")\n",
    "print(f\"proportion of positives = {positiveClassSize / (positiveClassSize + negativeClassSize)}\")"
   ]
  },
  {
   "cell_type": "code",
   "execution_count": 29,
   "id": "aa9edf23",
   "metadata": {
    "scrolled": true
   },
   "outputs": [
    {
     "name": "stdout",
     "output_type": "stream",
     "text": [
      "High levels of self-organization, structure, and attention to detail have helped build a successful career in advertising, as evidenced by hundreds of successfully completed projects, and train dozens of specialists. Previous experience is similar to project management methodologies used in the IT industry, including budgeting, planning, stakeholder management, risk mitigation, and effective communication. Creating new products inspires and motivates further development.\n",
      "Account director\n",
      "2018 - 2021\n",
      "Management and development of client portfolio. \n",
      "Control over project development and progress. \n",
      "Planning and budgeting based on client portfolio. \n",
      "Analysis of project effectiveness and profitability. \n",
      "Operational management: organizing, coordinating, and controlling the work of the account team (planning and task allocation). \n",
      "Ensuring effective interaction of the account managers team between agency departments.\n",
      "\n",
      "Senior account manager \n",
      "2017 - 2018\n",
      "Communication with clients. \n",
      "Budgeting. \n",
      "Task allocation, organizing, and managing team work. \n",
      "Planning. \n",
      "Interaction and control over subcontractors' work. \n",
      "Contract management, reporting preparation.\n",
      "\n"
     ]
    }
   ],
   "source": [
    "# Example positive entry \n",
    "examplePositiveEntry = labeled_df.loc[labeled_df[\"True Label\"] == POSITIVE_LABEL].iloc[0]\n",
    "print(examplePositiveEntry.to_dict()[\"CV\"])\n",
    "# print(\"\".join(examplePositiveEntry.to_dict()['CV'].split('\\r\\n')).split('\\n'))"
   ]
  },
  {
   "cell_type": "code",
   "execution_count": 32,
   "id": "b4de7270",
   "metadata": {},
   "outputs": [
    {
     "name": "stdout",
     "output_type": "stream",
     "text": [
      "\n",
      "June/2022 - Present\n",
      "- Experience with QA/Web tools (bug-reports, check-lists, documentation writing, writing/ updating test cases, testing with a database(postgresql), testing API requests, GitHub, TeamCity);\n",
      "- Experience with a Regression tests, Integration, Functional tests, End-to-end, Acceptance, Smoke, Stress;\n",
      "- Experience with Automation tools (JS/ Playwright, test coverage (UI, API, Database));\n",
      "- Experience and understanding of Agile Development methodologies especially Scrum.\n",
      "\n",
      "December/2021 - June/2022\n",
      "- Experience with QA/Web tools (bug-reports, check-lists, writing/updating test cases, testing API requests, GitHub);\n",
      "μ Experience with Automation tools (JS/Cypress, test coverage (UI, API));\n",
      "- Experience with a Regression tests, Integration, Functional tests, End-to-end, Acceptance, Smoke;\n",
      "- Experience and understanding of Agile Development methodologies especially Kanban.\n",
      "\n",
      "November/2021 - December/2021\n",
      "- Experience with QA/mobile tools(bug-reports, check-lists);\n",
      "- Experience with a Regression tests, Integration, Functional tests, Smoke.\n",
      "\n"
     ]
    }
   ],
   "source": [
    "# Example negative entry \n",
    "exampleNegativeEntry = labeled_df.loc[labeled_df[\"True Label\"] == NEGATIVE_LABEL].iloc[10]\n",
    "print(exampleNegativeEntry.to_dict()[\"CV\"])\n",
    "# print(\"\".join(exampleNegativeEntry.to_dict()['CV'].split('\\r\\n')).split('\\n'))"
   ]
  },
  {
   "cell_type": "code",
   "execution_count": 7,
   "id": "c55ad5eb",
   "metadata": {},
   "outputs": [
    {
     "data": {
      "text/plain": [
       "'for i in range(0, len(top_twenty_jobs)):\\n    print(top_twenty_jobs[i])\\n    plot_position_y = i % 4\\n    plot_position_x = i%5\\n    print(plot_position_y, plot_position_x)\\n    axs[plot_position_y, plot_position_x].set_title(\\'Frequency of Words in \\' + top_twenty_jobs[i] + \" CVs\",loc =\\'left\\', )\\n    axs[plot_position_y, plot_position_x].invert_yaxis()\\n    axs[plot_position_y, plot_position_x].barh(plot_position_words(top_twenty_jobs[i])[0], plot_position_words(top_twenty_jobs[i])[1])\\nfig.savefig(\"word-frequncies.png\")'"
      ]
     },
     "execution_count": 7,
     "metadata": {},
     "output_type": "execute_result"
    }
   ],
   "source": [
    "## TODO: further explorations of CV data, bring 2-3 insights about the CV itself and Insights and highlights\n",
    "\n",
    "#First: What words are used more? Collaboration base Terms or Technical terms?\n",
    "\n",
    "def plot_position_words(position):\n",
    "    pm_occupation_df = df[df[\"Position\"]==position]\n",
    "    all_cvs = \"\\n\".join(list(pm_occupation_df['CV']))\n",
    "    all_words = all_cvs.split(\" \")\n",
    "    all_long_words = [word for word in all_words if len(word) > 10]\n",
    "    word_counts = Counter(all_long_words)\n",
    "    top_ten = word_counts.most_common(20)\n",
    "    words =  [item[0] for item in top_ten]\n",
    "    counts = [item[1]/len(pm_occupation_df) for item in top_ten]\n",
    "    #fig, ax = plt.subplots(figsize =(10, 6))\n",
    "    return [words, counts]\n",
    "    # Horizontal Bar Plot\n",
    "    #ax.barh(words, counts)\n",
    "    #ax.set_title('Frequency of Words in ' + position + \" CVs\",loc ='left', )\n",
    "    #ax.invert_yaxis()\n",
    " \n",
    "#plot_position_words(\"Java Developer\")\n",
    "\n",
    "#fig, axs = plt.subplots(4, 5, figsize=(100, 100))\n",
    "#fig.suptitle('Word Frequencies')\n",
    "\n",
    "'''\n",
    "for i in range(0, len(top_twenty_jobs)):\n",
    "    print(top_twenty_jobs[i])\n",
    "    plot_position_y = i % 4\n",
    "    plot_position_x = i%5\n",
    "    print(plot_position_y, plot_position_x)\n",
    "    axs[plot_position_y, plot_position_x].set_title('Frequency of Words in ' + top_twenty_jobs[i] + \" CVs\",loc ='left', )\n",
    "    axs[plot_position_y, plot_position_x].invert_yaxis()\n",
    "    axs[plot_position_y, plot_position_x].barh(plot_position_words(top_twenty_jobs[i])[0], plot_position_words(top_twenty_jobs[i])[1])\n",
    "fig.savefig(\"word-frequncies.png\")\n",
    "'''\n"
   ]
  },
  {
   "cell_type": "markdown",
   "id": "08830b8e",
   "metadata": {},
   "source": [
    "## Section 2: Prompting LLMs for generating cover letters \n",
    "\n",
    "Now we will use a generic prompt to generate a cover letters for each resume using API calls"
   ]
  },
  {
   "cell_type": "code",
   "execution_count": 8,
   "id": "9968e6b4",
   "metadata": {},
   "outputs": [],
   "source": [
    "# Load the YAML file\n",
    "with open('llm_api_keys.yaml', 'r') as file:\n",
    "    config = yaml.safe_load(file)\n",
    "\n",
    "together_api_key = config['services']['together']['api_key'] # replace with openai or anthropic also in yaml file"
   ]
  },
  {
   "cell_type": "code",
   "execution_count": 12,
   "id": "9f48e3c4-fb69-4314-9ab4-d3e0b68a4eee",
   "metadata": {},
   "outputs": [],
   "source": [
    "# # example usage of Together AI \n",
    "# client = Together(api_key=together_api_key) \n",
    "# position = \"Project Manager\"\n",
    "\n",
    "\n",
    "# response = client.chat.completions.create(\n",
    "#     model=\"mistralai/Mixtral-8x7B-Instruct-v0.1\",\n",
    "#     messages=[{\"role\": \"user\", \"content\": \"Modify this resume to help me get a \"+ position+\" Job:\" + \"\".join(\"\".join(java_dev_occupation_df.iloc[0].to_dict()['CV'].split('\\r\\n')).split('\\n'))}],\n",
    "# )\n",
    "coverletter = response.choices[0].message.content"
   ]
  },
  {
   "cell_type": "code",
   "execution_count": 13,
   "id": "b9e40e28-5177-4645-9ccc-a0bab721bbf3",
   "metadata": {},
   "outputs": [
    {
     "name": "stdout",
     "output_type": "stream",
     "text": [
      " [Your Name]\n",
      "[Address]\n",
      "[City, State ZIP]\n",
      "[Phone Number]\n",
      "[Email Address]\n",
      "\n",
      "PROFESSIONAL EXPERIENCE\n",
      "\n",
      "Project Manager, LLC \"ЕКО\" (supermarkets ЕКО), [City, State]\n",
      "September 2017 - Present\n",
      "\n",
      "* Oversee project management of modernization, automation, reconstruction, and construction of trade objects, ensuring timely delivery and adherence to consolidated budgets.\n",
      "* Collaborate with project members, contractors, and suppliers, fostering strong relationships and effective communication.\n",
      "* Organize meetings and present projects, utilizing technology, visualization, and business plans to effectively convey project details and objectives.\n",
      "* Develop architectural drawings and technical specifications for supermarkets and shopping centers using AutoCAD.\n",
      "\n",
      "IT Support Specialist, PE \"SoloService\", [City, State]\n",
      "May 2018 - October 2018\n",
      "\n",
      "* Provided user support for computer systems and user applications, including website, mobile app, intranet, Outlook, Skype, operating systems (Windows and Linux).\n",
      "* Installed and configured computer hardware, software, mobile devices, video projection systems, and audio systems.\n",
      "\n",
      "Java Developer, PE \"SoloService\", [City, State]\n",
      "November 2018 - Present\n",
      "\n",
      "* Designed software, investigated technical solutions, and reviewed project documentation and analyzed requirements.\n",
      "* Troubleshot and analyzed problems identified in the system software.\n",
      "\n",
      "Chief Design Engineer, Project Department, LLC \"ЕКО\" (supermarkets ЕКО), [City, State]\n",
      "September 2017 - May 2018\n",
      "\n",
      "* Developed architectural drawings and technical specifications for supermarkets and shopping centers using AutoCAD.\n",
      "\n",
      "Chief Design Engineer, Project Department, LLC \"Pharmastor\" (Pharmacy of the Good Day), [City, State]\n",
      "April 2012 - September 2017\n",
      "\n",
      "* Developed architectural drawings, projects, passports, and design of pharmacies using AutoCAD.\n",
      "\n",
      "Sales Manager, PE \"Evrotex\", [City, State]\n",
      "November 2006 - April 2012\n",
      "\n",
      "* Managed international trade of automation equipment from Austria, Germany, Czech Republic, and Italy.\n",
      "* Developed technical solutions according to customer requirements.\n",
      "* Organized and participated in exhibitions.\n",
      "\n",
      "Sales Manager, PE \"Kiev-SM\", [City, State]\n",
      "July 2003 - September 2006\n",
      "\n",
      "* Managed order of goods, payment control, and delivery organization.\n"
     ]
    }
   ],
   "source": [
    "print(coverletter)"
   ]
  },
  {
   "cell_type": "code",
   "execution_count": 19,
   "id": "f8aa7011",
   "metadata": {},
   "outputs": [],
   "source": [
    "# Script to generate resumes\n",
    "\n",
    "df = pd.read_parquet('data/resumes.parquet', engine='pyarrow')\n",
    "\n",
    "java_dev_occupation_df = df[df[\"Position\"]==\"Java Developer\"]\n",
    "\n",
    "\n",
    "with open('llm_api_keys.yaml', 'r') as file:\n",
    "    config = yaml.safe_load(file)\n",
    "\n",
    "together_api_key = config['services']['together']['api_key'] # replace with openai or anthropic also in yaml file\n",
    "\n",
    "df = pd.read_parquet('data/resumes.parquet', engine='pyarrow')\n",
    "\n",
    "java_dev_occupation_df = df[df[\"Position\"]==\"Java Developer\"]\n",
    "\n",
    "def create_modified_resumes(unmodifiedresumes, num_of_resumes, originalposition):\n",
    "    # example usage of Together AI \n",
    "    modifiedresumes = []\n",
    "    for resume in unmodifiedresumes[0:num_of_resumes]:\n",
    "        client = Together(api_key=together_api_key) \n",
    "        position = \"Project Manager\"\n",
    "        response = client.chat.completions.create(\n",
    "            model=\"mistralai/Mixtral-8x7B-Instruct-v0.1\",\n",
    "            messages=[{\"role\": \"user\", \"content\": \"Modify the following resume to help me get a \"+ position+\" Job:\" + resume}],\n",
    "        )\n",
    "\n",
    "        #Trim out the AI conversation (I hope this faldskraewr! stuff).\n",
    "        output = response.choices[0].message.content\n",
    "        output = output[output.find(\"\\n\"):output.rfind('\\n')]\n",
    "        output = \"\".join(\"\".join(output.split('\\r\\n')).split('\\n'))\n",
    "        modifiedresumes.append(output)\n",
    "\n",
    "    with open(originalposition+'to'+position+'.txt', 'w') as f:\n",
    "        for resume in modifiedresumes:\n",
    "            f.write(f\"{resume}\\n\")\n",
    "    return modifiedresumes\n",
    "\n",
    "java_to_pm_mod_resume = create_modified_resumes(list(java_dev_occupation_df['CV']), 2, \"java\")"
   ]
  },
  {
   "cell_type": "markdown",
   "id": "f7eb97ee",
   "metadata": {},
   "source": [
    "## Section 3: Training a simple hiring model \n",
    "\n",
    "We will now use fast text to create a hiring model which will make a binary decision of whether we should hire a candidate or not based on years of experience as the ground truth. Fasttext (https://fasttext.cc/) is an easy to use library you can run on your local computer to build text classification models or get embedding representations for different inputs. Here we will use Fast text to generate embeddings and then use a logistic classifier on top of it. "
   ]
  },
  {
   "cell_type": "markdown",
   "id": "051b060e-4529-498f-97ee-b4a3016d65e0",
   "metadata": {},
   "source": [
    "### Step 1: Generate embeddings from cover letters "
   ]
  },
  {
   "cell_type": "code",
   "execution_count": 1,
   "id": "1b689cc6",
   "metadata": {},
   "outputs": [],
   "source": [
    "# Load fast text vectors\n",
    "import fasttext\n",
    "FASTTEXT_MODEL_FILEPATH = \"./cc.en.300.bin\"      # '../../../Downloads/cc.en.300.bin'\n",
    "ft = fasttext.load_model(FASTTEXT_MODEL_FILEPATH) # replace with your own path to the vector binary"
   ]
  },
  {
   "cell_type": "code",
   "execution_count": 5,
   "id": "89517210-8189-4e61-9af8-643ac321be2b",
   "metadata": {},
   "outputs": [],
   "source": [
    "# Get the vector representation of a multiword string using fasttex embeddings\n",
    "def get_vector_rep(text: str): \n",
    "    tokens = text.lower().split() # feel free to use other tokenizations if you want\n",
    "    \n",
    "    if len(tokens) == 0:\n",
    "        print(tokens)\n",
    "        print(text)\n",
    "        print(len(text))\n",
    "    \n",
    "    for (i, t) in enumerate(tokens):\n",
    "        if i == 0:\n",
    "            vec = ft.get_word_vector(t)\n",
    "        else:\n",
    "            vec += ft.get_word_vector(t)\n",
    "    \n",
    "    return vec"
   ]
  },
  {
   "cell_type": "code",
   "execution_count": 8,
   "id": "eb32f32e",
   "metadata": {},
   "outputs": [
    {
     "ename": "ValueError",
     "evalue": "Expected 2D array, got 1D array instead:\narray=[ 6.65096343e-01  2.97521979e-01 -1.56501085e-01 -3.20311114e-02\n  1.02320775e-01  9.82945263e-02 -1.37315482e-01  7.56987184e-02\n -2.90368497e-02  9.50071067e-02 -4.98840585e-02 -1.11668162e-01\n -1.45613089e-01  2.01136600e-02  6.15814805e-01  5.79249561e-02\n  1.76063217e-02 -1.67158395e-01 -5.03732681e-01  1.06411785e-01\n -1.04566783e-01  5.29098287e-02 -3.93239483e-02 -1.60272151e-01\n  3.13361228e-01 -5.90669066e-02 -8.40449855e-02 -6.16185479e-02\n -3.13426226e-01  8.82991493e-01 -5.59248984e-01 -1.32487148e-01\n  5.52973859e-02 -4.45944294e-02 -1.54496863e-01 -3.30258645e-02\n  2.32216537e-01  1.09668106e-01 -3.99696678e-01  5.08982129e-02\n  1.08615179e-02 -3.04671228e-01 -3.24401230e-01  3.93968999e-01\n  2.72737861e-01  3.14308465e-01 -7.37862885e-02  3.35593700e-01\n -1.78678021e-01  2.69883037e-01  1.88951626e-01 -3.99603724e-01\n  5.27728796e-01  4.39980358e-01 -1.22266650e-01 -2.51271069e-01\n -2.09920913e-01  3.26351553e-01  9.30646658e-02  3.53962108e-02\n -9.54053849e-02  2.85367578e-01 -2.04983190e-01  6.08390756e-02\n  5.20449579e-01  3.66918266e-01 -3.62423897e-01  4.33130115e-02\n  3.42745066e-01 -2.35036984e-01  2.50606626e-01 -2.60355145e-01\n -1.58054799e-01 -2.57280767e-01 -2.09777623e-01  1.26717150e-01\n -3.28733534e-01  2.54562404e-02  4.22961235e-01  5.47181219e-02\n -1.57864198e-01  6.57370612e-02  1.09109730e-01  4.31963056e-01\n  2.95211207e-02 -2.08288282e-01  1.31193012e-01  1.30579308e-01\n -4.53440487e-01 -6.28382206e-01 -4.68102366e-01 -8.74839425e-02\n  6.38182104e-01 -8.99044350e-02  1.77155405e-01 -1.99858561e-01\n  2.25623056e-01  1.54751241e-01 -6.54192045e-02  1.30125612e-01\n -3.07556480e-01 -4.21925262e-02  4.85155910e-01 -1.93830416e-01\n  3.85669433e-02 -2.06941068e-01 -1.59926519e-01  1.35670267e-02\n  1.27840899e-02 -5.76183908e-02  3.56957138e-01 -1.80732578e-01\n -3.14748049e-01  3.71541619e-01  8.67034495e-02 -3.94166350e-01\n  1.52965546e-01  3.20536941e-01 -8.33948255e-01  1.73846215e-01\n -3.15447785e-02  2.53877521e-01 -7.76640177e-02  7.13011324e-02\n  5.62251210e-02 -1.71179354e-01  3.18755120e-01 -1.34080946e-01\n -1.62658244e-02 -1.29518658e-01  1.96555704e-01 -2.27488533e-01\n -8.06676820e-02 -1.48555875e-01 -3.06881554e-02 -3.15281272e-01\n -1.91197723e-01  4.53890830e-01 -2.91798472e-01 -3.97584140e-02\n -1.27895981e-01  4.16696131e-01  1.35093089e-03  2.49832906e-02\n  4.68103513e-02  6.23395145e-02 -9.63391066e-01  2.14227095e-01\n  2.44988844e-01  3.83288443e-01 -3.18860114e-01 -5.87553978e-01\n -3.44077647e-01 -1.41598731e-01 -5.49800061e-02 -1.40233159e-01\n  1.34856015e-01 -3.66223603e-02  3.39073204e-02 -1.41930073e-01\n -3.28329921e-01  2.59207524e-02 -3.09753194e-02 -4.91268933e-01\n  5.77615201e-01 -3.23589504e-01  6.43398017e-02 -1.23584069e-01\n -1.67372197e-01 -2.64397353e-01  2.82805767e-02 -1.39255390e-01\n -1.52861282e-01  5.62726706e-02 -7.08682835e-02 -1.32154375e-01\n  5.08894883e-02  2.39494979e-01  1.69523224e-01 -2.04753891e-01\n  5.53456306e-01  3.56753081e-01 -2.29304790e-01  3.85362625e-01\n  3.24098945e-01  1.52554899e-01  3.60159427e-01  1.43698454e-01\n  2.73998082e-02 -1.34890378e-01 -1.35501683e-01 -4.23135757e-01\n  1.77232280e-01 -4.04924631e-01 -8.47555771e-02  1.08880371e-01\n -1.51582077e-01  3.03629339e-01  1.97714463e-01  2.41824493e-01\n -1.73799902e-01  4.17532504e-01  4.43565659e-03 -1.57998037e-02\n -3.31009105e-02 -5.69732934e-02 -2.60301493e-02  1.34424180e-01\n -2.07603276e-01  1.14401311e-01  1.84303179e-01  8.27037394e-02\n -3.64330649e-01  8.65249336e-03  1.77843451e-01 -7.37874955e-02\n  2.45228440e-01 -1.50729552e-01 -1.17254891e-01  5.05934954e-02\n -5.42139888e-01  4.55219060e-01 -1.39448896e-01 -7.24543035e-02\n -1.67072892e-01 -2.39521876e-01 -2.72780597e-01 -3.80059451e-01\n -3.38007689e-01  2.93894887e-01 -8.78773630e-04  2.98647553e-01\n  2.49857008e-01 -3.90624166e-01  9.96749640e-01  1.35030478e-01\n  1.03109673e-01  6.35792911e-01 -4.66597080e-01 -2.26724744e-02\n -3.09081562e-02 -1.46316081e-01  7.67740428e-01  9.20861959e-03\n  1.01717699e+00 -2.17770338e-02 -1.26157120e-01  3.25635910e-01\n -3.28922719e-01  1.20332703e-01  5.92517436e-01 -4.90000136e-02\n  2.43612275e-01  7.62217678e-04 -1.72965005e-02  2.92371541e-01\n  3.78475308e-01  2.44698972e-02  8.46535563e-02  1.07676849e-01\n  3.68385911e-01  7.09267855e-02 -6.18020594e-01 -1.39917836e-01\n  1.87790096e-01  7.54140988e-02 -3.65676552e-01  1.83863252e-01\n -5.99421918e-01 -4.26096290e-01  3.41905475e-01 -3.92842442e-01\n  7.09362179e-02  1.56611979e-01  1.57824591e-01 -6.38018698e-02\n  1.24118902e-01 -1.49945244e-02  3.73256579e-02 -2.93892138e-02\n -7.14433074e-01  8.84225406e-03 -6.04949594e-01 -1.19037233e-01\n  6.10650666e-02  1.79518819e-01  3.17005783e-01 -5.87109387e-01\n -9.80643779e-02  9.94379371e-02  3.93209517e-01  3.37677300e-01\n -1.11472428e+00  2.49414206e-01  4.23687398e-01 -1.14322700e-01\n  3.50465834e-01  6.59767687e-01 -2.50891894e-01  1.77685134e-02].\nReshape your data either using array.reshape(-1, 1) if your data has a single feature or array.reshape(1, -1) if it contains a single sample.",
     "output_type": "error",
     "traceback": [
      "\u001b[0;31m---------------------------------------------------------------------------\u001b[0m",
      "\u001b[0;31mValueError\u001b[0m                                Traceback (most recent call last)",
      "Cell \u001b[0;32mIn[8], line 1\u001b[0m\n\u001b[0;32m----> 1\u001b[0m \u001b[43mmetrics\u001b[49m\u001b[38;5;241;43m.\u001b[39;49m\u001b[43mpairwise\u001b[49m\u001b[38;5;241;43m.\u001b[39;49m\u001b[43mcosine_similarity\u001b[49m\u001b[43m(\u001b[49m\u001b[43mget_vector_rep\u001b[49m\u001b[43m(\u001b[49m\u001b[38;5;124;43m\"\u001b[39;49m\u001b[38;5;124;43mhi there\u001b[39;49m\u001b[38;5;124;43m\"\u001b[39;49m\u001b[43m)\u001b[49m\u001b[43m,\u001b[49m\u001b[43m \u001b[49m\u001b[43mget_vector_rep\u001b[49m\u001b[43m(\u001b[49m\u001b[38;5;124;43m\"\u001b[39;49m\u001b[38;5;124;43mhi there\u001b[39;49m\u001b[38;5;124;43m\"\u001b[39;49m\u001b[43m)\u001b[49m\u001b[43m)\u001b[49m\n",
      "File \u001b[0;32m~/miniforge3/envs/hiring-test/lib/python3.10/site-packages/sklearn/utils/_param_validation.py:213\u001b[0m, in \u001b[0;36mvalidate_params.<locals>.decorator.<locals>.wrapper\u001b[0;34m(*args, **kwargs)\u001b[0m\n\u001b[1;32m    207\u001b[0m \u001b[39mtry\u001b[39;00m:\n\u001b[1;32m    208\u001b[0m     \u001b[39mwith\u001b[39;00m config_context(\n\u001b[1;32m    209\u001b[0m         skip_parameter_validation\u001b[39m=\u001b[39m(\n\u001b[1;32m    210\u001b[0m             prefer_skip_nested_validation \u001b[39mor\u001b[39;00m global_skip_validation\n\u001b[1;32m    211\u001b[0m         )\n\u001b[1;32m    212\u001b[0m     ):\n\u001b[0;32m--> 213\u001b[0m         \u001b[39mreturn\u001b[39;00m func(\u001b[39m*\u001b[39;49margs, \u001b[39m*\u001b[39;49m\u001b[39m*\u001b[39;49mkwargs)\n\u001b[1;32m    214\u001b[0m \u001b[39mexcept\u001b[39;00m InvalidParameterError \u001b[39mas\u001b[39;00m e:\n\u001b[1;32m    215\u001b[0m     \u001b[39m# When the function is just a wrapper around an estimator, we allow\u001b[39;00m\n\u001b[1;32m    216\u001b[0m     \u001b[39m# the function to delegate validation to the estimator, but we replace\u001b[39;00m\n\u001b[1;32m    217\u001b[0m     \u001b[39m# the name of the estimator by the name of the function in the error\u001b[39;00m\n\u001b[1;32m    218\u001b[0m     \u001b[39m# message to avoid confusion.\u001b[39;00m\n\u001b[1;32m    219\u001b[0m     msg \u001b[39m=\u001b[39m re\u001b[39m.\u001b[39msub(\n\u001b[1;32m    220\u001b[0m         \u001b[39mr\u001b[39m\u001b[39m\"\u001b[39m\u001b[39mparameter of \u001b[39m\u001b[39m\\\u001b[39m\u001b[39mw+ must be\u001b[39m\u001b[39m\"\u001b[39m,\n\u001b[1;32m    221\u001b[0m         \u001b[39mf\u001b[39m\u001b[39m\"\u001b[39m\u001b[39mparameter of \u001b[39m\u001b[39m{\u001b[39;00mfunc\u001b[39m.\u001b[39m\u001b[39m__qualname__\u001b[39m\u001b[39m}\u001b[39;00m\u001b[39m must be\u001b[39m\u001b[39m\"\u001b[39m,\n\u001b[1;32m    222\u001b[0m         \u001b[39mstr\u001b[39m(e),\n\u001b[1;32m    223\u001b[0m     )\n",
      "File \u001b[0;32m~/miniforge3/envs/hiring-test/lib/python3.10/site-packages/sklearn/metrics/pairwise.py:1657\u001b[0m, in \u001b[0;36mcosine_similarity\u001b[0;34m(X, Y, dense_output)\u001b[0m\n\u001b[1;32m   1613\u001b[0m \u001b[39m\u001b[39m\u001b[39m\"\"\"Compute cosine similarity between samples in X and Y.\u001b[39;00m\n\u001b[1;32m   1614\u001b[0m \n\u001b[1;32m   1615\u001b[0m \u001b[39mCosine similarity, or the cosine kernel, computes similarity as the\u001b[39;00m\n\u001b[0;32m   (...)\u001b[0m\n\u001b[1;32m   1653\u001b[0m \u001b[39m       [0.57..., 0.81...]])\u001b[39;00m\n\u001b[1;32m   1654\u001b[0m \u001b[39m\"\"\"\u001b[39;00m\n\u001b[1;32m   1655\u001b[0m \u001b[39m# to avoid recursive import\u001b[39;00m\n\u001b[0;32m-> 1657\u001b[0m X, Y \u001b[39m=\u001b[39m check_pairwise_arrays(X, Y)\n\u001b[1;32m   1659\u001b[0m X_normalized \u001b[39m=\u001b[39m normalize(X, copy\u001b[39m=\u001b[39m\u001b[39mTrue\u001b[39;00m)\n\u001b[1;32m   1660\u001b[0m \u001b[39mif\u001b[39;00m X \u001b[39mis\u001b[39;00m Y:\n",
      "File \u001b[0;32m~/miniforge3/envs/hiring-test/lib/python3.10/site-packages/sklearn/metrics/pairwise.py:164\u001b[0m, in \u001b[0;36mcheck_pairwise_arrays\u001b[0;34m(X, Y, precomputed, dtype, accept_sparse, force_all_finite, copy)\u001b[0m\n\u001b[1;32m    155\u001b[0m     X \u001b[39m=\u001b[39m Y \u001b[39m=\u001b[39m check_array(\n\u001b[1;32m    156\u001b[0m         X,\n\u001b[1;32m    157\u001b[0m         accept_sparse\u001b[39m=\u001b[39maccept_sparse,\n\u001b[0;32m   (...)\u001b[0m\n\u001b[1;32m    161\u001b[0m         estimator\u001b[39m=\u001b[39mestimator,\n\u001b[1;32m    162\u001b[0m     )\n\u001b[1;32m    163\u001b[0m \u001b[39melse\u001b[39;00m:\n\u001b[0;32m--> 164\u001b[0m     X \u001b[39m=\u001b[39m check_array(\n\u001b[1;32m    165\u001b[0m         X,\n\u001b[1;32m    166\u001b[0m         accept_sparse\u001b[39m=\u001b[39;49maccept_sparse,\n\u001b[1;32m    167\u001b[0m         dtype\u001b[39m=\u001b[39;49mdtype,\n\u001b[1;32m    168\u001b[0m         copy\u001b[39m=\u001b[39;49mcopy,\n\u001b[1;32m    169\u001b[0m         force_all_finite\u001b[39m=\u001b[39;49mforce_all_finite,\n\u001b[1;32m    170\u001b[0m         estimator\u001b[39m=\u001b[39;49mestimator,\n\u001b[1;32m    171\u001b[0m     )\n\u001b[1;32m    172\u001b[0m     Y \u001b[39m=\u001b[39m check_array(\n\u001b[1;32m    173\u001b[0m         Y,\n\u001b[1;32m    174\u001b[0m         accept_sparse\u001b[39m=\u001b[39maccept_sparse,\n\u001b[0;32m   (...)\u001b[0m\n\u001b[1;32m    178\u001b[0m         estimator\u001b[39m=\u001b[39mestimator,\n\u001b[1;32m    179\u001b[0m     )\n\u001b[1;32m    181\u001b[0m \u001b[39mif\u001b[39;00m precomputed:\n",
      "File \u001b[0;32m~/miniforge3/envs/hiring-test/lib/python3.10/site-packages/sklearn/utils/validation.py:1035\u001b[0m, in \u001b[0;36mcheck_array\u001b[0;34m(array, accept_sparse, accept_large_sparse, dtype, order, copy, force_all_finite, ensure_2d, allow_nd, ensure_min_samples, ensure_min_features, estimator, input_name)\u001b[0m\n\u001b[1;32m   1028\u001b[0m         \u001b[39melse\u001b[39;00m:\n\u001b[1;32m   1029\u001b[0m             msg \u001b[39m=\u001b[39m (\n\u001b[1;32m   1030\u001b[0m                 \u001b[39mf\u001b[39m\u001b[39m\"\u001b[39m\u001b[39mExpected 2D array, got 1D array instead:\u001b[39m\u001b[39m\\n\u001b[39;00m\u001b[39marray=\u001b[39m\u001b[39m{\u001b[39;00marray\u001b[39m}\u001b[39;00m\u001b[39m.\u001b[39m\u001b[39m\\n\u001b[39;00m\u001b[39m\"\u001b[39m\n\u001b[1;32m   1031\u001b[0m                 \u001b[39m\"\u001b[39m\u001b[39mReshape your data either using array.reshape(-1, 1) if \u001b[39m\u001b[39m\"\u001b[39m\n\u001b[1;32m   1032\u001b[0m                 \u001b[39m\"\u001b[39m\u001b[39myour data has a single feature or array.reshape(1, -1) \u001b[39m\u001b[39m\"\u001b[39m\n\u001b[1;32m   1033\u001b[0m                 \u001b[39m\"\u001b[39m\u001b[39mif it contains a single sample.\u001b[39m\u001b[39m\"\u001b[39m\n\u001b[1;32m   1034\u001b[0m             )\n\u001b[0;32m-> 1035\u001b[0m         \u001b[39mraise\u001b[39;00m \u001b[39mValueError\u001b[39;00m(msg)\n\u001b[1;32m   1037\u001b[0m \u001b[39mif\u001b[39;00m dtype_numeric \u001b[39mand\u001b[39;00m \u001b[39mhasattr\u001b[39m(array\u001b[39m.\u001b[39mdtype, \u001b[39m\"\u001b[39m\u001b[39mkind\u001b[39m\u001b[39m\"\u001b[39m) \u001b[39mand\u001b[39;00m array\u001b[39m.\u001b[39mdtype\u001b[39m.\u001b[39mkind \u001b[39min\u001b[39;00m \u001b[39m\"\u001b[39m\u001b[39mUSV\u001b[39m\u001b[39m\"\u001b[39m:\n\u001b[1;32m   1038\u001b[0m     \u001b[39mraise\u001b[39;00m \u001b[39mValueError\u001b[39;00m(\n\u001b[1;32m   1039\u001b[0m         \u001b[39m\"\u001b[39m\u001b[39mdtype=\u001b[39m\u001b[39m'\u001b[39m\u001b[39mnumeric\u001b[39m\u001b[39m'\u001b[39m\u001b[39m is not compatible with arrays of bytes/strings.\u001b[39m\u001b[39m\"\u001b[39m\n\u001b[1;32m   1040\u001b[0m         \u001b[39m\"\u001b[39m\u001b[39mConvert your data to numeric values explicitly instead.\u001b[39m\u001b[39m\"\u001b[39m\n\u001b[1;32m   1041\u001b[0m     )\n",
      "\u001b[0;31mValueError\u001b[0m: Expected 2D array, got 1D array instead:\narray=[ 6.65096343e-01  2.97521979e-01 -1.56501085e-01 -3.20311114e-02\n  1.02320775e-01  9.82945263e-02 -1.37315482e-01  7.56987184e-02\n -2.90368497e-02  9.50071067e-02 -4.98840585e-02 -1.11668162e-01\n -1.45613089e-01  2.01136600e-02  6.15814805e-01  5.79249561e-02\n  1.76063217e-02 -1.67158395e-01 -5.03732681e-01  1.06411785e-01\n -1.04566783e-01  5.29098287e-02 -3.93239483e-02 -1.60272151e-01\n  3.13361228e-01 -5.90669066e-02 -8.40449855e-02 -6.16185479e-02\n -3.13426226e-01  8.82991493e-01 -5.59248984e-01 -1.32487148e-01\n  5.52973859e-02 -4.45944294e-02 -1.54496863e-01 -3.30258645e-02\n  2.32216537e-01  1.09668106e-01 -3.99696678e-01  5.08982129e-02\n  1.08615179e-02 -3.04671228e-01 -3.24401230e-01  3.93968999e-01\n  2.72737861e-01  3.14308465e-01 -7.37862885e-02  3.35593700e-01\n -1.78678021e-01  2.69883037e-01  1.88951626e-01 -3.99603724e-01\n  5.27728796e-01  4.39980358e-01 -1.22266650e-01 -2.51271069e-01\n -2.09920913e-01  3.26351553e-01  9.30646658e-02  3.53962108e-02\n -9.54053849e-02  2.85367578e-01 -2.04983190e-01  6.08390756e-02\n  5.20449579e-01  3.66918266e-01 -3.62423897e-01  4.33130115e-02\n  3.42745066e-01 -2.35036984e-01  2.50606626e-01 -2.60355145e-01\n -1.58054799e-01 -2.57280767e-01 -2.09777623e-01  1.26717150e-01\n -3.28733534e-01  2.54562404e-02  4.22961235e-01  5.47181219e-02\n -1.57864198e-01  6.57370612e-02  1.09109730e-01  4.31963056e-01\n  2.95211207e-02 -2.08288282e-01  1.31193012e-01  1.30579308e-01\n -4.53440487e-01 -6.28382206e-01 -4.68102366e-01 -8.74839425e-02\n  6.38182104e-01 -8.99044350e-02  1.77155405e-01 -1.99858561e-01\n  2.25623056e-01  1.54751241e-01 -6.54192045e-02  1.30125612e-01\n -3.07556480e-01 -4.21925262e-02  4.85155910e-01 -1.93830416e-01\n  3.85669433e-02 -2.06941068e-01 -1.59926519e-01  1.35670267e-02\n  1.27840899e-02 -5.76183908e-02  3.56957138e-01 -1.80732578e-01\n -3.14748049e-01  3.71541619e-01  8.67034495e-02 -3.94166350e-01\n  1.52965546e-01  3.20536941e-01 -8.33948255e-01  1.73846215e-01\n -3.15447785e-02  2.53877521e-01 -7.76640177e-02  7.13011324e-02\n  5.62251210e-02 -1.71179354e-01  3.18755120e-01 -1.34080946e-01\n -1.62658244e-02 -1.29518658e-01  1.96555704e-01 -2.27488533e-01\n -8.06676820e-02 -1.48555875e-01 -3.06881554e-02 -3.15281272e-01\n -1.91197723e-01  4.53890830e-01 -2.91798472e-01 -3.97584140e-02\n -1.27895981e-01  4.16696131e-01  1.35093089e-03  2.49832906e-02\n  4.68103513e-02  6.23395145e-02 -9.63391066e-01  2.14227095e-01\n  2.44988844e-01  3.83288443e-01 -3.18860114e-01 -5.87553978e-01\n -3.44077647e-01 -1.41598731e-01 -5.49800061e-02 -1.40233159e-01\n  1.34856015e-01 -3.66223603e-02  3.39073204e-02 -1.41930073e-01\n -3.28329921e-01  2.59207524e-02 -3.09753194e-02 -4.91268933e-01\n  5.77615201e-01 -3.23589504e-01  6.43398017e-02 -1.23584069e-01\n -1.67372197e-01 -2.64397353e-01  2.82805767e-02 -1.39255390e-01\n -1.52861282e-01  5.62726706e-02 -7.08682835e-02 -1.32154375e-01\n  5.08894883e-02  2.39494979e-01  1.69523224e-01 -2.04753891e-01\n  5.53456306e-01  3.56753081e-01 -2.29304790e-01  3.85362625e-01\n  3.24098945e-01  1.52554899e-01  3.60159427e-01  1.43698454e-01\n  2.73998082e-02 -1.34890378e-01 -1.35501683e-01 -4.23135757e-01\n  1.77232280e-01 -4.04924631e-01 -8.47555771e-02  1.08880371e-01\n -1.51582077e-01  3.03629339e-01  1.97714463e-01  2.41824493e-01\n -1.73799902e-01  4.17532504e-01  4.43565659e-03 -1.57998037e-02\n -3.31009105e-02 -5.69732934e-02 -2.60301493e-02  1.34424180e-01\n -2.07603276e-01  1.14401311e-01  1.84303179e-01  8.27037394e-02\n -3.64330649e-01  8.65249336e-03  1.77843451e-01 -7.37874955e-02\n  2.45228440e-01 -1.50729552e-01 -1.17254891e-01  5.05934954e-02\n -5.42139888e-01  4.55219060e-01 -1.39448896e-01 -7.24543035e-02\n -1.67072892e-01 -2.39521876e-01 -2.72780597e-01 -3.80059451e-01\n -3.38007689e-01  2.93894887e-01 -8.78773630e-04  2.98647553e-01\n  2.49857008e-01 -3.90624166e-01  9.96749640e-01  1.35030478e-01\n  1.03109673e-01  6.35792911e-01 -4.66597080e-01 -2.26724744e-02\n -3.09081562e-02 -1.46316081e-01  7.67740428e-01  9.20861959e-03\n  1.01717699e+00 -2.17770338e-02 -1.26157120e-01  3.25635910e-01\n -3.28922719e-01  1.20332703e-01  5.92517436e-01 -4.90000136e-02\n  2.43612275e-01  7.62217678e-04 -1.72965005e-02  2.92371541e-01\n  3.78475308e-01  2.44698972e-02  8.46535563e-02  1.07676849e-01\n  3.68385911e-01  7.09267855e-02 -6.18020594e-01 -1.39917836e-01\n  1.87790096e-01  7.54140988e-02 -3.65676552e-01  1.83863252e-01\n -5.99421918e-01 -4.26096290e-01  3.41905475e-01 -3.92842442e-01\n  7.09362179e-02  1.56611979e-01  1.57824591e-01 -6.38018698e-02\n  1.24118902e-01 -1.49945244e-02  3.73256579e-02 -2.93892138e-02\n -7.14433074e-01  8.84225406e-03 -6.04949594e-01 -1.19037233e-01\n  6.10650666e-02  1.79518819e-01  3.17005783e-01 -5.87109387e-01\n -9.80643779e-02  9.94379371e-02  3.93209517e-01  3.37677300e-01\n -1.11472428e+00  2.49414206e-01  4.23687398e-01 -1.14322700e-01\n  3.50465834e-01  6.59767687e-01 -2.50891894e-01  1.77685134e-02].\nReshape your data either using array.reshape(-1, 1) if your data has a single feature or array.reshape(1, -1) if it contains a single sample."
     ]
    }
   ],
   "source": [
    "metrics.pairwise.cosine_similarity(get_vector_rep(\"hi there\"), get_vector_rep(\"hi there\"))"
   ]
  },
  {
   "cell_type": "code",
   "execution_count": 22,
   "id": "83ccf783-38f6-423b-a675-3a1fede3d41e",
   "metadata": {},
   "outputs": [],
   "source": [
    "datasets = {0:list(java_dev_occupation_df['CV']), 1: list(pm_occupation_df['CV'])}\n",
    "\n",
    "vector_rep = get_vector_rep(\"\".join(\"\".join(java_dev_occupation_df.iloc[0].to_dict()['CV'].split('\\r\\n')).split('\\n')))"
   ]
  },
  {
   "cell_type": "code",
   "execution_count": 23,
   "id": "4ab74eb4",
   "metadata": {},
   "outputs": [],
   "source": [
    "def create_test_train_dataset(true_dataset, false_dataset):\n",
    "    x_s = []\n",
    "    y_s = []\n",
    "    for cv_s in true_dataset:\n",
    "        x_s.append(get_vector_rep(\"\".join(\"\".join(cv_s.split('\\r\\n')).split('\\n'))))\n",
    "        y_s.append(1)\n",
    "    for cv_s in false_dataset:\n",
    "        x_s.append(get_vector_rep(\"\".join(\"\".join(cv_s.split('\\r\\n')).split('\\n'))))\n",
    "        y_s.append(0)\n",
    "    return [x_s, y_s]"
   ]
  },
  {
   "cell_type": "code",
   "execution_count": 24,
   "id": "d133f970",
   "metadata": {},
   "outputs": [
    {
     "data": {
      "text/plain": [
       "'01.11.2018   PE «SoloService»Position: Java Developer.• Software design, investigating technical solutions• Reviewing project documentation, analyzing requirements• Troubleshoot and analyze problems identified in the system software04.05.2018 – 31.10.2018   PE «SoloService» Position: IT Support Specialist.• provide user support for computer systems and user applications, including: website, mobile app, intranet, Outlook, Skype, operating systems (Windows and Linux);• installing and configuring computer hardware, software, mobile devices, video projection systems and audio systems;26.09.2017 – 03.05.2018   LLC «ЕКО» (supermarkets ЕКО)Position: Head of Project department.• project management of modernization, automation, reconstruction and  construction of trade objects;• to control the timing of project delivery;• establishment of consolidate budgets of projects;• organization of meetings, presentation of project (technology, visualization, business plan);• collaboration with project members, contractors and suppliers.20.04.2012 – 25.09.2017   LLC «ЕКО» (supermarkets ЕКО)Position: Chief design engineer of Project department. • development of architectural drawings and technical specifications for supermarkets and shopping centers in AutoCAD.29.05.2008 – 19.04.2012  LLC«Pharmastor» (Pharmacy of the Good Day)Position: Chief design engineer of Project department. • development of architectural drawings, projects, passports and design of pharmacies in AutoCAD.01.11.2006 – 28.05.2008  PE «Evrotex»Position: Sales manager. • international trade of automation equipment from Austria, Germany, Czech Republic, Italy;• technical solutions developed according to customer requirements;• organized and participated in exhibitions.01.07.2003 – 04.09.2006  PE «Kiev-SM»Position: Sales manager. • order of goods, payment control, delivery organization.'"
      ]
     },
     "execution_count": 24,
     "metadata": {},
     "output_type": "execute_result"
    }
   ],
   "source": [
    "\"\".join(\"\".join(datasets[0][0].split('\\r\\n')).split('\\n'))"
   ]
  },
  {
   "cell_type": "code",
   "execution_count": 25,
   "id": "0ff3e37d-fa1f-4304-9f5f-54867b970a0d",
   "metadata": {},
   "outputs": [],
   "source": [
    "# TODO: build vector embeddings and lables for positive label examples experience more than 5 years, negative examples less than 5\n",
    "training_data = create_test_train_dataset(datasets[1], datasets[0])"
   ]
  },
  {
   "cell_type": "markdown",
   "id": "27e3b1af-bf5c-470e-8f64-c00d131b44b4",
   "metadata": {},
   "source": [
    "### Step 2: Build classifier for resume classification"
   ]
  },
  {
   "cell_type": "code",
   "execution_count": 26,
   "id": "6061ee07-d3b3-4d0a-b050-f91a6a1ad859",
   "metadata": {},
   "outputs": [],
   "source": [
    "no_applicant_modification_data = [training_data[0], training_data[1]]"
   ]
  },
  {
   "cell_type": "code",
   "execution_count": 27,
   "id": "79c8ad5e",
   "metadata": {},
   "outputs": [],
   "source": [
    "#Generates (model, x_test, y_test) based on input (x, y) data\n",
    "def train_model(data):\n",
    "    x = data[0]\n",
    "    y=data[1]\n",
    "    x_train, x_test, y_train, y_test = train_test_split(x, y, test_size=0.2)\n",
    "\n",
    "    clf = LogisticRegression(random_state=16)\n",
    "    clf.fit(x_train, y_train)\n",
    "\n",
    "    p = clf.predict_proba(x_test)[:, 1]\n",
    "    p_acc = accuracy_score(y_test, p > 0.5)\n",
    "    print(\"clf_acc\", p_acc)\n",
    "    return [clf, x_test, y_test]\n",
    "\n",
    "#Plots confusion matrix\n",
    "def plot_conf_matrix(xtest, ytest, output_model):\n",
    "    cnf_matrix = metrics.confusion_matrix(ytest, output_model.predict(xtest))\n",
    "    class_names=[0,1] # name  of classes\n",
    "    fig, ax = plt.subplots()\n",
    "    tick_marks = np.arange(len(class_names))\n",
    "    plt.xticks(tick_marks, class_names)\n",
    "    plt.yticks(tick_marks, class_names)\n",
    "    # create heatmap\n",
    "    sns.heatmap(pd.DataFrame(cnf_matrix), annot=True, cmap=\"YlGnBu\" ,fmt='g')\n",
    "    ax.xaxis.set_label_position(\"top\")\n",
    "    plt.tight_layout()\n",
    "    plt.title('Confusion Matrix', y=1.1)\n",
    "    plt.ylabel('Actual Label')\n",
    "    plt.xlabel('Predicted Label')"
   ]
  },
  {
   "cell_type": "code",
   "execution_count": 81,
   "id": "f89453ea",
   "metadata": {},
   "outputs": [],
   "source": [
    "test_resumes = []\n",
    "\n",
    "with open(\"javadeveloper_to_pm.text\", 'r') as f:\n",
    "    for line in f:\n",
    "        if len(line) >1:\n",
    "            test_resumes.append(get_vector_rep(line))\n",
    "        #print(\"new\")\n"
   ]
  },
  {
   "cell_type": "markdown",
   "id": "33ebba9c-71f0-494d-9801-a60086502244",
   "metadata": {},
   "source": [
    "## Section 4: Simulation manipulations and evaluate disparity "
   ]
  },
  {
   "cell_type": "code",
   "execution_count": null,
   "id": "d57790c2",
   "metadata": {},
   "outputs": [],
   "source": [
    "test_resumes = []\n",
    "\n",
    "with open(\"javadeveloper_to_pm.text\", 'r') as f:\n",
    "    for line in f:\n",
    "        if len(line) >1:\n",
    "            test_resumes.append(get_vector_rep(line))"
   ]
  },
  {
   "cell_type": "code",
   "execution_count": 160,
   "id": "06fb0c3d",
   "metadata": {},
   "outputs": [
    {
     "name": "stderr",
     "output_type": "stream",
     "text": [
      "/Users/ch/miniforge3/envs/llm_jobs/lib/python3.10/site-packages/sklearn/linear_model/_logistic.py:469: ConvergenceWarning: lbfgs failed to converge (status=1):\n",
      "STOP: TOTAL NO. of ITERATIONS REACHED LIMIT.\n",
      "\n",
      "Increase the number of iterations (max_iter) or scale the data as shown in:\n",
      "    https://scikit-learn.org/stable/modules/preprocessing.html\n",
      "Please also refer to the documentation for alternative solver options:\n",
      "    https://scikit-learn.org/stable/modules/linear_model.html#logistic-regression\n",
      "  n_iter_i = _check_optimize_result(\n"
     ]
    },
    {
     "name": "stdout",
     "output_type": "stream",
     "text": [
      "clf_acc 0.9648780487804878\n",
      "Intercept: [-0.34687288]\n"
     ]
    },
    {
     "data": {
      "image/png": "[encoded data removed]",
      "text/plain": [
       "<Figure size 640x480 with 2 Axes>"
      ]
     },
     "metadata": {},
     "output_type": "display_data"
    }
   ],
   "source": [
    "#Question 1: Let's train a model on just the non-modified resumes. Does modify the Java SWE resumes increase the chance of acceptance?\n",
    "\n",
    "#train model on unmodified data\n",
    "model_output = train_model(no_applicant_modification_data)\n",
    "print('Intercept: {0}'.format(model_output[0].intercept_))\n",
    "plot_conf_matrix(model_output[1], model_output[2], model_output[0])"
   ]
  },
  {
   "cell_type": "code",
   "execution_count": 161,
   "id": "b2fdf5c2",
   "metadata": {},
   "outputs": [
    {
     "name": "stdout",
     "output_type": "stream",
     "text": [
      "THe ratio of FP in the Java SWE modified data, amongst all the JAVA SWE is 0.22795153564384332 .\n"
     ]
    }
   ],
   "source": [
    "#Predict on modified JAVA SWE data. Do these \"0\" datapoints became incorrectly labeled as 1?\n",
    "java_predictions = model_output[0].predict(test_resumes)\n",
    "ratiooffalsepositives = len([i for i in java_predictions if i==1])/len(java_predictions)\n",
    "print(\"THe ratio of FP in the Java SWE modified data, amongst all the JAVA SWE is\", ratiooffalsepositives, \".\")"
   ]
  },
  {
   "cell_type": "code",
   "execution_count": null,
   "id": "24490c01",
   "metadata": {},
   "outputs": [],
   "source": [
    "#train model on unmodified data\n",
    "model_output = train_model(no_applicant_modification_data)\n",
    "print('Intercept: {0}'.format(model_output[0].intercept_))\n",
    "plot_conf_matrix(model_output[1], model_output[2], model_output[0])"
   ]
  },
  {
   "cell_type": "code",
   "execution_count": 158,
   "id": "85373d0f",
   "metadata": {},
   "outputs": [],
   "source": [
    "datasets[0] = test_resumes"
   ]
  },
  {
   "cell_type": "code",
   "execution_count": 170,
   "id": "d317adf8",
   "metadata": {},
   "outputs": [
    {
     "name": "stdout",
     "output_type": "stream",
     "text": [
      "**[Your Name]****Contact Information:**[Include your contact information here]**Summary:**Experienced Project Manager with a proven track record of delivering projects on time and within budget. Skilled in project management, team leadership, and technical problem-solving. Proficient in AutoCAD, Windows, and Linux.**Experience:****Project Manager, LLC \"ЕКО\" (supermarkets ЕКО)***26.09.2017 – 03.05.2018** Managed the modernization, automation, reconstruction, and construction of trade objects, ensuring timely delivery and consolidated budgets.* Organized meetings and presented project technology, visualization, and business plans.* Collaborated with project members, contractors, and suppliers to ensure project success.**Chief Design Engineer, Project Department, LLC \"ЕКО\" (supermarkets ЕКО)***20.04.2012 – 25.09.2017** Developed architectural drawings and technical specifications for supermarkets and shopping centers in AutoCAD.* Collaborated with project managers to ensure project success.**Chief Design Engineer, Project Department, LLC \"Pharmastor\" (Pharmacy of the Good Day)***29.05.2008 – 19.04.2012** Developed architectural drawings, projects, passports, and design of pharmacies in AutoCAD.* Collaborated with project managers to ensure project success.**Sales Manager, PE \"Evrotex\"***01.11.2006 – 28.05.2008** Managed international trade of automation equipment from Austria, Germany, Czech Republic, and Italy.* Developed technical solutions according to customer requirements.* Organized and participated in exhibitions.**Sales Manager, PE \"Kiev-SM\"***01.07.2003 – 04.09.2006** Ordered goods, controlled payments, and organized delivery.**Skills:*** Project management* Team leadership* Technical problem-solving* AutoCAD* Windows* Linux\n",
      "\n"
     ]
    }
   ],
   "source": [
    "with open(\"javadeveloper_to_pm.text\", 'r') as f:\n",
    "    for line in f:\n",
    "        print(line)\n",
    "        break"
   ]
  },
  {
   "cell_type": "code",
   "execution_count": null,
   "id": "a283b1e5",
   "metadata": {},
   "outputs": [],
   "source": []
  }
 ],
 "metadata": {
  "kernelspec": {
   "display_name": "Python 3.10.14",
   "language": "python",
   "name": "python3"
  },
  "language_info": {
   "codemirror_mode": {
    "name": "ipython",
    "version": 3
   },
   "file_extension": ".py",
   "mimetype": "text/x-python",
   "name": "python",
   "nbconvert_exporter": "python",
   "pygments_lexer": "ipython3",
   "version": "3.10.14"
  },
  "vscode": {
   "interpreter": {
    "hash": "1ef90e252922ec218579f878e8875693d0f6f915d658626d8644d9a71eb203b8"
   }
  }
 },
 "nbformat": 4,
 "nbformat_minor": 5
}
