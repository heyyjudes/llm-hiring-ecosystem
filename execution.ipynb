{
 "cells": [
  {
   "cell_type": "code",
   "execution_count": 36,
   "metadata": {},
   "outputs": [
    {
     "name": "stdout",
     "output_type": "stream",
     "text": [
      "The autoreload extension is already loaded. To reload it, use:\n",
      "  %reload_ext autoreload\n"
     ]
    }
   ],
   "source": [
    "# Imports needed in every section\n",
    "import pandas as pd\n",
    "import testing_scripts.constants as constants\n",
    "import numpy as np\n",
    "import matplotlib.pyplot as plt\n",
    "%load_ext autoreload\n",
    "%autoreload 2"
   ]
  },
  {
   "cell_type": "markdown",
   "metadata": {},
   "source": [
    "# Section 1: Creating a labeled dataframe\n",
    "This section involves reading in the resumes, filtering out entries whose CVs are too short, and creating positive and negative classes while filtering out all entries in neither class."
   ]
  },
  {
   "cell_type": "markdown",
   "metadata": {},
   "source": [
    "## From resumes parquet\n",
    "This subsection assumes the existence of the resumes parquet file, processes, and exports the Labeled dataframe"
   ]
  },
  {
   "cell_type": "code",
   "execution_count": 316,
   "metadata": {},
   "outputs": [],
   "source": [
    "# Read in the parquet\n",
    "RESUMES_PARQUET_INPUT_FILENAME = \"data/resumes.parquet\"\n",
    "raw_df = pd.read_parquet(RESUMES_PARQUET_INPUT_FILENAME, engine='pyarrow')  # raw dataframe\n",
    "\n",
    "# Filter the dataframe by minimum cv length\n",
    "MIN_CV_LENGTH = 1000\n",
    "filtered_df = raw_df.loc[raw_df['CV'].dropna().apply(len) >= MIN_CV_LENGTH]\n",
    "\n",
    "# Add a true label column based on the specified keywords\n",
    "import testing_scripts.label_resumes\n",
    "labeled_df = filtered_df.copy()\n",
    "testing_scripts.label_resumes.add_true_label_column(labeled_df, constants.POSITIVE_POSITIONS, constants.POSITIVE_KEYWORDS, constants.NEGATIVE_POSITIONS, constants.NEGATIVE_KEYWORDS)\n",
    "\n",
    "# Filter out entries whose true label is NA (i.e. belongs to neither class)\n",
    "labeled_df = labeled_df[labeled_df[\"True Label\"].notna()]\n",
    "\n",
    "# Export the labeled dataframe\n",
    "LABELED_DATAFRAME_OUTPUT_FILENAME = \"data/labeled_df_PM vs UI_1000 chars min.csv\"\n",
    "labeled_df.to_csv(LABELED_DATAFRAME_OUTPUT_FILENAME)"
   ]
  },
  {
   "cell_type": "code",
   "execution_count": null,
   "metadata": {},
   "outputs": [],
   "source": []
  },
  {
   "cell_type": "markdown",
   "metadata": {},
   "source": [
    "## From import\n",
    "If the labeled_df.csv file already exists, run this instead to import the file"
   ]
  },
  {
   "cell_type": "code",
   "execution_count": 11,
   "metadata": {},
   "outputs": [],
   "source": [
    "LABELED_DATAFRAME_INPUT_FILENAME = \"data/labeled_df_PM vs UI_1000 chars min.csv\"\n",
    "labeled_df = pd.read_csv(LABELED_DATAFRAME_INPUT_FILENAME)"
   ]
  },
  {
   "cell_type": "markdown",
   "metadata": {},
   "source": [
    "## True label playground\n",
    "This subsection contains some light code for examining the true label"
   ]
  },
  {
   "cell_type": "code",
   "execution_count": 318,
   "metadata": {},
   "outputs": [
    {
     "name": "stdout",
     "output_type": "stream",
     "text": [
      "True Label\n",
      "1    5232\n",
      "0    3596\n",
      "Name: count, dtype: int64\n",
      "Proportion of positives = 0.5926597190756683\n"
     ]
    }
   ],
   "source": [
    "# The size of the positive and negative classes\n",
    "value_counts = labeled_df[\"True Label\"].value_counts()\n",
    "print(value_counts)\n",
    "\n",
    "positiveClassSize = value_counts.get(constants.POSITIVE_LABEL, default=0)\n",
    "negativeClassSize = value_counts.get(constants.NEGATIVE_LABEL, default=0)\n",
    "print(f\"Proportion of positives = {positiveClassSize / (positiveClassSize + negativeClassSize)}\")"
   ]
  },
  {
   "cell_type": "code",
   "execution_count": 75,
   "metadata": {},
   "outputs": [],
   "source": [
    "cv_sample = labeled_df.loc[labeled_df[\"True Label\"] == constants.NEGATIVE_LABEL].sample(n = 5, random_state = 0)"
   ]
  },
  {
   "cell_type": "code",
   "execution_count": 77,
   "metadata": {},
   "outputs": [
    {
     "data": {
      "text/plain": [
       "'\\nEASTERN Airlines — UX/UI Designer\\r\\n\\r\\nCreated design from scratch for Eastern Airlines website and app together with marketing and development teams. I was responsible for the entire cycle of product design, starting from an analysis of previous digital products as well as our competitors services, finding out pains of our customers, forming a new vision of our product, сonducting surveys, making & testing prototypes, analyzing UX to avoid mistakes (typical for airlines services), creating user flow/mind maps/ personas, working on UI (UI kit: fonts, colors, visuals, made custom icons and illustrations specifically for the project images, different states, animations), working closely with dev team e.g. discussing development stages, possible changes, testing, and fixing mistakes. Working on an emotional design by making the website and app products people will love. \\r\\n\\r\\n\\r\\n\\r\\nLTU Media — UX/UI Designer\\r\\nWorked in Israeli company with a design team. Worked with different languages (Hebrew/Chinese/English) and different tools (Figma/Adobe XD/Adobe Photoshop\\n'"
      ]
     },
     "execution_count": 77,
     "metadata": {},
     "output_type": "execute_result"
    }
   ],
   "source": [
    "cv_sample[\"CV\"].values[1]"
   ]
  },
  {
   "cell_type": "code",
   "execution_count": 313,
   "metadata": {},
   "outputs": [
    {
     "name": "stdout",
     "output_type": "stream",
     "text": [
      "Truncated positive CV:\n",
      "====================\n",
      " During my work in a role of a Client Success Manager, I was responsible for the large US-based accounts health and growth. I used to work on 3 - 4 large enterprise-level accounts in parallel with the total number of dedicated engineering teams 30 – 50 people.\n",
      "I've generated a lot of ideas for improvements, participated in building up strong engineering teams and working out the processes and strategy for the clients, which have resulted in the account and team growth.\n",
      "I had a chance to mentor and inspire many people, who have later become talented engineers and solution architects, and learn from them as well.\n",
      "- Managing multiple accounts with different engagement models. \n",
      "- Managing all aspects of client relationships. \n",
      "- Analyzing client's business pain-points, assisting with the roadmap to help reaching out strategic goals. \n",
      "- Taking active part in the whole opportunity initiation process. Drafting Proposals and SOWs.\n",
      "- Extending partnership with the existing clients.\n",
      "- Execu...\n"
     ]
    }
   ],
   "source": [
    "# Example positive entry\n",
    "example_positive_entry = labeled_df.loc[labeled_df[\"True Label\"] == constants.POSITIVE_LABEL].iloc[0]\n",
    "example_positive_cv: str = example_positive_entry.to_dict()[\"CV\"]\n",
    "print(f\"Truncated positive CV:\\n====================\\n {example_positive_cv[:1000]}...\")"
   ]
  },
  {
   "cell_type": "code",
   "execution_count": 327,
   "metadata": {},
   "outputs": [
    {
     "name": "stdout",
     "output_type": "stream",
     "text": [
      "Truncated negative CV:\n",
      "====================\n",
      " \n",
      "•   Possession of Adobe Photoshop, Adobe-AI, skills of working with a graphic tablet;\n",
      "•   UI/UX ;\n",
      "•.  Figma, Zeplin, Sketch, MarvelApp, Invision;\n",
      "•   2D graphics (understanding of pixel and vector graphics and their specifics);\n",
      "•.  2D Design;\n",
      "•.  3D Max;\n",
      "•   Ability to work in different styles;\n",
      "•   Ability to draw by hand;\n",
      "•   Creation of design banners, layouts, logos, frameworks and prototypes for websites and mobile applications;\n",
      "•   Testing of games;\n",
      "•   Making presentations in Power Point;\n",
      "Availability of portfolio;\n",
      "Bug tracking systems and project management tools: Trello and Jira.\n",
      "I'm self-motivated artist with a strong skills at game industry. I have more 5 years experience in game company, and now, I want to broaden my world with interesting projects, to share own experience and to acquire new skills and knowledge.\n",
      "So, my goal is putting into practice somebody's dreams, in so doing, working with pleasure.\n",
      "I would like to work at company with friendly team, inter\n"
     ]
    }
   ],
   "source": [
    "# Example negative entry \n",
    "example_negative_entry = labeled_df.loc[labeled_df[\"True Label\"] == constants.NEGATIVE_LABEL].iloc[0]\n",
    "example_negative_cv = example_negative_entry.to_dict()[\"CV\"]\n",
    "print(f\"Truncated negative CV:\\n====================\\n {example_negative_cv[:1000]}\")"
   ]
  },
  {
   "cell_type": "code",
   "execution_count": 329,
   "metadata": {},
   "outputs": [
    {
     "data": {
      "text/plain": [
       "\"\\n•   Possession of Adobe Photoshop, Adobe-AI, skills of working with a graphic tablet;\\r\\n•   UI/UX ;\\r\\n•.  Figma, Zeplin, Sketch, MarvelApp, Invision;\\r\\n•   2D graphics (understanding of pixel and vector graphics and their specifics);\\r\\n•.  2D Design;\\r\\n•.  3D Max;\\r\\n•   Ability to work in different styles;\\r\\n•   Ability to draw by hand;\\r\\n•   Creation of design banners, layouts, logos, frameworks and prototypes for websites and mobile applications;\\r\\n•   Testing of games;\\r\\n•   Making presentations in Power Point;\\r\\nAvailability of portfolio;\\r\\nBug tracking systems and project management tools: Trello and Jira.\\nI'm self-motivated artist with a strong skills at game industry. I have more 5 years experience in game company, and now, I want to broaden my world with interesting projects, to share own experience and to acquire new skills and knowledge.\\r\\nSo, my goal is putting into practice somebody's dreams, in so doing, working with pleasure.\\r\\nI would like to work at company with friendly team, interesting projects and a decent wage.\""
      ]
     },
     "execution_count": 329,
     "metadata": {},
     "output_type": "execute_result"
    }
   ],
   "source": [
    "example_negative_cv"
   ]
  },
  {
   "cell_type": "code",
   "execution_count": 40,
   "metadata": {},
   "outputs": [],
   "source": [
    "# Look at negative labeled entries\n",
    "# labeled_df.loc[labeled_df[\"True Label\"] == constants.NEGATIVE_LABEL]"
   ]
  },
  {
   "cell_type": "markdown",
   "metadata": {},
   "source": [
    "# Section 2: Marking samples for Experiments\n",
    "This section involves marking samples in the labeled dataframe for experiments. This allows us to experiment on a few samples at a time, rather than all entries at once."
   ]
  },
  {
   "cell_type": "markdown",
   "metadata": {},
   "source": [
    "## From labeled_df\n",
    "This subsection assumes the existence of the labeled_df object within this notebook, processes, and exports the Marked dataframe"
   ]
  },
  {
   "cell_type": "code",
   "execution_count": 331,
   "metadata": {},
   "outputs": [],
   "source": [
    "# How many samples from each class we want to mark for experiments\n",
    "NUM_POSITIVE_SAMPLES = 100\n",
    "NUM_NEGATIVE_SAMPLES = 100\n",
    "\n",
    "# Create a new column \"Marked for Experiments\" and deterministically mark \n",
    "# the first NUM_POSITIVE_SAMPLES positive entries and the first NUM_NEGATIVE_SAMPLES negative entries True and all others false\n",
    "marked_df = labeled_df.copy()\n",
    "marked_df[\"Marked for Experiments\"] = False\n",
    "positive_sample_indices = marked_df[marked_df[\"True Label\"] == constants.POSITIVE_LABEL].index[:NUM_POSITIVE_SAMPLES]\n",
    "negative_sample_indices = marked_df[marked_df[\"True Label\"] == constants.NEGATIVE_LABEL].index[:NUM_NEGATIVE_SAMPLES]\n",
    "marked_df.loc[positive_sample_indices, \"Marked for Experiments\"] = True\n",
    "marked_df.loc[negative_sample_indices, \"Marked for Experiments\"] = True\n",
    "\n",
    "# Export the marked dataframe\n",
    "MARKED_DATAFRAME_OUTPUT_FILENAME = \"data/marked_df_100 PM vs 100 UI_1000 chars min.csv\"\n",
    "marked_df.to_csv(MARKED_DATAFRAME_OUTPUT_FILENAME)"
   ]
  },
  {
   "cell_type": "markdown",
   "metadata": {},
   "source": [
    "## From import\n",
    "If the marked_df.csv file already exists, run this instead to import the file"
   ]
  },
  {
   "cell_type": "code",
   "execution_count": 2,
   "metadata": {},
   "outputs": [],
   "source": [
    "MARKED_DATAFRAME_INPUT_FILENAME = \"data/marked_df_100 PM vs 100 UI_1000 chars min.csv\"\n",
    "marked_df = pd.read_csv(MARKED_DATAFRAME_INPUT_FILENAME)"
   ]
  },
  {
   "cell_type": "markdown",
   "metadata": {},
   "source": [
    "## Mark playground\n",
    "This subsection contains some light code for examining the true label"
   ]
  },
  {
   "cell_type": "code",
   "execution_count": 332,
   "metadata": {},
   "outputs": [
    {
     "name": "stdout",
     "output_type": "stream",
     "text": [
      "Number of samples = 200\n"
     ]
    }
   ],
   "source": [
    "# The total number of marked entries (should match NUM_POSITIVE_SAMPLES + NUM_NEGATIVE_SAMPLES)\n",
    "value_counts = marked_df[\"Marked for Experiments\"].value_counts()\n",
    "print(f\"Number of samples = {value_counts.get(True)}\")"
   ]
  },
  {
   "cell_type": "markdown",
   "metadata": {},
   "source": [
    "# Section 3: Generating tailored resumes\n",
    "This section involves generating resumes tailored toward a specific job over the samples marked for experiments"
   ]
  },
  {
   "cell_type": "markdown",
   "metadata": {},
   "source": [
    "## From marked_df\n",
    "This subsection assumes the existence of the marked_df object within this notebook and generates modified resumes tailored toward the job specified in constants.py"
   ]
  },
  {
   "cell_type": "code",
   "execution_count": 8,
   "metadata": {},
   "outputs": [
    {
     "name": "stdout",
     "output_type": "stream",
     "text": [
      "Number of samples marked for experiments = 200\n",
      "Generating a new tailored resume (0 generated so far)...\n",
      "Generating a new tailored resume (1 generated so far)...\n",
      "Generating a new tailored resume (2 generated so far)...\n",
      "Generating a new tailored resume (3 generated so far)...\n",
      "Generating a new tailored resume (4 generated so far)...\n",
      "Generating a new tailored resume (5 generated so far)...\n",
      "Generating a new tailored resume (6 generated so far)...\n",
      "Generating a new tailored resume (7 generated so far)...\n",
      "Generating a new tailored resume (8 generated so far)...\n",
      "Generating a new tailored resume (9 generated so far)...\n",
      "Generating a new tailored resume (10 generated so far)...\n",
      "Generating a new tailored resume (11 generated so far)...\n",
      "Generating a new tailored resume (12 generated so far)...\n",
      "Generating a new tailored resume (13 generated so far)...\n",
      "Generating a new tailored resume (14 generated so far)...\n",
      "Generating a new tailored resume (15 generated so far)...\n",
      "Generating a new tailored resume (16 generated so far)...\n",
      "Generating a new tailored resume (17 generated so far)...\n",
      "Generating a new tailored resume (18 generated so far)...\n",
      "Generating a new tailored resume (19 generated so far)...\n",
      "Generating a new tailored resume (20 generated so far)...\n",
      "Generating a new tailored resume (21 generated so far)...\n",
      "Generating a new tailored resume (22 generated so far)...\n",
      "Generating a new tailored resume (23 generated so far)...\n",
      "Generating a new tailored resume (24 generated so far)...\n",
      "Generating a new tailored resume (25 generated so far)...\n",
      "Generating a new tailored resume (26 generated so far)...\n",
      "Generating a new tailored resume (27 generated so far)...\n",
      "Generating a new tailored resume (28 generated so far)...\n",
      "Generating a new tailored resume (29 generated so far)...\n",
      "Generating a new tailored resume (30 generated so far)...\n",
      "Generating a new tailored resume (31 generated so far)...\n",
      "Generating a new tailored resume (32 generated so far)...\n",
      "Generating a new tailored resume (33 generated so far)...\n",
      "Generating a new tailored resume (34 generated so far)...\n",
      "Generating a new tailored resume (35 generated so far)...\n",
      "Generating a new tailored resume (36 generated so far)...\n",
      "Generating a new tailored resume (37 generated so far)...\n",
      "Generating a new tailored resume (38 generated so far)...\n",
      "Generating a new tailored resume (39 generated so far)...\n",
      "Generating a new tailored resume (40 generated so far)...\n",
      "Generating a new tailored resume (41 generated so far)...\n",
      "Generating a new tailored resume (42 generated so far)...\n",
      "Generating a new tailored resume (43 generated so far)...\n",
      "Generating a new tailored resume (44 generated so far)...\n",
      "Generating a new tailored resume (45 generated so far)...\n",
      "Generating a new tailored resume (46 generated so far)...\n",
      "Generating a new tailored resume (47 generated so far)...\n",
      "Generating a new tailored resume (48 generated so far)...\n",
      "Generating a new tailored resume (49 generated so far)...\n",
      "Generating a new tailored resume (50 generated so far)...\n",
      "Generating a new tailored resume (51 generated so far)...\n",
      "Generating a new tailored resume (52 generated so far)...\n",
      "Generating a new tailored resume (53 generated so far)...\n",
      "Generating a new tailored resume (54 generated so far)...\n",
      "Generating a new tailored resume (55 generated so far)...\n",
      "Generating a new tailored resume (56 generated so far)...\n",
      "Generating a new tailored resume (57 generated so far)...\n",
      "Generating a new tailored resume (58 generated so far)...\n",
      "Generating a new tailored resume (59 generated so far)...\n",
      "Generating a new tailored resume (60 generated so far)...\n",
      "Generating a new tailored resume (61 generated so far)...\n",
      "Generating a new tailored resume (62 generated so far)...\n",
      "Generating a new tailored resume (63 generated so far)...\n",
      "Generating a new tailored resume (64 generated so far)...\n",
      "Generating a new tailored resume (65 generated so far)...\n",
      "Generating a new tailored resume (66 generated so far)...\n",
      "Generating a new tailored resume (67 generated so far)...\n",
      "Generating a new tailored resume (68 generated so far)...\n",
      "Generating a new tailored resume (69 generated so far)...\n",
      "Generating a new tailored resume (70 generated so far)...\n",
      "Generating a new tailored resume (71 generated so far)...\n",
      "Generating a new tailored resume (72 generated so far)...\n",
      "Generating a new tailored resume (73 generated so far)...\n",
      "Generating a new tailored resume (74 generated so far)...\n",
      "Generating a new tailored resume (75 generated so far)...\n",
      "Generating a new tailored resume (76 generated so far)...\n",
      "Generating a new tailored resume (77 generated so far)...\n",
      "Generating a new tailored resume (78 generated so far)...\n",
      "Generating a new tailored resume (79 generated so far)...\n",
      "Generating a new tailored resume (80 generated so far)...\n",
      "Generating a new tailored resume (81 generated so far)...\n",
      "Generating a new tailored resume (82 generated so far)...\n",
      "Generating a new tailored resume (83 generated so far)...\n",
      "Generating a new tailored resume (84 generated so far)...\n",
      "Generating a new tailored resume (85 generated so far)...\n",
      "Generating a new tailored resume (86 generated so far)...\n",
      "Generating a new tailored resume (87 generated so far)...\n",
      "Generating a new tailored resume (88 generated so far)...\n",
      "Generating a new tailored resume (89 generated so far)...\n",
      "Generating a new tailored resume (90 generated so far)...\n",
      "Generating a new tailored resume (91 generated so far)...\n",
      "Generating a new tailored resume (92 generated so far)...\n",
      "Generating a new tailored resume (93 generated so far)...\n",
      "Generating a new tailored resume (94 generated so far)...\n",
      "Generating a new tailored resume (95 generated so far)...\n",
      "Generating a new tailored resume (96 generated so far)...\n",
      "Generating a new tailored resume (97 generated so far)...\n",
      "Generating a new tailored resume (98 generated so far)...\n",
      "Generating a new tailored resume (99 generated so far)...\n",
      "Generating a new tailored resume (100 generated so far)...\n",
      "Generating a new tailored resume (101 generated so far)...\n",
      "Generating a new tailored resume (102 generated so far)...\n",
      "Generating a new tailored resume (103 generated so far)...\n",
      "Generating a new tailored resume (104 generated so far)...\n",
      "Generating a new tailored resume (105 generated so far)...\n",
      "Generating a new tailored resume (106 generated so far)...\n",
      "Generating a new tailored resume (107 generated so far)...\n",
      "Generating a new tailored resume (108 generated so far)...\n",
      "Generating a new tailored resume (109 generated so far)...\n",
      "Generating a new tailored resume (110 generated so far)...\n",
      "Generating a new tailored resume (111 generated so far)...\n",
      "Generating a new tailored resume (112 generated so far)...\n",
      "Generating a new tailored resume (113 generated so far)...\n",
      "Generating a new tailored resume (114 generated so far)...\n",
      "Generating a new tailored resume (115 generated so far)...\n",
      "Generating a new tailored resume (116 generated so far)...\n",
      "Generating a new tailored resume (117 generated so far)...\n",
      "Generating a new tailored resume (118 generated so far)...\n",
      "Generating a new tailored resume (119 generated so far)...\n",
      "Generating a new tailored resume (120 generated so far)...\n",
      "Generating a new tailored resume (121 generated so far)...\n",
      "Generating a new tailored resume (122 generated so far)...\n",
      "Generating a new tailored resume (123 generated so far)...\n",
      "Generating a new tailored resume (124 generated so far)...\n",
      "Generating a new tailored resume (125 generated so far)...\n",
      "Generating a new tailored resume (126 generated so far)...\n",
      "Generating a new tailored resume (127 generated so far)...\n",
      "Generating a new tailored resume (128 generated so far)...\n",
      "Generating a new tailored resume (129 generated so far)...\n",
      "Generating a new tailored resume (130 generated so far)...\n",
      "Generating a new tailored resume (131 generated so far)...\n",
      "Generating a new tailored resume (132 generated so far)...\n",
      "Generating a new tailored resume (133 generated so far)...\n",
      "Generating a new tailored resume (134 generated so far)...\n",
      "Generating a new tailored resume (135 generated so far)...\n",
      "Generating a new tailored resume (136 generated so far)...\n",
      "Generating a new tailored resume (137 generated so far)...\n",
      "Generating a new tailored resume (138 generated so far)...\n",
      "Generating a new tailored resume (139 generated so far)...\n",
      "Generating a new tailored resume (140 generated so far)...\n",
      "Generating a new tailored resume (141 generated so far)...\n",
      "Generating a new tailored resume (142 generated so far)...\n",
      "Generating a new tailored resume (143 generated so far)...\n",
      "Generating a new tailored resume (144 generated so far)...\n",
      "Generating a new tailored resume (145 generated so far)...\n",
      "Generating a new tailored resume (146 generated so far)...\n",
      "Generating a new tailored resume (147 generated so far)...\n",
      "Generating a new tailored resume (148 generated so far)...\n",
      "Generating a new tailored resume (149 generated so far)...\n",
      "Generating a new tailored resume (150 generated so far)...\n",
      "Generating a new tailored resume (151 generated so far)...\n",
      "Generating a new tailored resume (152 generated so far)...\n",
      "Generating a new tailored resume (153 generated so far)...\n",
      "Generating a new tailored resume (154 generated so far)...\n",
      "Generating a new tailored resume (155 generated so far)...\n",
      "Generating a new tailored resume (156 generated so far)...\n",
      "Generating a new tailored resume (157 generated so far)...\n",
      "Generating a new tailored resume (158 generated so far)...\n",
      "Generating a new tailored resume (159 generated so far)...\n",
      "Generating a new tailored resume (160 generated so far)...\n",
      "Generating a new tailored resume (161 generated so far)...\n",
      "Generating a new tailored resume (162 generated so far)...\n",
      "Generating a new tailored resume (163 generated so far)...\n",
      "Generating a new tailored resume (164 generated so far)...\n",
      "Generating a new tailored resume (165 generated so far)...\n",
      "Generating a new tailored resume (166 generated so far)...\n",
      "Generating a new tailored resume (167 generated so far)...\n",
      "Generating a new tailored resume (168 generated so far)...\n",
      "Generating a new tailored resume (169 generated so far)...\n",
      "Generating a new tailored resume (170 generated so far)...\n",
      "Generating a new tailored resume (171 generated so far)...\n",
      "Generating a new tailored resume (172 generated so far)...\n",
      "Generating a new tailored resume (173 generated so far)...\n",
      "Generating a new tailored resume (174 generated so far)...\n",
      "Generating a new tailored resume (175 generated so far)...\n",
      "Generating a new tailored resume (176 generated so far)...\n",
      "Generating a new tailored resume (177 generated so far)...\n",
      "Generating a new tailored resume (178 generated so far)...\n",
      "Generating a new tailored resume (179 generated so far)...\n",
      "Generating a new tailored resume (180 generated so far)...\n",
      "Generating a new tailored resume (181 generated so far)...\n",
      "Generating a new tailored resume (182 generated so far)...\n",
      "Generating a new tailored resume (183 generated so far)...\n",
      "Generating a new tailored resume (184 generated so far)...\n",
      "Generating a new tailored resume (185 generated so far)...\n",
      "Generating a new tailored resume (186 generated so far)...\n",
      "Generating a new tailored resume (187 generated so far)...\n",
      "Generating a new tailored resume (188 generated so far)...\n",
      "Generating a new tailored resume (189 generated so far)...\n",
      "Generating a new tailored resume (190 generated so far)...\n",
      "Generating a new tailored resume (191 generated so far)...\n",
      "Generating a new tailored resume (192 generated so far)...\n",
      "Generating a new tailored resume (193 generated so far)...\n",
      "Generating a new tailored resume (194 generated so far)...\n",
      "Generating a new tailored resume (195 generated so far)...\n",
      "Generating a new tailored resume (196 generated so far)...\n",
      "Generating a new tailored resume (197 generated so far)...\n",
      "Generating a new tailored resume (198 generated so far)...\n",
      "Generating a new tailored resume (199 generated so far)...\n"
     ]
    }
   ],
   "source": [
    "# Add tailored resumes based on the job description using the chosen model\n",
    "import testing_scripts.generate_resumes as generate_resumes\n",
    "# tailored_df = marked_df.copy()\n",
    "tailored_df = scored_df.copy()\n",
    "generate_resumes.create_modified_resumes(tailored_df, job_name = constants.JOB_NAME, job_description = constants.JOB_DESCRIPTION, model_name = constants.MODEL_NAME, verbose = True)\n",
    "\n",
    "# Export the tailored dataframe\n",
    "TAILORED_DATAFRAME_OUTPUT_FILENAME = \"data/tailored_df_100 PM vs 100 UI_1000 chars min_GPT-4o-mini and Together general.csv\"\n",
    "tailored_df.to_csv(TAILORED_DATAFRAME_OUTPUT_FILENAME)"
   ]
  },
  {
   "cell_type": "markdown",
   "metadata": {},
   "source": [
    "## From import\n",
    "If the tailored_df.csv file already exists, run this instead to import the file"
   ]
  },
  {
   "cell_type": "code",
   "execution_count": 22,
   "metadata": {},
   "outputs": [],
   "source": [
    "TAILORED_DATAFRAME_INPUT_FILENAME = \"data/tailored_df_100 PM vs 100 UI_1000 chars min_GPT-4o-mini general.csv\"\n",
    "tailored_df = pd.read_csv(TAILORED_DATAFRAME_INPUT_FILENAME)"
   ]
  },
  {
   "cell_type": "markdown",
   "metadata": {},
   "source": [
    "## Tailored resumes playground\n",
    "This subsection contains some light code for examining the tailored resumes"
   ]
  },
  {
   "cell_type": "code",
   "execution_count": 343,
   "metadata": {},
   "outputs": [
    {
     "name": "stdout",
     "output_type": "stream",
     "text": [
      "Truncated positive CV:\n",
      "====================\n",
      " During my work in a role of a Client Success Manager, I was responsible for the large US-based accounts health and growth. I used to work on 3 - 4 large enterprise-level accounts in parallel with the total number of dedicated engineering teams 30 – 50 people.\n",
      "I've generated a lot of ideas for improvements, participated in building up strong engineering teams and working out the processes and strategy for the clients, which have resulted in the account and team growth.\n",
      "I had a chance to mentor and inspire many people, who have later become talented engineers and solution architects, and learn from them as well.\n",
      "- Managing multiple accounts with different engagement models. \n",
      "- Managing all aspects of client relationships. \n",
      "- Analyzing cli...\n",
      "\n",
      "\n",
      "Truncated positive tailored CV:\n",
      "====================\n",
      " **[Your Name]**  \n",
      "[Your Address]  \n",
      "[City, State, Zip]  \n",
      "[Your Email]  \n",
      "[Your Phone Number]  \n",
      "[LinkedIn Profile]  \n",
      "\n",
      "---\n",
      "\n",
      "**PROFESSIONAL SUMMARY**  \n",
      "Results-driven Project Manager with a strong background in client success and account management. Adept at driving growth for large enterprise-level accounts through strategic planning, team collaboration, and process optimization. Proven ability to analyze client needs, foster team development, and manage complex projects while maintaining strong relationships with stakeholders.\n",
      "\n",
      "---\n",
      "\n",
      "**PROFESSIONAL EXPERIENCE**  \n",
      "\n",
      "**Client Success Manager**  \n",
      "[Company Name], [Location]  \n",
      "[Month, Year] – Present  \n",
      "\n",
      "- Managed the health and growth of multiple large US-based enterprise accounts, overseeing dedicat...\n"
     ]
    }
   ],
   "source": [
    "example_positive_entry = tailored_df[tailored_df[\"Marked for Experiments\"] & tailored_df[\"True Label\"] == constants.POSITIVE_LABEL].iloc[0]\n",
    "example_positive_CV = example_positive_entry[\"CV\"]\n",
    "example_positive_tailored_CV = example_positive_entry[constants.TAILORED_CV_NAME]\n",
    "\n",
    "print(f\"Truncated positive CV:\\n====================\\n {example_positive_CV[:750]}...\")\n",
    "print(f\"\\n\\nTruncated positive tailored CV:\\n====================\\n {example_positive_tailored_CV[:750]}...\")\n",
    "# print(f\"Example positive CV = {example_positive_cv}\\n\\n\")\n",
    "\n",
    "# example_tailored_positive_cv = generate_resumes.tailor_resume(example_positive_cv, job_description = constants.JOB_DESCRIPTION, model_name = constants.MODEL_NAME)\n",
    "# print(f\"Example positive tailored CV = {example_tailored_positive_cv}\")"
   ]
  },
  {
   "cell_type": "code",
   "execution_count": 344,
   "metadata": {},
   "outputs": [
    {
     "name": "stdout",
     "output_type": "stream",
     "text": [
      "Truncated negative CV:\n",
      "====================\n",
      " \n",
      "•   Possession of Adobe Photoshop, Adobe-AI, skills of working with a graphic tablet;\n",
      "•   UI/UX ;\n",
      "•.  Figma, Zeplin, Sketch, MarvelApp, Invision;\n",
      "•   2D graphics (understanding of pixel and vector graphics and their specifics);\n",
      "•.  2D Design;\n",
      "•.  3D Max;\n",
      "•   Ability to work in different styles;\n",
      "•   Ability to draw by hand;\n",
      "•   Creation of design banners, layouts, logos, frameworks and prototypes for websites and mobile applications;\n",
      "•   Testing of games;\n",
      "•   Making presentations in Power Point;\n",
      "Availability of portfolio;\n",
      "Bug tracking systems and project management tools: Trello and Jira.\n",
      "I'm self-motivated artist with a strong skills at game industry. I have more 5 years experience in game company, and now, I want to broaden my...\n",
      "\n",
      "\n",
      "Truncated negative tailored CV:\n",
      "====================\n",
      " **[Your Name]**  \n",
      "[Your Address]  \n",
      "[City, State, Zip]  \n",
      "[Your Email]  \n",
      "[Your Phone Number]  \n",
      "[LinkedIn Profile / Portfolio URL]  \n",
      "\n",
      "---\n",
      "\n",
      "**PROFESSIONAL SUMMARY**  \n",
      "Self-motivated project manager and artist with over 5 years of experience in the game industry. Adept at leading design projects from conception through execution, with expertise in UI/UX design, 2D and 3D graphics, and project management methodologies. Proven ability to collaborate within teams and deliver high-quality products that meet client expectations.\n",
      "\n",
      "---\n",
      "\n",
      "**SKILLS**  \n",
      "- Proficient in Adobe Photoshop, Adobe Illustrator, and graphic tablet techniques  \n",
      "- Strong knowledge of UI/UX principles and best practices  \n",
      "- Experience with design tools: Figma, Zeplin, Sketch, MarvelA...\n"
     ]
    }
   ],
   "source": [
    "example_negative_entry = tailored_df[tailored_df[\"Marked for Experiments\"] & tailored_df[\"True Label\"] == constants.NEGATIVE_LABEL].iloc[0]\n",
    "example_negativeCV = example_negative_entry[\"CV\"]\n",
    "example_negative_tailored_CV = example_negative_entry[constants.tailored_CV_name(model_name = constants.MODEL_NAME, job_name = constants.JOB_NAME)]\n",
    "\n",
    "print(f\"Truncated negative CV:\\n====================\\n {example_negativeCV[:750]}...\")\n",
    "print(f\"\\n\\nTruncated negative tailored CV:\\n====================\\n {example_negative_tailored_CV[:750]}...\")\n",
    "# print(f\"Example positive CV = {example_positive_cv}\\n\\n\")\n",
    "\n",
    "# example_tailored_positive_cv = generate_resumes.tailor_resume(example_positive_cv, job_description = constants.JOB_DESCRIPTION, model_name = constants.MODEL_NAME)\n",
    "# print(f\"Example positive tailored CV = {example_tailored_positive_cv}\")"
   ]
  },
  {
   "cell_type": "markdown",
   "metadata": {},
   "source": [
    "# Section 4: Scoring resumes\n",
    "This section involves scoring the original and generated CVs"
   ]
  },
  {
   "cell_type": "markdown",
   "metadata": {},
   "source": [
    "## From tailored_df\n",
    "This subsection assumes the existence of the tailored_df object within this notebook and computes for both the original and generated CVs"
   ]
  },
  {
   "cell_type": "code",
   "execution_count": 352,
   "metadata": {},
   "outputs": [
    {
     "name": "stdout",
     "output_type": "stream",
     "text": [
      "Number of samples marked for experiments = 200\n",
      "Scoring a new resume (300 scored so far)...\n",
      "Scoring a new resume (301 scored so far)...\n",
      "Scoring a new resume (302 scored so far)...\n",
      "Scoring a new resume (303 scored so far)...\n",
      "Scoring a new resume (304 scored so far)...\n",
      "Scoring a new resume (305 scored so far)...\n",
      "Scoring a new resume (306 scored so far)...\n",
      "Scoring a new resume (307 scored so far)...\n",
      "Scoring a new resume (308 scored so far)...\n",
      "Scoring a new resume (309 scored so far)...\n",
      "Scoring a new resume (310 scored so far)...\n",
      "Scoring a new resume (311 scored so far)...\n",
      "Scoring a new resume (312 scored so far)...\n",
      "Scoring a new resume (313 scored so far)...\n",
      "Scoring a new resume (314 scored so far)...\n",
      "Scoring a new resume (315 scored so far)...\n",
      "Scoring a new resume (316 scored so far)...\n",
      "Scoring a new resume (317 scored so far)...\n",
      "Scoring a new resume (318 scored so far)...\n",
      "Scoring a new resume (319 scored so far)...\n",
      "Scoring a new resume (320 scored so far)...\n",
      "Scoring a new resume (321 scored so far)...\n",
      "Scoring a new resume (322 scored so far)...\n",
      "Scoring a new resume (323 scored so far)...\n",
      "Scoring a new resume (324 scored so far)...\n",
      "Scoring a new resume (325 scored so far)...\n",
      "Scoring a new resume (326 scored so far)...\n",
      "Scoring a new resume (327 scored so far)...\n",
      "Scoring a new resume (328 scored so far)...\n",
      "Scoring a new resume (329 scored so far)...\n",
      "Scoring a new resume (330 scored so far)...\n",
      "Scoring a new resume (331 scored so far)...\n",
      "Scoring a new resume (332 scored so far)...\n",
      "Scoring a new resume (333 scored so far)...\n",
      "Scoring a new resume (334 scored so far)...\n",
      "Scoring a new resume (335 scored so far)...\n",
      "Scoring a new resume (336 scored so far)...\n",
      "Scoring a new resume (337 scored so far)...\n",
      "Scoring a new resume (338 scored so far)...\n",
      "Scoring a new resume (339 scored so far)...\n",
      "Scoring a new resume (340 scored so far)...\n",
      "Scoring a new resume (341 scored so far)...\n",
      "Scoring a new resume (342 scored so far)...\n",
      "Scoring a new resume (343 scored so far)...\n",
      "Scoring a new resume (344 scored so far)...\n",
      "Scoring a new resume (345 scored so far)...\n",
      "Scoring a new resume (346 scored so far)...\n",
      "Scoring a new resume (347 scored so far)...\n",
      "Scoring a new resume (348 scored so far)...\n",
      "Scoring a new resume (349 scored so far)...\n",
      "Scoring a new resume (350 scored so far)...\n",
      "Scoring a new resume (351 scored so far)...\n",
      "Scoring a new resume (352 scored so far)...\n",
      "Scoring a new resume (353 scored so far)...\n",
      "Scoring a new resume (354 scored so far)...\n",
      "Scoring a new resume (355 scored so far)...\n",
      "Scoring a new resume (356 scored so far)...\n",
      "Scoring a new resume (357 scored so far)...\n",
      "Scoring a new resume (358 scored so far)...\n",
      "Scoring a new resume (359 scored so far)...\n",
      "Scoring a new resume (360 scored so far)...\n",
      "Scoring a new resume (361 scored so far)...\n",
      "Scoring a new resume (362 scored so far)...\n",
      "Scoring a new resume (363 scored so far)...\n",
      "Scoring a new resume (364 scored so far)...\n",
      "Scoring a new resume (365 scored so far)...\n",
      "Scoring a new resume (366 scored so far)...\n",
      "Scoring a new resume (367 scored so far)...\n",
      "Scoring a new resume (368 scored so far)...\n",
      "Scoring a new resume (369 scored so far)...\n",
      "Scoring a new resume (370 scored so far)...\n",
      "Scoring a new resume (371 scored so far)...\n",
      "Scoring a new resume (372 scored so far)...\n",
      "Scoring a new resume (373 scored so far)...\n",
      "Scoring a new resume (374 scored so far)...\n",
      "Scoring a new resume (375 scored so far)...\n",
      "Scoring a new resume (376 scored so far)...\n",
      "Scoring a new resume (377 scored so far)...\n",
      "Scoring a new resume (378 scored so far)...\n",
      "Scoring a new resume (379 scored so far)...\n",
      "Scoring a new resume (380 scored so far)...\n",
      "Scoring a new resume (381 scored so far)...\n",
      "Scoring a new resume (382 scored so far)...\n",
      "Scoring a new resume (383 scored so far)...\n",
      "Scoring a new resume (384 scored so far)...\n",
      "Scoring a new resume (385 scored so far)...\n",
      "Scoring a new resume (386 scored so far)...\n",
      "Scoring a new resume (387 scored so far)...\n",
      "Scoring a new resume (388 scored so far)...\n",
      "Scoring a new resume (389 scored so far)...\n",
      "Scoring a new resume (390 scored so far)...\n",
      "Scoring a new resume (391 scored so far)...\n",
      "Scoring a new resume (392 scored so far)...\n",
      "Scoring a new resume (393 scored so far)...\n",
      "Scoring a new resume (394 scored so far)...\n",
      "Scoring a new resume (395 scored so far)...\n",
      "Scoring a new resume (396 scored so far)...\n",
      "Scoring a new resume (397 scored so far)...\n",
      "Scoring a new resume (398 scored so far)...\n",
      "Scoring a new resume (399 scored so far)...\n",
      "Scoring a new resume (400 scored so far)...\n",
      "Scoring a new resume (401 scored so far)...\n",
      "Scoring a new resume (402 scored so far)...\n",
      "Scoring a new resume (403 scored so far)...\n",
      "Scoring a new resume (404 scored so far)...\n",
      "Scoring a new resume (405 scored so far)...\n",
      "Scoring a new resume (406 scored so far)...\n",
      "Scoring a new resume (407 scored so far)...\n",
      "Scoring a new resume (408 scored so far)...\n",
      "Scoring a new resume (409 scored so far)...\n",
      "Scoring a new resume (410 scored so far)...\n",
      "Scoring a new resume (411 scored so far)...\n",
      "Scoring a new resume (412 scored so far)...\n",
      "Scoring a new resume (413 scored so far)...\n",
      "Scoring a new resume (414 scored so far)...\n",
      "Scoring a new resume (415 scored so far)...\n",
      "Scoring a new resume (416 scored so far)...\n",
      "Scoring a new resume (417 scored so far)...\n",
      "Scoring a new resume (418 scored so far)...\n",
      "Scoring a new resume (419 scored so far)...\n",
      "Scoring a new resume (420 scored so far)...\n",
      "Scoring a new resume (421 scored so far)...\n",
      "Scoring a new resume (422 scored so far)...\n",
      "Scoring a new resume (423 scored so far)...\n",
      "Scoring a new resume (424 scored so far)...\n",
      "Scoring a new resume (425 scored so far)...\n",
      "Scoring a new resume (426 scored so far)...\n",
      "Scoring a new resume (427 scored so far)...\n",
      "Scoring a new resume (428 scored so far)...\n",
      "Scoring a new resume (429 scored so far)...\n",
      "Scoring a new resume (430 scored so far)...\n",
      "Scoring a new resume (431 scored so far)...\n",
      "Scoring a new resume (432 scored so far)...\n",
      "Scoring a new resume (433 scored so far)...\n",
      "Scoring a new resume (434 scored so far)...\n",
      "Scoring a new resume (435 scored so far)...\n",
      "Scoring a new resume (436 scored so far)...\n",
      "Scoring a new resume (437 scored so far)...\n",
      "Scoring a new resume (438 scored so far)...\n",
      "Scoring a new resume (439 scored so far)...\n",
      "Scoring a new resume (440 scored so far)...\n",
      "Scoring a new resume (441 scored so far)...\n",
      "Scoring a new resume (442 scored so far)...\n",
      "Scoring a new resume (443 scored so far)...\n",
      "Scoring a new resume (444 scored so far)...\n",
      "Scoring a new resume (445 scored so far)...\n",
      "Scoring a new resume (446 scored so far)...\n",
      "Scoring a new resume (447 scored so far)...\n",
      "Scoring a new resume (448 scored so far)...\n",
      "Scoring a new resume (449 scored so far)...\n",
      "Scoring a new resume (450 scored so far)...\n",
      "Scoring a new resume (451 scored so far)...\n",
      "Scoring a new resume (452 scored so far)...\n",
      "Scoring a new resume (453 scored so far)...\n",
      "Scoring a new resume (454 scored so far)...\n",
      "Scoring a new resume (455 scored so far)...\n",
      "Scoring a new resume (456 scored so far)...\n",
      "Scoring a new resume (457 scored so far)...\n",
      "Scoring a new resume (458 scored so far)...\n",
      "Scoring a new resume (459 scored so far)...\n",
      "Scoring a new resume (460 scored so far)...\n",
      "Scoring a new resume (461 scored so far)...\n",
      "Scoring a new resume (462 scored so far)...\n",
      "Scoring a new resume (463 scored so far)...\n",
      "Scoring a new resume (464 scored so far)...\n",
      "Scoring a new resume (465 scored so far)...\n",
      "Scoring a new resume (466 scored so far)...\n",
      "Scoring a new resume (467 scored so far)...\n",
      "Scoring a new resume (468 scored so far)...\n",
      "Scoring a new resume (469 scored so far)...\n",
      "Scoring a new resume (470 scored so far)...\n",
      "Scoring a new resume (471 scored so far)...\n",
      "Scoring a new resume (472 scored so far)...\n",
      "Scoring a new resume (473 scored so far)...\n",
      "Scoring a new resume (474 scored so far)...\n",
      "Scoring a new resume (475 scored so far)...\n",
      "Scoring a new resume (476 scored so far)...\n",
      "Scoring a new resume (477 scored so far)...\n",
      "Scoring a new resume (478 scored so far)...\n",
      "Scoring a new resume (479 scored so far)...\n",
      "Scoring a new resume (480 scored so far)...\n",
      "Scoring a new resume (481 scored so far)...\n",
      "Scoring a new resume (482 scored so far)...\n",
      "Scoring a new resume (483 scored so far)...\n",
      "Scoring a new resume (484 scored so far)...\n",
      "Scoring a new resume (485 scored so far)...\n",
      "Scoring a new resume (486 scored so far)...\n",
      "Scoring a new resume (487 scored so far)...\n",
      "Scoring a new resume (488 scored so far)...\n",
      "Scoring a new resume (489 scored so far)...\n",
      "Scoring a new resume (490 scored so far)...\n",
      "Scoring a new resume (491 scored so far)...\n",
      "Scoring a new resume (492 scored so far)...\n",
      "Scoring a new resume (493 scored so far)...\n",
      "Scoring a new resume (494 scored so far)...\n",
      "Scoring a new resume (495 scored so far)...\n",
      "Scoring a new resume (496 scored so far)...\n",
      "Scoring a new resume (497 scored so far)...\n",
      "Scoring a new resume (498 scored so far)...\n",
      "Scoring a new resume (499 scored so far)...\n"
     ]
    }
   ],
   "source": [
    "# Add scores for both the original and generated CVs\n",
    "import testing_scripts.score_resumes as score_resumes\n",
    "# scored_df = tailored_df.copy()\n",
    "# scored_df = marked_df.copy()\n",
    "\n",
    "score_resumes.append_scores(scored_df, job_description = constants.JOB_DESCRIPTION, CV_column_name = \"CV\", verbose = True)\n",
    "# score_resumes.append_scores(scored_df, job_description = constants.JOB_DESCRIPTION, CV_column_name = constants.TAILORED_CV_NAME, verbose = True)\n",
    "\n",
    "# Export the scored dataframe\n",
    "SCORED_DATAFRAME_OUTPUT_FILENAME = \"data/scored_df_100 PM vs 100 UI_1000 chars min_GPT-4o-mini general.csv\"\n",
    "scored_df.to_csv(SCORED_DATAFRAME_OUTPUT_FILENAME)"
   ]
  },
  {
   "cell_type": "markdown",
   "metadata": {},
   "source": [
    "## From import\n",
    "If the scored_df.csv file already exists, run this instead to import the file"
   ]
  },
  {
   "cell_type": "code",
   "execution_count": 4,
   "metadata": {},
   "outputs": [],
   "source": [
    "SCORED_DATAFRAME_INPUT_FILENAME = \"data/scored_df_100 PM vs 100 UI_1000 chars min_GPT-4o-mini general.csv\"\n",
    "# SCORED_DATAFRAME_INPUT_FILENAME = \"data/test.csv\"\n",
    "scored_df = pd.read_csv(SCORED_DATAFRAME_INPUT_FILENAME)"
   ]
  },
  {
   "cell_type": "markdown",
   "metadata": {},
   "source": [
    "## Scored resumes playground\n",
    "This subsection contains some light code for examining the resume scores"
   ]
  },
  {
   "cell_type": "code",
   "execution_count": 370,
   "metadata": {},
   "outputs": [],
   "source": [
    "# Extract original CV score series\n",
    "# original_cv_scores: pd.Series = scored_df.loc[scored_df[\"CV Score\"].notna(),\"CV Score\"]\n",
    "\n",
    "original_positive_cv_scores: pd.Series = scored_df.loc[scored_df[\"Marked for Experiments\"] & (scored_df[\"True Label\"] == constants.POSITIVE_LABEL), \"CV Score\"]\n",
    "original_negative_cv_scores: pd.Series = scored_df.loc[scored_df[\"Marked for Experiments\"] & (scored_df[\"True Label\"] == constants.NEGATIVE_LABEL), \"CV Score\"]\n",
    "\n",
    "ORIGINAL_POSITIVE_CV_SCORES_OUTPUT_FILENAME = \"data/100 original PM CV scores_1000 chars min_GPT-4o-mini general.csv\"\n",
    "ORIGINAL_NEGATIVE_CV_SCORES_OUTPUT_FILENAME = \"data/100 original UI CV scores_1000 chars min_GPT-4o-mini general.csv\"\n",
    "\n",
    "original_positive_cv_scores.to_csv(ORIGINAL_POSITIVE_CV_SCORES_OUTPUT_FILENAME)\n",
    "original_negative_cv_scores.to_csv(ORIGINAL_NEGATIVE_CV_SCORES_OUTPUT_FILENAME)\n",
    "\n",
    "# Extract tailored CV score series\n",
    "tailored_positive_cv_scores: pd.Series = scored_df.loc[scored_df[\"Marked for Experiments\"] & (scored_df[\"True Label\"] == constants.POSITIVE_LABEL), f\"{constants.TAILORED_CV_NAME} Score\"]\n",
    "tailored_negative_cv_scores: pd.Series = scored_df.loc[scored_df[\"Marked for Experiments\"] & (scored_df[\"True Label\"] == constants.NEGATIVE_LABEL), f\"{constants.TAILORED_CV_NAME} Score\"]\n",
    "\n",
    "TAILORED_POSITIVE_CV_SCORES_OUTPUT_FILENAME = \"data/100 tailored PM CV scores_1000 chars min_GPT-4o-mini general.csv\"\n",
    "TAILORED_NEGATIVE_CV_SCORES_OUTPUT_FILENAME = \"data/100 tailored UI CV scores_1000 chars min_GPT-4o-mini general.csv\"\n",
    "\n",
    "tailored_positive_cv_scores.to_csv(TAILORED_POSITIVE_CV_SCORES_OUTPUT_FILENAME)\n",
    "tailored_negative_cv_scores.to_csv(TAILORED_NEGATIVE_CV_SCORES_OUTPUT_FILENAME)"
   ]
  },
  {
   "cell_type": "code",
   "execution_count": 371,
   "metadata": {},
   "outputs": [],
   "source": [
    "# Import each type\n",
    "ORIGINAL_POSITIVE_SCORES_INPUT_FILENAME = \"data/100 original PM CV scores_1000 chars min_GPT-4o-mini general.csv\"\n",
    "ORIGINAL_NEGATIVE_SCORES_INPUT_FILENAME = \"data/100 original UI CV scores_1000 chars min_GPT-4o-mini general.csv\"\n",
    "\n",
    "original_positive_cv_scores: np.ndarray = pd.read_csv(ORIGINAL_POSITIVE_SCORES_INPUT_FILENAME)[\"CV Score\"].values\n",
    "original_negative_cv_scores: np.ndarray = pd.read_csv(ORIGINAL_NEGATIVE_SCORES_INPUT_FILENAME)[\"CV Score\"].values\n",
    "\n",
    "TAILORED_POSITIVE_SCORES_INPUT_FILENAME = \"data/100 tailored PM CV scores_1000 chars min_GPT-4o-mini general.csv\"\n",
    "TAILORED_NEGATIVE_SCORES_INPUT_FILENAME = \"data/100 tailored UI CV scores_1000 chars min_GPT-4o-mini general.csv\"\n",
    "\n",
    "tailored_positive_cv_scores: np.ndarray = pd.read_csv(TAILORED_POSITIVE_SCORES_INPUT_FILENAME)[f\"{constants.TAILORED_CV_NAME} Score\"].values\n",
    "tailored_negative_cv_scores: np.ndarray = pd.read_csv(TAILORED_NEGATIVE_SCORES_INPUT_FILENAME)[f\"{constants.TAILORED_CV_NAME} Score\"].values"
   ]
  },
  {
   "cell_type": "code",
   "execution_count": 389,
   "metadata": {},
   "outputs": [],
   "source": [
    "# positive_cv_scores = original_positive_cv_scores\n",
    "# negative_cv_scores = original_negative_cv_scores\n",
    "# positive_name: str = \"Original PM\"          # change me\n",
    "# negative_name: str = \"Original UI\"          # change me\n",
    "\n",
    "positive_cv_scores = tailored_positive_cv_scores\n",
    "negative_cv_scores = tailored_negative_cv_scores\n",
    "positive_name: str = \"Tailored PM\"          # change me\n",
    "negative_name: str = \"Tailored UI\"          # change me\n",
    "\n",
    "'''\n",
    "Collect key statistics\n",
    "'''\n",
    "num_positive_scores = positive_cv_scores.size\n",
    "num_negative_scores = negative_cv_scores.size\n",
    "positive_proportion = num_positive_scores / (num_positive_scores + num_negative_scores)\n",
    "negative_proportion = 1 - positive_proportion\n",
    "\n",
    "positive_mean = positive_cv_scores.mean()\n",
    "positive_std = positive_cv_scores.std()\n",
    "negative_mean = negative_cv_scores.mean()\n",
    "negative_std = negative_cv_scores.std()\n",
    "\n",
    "from sklearn.metrics import roc_curve, auc\n",
    "y_true = np.concatenate((np.ones(num_positive_scores), np.zeros(num_negative_scores)))\n",
    "y_score = np.concatenate((positive_cv_scores, negative_cv_scores))\n",
    "FPRs, TPRs, thresholds = roc_curve(y_true, y_score, drop_intermediate=False) \n",
    "roc_auc = auc(FPRs, TPRs)\n",
    "\n",
    "accuracies = positive_proportion * TPRs + negative_proportion * (1 - FPRs)\n",
    "optimal_index = np.argmax(accuracies)\n",
    "optimal_accuracy = accuracies[optimal_index]\n",
    "optimal_threshold = thresholds[optimal_index]\n",
    "optimal_TPR = TPRs[optimal_index]\n",
    "optimal_TNR = 1 - FPRs[optimal_index]\n",
    "\n",
    "conservatively_optimal_index = np.argmax(np.where(FPRs == 0, TPRs, -np.NAN))      # mask elements where FPR is not 0 with negative infinity\n",
    "conservatively_optimal_TPR = TPRs[conservatively_optimal_index]\n",
    "conservatively_optimal_threshold = thresholds[conservatively_optimal_index]\n"
   ]
  },
  {
   "cell_type": "code",
   "execution_count": 6,
   "metadata": {},
   "outputs": [
    {
     "ename": "NameError",
     "evalue": "name 'positive_name' is not defined",
     "output_type": "error",
     "traceback": [
      "\u001b[0;31m---------------------------------------------------------------------------\u001b[0m",
      "\u001b[0;31mNameError\u001b[0m                                 Traceback (most recent call last)",
      "Cell \u001b[0;32mIn[6], line 11\u001b[0m\n\u001b[1;32m      8\u001b[0m lowercase_first \u001b[38;5;241m=\u001b[39m \u001b[38;5;28;01mlambda\u001b[39;00m string : string[\u001b[38;5;241m0\u001b[39m]\u001b[38;5;241m.\u001b[39mlower() \u001b[38;5;241m+\u001b[39m string[\u001b[38;5;241m1\u001b[39m:]    \u001b[38;5;66;03m# uncapitalizes first letter\u001b[39;00m\n\u001b[1;32m     10\u001b[0m \u001b[38;5;66;03m# Print statistics\u001b[39;00m\n\u001b[0;32m---> 11\u001b[0m \u001b[38;5;28mprint\u001b[39m(\u001b[38;5;124mf\u001b[39m\u001b[38;5;124m\"\u001b[39m\u001b[38;5;132;01m{\u001b[39;00m\u001b[43mpositive_name\u001b[49m\u001b[38;5;132;01m}\u001b[39;00m\u001b[38;5;124m score mean = \u001b[39m\u001b[38;5;132;01m{\u001b[39;00mpositive_mean\u001b[38;5;132;01m:\u001b[39;00m\u001b[38;5;124m.3f\u001b[39m\u001b[38;5;132;01m}\u001b[39;00m\u001b[38;5;124m, std = \u001b[39m\u001b[38;5;132;01m{\u001b[39;00mpositive_std\u001b[38;5;132;01m:\u001b[39;00m\u001b[38;5;124m.3f\u001b[39m\u001b[38;5;132;01m}\u001b[39;00m\u001b[38;5;124m\"\u001b[39m)\n\u001b[1;32m     12\u001b[0m \u001b[38;5;28mprint\u001b[39m(\u001b[38;5;124mf\u001b[39m\u001b[38;5;124m\"\u001b[39m\u001b[38;5;132;01m{\u001b[39;00mnegative_name\u001b[38;5;132;01m}\u001b[39;00m\u001b[38;5;124m score mean = \u001b[39m\u001b[38;5;132;01m{\u001b[39;00mnegative_mean\u001b[38;5;132;01m:\u001b[39;00m\u001b[38;5;124m.3f\u001b[39m\u001b[38;5;132;01m}\u001b[39;00m\u001b[38;5;124m, std = \u001b[39m\u001b[38;5;132;01m{\u001b[39;00mnegative_std\u001b[38;5;132;01m:\u001b[39;00m\u001b[38;5;124m.3f\u001b[39m\u001b[38;5;132;01m}\u001b[39;00m\u001b[38;5;124m\"\u001b[39m)\n\u001b[1;32m     14\u001b[0m \u001b[38;5;28mprint\u001b[39m(\u001b[38;5;124mf\u001b[39m\u001b[38;5;124m\"\u001b[39m\u001b[38;5;124mOptimal accuracy = \u001b[39m\u001b[38;5;132;01m{\u001b[39;00moptimal_accuracy\u001b[38;5;132;01m}\u001b[39;00m\u001b[38;5;130;01m\\n\u001b[39;00m\u001b[38;5;130;01m\\t\u001b[39;00m\u001b[38;5;124mOptimal threshold = \u001b[39m\u001b[38;5;132;01m{\u001b[39;00moptimal_threshold\u001b[38;5;132;01m}\u001b[39;00m\u001b[38;5;130;01m\\n\u001b[39;00m\u001b[38;5;130;01m\\t\u001b[39;00m\u001b[38;5;124mOptimal TPR = \u001b[39m\u001b[38;5;132;01m{\u001b[39;00moptimal_TPR\u001b[38;5;132;01m}\u001b[39;00m\u001b[38;5;130;01m\\n\u001b[39;00m\u001b[38;5;130;01m\\t\u001b[39;00m\u001b[38;5;124mOptimal TNR = \u001b[39m\u001b[38;5;132;01m{\u001b[39;00moptimal_TNR\u001b[38;5;132;01m}\u001b[39;00m\u001b[38;5;124m\"\u001b[39m)\n",
      "\u001b[0;31mNameError\u001b[0m: name 'positive_name' is not defined"
     ]
    }
   ],
   "source": [
    "'''\n",
    "Print report\n",
    "'''\n",
    "save_to_file: bool = False                   # change me\n",
    "\n",
    "\n",
    "uppercase_first = lambda string : string[0].upper() + string[1:]    # capitalizes first letter\n",
    "lowercase_first = lambda string : string[0].lower() + string[1:]    # uncapitalizes first letter\n",
    "\n",
    "# Print statistics\n",
    "print(f\"{positive_name} score mean = {positive_mean:.3f}, std = {positive_std:.3f}\")\n",
    "print(f\"{negative_name} score mean = {negative_mean:.3f}, std = {negative_std:.3f}\")\n",
    "\n",
    "print(f\"Optimal accuracy = {optimal_accuracy}\\n\\tOptimal threshold = {optimal_threshold}\\n\\tOptimal TPR = {optimal_TPR}\\n\\tOptimal TNR = {optimal_TNR}\")\n",
    "print(f\"Conservatively optimal TPR = {conservatively_optimal_TPR}\\n\\tConservatively optimal threshold = {conservatively_optimal_threshold}\")\n",
    "print(f\"AUC = {roc_auc:.3f}\")\n",
    "\n",
    "\n",
    "# Plot the distributions as a dot plot\n",
    "distribution_figure, distribution_ax = plt.subplots(figsize=(10, 2))  # Create a figure and axis\n",
    "\n",
    "positive_distribution_plot_label: str = f\"{uppercase_first(positive_name)} CV scores\\n(mean = {positive_mean:.2f}, std = {positive_std:.2f})\"\n",
    "negative_distribution_plot_label: str = f\"{uppercase_first(negative_name)} CV scores\\n(mean = {negative_mean:.2f}, std = {negative_std:.2f})\"\n",
    "distribution_ax.plot(positive_cv_scores, np.ones_like(positive_cv_scores), 'o', color='orange', label = positive_distribution_plot_label)  # Plot the positive scores\n",
    "distribution_ax.plot(negative_cv_scores, np.zeros_like(negative_cv_scores), 'o', color='blue', label = negative_distribution_plot_label)   # Plot the negative scores\n",
    "\n",
    "distribution_ax.set_ylim([-0.5, 1.5])\n",
    "distribution_ax.set_yticks([])                                                                                                                           # Set y-ticks to be hidden to make it look like a 1-dimensional plot\n",
    "distribution_ax.set_xlabel('CV Scores')\n",
    "distribution_ax.set_title(f'Dot Plot of {uppercase_first(positive_name)} and {uppercase_first(negative_name)} CV scores')\n",
    "distribution_ax.legend(bbox_to_anchor=(1, 1), loc='upper left')                             # Move legend outside plot\n",
    "# distribution_figure.show()        # causes strange error\n",
    "plt.show()\n",
    "\n",
    "\n",
    "# Plot the ROC curve\n",
    "ROC_figure, ROC_ax = plt.subplots()\n",
    "\n",
    "ROC_ax .plot(FPRs, TPRs, label='ROC curve (area = %0.2f)' % roc_auc)\n",
    "ROC_ax .plot([0, 1], [0, 1], 'k--', label='No Skill')\n",
    "ROC_ax.set_xlim([0.0, 1.0])\n",
    "ROC_ax.set_ylim([0.0, 1.05])\n",
    "ROC_ax.set_xlabel('False Positive Rate')\n",
    "ROC_ax.set_ylabel('True Positive Rate')\n",
    "ROC_ax.set_title(f'ROC Curve for {uppercase_first(positive_name)} vs. {uppercase_first(negative_name)}')\n",
    "ROC_ax.legend()\n",
    "plt.show()\n",
    "\n",
    "# Export the plots\n",
    "if save_to_file:\n",
    "    distribution_plot_filename  = f\"data/figures/{num_positive_scores} {lowercase_first(positive_name)} vs {num_negative_scores} {lowercase_first(negative_name)} CV scores_1000 chars min_GPT-4o-mini general.csv.png\"\n",
    "    ROC_plot_filename           = f\"data/figures/{num_positive_scores} {lowercase_first(positive_name)} vs {num_negative_scores} {lowercase_first(negative_name)} CV ROC curve_1000 chars min_GPT-4o-mini general.csv.png\"\n",
    "\n",
    "    distribution_figure.savefig(distribution_plot_filename, bbox_inches='tight')    # prevent from cropping off\n",
    "    ROC_figure.savefig(ROC_plot_filename, bbox_inches='tight')                      # prevent from cropping off\n",
    "\n",
    "    print(f\"Saved to {distribution_plot_filename}\")\n",
    "    print(f\"Saved to {ROC_plot_filename}\")"
   ]
  },
  {
   "cell_type": "code",
   "execution_count": 269,
   "metadata": {},
   "outputs": [],
   "source": [
    "# Find the threshold that maximizes TPR subject to FPR <= 0.2\n",
    "semiconservatively_optimal_index = np.argmax(np.where(FPRs <= 0.2, TPRs, -np.NAN))      # mask elements where FPR is not 0 with negative infinity\n",
    "semiconservatively_optimal_TPR = TPRs[semiconservatively_optimal_index]\n",
    "semiconservatively_optimal_threshold = thresholds[semiconservatively_optimal_index]\n"
   ]
  },
  {
   "cell_type": "code",
   "execution_count": 279,
   "metadata": {},
   "outputs": [
    {
     "data": {
      "text/plain": [
       "0.49"
      ]
     },
     "execution_count": 279,
     "metadata": {},
     "output_type": "execute_result"
    }
   ],
   "source": [
    "semiconservatively_optimal_TPR "
   ]
  },
  {
   "cell_type": "code",
   "execution_count": 271,
   "metadata": {},
   "outputs": [
    {
     "data": {
      "text/plain": [
       "90.603"
      ]
     },
     "execution_count": 271,
     "metadata": {},
     "output_type": "execute_result"
    }
   ],
   "source": [
    "semiconservatively_optimal_threshold"
   ]
  },
  {
   "cell_type": "code",
   "execution_count": 294,
   "metadata": {},
   "outputs": [
    {
     "data": {
      "text/plain": [
       "\"\\nI worked on the creation and implementation of ideas for branding tenders. I deveoped logos and outdoor advertising, actively worked with UNICEF projects. Also created presentations.I worked with the design of social media and together with the team we developed and designed ideas for outdoor advertising and social projects. Worked on design for the DARNITSA company's social media and its internal projects. I also led the social advertising project for Nova Poshta. Participated in creation of visual design of websites \\r\\nfor customers. Continued to work with UNICEF. Was making landing pages on Tilda and in Figma.\\n\""
      ]
     },
     "execution_count": 294,
     "metadata": {},
     "output_type": "execute_result"
    }
   ],
   "source": [
    "scored_df.loc[scored_df[f\"{constants.TAILORED_CV_NAME} Score\"] >= semiconservatively_optimal_threshold, f\"CV\"].iloc[10]"
   ]
  },
  {
   "cell_type": "markdown",
   "metadata": {},
   "source": [
    "### Prompting Playground"
   ]
  },
  {
   "cell_type": "code",
   "execution_count": 65,
   "metadata": {},
   "outputs": [],
   "source": [
    "example_positive_cv_list = [\n",
    "    \"- successful adoption and improvement of Scrum;\\n- streamlined internal processes in R&D team (2018);\\n- new tools implementation - Jira and Confluence for non-delivery teams (2017);\\n- international accreditation for LvBS (2016).\\nI have been Scrum Master in R&D team, which develops IoT platform. Apart from Scrum process adaptation and improvement, I worked on project management automation, building reporting system, budget tracking and other internal processes implementation as well as facilitation of cross-department cooperation. \\n\\nAs a result, we obtained renewed process flow for our development tasks, got new approach to tracking budget and scope, developed smoother on-boarding and off-boarding (project has high level of staff turnover).\\n\\nI discovered gap between Accounting reports and internal project budget tracking documents, so along with our CFO, I have worked on implementation of unified budget tracking report for Project Managers.\\n\\nOn my previous job, I lead the process of implementation of Jira and Confluence for non-delivery teams. This solved issue of tracking results of non-delivery teams.\",\n",
    "    \"I am a highly accomplished Project Manager with a proven track record of consistently delivering outstanding results. In my current role at BDA, I have maintained an impressive 90% success rate in achieving project objectives, underscoring my exceptional project management capabilities. My tenure at Konsis Group involved overseeing high-profile projects for esteemed clients, successfully securing sponsorships, and delivering projects valued at 50k AZN, highlighting my proficiency in event coordination and adeptness in stakeholder engagement. My fluency in English, Azerbaijani, Turkish, and Russian enhances my communication skills for seamless international collaboration. Moreover, my international experience as an Activities Coordinator in the Netherlands, supported by The European Solidarity Corps, provided me with valuable insights into European workplace standards and bolstered my cross-cultural competence. I am unwavering in my dedication to continuous learning and professional growth.\\nI am a dedicated and goal-driven professional with 5 years of experience in project and program support. My expertise lies in coordinating and managing diverse project activities, ensuring timely completion and goal achievement. I excel in team leadership, effective communication, problem-solving, and project management.  My roles as a Project Manager at Baku Design Academy, Freelance English Instructor, Activities Coordinator at Humanitas DMH, Project Manager at Konsis Group, Project Lead at Alliance NGO, and Teacher Assistant at High School № 286 have all contributed to my versatile skill set and commitment to achieving positive outcomes.\\nI thrive in environments where project objectives are clear, resources and support are provided, and communication is open and transparent. Well-defined roles and responsibilities, access to modern project management tools, and regular updates on overarching goals are crucial for effective project management. Empowerment, recognition, and a healthy work-life balance are equally important to me. I value opportunities for professional development, effective conflict resolution, and the recognition of my expertise in the field. Fair compensation that reflects my experience and responsibilities is also a key expectation. Let's connect and work together to achieve project excellence!\",\n",
    "    \"During my work as Head of the HR department, I built all the process inside the team from the beginning and implemented Scrum in our team management. Also, I have experience in building a big project in a previous company. The project is aimed to increase the awareness and the number of candidates for employment, as well as to improve the knowledge base of the company's employees. I managed this project from the beginning (recruit team, define the place, and organize all necessary facilities) till the end (run all events\\\\courses, calculate revenue).\\nI have five years of experience in the HR sphere and one year in project coordination. My current position in Epam is an HR business partner, and I am simultaneously working as an HR coordinator in one of our big project. \\n\\nMy primary responsibilities for the HR coordinator position are:\\n- Coordinating project management activities, resources, and information;\\n- Assisting with project strategies;\\n- Providing statistics on the performance of the team;\\n- Reporting velocity and potential risks, and communicating the information with DM and PM of the project;\\n- Ensuring project deadlines are met;\\n- Analyzing potential risks and opportunities and providing solutions when applicable. \\n\\nAlso, I got an experience of working as a Head of HR department in a previous company. When I  was working as a Head of HR department, I managed the everyday work of the team: planning, setting up daily meetings, defining development vectors of the group, negotiations with CEO and external partners. I used Scrum for planning and control of work of our department (we practiced daily meeting, sprint planning, and retrospective)\\n\",\n",
    "    \"1000 successfully conducted projects from large-scale full CG videos to minute projects.\\nTimely briefing and coordinating the internal resources involved in the projects.\\nUsing internal tracking system to keep track of people and progress.\\nMaking sure that all the aims of the project and quality standards are met.\\nIntroduction of necessary changes in the course of the projects in rapidly changing conditions. Bidding process conduction, making cost estimations, handling cost-negotiations and contract arrangement.\\nExperienced and devoted project manager with good communication skills and enthusiastic approach to challenges looking to start a career as a PM in software development company. Ready to learn fast and be persistent to become a master on the applied position.\\nOver 8 years experience as a Senior project manager at one of the largest Ukrainian post-production studios (TV commercials and feature films).\\nWould like to work as a PM in software development company with a young and outgoing team, deal with innovative projects, have an opportunity to develop my skills and knowledge in the new field.\",\n",
    "    \"Search, develop & maintain relationships with business partners.\\nMaintaining and participating in internal projects.\\n-Bachelor's degree in \\\"Management of foreign economic activity\\\" and Master's degree in \\\"Management of organization\\\"\\n- Finished course in A-Level \\\"IT Project Management:Extended\\\"\\n- Basic skills of Project Management;\\n- Understanding of Software development life cycle;\\n- Basic knowledge of Atlassian: Jira; Confluence; Trello; Redmine;\\n- Business negotiation with customers (European and Latin American countries) and conclusion of a contract;\\n- Development cooperation with foreign countries (expansion of customer base, search for new customers)\\n- Managing of internal projects (team of 4 managers);\\n- Tasks delegation & managing;\\n- Provision of annual / monthly reports;\\n- Handling with project management documentation;\\n- Analytical and negotiation skills;\\n- MS Office (Word; Excel; Outlook; PowerPoint), 1C (basics);\\n- Speed Touch Typing (Cyrillic & Latin).\\nI'd like to start working as a PM in a team of professional, hard-working, result-oriented and friendly people. \\nI'm  self-motivated, easygoing, initiative, responsible, stress resistant and fast learning and I have strong desire to grow and develop my skills.\"\n",
    "]\n",
    "\n",
    "example_negative_cv_list = [\n",
    "    \"\\nEASTERN Airlines — UX/UI Designer\\n\\nCreated design from scratch for Eastern Airlines website and app together with marketing and development teams. I was responsible for the entire cycle of product design, starting from an analysis of previous digital products as well as our competitors services, finding out pains of our customers, forming a new vision of our product, сonducting surveys, making & testing prototypes, analyzing UX to avoid mistakes (typical for airlines services), creating user flow/mind maps/ personas, working on UI (UI kit: fonts, colors, visuals, made custom icons and illustrations specifically for the project images, different states, animations), working closely with dev team e.g. discussing development stages, possible changes, testing, and fixing mistakes. Working on an emotional design by making the website and app products people will love. \\n\\n\\n\\nLTU Media — UX/UI Designer\\nWorked in Israeli company with a design team. Worked with different languages (Hebrew/Chinese/English) and different tools (Figma/Adobe XD/Adobe Photoshop\",\n",
    "    \"I am a Junior UI/UX designer. I am engaged in full-cycle design: I analyze, create interface prototypes, create a visual style and translate all this into a convenient and simple final product.\\n\\nTools: Figma, Adobe Photoshop, Adobe Illustrator.\\n\\nSkills and the way to create a site:\\n\\n- Analysis of competitors;\\n\\n- Determination of the target audience;\\n\\n- Wireframing;\\n\\n- Prototyping;\\n\\n- Userflow;\\n\\n- Testing;\\n\\n- Creation of UI;\\n\\n- Convenient interface;\\n\\n- Basic HTML/CSS.\\n\\nPersonal qualities:\\n\\n- Communication;\\n\\n- Ability to work in a team;\\n\\n- I am not afraid of a large amount of work and difficult tasks;\\n\\n- Learning quickly;\\n\\n- I don't stand still, I'm always learning and developing.\\nI developed websites for educational projects, for sales of psychologist services, a company engaged in repairs, and a company that sells pallets.\\nDuring site development, competitor and target audience analysis was carried out, User flow and wireframe, prototyping and UI design, layout on Webflow were developed.\",\n",
    "    \"I'm proud of my high level of self-organization and self-motivation. Over the last 5 years I have had up to 10 regular clients, for whom I satisfied everyday design needs, I have had many realized individual projects,  I have been trained and received a UI/UX certificate in Hillel IT School, have worked as a mentor on UI/UX online course, have successfully worked as remote UI/UX designer at Irish digital marketing company.\\nI am experienced UI/UX and Graphic Designer with a 5+ years history of working in the visual design industry. Love to arrange space around me. So that love to arrange visual content to achieve business goals. Happy clients motivate me to move forward and bring even more benefit by my work. \\n- I help clients to turn the idea into visualized prototype. \\n- I offer solutions that meet users’ needs and help to achieve business goals. \\n- I’m client-oriented and good at soft skills, which allows me to keep positive and productive relationships with the team and clients.\\n\\nNow I work through the UI/UX Design stages depending on the client requirements and also for the internal company needs. I provide UX Research, UX Review, Prototypes, Wireframes, Visual Concepts, UI kits, Design Components kits, ready for development Interface Solutions. \\nAlso I create visual design materials for digital marketing purpose - banners, illustrations, social media content, corporate branded docs, presentations, e-books, ets.\\n\\nI realized UX/UI projects in  SaaS, ecommerce, furniture, finance, insurance, education and other fields. \\n\\nI have experience of independent remote work, as well as experience of working together in a remote and office team.\\nI want to be a part of the team and improve my skills to bring maximum value to the company. So, it should be friendly, professional and ambitious people who want to make product better and don't forget about personal growth.\",\n",
    "    \"________ agreements with 4 long-term clients (1 year+ LTV) ________ 2 new sales channels implemented ________ updated sales/marketing and web production processes ________ increased positions of design agency to top 40 on Clutch ________ managed 20+ projects _________ created PR campaing in collaboration with Verkhovna Rada _________\\n____________ Head of full cycle design agency  ____________  Head of Marketing at full cycle design agency  ____________ Head of Marketing at USA based B2C startup  ____________ Co-Founder at video marketing agency ____________ PM at website studio ____________ Manager at educational startup _________________________________________\\n\\nAt my previous workplace, I've managed a design agency (15+ members), working with sales, marketing, design and development teams. I'm working with UX researches and products improvement backlog and roadmaps, company strategy, communication with clients and subcontractors, CRM, and GA data analytics.\\nI'm looking for an IT company to create a product together. I'm in love with work together with creative people (designers and content makers). But I'm sure that the best creative approach is data-driven and structured decisions\",\n",
    "    \"\\nI've been working as a hybrid - UX/UI designer and mobile developer for about 3 years.\\n\\nCurrently, I'm focused on UX/UI Design. My favorite parts of the process are planning user flow and working on UI. My past coding experience helps me think from a developer's perspective when working on UX, so I create realistic designs and can easily communicate with the developers' team.\\n\\nIn a nutshell, my workflow for the projects looked as follows:\\n- communication with a client in the early stages to collect all specifications and set goals for the project\\n- collaborate with the product manager, and front and back-end developers using Atlassian’s project management tools.\\n- worked with the team in 2-week sprints to ensure on-time and quality delivery.\\n- create designs in Figma and present them to the client and team. (I usually go straight to the hi-fi, since I was working alone on designs, but I'm good at wireframing as well)\\n- design iterations (depends on the time and budget)\\n- implement the design in Flutter \\n- work on app navigation\\n- the client gives beta-version for testing\\n- bug fixing and updates\\n- support the project after release (if required)\"\n",
    "]"
   ]
  },
  {
   "cell_type": "code",
   "execution_count": 72,
   "metadata": {},
   "outputs": [],
   "source": [
    "# Design prompts here\n",
    "from typing import List, Dict\n",
    "def get_prompt_messages(original_cv: str, job_description: str, job_name: str) -> List[Dict[str, str]]:\n",
    "    message1A = f\"I'm applying for a project manager role. This is the job description: {job_description}.\\nPlease wait for further instructions\"\n",
    "    message1B = f\"Got it! I'll wait for your next instructions. Just let me know how you'd like to proceed or if you need help with anything specific regarding your application.\"\n",
    "    message2A = f\"Can you revise my resume for this job? I will be disqualified if I lie about my qualifications, so it is imperative that the new resume does not add any information that is not on the original resume. Also, please do not include any additional notes or explanation: I just want the text of the new resume. Again, ensure that the output accurately represents my actual responsibilities and experiences. This is my resume: {original_cv}\"\n",
    "\n",
    "    messages = [\n",
    "        {\"role\": \"user\", \"content\": message1A},\n",
    "        {\"role\": \"assistant\", \"content\": message1B},\n",
    "        {\"role\": \"user\", \"content\": message2A}\n",
    "    ]\n",
    "\n",
    "    return messages\n",
    "\n",
    "# # Example\n",
    "# response = constants.gpt4omini_conversation([   {\"role\": \"user\", \"content\": \"Write a haiku about bugs\"},\n",
    "#                                                 {\"role\": \"assistant\", \"content\": \"Creeping through the leaves,  \\nWhispers of wings in the dusk,  \\nNature's tiny beads.\"},\n",
    "#                                                 {\"role\": \"user\", \"content\": \"Now replace wings with burgers\"}\n",
    "# ])\n",
    "# print(response)"
   ]
  },
  {
   "cell_type": "code",
   "execution_count": 51,
   "metadata": {},
   "outputs": [],
   "source": [
    "def compare_for_hallucinations(original_cv: str, edited_cv: str) -> str:\n",
    "    prompt = f\"This is Resume 1: {original_cv}.\\n\\nThis is Resume 2: {edited_cv}\\n\\nI would like to know whether the second resume has any facts that are explicitly or implicitly not in the first resume\"\n",
    "    return constants.gpt4omini_callable(prompt)"
   ]
  },
  {
   "cell_type": "code",
   "execution_count": 73,
   "metadata": {},
   "outputs": [],
   "source": [
    "example_original_cv: str= example_negative_cv_list[0]\n",
    "\n",
    "example_edited_cv: str = constants.gpt4omini_conversation(get_prompt_messages(original_cv = example_original_cv, job_description = constants.BITS_ORCHESTRA_PM_JOB_DESCRIPTION, job_name = constants.BITS_ORCHESTRA_PM_JOB_NAME))\n",
    "\n",
    "hallucination_comparison: str = compare_for_hallucinations(example_original_cv, example_edited_cv)"
   ]
  },
  {
   "cell_type": "code",
   "execution_count": 74,
   "metadata": {},
   "outputs": [
    {
     "name": "stdout",
     "output_type": "stream",
     "text": [
      "\n",
      "EASTERN Airlines — UX/UI Designer\n",
      "\n",
      "Created design from scratch for Eastern Airlines website and app together with marketing and development teams. I was responsible for the entire cycle of product design, starting from an analysis of previous digital products as well as our competitors services, finding out pains of our customers, forming a new vision of our product, сonducting surveys, making & testing prototypes, analyzing UX to avoid mistakes (typical for airlines services), creating user flow/mind maps/ personas, working on UI (UI kit: fonts, colors, visuals, made custom icons and illustrations specifically for the project images, different states, animations), working closely with dev team e.g. discussing development stages, possible changes, testing, and fixing mistakes. Working on an emotional design by making the website and app products people will love. \n",
      "\n",
      "\n",
      "\n",
      "LTU Media — UX/UI Designer\n",
      "Worked in Israeli company with a design team. Worked with different languages (Hebrew/Chinese/English) and different tools (Figma/Adobe XD/Adobe Photoshop\n"
     ]
    }
   ],
   "source": [
    "print(example_original_cv)"
   ]
  },
  {
   "cell_type": "code",
   "execution_count": 78,
   "metadata": {},
   "outputs": [
    {
     "name": "stdout",
     "output_type": "stream",
     "text": [
      "**[Your Name]**  \n",
      "[Your Address]  \n",
      "[City, State, Zip]  \n",
      "[Your Phone Number]  \n",
      "[Your Email Address]  \n",
      "\n",
      "---\n",
      "\n",
      "**Professional Experience**\n",
      "\n",
      "**EASTERN Airlines** — UX/UI Designer  \n",
      "[Month, Year] – Present  \n",
      "- Managed the entire cycle of product design for Eastern Airlines website and app in collaboration with marketing and development teams.\n",
      "- Conducted analysis of previous digital products and competitor services to identify customer pain points.\n",
      "- Gathered requirements through surveys and created user flow/mind maps/personas to refine product vision.\n",
      "- Developed and tested prototypes while analyzing UX to enhance usability for airline services.\n",
      "- Created a comprehensive UI kit, including fonts, colors, custom visuals, icons, and animations for the project.\n",
      "- Facilitated communication with the development team to discuss stages, implement changes, and address issues during testing.\n",
      "\n",
      "**LTU Media** — UX/UI Designer  \n",
      "[Month, Year] – [Month, Year]  \n",
      "- Collaborated within a design team in an Israeli company, utilizing various languages (Hebrew/Chinese/English) and tools (Figma/Adobe XD/Adobe Photoshop) to deliver innovative design solutions.  \n",
      "- Engaged in design discussions and contributed to meeting project requirements effectively across diverse cultural contexts.  \n",
      "\n",
      "---\n",
      "\n",
      "**Skills**  \n",
      "- Project Management  \n",
      "- UX/UI Design  \n",
      "- Prototyping and Testing  \n",
      "- User Research and Analysis  \n",
      "- Communication and Collaboration  \n",
      "- Design Tools: Figma, Adobe XD, Adobe Photoshop  \n",
      "\n",
      "---\n",
      "\n",
      "**Education**  \n",
      "[Your Degree]  \n",
      "[Your University]  \n",
      "[Year of Graduation]  \n",
      "\n",
      "---\n",
      "\n",
      "**Languages**  \n",
      "- English (Upper-intermediate)  \n",
      "- [Additional Language(s), if applicable]  \n",
      "\n"
     ]
    }
   ],
   "source": [
    "print(example_edited_cv)"
   ]
  },
  {
   "cell_type": "code",
   "execution_count": 79,
   "metadata": {},
   "outputs": [
    {
     "name": "stdout",
     "output_type": "stream",
     "text": [
      "The second resume includes several elements that may not be explicitly mentioned in the first resume. Here’s a breakdown of those aspects:\n",
      "\n",
      "1. **Format and Structure:**\n",
      "   - The second resume has a more structured format with clear sections (Professional Experience, Skills, Education, Languages) that make it easier to read and scan, whereas the first resume is more of a narrative.\n",
      "\n",
      "2. **Bullet Points:**\n",
      "   - The second resume uses bullet points to present information succinctly, making it easier to digest compared to the narrative style of the first resume.\n",
      "\n",
      "3. **Skills Section:**\n",
      "   - The second resume includes a separate \"Skills\" section, detailing specific competencies relevant to the position, such as \"Project Management,\" \"Prototyping and Testing,\" and \"Communication and Collaboration,\" which are not explicitly listed in the first resume.\n",
      "\n",
      "4. **Languages:**\n",
      "   - The second resume explicitly mentions language skills (e.g., \"English (Upper-intermediate)\"). While the first resume notes working in different languages, it doesn’t explicitly list language proficiency or provide details about language skills.\n",
      "\n",
      "5. **Education:**\n",
      "   - The second resume includes an education section, which the first resume does not mention at all.\n",
      "\n",
      "6. **Dates:**\n",
      "   - The second resume has placeholders for dates ([Month, Year]), giving a clear indication of the timeline of employment, while the first resume does not include any dates.\n",
      "\n",
      "7. **Collaboration Aspect:**\n",
      "   - While both resumes mention collaboration with teams, the second resume explicitly refers to \"facilitated communication with the development team\" and “engaged in design discussions,” which adds a layer of emphasis on teamwork that is less emphasized in the first resume.\n",
      "\n",
      "Overall, the second resume presents the information in a more organized and detailed manner while incorporating additional elements that the first resume lacks.\n"
     ]
    }
   ],
   "source": [
    "print(hallucination_comparison)"
   ]
  }
 ],
 "metadata": {
  "kernelspec": {
   "display_name": "Python 3.10.13 ('hiring-test')",
   "language": "python",
   "name": "python3"
  },
  "language_info": {
   "codemirror_mode": {
    "name": "ipython",
    "version": 3
   },
   "file_extension": ".py",
   "mimetype": "text/x-python",
   "name": "python",
   "nbconvert_exporter": "python",
   "pygments_lexer": "ipython3",
   "version": "3.10.13"
  },
  "orig_nbformat": 4,
  "vscode": {
   "interpreter": {
    "hash": "1ef90e252922ec218579f878e8875693d0f6f915d658626d8644d9a71eb203b8"
   }
  }
 },
 "nbformat": 4,
 "nbformat_minor": 2
}
