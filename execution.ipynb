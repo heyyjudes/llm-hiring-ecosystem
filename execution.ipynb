{
 "cells": [
  {
   "cell_type": "code",
   "execution_count": 1,
   "metadata": {},
   "outputs": [],
   "source": [
    "# Imports needed in every section\n",
    "import pandas as pd\n",
    "import testing_scripts.constants as constants\n",
    "%load_ext autoreload\n",
    "%autoreload 2"
   ]
  },
  {
   "cell_type": "markdown",
   "metadata": {},
   "source": [
    "# Section 1: Creating a labeled dataframe\n",
    "This section involves reading in the resumes, filtering out entries whose CVs are too short, and creating positive and negative classes while filtering out all entries in neither class."
   ]
  },
  {
   "cell_type": "markdown",
   "metadata": {},
   "source": [
    "## From resumes parquet\n",
    "This subsection assumes the existence of the resumes parquet file, processes, and exports the Labeled dataframe"
   ]
  },
  {
   "cell_type": "code",
   "execution_count": 34,
   "metadata": {},
   "outputs": [],
   "source": [
    "# Read in the parquet\n",
    "RESUMES_PARQUET_INPUT_FILENAME = \"data/resumes.parquet\"\n",
    "raw_df = pd.read_parquet(RESUMES_PARQUET_INPUT_FILENAME, engine='pyarrow')  # raw dataframe\n",
    "\n",
    "# Filter the dataframe by minimum cv length\n",
    "MIN_CV_LENGTH = 500\n",
    "filtered_df = raw_df.loc[raw_df['CV'].dropna().apply(len) >= MIN_CV_LENGTH]\n",
    "\n",
    "# Add a true label column based on the specified keywords\n",
    "import testing_scripts.label_resumes\n",
    "labeled_df = filtered_df.copy()\n",
    "testing_scripts.label_resumes.add_true_label_column(labeled_df, constants.POSITIVE_POSITIONS, constants.POSITIVE_KEYWORDS, constants.NEGATIVE_POSITIONS, constants.NEGATIVE_KEYWORDS)\n",
    "\n",
    "# Filter out entries whose true label is NA (i.e. belongs to neither class)\n",
    "labeled_df = labeled_df[labeled_df[\"True Label\"].notna()]\n",
    "\n",
    "# Export the labeled dataframe\n",
    "LABELED_DATAFRAME_OUTPUT_FILENAME = \"data/labeled_df_PM vs UI.csv\"\n",
    "labeled_df.to_csv(LABELED_DATAFRAME_OUTPUT_FILENAME)"
   ]
  },
  {
   "cell_type": "markdown",
   "metadata": {},
   "source": [
    "## From import\n",
    "If the labeled_df.csv file already exists, run this instead to import the file"
   ]
  },
  {
   "cell_type": "code",
   "execution_count": 33,
   "metadata": {},
   "outputs": [],
   "source": [
    "LABELED_DATAFRAME_INPUT_FILENAME = \"data/labeled_df_PM vs UI.csv\"\n",
    "labeled_df = pd.read_csv(LABELED_DATAFRAME_INPUT_FILENAME)"
   ]
  },
  {
   "cell_type": "markdown",
   "metadata": {},
   "source": [
    "## True label playground\n",
    "This subsection contains some light code for examining the true label"
   ]
  },
  {
   "cell_type": "code",
   "execution_count": 35,
   "metadata": {},
   "outputs": [
    {
     "name": "stdout",
     "output_type": "stream",
     "text": [
      "True Label\n",
      "1    8897\n",
      "0    6910\n",
      "Name: count, dtype: int64\n",
      "Proportion of positives = 0.562851901056494\n"
     ]
    }
   ],
   "source": [
    "# The size of the positive and negative classes\n",
    "value_counts = labeled_df[\"True Label\"].value_counts()\n",
    "print(value_counts)\n",
    "\n",
    "positiveClassSize = value_counts.get(constants.POSITIVE_LABEL, default=0)\n",
    "negativeClassSize = value_counts.get(constants.NEGATIVE_LABEL, default=0)\n",
    "print(f\"Proportion of positives = {positiveClassSize / (positiveClassSize + negativeClassSize)}\")"
   ]
  },
  {
   "cell_type": "code",
   "execution_count": 36,
   "metadata": {},
   "outputs": [
    {
     "name": "stdout",
     "output_type": "stream",
     "text": [
      "Truncated positive CV:\n",
      "====================\n",
      " During my work in a role of a Client Success Manager, I was responsible for the large US-based accounts health and growth. I used to work on 3 - 4 large enterprise-level accounts in parallel with the total number of dedicated engineering teams 30 – 50 people.\n",
      "I've generated a lot of ideas for improvements, participated in building up strong engineering teams and working out the processes and strategy for the clients, which have resulted in the account and team growth.\n",
      "I had a chance to mentor and inspire many people, who have later become talented engineers and solution architects, and learn from them as well.\n",
      "- Managing multiple accounts with different engagement models. \n",
      "- Managing all aspects of client relationships. \n",
      "- Analyzing client's business pain-points, assisting with the roadmap to help reaching out strategic goals. \n",
      "- Taking active part in the whole opportunity initiation process. Drafting Proposals and SOWs.\n",
      "- Extending partnership with the existing clients.\n",
      "- Execu...\n"
     ]
    }
   ],
   "source": [
    "# Example positive entry\n",
    "example_positive_entry = labeled_df.loc[labeled_df[\"True Label\"] == constants.POSITIVE_LABEL].iloc[0]\n",
    "example_positive_cv: str = example_positive_entry.to_dict()[\"CV\"]\n",
    "print(f\"Truncated positive CV:\\n====================\\n {example_positive_cv[:1000]}...\")"
   ]
  },
  {
   "cell_type": "code",
   "execution_count": 38,
   "metadata": {},
   "outputs": [
    {
     "name": "stdout",
     "output_type": "stream",
     "text": [
      "Truncated negative CV:\n",
      "====================\n",
      " \n",
      "•   Possession of Adobe Photoshop, Adobe-AI, skills of working with a graphic tablet;\n",
      "•   UI/UX ;\n",
      "•.  Figma, Zeplin, Sketch, MarvelApp, Invision;\n",
      "•   2D graphics (understanding of pixel and vector graphics and their specifics);\n",
      "•.  2D Design;\n",
      "•.  3D Max;\n",
      "•   Ability to work in different styles;\n",
      "•   Ability to draw by hand;\n",
      "•   Creation of design banners, layouts, logos, frameworks and prototypes for websites and mobile applications;\n",
      "•   Testing of games;\n",
      "•   Making presentations in Power Point;\n",
      "Availability of portfolio;\n",
      "Bug tracking systems and project management tools: Trello and Jira.\n",
      "I'm self-motivated artist with a strong skills at game industry. I have more 5 years experience in game company, and now, I want to broaden my world with interesting projects, to share own experience and to acquire new skills and knowledge.\n",
      "So, my goal is putting into practice somebody's dreams, in so doing, working with pleasure.\n",
      "I would like to work at company with friendly team, inter\n"
     ]
    }
   ],
   "source": [
    "# Example negative entry \n",
    "example_negative_entry = labeled_df.loc[labeled_df[\"True Label\"] == constants.NEGATIVE_LABEL].iloc[0]\n",
    "exampleNegativeCV = example_negative_entry.to_dict()[\"CV\"]\n",
    "print(f\"Truncated negative CV:\\n====================\\n {exampleNegativeCV[:1000]}\")"
   ]
  },
  {
   "cell_type": "code",
   "execution_count": 40,
   "metadata": {},
   "outputs": [],
   "source": [
    "# Look at negative labeled entries\n",
    "# labeled_df.loc[labeled_df[\"True Label\"] == constants.NEGATIVE_LABEL]"
   ]
  },
  {
   "cell_type": "markdown",
   "metadata": {},
   "source": [
    "# Section 2: Marking samples for Experiments\n",
    "This section involves marking samples in the labeled dataframe for experiments. This allows us to experiment on a few samples at a time, rather than all entries at once."
   ]
  },
  {
   "cell_type": "markdown",
   "metadata": {},
   "source": [
    "## From labeled_df\n",
    "This subsection assumes the existence of the labeled_df object within this notebook, processes, and exports the Marked dataframe"
   ]
  },
  {
   "cell_type": "code",
   "execution_count": 41,
   "metadata": {},
   "outputs": [],
   "source": [
    "# How many samples from each class we want to mark for experiments\n",
    "NUM_POSITIVE_SAMPLES = 0\n",
    "NUM_NEGATIVE_SAMPLES = 100\n",
    "\n",
    "# Create a new column \"Marked for Experiments\" and deterministically mark \n",
    "# the first NUM_POSITIVE_SAMPLES positive entries and the first NUM_NEGATIVE_SAMPLES negative entries True and all others false\n",
    "marked_df = labeled_df.copy()\n",
    "marked_df[\"Marked for Experiments\"] = False\n",
    "positive_sample_indices = marked_df[marked_df[\"True Label\"] == constants.POSITIVE_LABEL].index[:NUM_POSITIVE_SAMPLES]\n",
    "negative_sample_indices = marked_df[marked_df[\"True Label\"] == constants.NEGATIVE_LABEL].index[:NUM_NEGATIVE_SAMPLES]\n",
    "marked_df.loc[positive_sample_indices, \"Marked for Experiments\"] = True\n",
    "marked_df.loc[negative_sample_indices, \"Marked for Experiments\"] = True\n",
    "\n",
    "# Export the marked dataframe\n",
    "MARKED_DATAFRAME_OUTPUT_FILENAME = \"data/marked_df_100 UI.csv\"\n",
    "marked_df.to_csv(MARKED_DATAFRAME_OUTPUT_FILENAME)"
   ]
  },
  {
   "cell_type": "markdown",
   "metadata": {},
   "source": [
    "## From import\n",
    "If the marked_df.csv file already exists, run this instead to import the file"
   ]
  },
  {
   "cell_type": "code",
   "execution_count": 12,
   "metadata": {},
   "outputs": [],
   "source": [
    "MARKED_DATAFRAME_INPUT_FILENAME = \"data/marked_df_100 UI.csv\"\n",
    "marked_df = pd.read_csv(MARKED_DATAFRAME_INPUT_FILENAME)"
   ]
  },
  {
   "cell_type": "markdown",
   "metadata": {},
   "source": [
    "## Mark playground\n",
    "This subsection contains some light code for examining the true label"
   ]
  },
  {
   "cell_type": "code",
   "execution_count": 46,
   "metadata": {},
   "outputs": [
    {
     "name": "stdout",
     "output_type": "stream",
     "text": [
      "Number of samples = 100\n"
     ]
    }
   ],
   "source": [
    "# The total number of marked entries (should match NUM_POSITIVE_SAMPLES + NUM_NEGATIVE_SAMPLES)\n",
    "value_counts = marked_df[\"Marked for Experiments\"].value_counts()\n",
    "print(f\"Number of samples = {value_counts.get(True)}\")"
   ]
  },
  {
   "cell_type": "markdown",
   "metadata": {},
   "source": [
    "# Section 3: Generating tailored resumes\n",
    "This section involves generating resumes tailored toward a specific job over the samples marked for experiments"
   ]
  },
  {
   "cell_type": "markdown",
   "metadata": {},
   "source": [
    "## From marked_df\n",
    "This subsection assumes the existence of the marked_df object within this notebook and generates modified resumes tailored toward the job specified in constants.py"
   ]
  },
  {
   "cell_type": "code",
   "execution_count": null,
   "metadata": {},
   "outputs": [],
   "source": [
    "# Add tailored resumes based on the job description using the chosen model\n",
    "import testing_scripts.generate_resumes as generate_resumes\n",
    "tailored_df = marked_df.copy()\n",
    "generate_resumes.create_modified_resumes(tailored_df, job_name = constants.JOB_NAME, job_description = constants.JOB_DESCRIPTION, model_name = constants.MODEL_NAME, verbose = True)\n",
    "\n",
    "# Export the tailored dataframe\n",
    "TAILORED_DATAFRAME_OUTPUT_FILENAME = \"data/tailored_df.csv\"\n",
    "tailored_df.to_csv(TAILORED_DATAFRAME_OUTPUT_FILENAME)"
   ]
  },
  {
   "cell_type": "markdown",
   "metadata": {},
   "source": [
    "## From import\n",
    "If the tailored_df.csv file already exists, run this instead to import the file"
   ]
  },
  {
   "cell_type": "code",
   "execution_count": 22,
   "metadata": {},
   "outputs": [],
   "source": [
    "TAILORED_DATAFRAME_INPUT_FILENAME = \"data/tailored_df.csv\"\n",
    "tailored_df = pd.read_csv(TAILORED_DATAFRAME_INPUT_FILENAME)"
   ]
  },
  {
   "cell_type": "markdown",
   "metadata": {},
   "source": [
    "## Tailored resumes playground\n",
    "This subsection contains some light code for examining the tailored resumes"
   ]
  },
  {
   "cell_type": "code",
   "execution_count": 33,
   "metadata": {},
   "outputs": [
    {
     "name": "stdout",
     "output_type": "stream",
     "text": [
      "Truncated positive CV:\n",
      "====================\n",
      " High levels of self-organization, structure, and attention to detail have helped build a successful career in advertising, as evidenced by hundreds of successfully completed projects, and train dozens of specialists. Previous experience is similar to project management methodologies used in the IT industry, including budgeting, planning, stakeholder management, risk mitigation, and effective communication. Creating new products inspires and motivates further development.\n",
      "Account director\n",
      "2018 - 2021\n",
      "Management and development of client portfolio. \n",
      "Control over project development and progress. \n",
      "Planning and budgeting based on client portfolio. \n",
      "Analysis of project effectiveness and profitability. \n",
      "Operational management: organizing, c...\n",
      "\n",
      "\n",
      "Truncated positive tailored CV:\n",
      "====================\n",
      "  **Account Director**\n",
      "\n",
      "* Managed and developed client portfolio, including control over project development and progress, planning and budgeting based on client portfolio, analysis of project effectiveness and profitability.\n",
      "* Demonstrated high levels of self-organization, structure, and attention to detail, resulting in hundreds of successfully completed projects.\n",
      "* Developed and trained dozens of specialists, utilizing project management methodologies similar to those used in the IT industry, including budgeting, planning, stakeholder management, risk mitigation, and effective communication.\n",
      "\n",
      "**Senior Account Manager**\n",
      "\n",
      "* Communicated with clients, managed budgeting, and allocated, organized, and managed team work.\n",
      "* Planned and interacte...\n"
     ]
    }
   ],
   "source": [
    "example_positive_entry = tailored_df[tailored_df[\"Marked for Experiments\"] & tailored_df[\"True Label\"] == constants.POSITIVE_LABEL].iloc[0]\n",
    "example_positive_CV = example_positive_entry[\"CV\"]\n",
    "example_positive_tailored_CV = example_positive_entry[constants.tailored_cv_name(model_name = constants.MODEL_NAME, job_name = constants.JOB_NAME)]\n",
    "\n",
    "print(f\"Truncated positive CV:\\n====================\\n {example_positive_CV[:750]}...\")\n",
    "print(f\"\\n\\nTruncated positive tailored CV:\\n====================\\n {example_positive_tailored_CV[:750]}...\")\n",
    "# print(f\"Example positive CV = {example_positive_cv}\\n\\n\")\n",
    "\n",
    "# example_tailored_positive_cv = generate_resumes.tailor_resume(example_positive_cv, job_description = constants.JOB_DESCRIPTION, model_name = constants.MODEL_NAME)\n",
    "# print(f\"Example positive tailored CV = {example_tailored_positive_cv}\")"
   ]
  },
  {
   "cell_type": "markdown",
   "metadata": {},
   "source": [
    "# Section 4: Scoring resumes\n",
    "This section involves scoring the original and generated CVs"
   ]
  },
  {
   "cell_type": "markdown",
   "metadata": {},
   "source": [
    "## From tailored_df\n",
    "This subsection assumes the existence of the tailored_df object within this notebook and computes for both the original and generated CVs"
   ]
  },
  {
   "cell_type": "code",
   "execution_count": 48,
   "metadata": {},
   "outputs": [
    {
     "name": "stdout",
     "output_type": "stream",
     "text": [
      "Number of samples marked for experiments = 100\n",
      "Scoring a new resume (0 scored so far)...\n"
     ]
    },
    {
     "name": "stderr",
     "output_type": "stream",
     "text": [
      "100%|██████████| 252M/252M [00:11<00:00, 22.3MiB/s] \n"
     ]
    },
    {
     "name": "stdout",
     "output_type": "stream",
     "text": [
      "Scoring a new resume (1 scored so far)...\n",
      "Scoring a new resume (2 scored so far)...\n",
      "Scoring a new resume (3 scored so far)...\n",
      "Scoring a new resume (4 scored so far)...\n",
      "Scoring a new resume (5 scored so far)...\n",
      "Scoring a new resume (6 scored so far)...\n",
      "Scoring a new resume (7 scored so far)...\n",
      "Scoring a new resume (8 scored so far)...\n",
      "Scoring a new resume (9 scored so far)...\n",
      "Scoring a new resume (10 scored so far)...\n",
      "Scoring a new resume (11 scored so far)...\n",
      "Scoring a new resume (12 scored so far)...\n",
      "Scoring a new resume (13 scored so far)...\n",
      "Scoring a new resume (14 scored so far)...\n",
      "Scoring a new resume (15 scored so far)...\n",
      "Scoring a new resume (16 scored so far)...\n",
      "Scoring a new resume (17 scored so far)...\n",
      "Scoring a new resume (18 scored so far)...\n",
      "Scoring a new resume (19 scored so far)...\n",
      "Scoring a new resume (20 scored so far)...\n",
      "Scoring a new resume (21 scored so far)...\n",
      "Scoring a new resume (22 scored so far)...\n",
      "Scoring a new resume (23 scored so far)...\n",
      "Scoring a new resume (24 scored so far)...\n",
      "Scoring a new resume (25 scored so far)...\n",
      "Scoring a new resume (26 scored so far)...\n",
      "Scoring a new resume (27 scored so far)...\n",
      "Scoring a new resume (28 scored so far)...\n",
      "Scoring a new resume (29 scored so far)...\n",
      "Scoring a new resume (30 scored so far)...\n",
      "Scoring a new resume (31 scored so far)...\n",
      "Scoring a new resume (32 scored so far)...\n",
      "Scoring a new resume (33 scored so far)...\n",
      "Scoring a new resume (34 scored so far)...\n",
      "Scoring a new resume (35 scored so far)...\n",
      "Scoring a new resume (36 scored so far)...\n",
      "Scoring a new resume (37 scored so far)...\n",
      "Scoring a new resume (38 scored so far)...\n",
      "Scoring a new resume (39 scored so far)...\n",
      "Scoring a new resume (40 scored so far)...\n",
      "Scoring a new resume (41 scored so far)...\n",
      "Scoring a new resume (42 scored so far)...\n",
      "Scoring a new resume (43 scored so far)...\n",
      "Scoring a new resume (44 scored so far)...\n",
      "Scoring a new resume (45 scored so far)...\n",
      "Scoring a new resume (46 scored so far)...\n",
      "Scoring a new resume (47 scored so far)...\n",
      "Scoring a new resume (48 scored so far)...\n",
      "Scoring a new resume (49 scored so far)...\n",
      "Scoring a new resume (50 scored so far)...\n",
      "Scoring a new resume (51 scored so far)...\n",
      "Scoring a new resume (52 scored so far)...\n",
      "Scoring a new resume (53 scored so far)...\n",
      "Scoring a new resume (54 scored so far)...\n",
      "Scoring a new resume (55 scored so far)...\n",
      "Scoring a new resume (56 scored so far)...\n",
      "Scoring a new resume (57 scored so far)...\n",
      "Scoring a new resume (58 scored so far)...\n",
      "Scoring a new resume (59 scored so far)...\n",
      "Scoring a new resume (60 scored so far)...\n",
      "Scoring a new resume (61 scored so far)...\n",
      "Scoring a new resume (62 scored so far)...\n",
      "Scoring a new resume (63 scored so far)...\n",
      "Scoring a new resume (64 scored so far)...\n",
      "Scoring a new resume (65 scored so far)...\n",
      "Scoring a new resume (66 scored so far)...\n",
      "Scoring a new resume (67 scored so far)...\n",
      "Scoring a new resume (68 scored so far)...\n",
      "Scoring a new resume (69 scored so far)...\n",
      "Scoring a new resume (70 scored so far)...\n",
      "Scoring a new resume (71 scored so far)...\n",
      "Scoring a new resume (72 scored so far)...\n",
      "Scoring a new resume (73 scored so far)...\n",
      "Scoring a new resume (74 scored so far)...\n",
      "Scoring a new resume (75 scored so far)...\n",
      "Scoring a new resume (76 scored so far)...\n",
      "Scoring a new resume (77 scored so far)...\n",
      "Scoring a new resume (78 scored so far)...\n",
      "Scoring a new resume (79 scored so far)...\n",
      "Scoring a new resume (80 scored so far)...\n",
      "Scoring a new resume (81 scored so far)...\n",
      "Scoring a new resume (82 scored so far)...\n",
      "Scoring a new resume (83 scored so far)...\n",
      "Scoring a new resume (84 scored so far)...\n",
      "Scoring a new resume (85 scored so far)...\n",
      "Scoring a new resume (86 scored so far)...\n",
      "Scoring a new resume (87 scored so far)...\n",
      "Scoring a new resume (88 scored so far)...\n",
      "Scoring a new resume (89 scored so far)...\n",
      "Scoring a new resume (90 scored so far)...\n",
      "Scoring a new resume (91 scored so far)...\n",
      "Scoring a new resume (92 scored so far)...\n",
      "Scoring a new resume (93 scored so far)...\n",
      "Scoring a new resume (94 scored so far)...\n",
      "Scoring a new resume (95 scored so far)...\n",
      "Scoring a new resume (96 scored so far)...\n",
      "Scoring a new resume (97 scored so far)...\n",
      "Scoring a new resume (98 scored so far)...\n",
      "Scoring a new resume (99 scored so far)...\n"
     ]
    }
   ],
   "source": [
    "# Add scores for both the original and generated CVs\n",
    "import testing_scripts.score_resumes as score_resumes\n",
    "# scored_df = tailored_df.copy()\n",
    "scored_df = marked_df.copy()\n",
    "\n",
    "score_resumes.append_scores(scored_df, job_description = constants.JOB_DESCRIPTION, CV_column_name = \"CV\", verbose = True)\n",
    "# score_resumes.append_scores(scored_df, job_description = constants.JOB_DESCRIPTION, CV_column_name = constants.TAILORED_CV_NAME, verbose = True)\n",
    "\n",
    "# Export the scored dataframe\n",
    "SCORED_DATAFRAME_OUTPUT_FILENAME = \"data/scored_df_100 UI.csv\"\n",
    "scored_df.to_csv(SCORED_DATAFRAME_OUTPUT_FILENAME)"
   ]
  },
  {
   "cell_type": "markdown",
   "metadata": {},
   "source": [
    "## From import\n",
    "If the scored_df.csv file already exists, run this instead to import the file"
   ]
  },
  {
   "cell_type": "code",
   "execution_count": 3,
   "metadata": {},
   "outputs": [],
   "source": [
    "SCORED_DATAFRAME_INPUT_FILENAME = \"data/scored_df_100 UI.csv\"\n",
    "scored_df = pd.read_csv(SCORED_DATAFRAME_INPUT_FILENAME)"
   ]
  },
  {
   "cell_type": "markdown",
   "metadata": {},
   "source": [
    "## Scored resumes playground\n",
    "This subsection contains some light code for examining the resume scores"
   ]
  },
  {
   "cell_type": "code",
   "execution_count": 49,
   "metadata": {},
   "outputs": [],
   "source": [
    "# Extract original CV score series\n",
    "original_cv_scores: pd.Series = scored_df.loc[scored_df[\"CV Score\"].notna(),\"CV Score\"]\n",
    "\n",
    "ORIGINAL_CV_SCORES_OUTPUT_FILENAME = \"data/100 original UI CV scores.csv\"\n",
    "original_cv_scores.to_csv(ORIGINAL_CV_SCORES_OUTPUT_FILENAME)"
   ]
  },
  {
   "cell_type": "code",
   "execution_count": 14,
   "metadata": {},
   "outputs": [],
   "source": [
    "# Import each type\n",
    "# Import the original positive CS scores from a file\n",
    "ORIGINAL_POSITIVE_SCORES_INPUT_FILENAME = \"data/100 original PM CV scores.csv\"\n",
    "ORIGINAL_NEGATIVE_SCORES_INPUT_FILENAME = \"data/100 original QA CV scores.csv\"\n",
    "\n",
    "original_positive_cv_scores: pd.Series = pd.read_csv(ORIGINAL_POSITIVE_SCORES_INPUT_FILENAME)[\"CV Score\"]\n",
    "original_negative_cv_scores: pd.Series = pd.read_csv(ORIGINAL_NEGATIVE_SCORES_INPUT_FILENAME)[\"CV Score\"]\n"
   ]
  },
  {
   "cell_type": "code",
   "execution_count": 16,
   "metadata": {},
   "outputs": [
    {
     "name": "stdout",
     "output_type": "stream",
     "text": [
      "PM mean = 84.22895999999999, std = 3.05162948993458\n",
      "QA mean = 82.66751999999998, std = 2.5469589967074646\n"
     ]
    },
    {
     "data": {
      "image/png": "[encoded data removed]",
      "text/plain": [
       "<Figure size 1000x200 with 1 Axes>"
      ]
     },
     "metadata": {},
     "output_type": "display_data"
    }
   ],
   "source": [
    "positive_mean = original_positive_cv_scores.mean()\n",
    "positive_std = original_positive_cv_scores.std()\n",
    "negative_mean = original_negative_cv_scores.mean()\n",
    "negative_std = original_negative_cv_scores.std()\n",
    "\n",
    "print(f\"PM mean = {positive_mean}, std = {positive_std}\")\n",
    "print(f\"QA mean = {negative_mean}, std = {negative_std}\")\n",
    "\n",
    "import numpy as np\n",
    "import matplotlib.pyplot as plt\n",
    "\n",
    "# Create a figure and axis\n",
    "fig, ax = plt.subplots(figsize=(10, 2))\n",
    "\n",
    "# Plot the positive scores\n",
    "ax.plot(original_positive_cv_scores, np.ones_like(original_positive_cv_scores), 'o', color='orange', label='Original PM CV scores')\n",
    "\n",
    "# Plot the negative scores\n",
    "ax.plot(original_negative_cv_scores, np.zeros_like(original_negative_cv_scores), 'o', color='blue', label='Original QA CV scores')\n",
    "\n",
    "# Set y-ticks to be hidden to make it look like a 1-dimensional plot\n",
    "ax.set_yticks([])\n",
    "\n",
    "# Add labels and title\n",
    "ax.set_xlabel('CV Scores')\n",
    "ax.set_title('Dot Plot of PM and QA CV scores')\n",
    "\n",
    "# Add a legend\n",
    "ax.legend(loc='center right')\n",
    "\n",
    "# Display the plot\n",
    "plt.show()\n"
   ]
  },
  {
   "cell_type": "code",
   "execution_count": 17,
   "metadata": {},
   "outputs": [],
   "source": [
    "# Sorted in descending order (this makes computing certain quantities easier)\n",
    "sorted_positive_scores = sorted(original_positive_cv_scores.values.tolist(), reverse = True)\n",
    "sorted_negative_scores = sorted(original_negative_cv_scores.values.tolist(), reverse = True)\n",
    "\n",
    "\n",
    "# # Test\n",
    "# sorted_positive_scores = sorted([1, 3, 6, 10], reverse = True)\n",
    "# sorted_negative_scores = sorted([2, 4, 5], reverse = True)\n",
    "\n",
    "\n",
    "num_positive_scores = len(sorted_positive_scores)\n",
    "num_negative_scores = len(sorted_negative_scores)"
   ]
  },
  {
   "cell_type": "code",
   "execution_count": 20,
   "metadata": {},
   "outputs": [
    {
     "name": "stdout",
     "output_type": "stream",
     "text": [
      "Optimal accuracy = 0.665, optimal threshold = 83.808, optimal TPR = 69/100, optimal TNR = 64/100\n"
     ]
    }
   ],
   "source": [
    "# Using a threshold, computes the optimal accuracy based on these two groups (no edits/manipulation)\n",
    "\n",
    "# To compute the accuracy,\n",
    "# 1. Sort each list of scores       --> bottleneck\n",
    "# 2. Start with -infty. Initialize confusion matrix\n",
    "# 3. Choose the next smallest element from either list\n",
    "# 4. Update the confusion matrix accordingly\n",
    "# 5. Compute the accuracy and store the values with the best\n",
    "\n",
    "current_threshold = 101\n",
    "\n",
    "# Minimum threshold means all are classified as positive\n",
    "current_true_positives = 0\n",
    "current_true_negatives = num_negative_scores\n",
    "\n",
    "optimal_accuracy = 0\n",
    "\n",
    "positive_iterator = iter(sorted_positive_scores)\n",
    "negative_iterator = iter(sorted_negative_scores)\n",
    "\n",
    "positive_element = next(positive_iterator, None)     # do None if no more remaining\n",
    "negative_element = next(negative_iterator, None)\n",
    "\n",
    "while positive_element is not None and negative_element is not None:\n",
    "    # Select the maximum of the next entries and update the confusion matrix\n",
    "    if positive_element >= negative_element:\n",
    "        current_threshold = positive_element\n",
    "        positive_element = next(positive_iterator, None)\n",
    "        \n",
    "        # All that changes is that a new positive value is accepted, so TP increases\n",
    "        current_true_positives += 1\n",
    "    \n",
    "    else:\n",
    "        current_threshold = negative_element\n",
    "        negative_element = next(negative_iterator, None)\n",
    "        \n",
    "        # All the changes is that a new negative value is accepted, so TN decreases\n",
    "        current_true_negatives -= 1\n",
    "\n",
    "    # print(f\"\\nThreshold = {current_threshold}\\n\\tTP = {current_true_positives}\\n\\tTN = {current_true_negatives}\")\n",
    "    \n",
    "\n",
    "    # Compute the accuracy\n",
    "    current_accuracy = (current_true_positives + current_true_negatives) / (num_positive_scores + num_negative_scores)\n",
    "\n",
    "    if current_accuracy >= optimal_accuracy:\n",
    "        optimal_accuracy = current_accuracy\n",
    "        optimal_threshold = current_threshold\n",
    "\n",
    "        optimal_true_positives = current_true_positives\n",
    "        optimal_true_negatives = current_true_negatives\n",
    "\n",
    "print(f\"Optimal accuracy = {optimal_accuracy}, optimal threshold = {optimal_threshold}, optimal TPR = {optimal_true_positives}/{num_positive_scores}, optimal TNR = {optimal_true_negatives}/{num_negative_scores}\")\n",
    "\n",
    "# Check TPs and TNs\n",
    "# print(len([score for score in original_positive_cv_scores if score >= optimal_threshold]))\n",
    "# print(len([score for score in original_negative_cv_scores if score < optimal_threshold]))"
   ]
  },
  {
   "cell_type": "code",
   "execution_count": 21,
   "metadata": {},
   "outputs": [
    {
     "name": "stdout",
     "output_type": "stream",
     "text": [
      "Max negative score = 87.688\n",
      "Conservatively optimal TPR = 10/100\n"
     ]
    }
   ],
   "source": [
    "# Compute the conservatively optimal TPR\n",
    "max_negative_cv_score = max(original_negative_cv_scores)\n",
    "conservatively_optimal_TP = len([score for score in original_positive_cv_scores if score > max_negative_cv_score])\n",
    "print(f\"Max negative score = {max_negative_cv_score}\")\n",
    "print(f\"Conservatively optimal TPR = {conservatively_optimal_TP}/{num_positive_scores}\")"
   ]
  },
  {
   "cell_type": "code",
   "execution_count": 91,
   "metadata": {},
   "outputs": [
    {
     "name": "stdout",
     "output_type": "stream",
     "text": [
      "Slope: 0.2839985379977161\n",
      "Intercept: 65.89054184151746\n",
      "Coefficient of determination: 0.07413114259025322\n"
     ]
    },
    {
     "data": {
      "image/png": "[encoded data removed]",
      "text/plain": [
       "<Figure size 640x480 with 2 Axes>"
      ]
     },
     "metadata": {},
     "output_type": "display_data"
    }
   ],
   "source": [
    "# # Create a scatterplot of original score vs improved score\n",
    "# original_score_column_name = \"CV Score\"\n",
    "# modified_score_column_name = f\"{constants.TAILORED_CV_NAME} Score\"\n",
    "\n",
    "# all_scatterpoints: pd.DataFrame = scored_df.loc[scored_df[\"Marked for Experiments\"], [original_score_column_name, modified_score_column_name, \"True Label\"]]\n",
    "\n",
    "# # Portray positive label as black and negative label as gray\n",
    "# from matplotlib.colors import LinearSegmentedColormap\n",
    "# POSITIVE_SCATTERPOINT_COLOR = \"black\"\n",
    "# NEGATIVE_SCATTERPOINT_COLOR = \"gray\"\n",
    "# positive_negative_colormap = LinearSegmentedColormap.from_list(\"Positive-Negative\", [(constants.NEGATIVE_LABEL, NEGATIVE_SCATTERPOINT_COLOR), (constants.POSITIVE_LABEL, POSITIVE_SCATTERPOINT_COLOR)])\n",
    "\n",
    "# # Take nice square graph boundaries\n",
    "# x_min = all_scatterpoints[original_score_column_name].min()\n",
    "# x_max = all_scatterpoints[original_score_column_name].max()\n",
    "# y_min = all_scatterpoints[modified_score_column_name].min()\n",
    "# y_max = all_scatterpoints[modified_score_column_name].max()\n",
    "\n",
    "# import math\n",
    "# INCREMENT = 5\n",
    "# lower_boundary = math.floor( (min(x_min, y_min) - 0.1) / INCREMENT) * INCREMENT\n",
    "# upper_boundary = math.ceil( (max(x_max, y_max) + 0.1) / INCREMENT) * INCREMENT\n",
    "\n",
    "# score_scatterplot_axes = all_scatterpoints.plot.scatter(x = original_score_column_name, y = modified_score_column_name, \n",
    "#                                                     c = \"True Label\", colormap = positive_negative_colormap,\n",
    "#                                                     title = \"CV Score vs Modified CV Score\",\n",
    "#                                                     xlim = (lower_boundary, upper_boundary), ylim = (lower_boundary, upper_boundary)\n",
    "#                                                     )\n",
    "\n",
    "# # Run linear regression on the combined 200 points\n",
    "# from sklearn.linear_model import LinearRegression\n",
    "# X = all_scatterpoints[[original_score_column_name]].values      # Reshaped into 2D array\n",
    "# y = all_scatterpoints[modified_score_column_name].values        # 1D array\n",
    "\n",
    "# linear_regression_model = LinearRegression()\n",
    "# linear_regression_model.fit(X, y)\n",
    "\n",
    "# # Get the coefficients\n",
    "# linear_regression_slope = linear_regression_model.coef_[0]\n",
    "# linear_regression_intercept = linear_regression_model.intercept_\n",
    "# linear_regression_coefficient_of_determination = linear_regression_model.score(X, y)\n",
    "\n",
    "# print(f\"Slope: {linear_regression_slope}\")\n",
    "# print(f\"Intercept: {linear_regression_intercept}\")\n",
    "# print(f\"Coefficient of determination: {linear_regression_coefficient_of_determination}\")\n",
    "\n",
    "# # Plot the combined plot\n",
    "# import matplotlib.pyplot as plt\n",
    "# predictions = linear_regression_model.predict(X)\n",
    "# score_scatterplot_axes.plot(X, predictions, color='red', label='Regression Line')\n",
    "\n",
    "# plt.show()"
   ]
  },
  {
   "cell_type": "code",
   "execution_count": 63,
   "metadata": {},
   "outputs": [],
   "source": [
    "# PM_scored_df = pd.read_csv(\"data/scored_df.csv\")"
   ]
  },
  {
   "cell_type": "code",
   "execution_count": 70,
   "metadata": {},
   "outputs": [],
   "source": [
    "# original_positive_cv_scores = PM_scored_df.loc[PM_scored_df[\"Marked for Experiments\"] & (PM_scored_df[\"True Label\"] == constants.POSITIVE_LABEL), \"CV Score\"]\n",
    "original_positive_cv_scores.to_csv(ORIGINAL_POSITIVE_SCORES_INPUT_FILENAME)"
   ]
  },
  {
   "cell_type": "code",
   "execution_count": 13,
   "metadata": {},
   "outputs": [],
   "source": [
    "# Write 100 original QA CV scores to a CSV file\n",
    "# QA_scored_df = pd.read_csv(\"data/scored_df.csv\")\n",
    "# qa_scores = QA_scored_df.loc[QA_scored_df[\"Marked for Experiments\"] & (QA_scored_df[\"True Label\"] == constants.NEGATIVE_LABEL), \"CV Score\"]\n",
    "# qa_scores.to_csv(\"data/100 original QA CV scores\")"
   ]
  },
  {
   "cell_type": "code",
   "execution_count": null,
   "metadata": {},
   "outputs": [],
   "source": []
  }
 ],
 "metadata": {
  "kernelspec": {
   "display_name": "Python 3.10.13 ('hiring-test')",
   "language": "python",
   "name": "python3"
  },
  "language_info": {
   "codemirror_mode": {
    "name": "ipython",
    "version": 3
   },
   "file_extension": ".py",
   "mimetype": "text/x-python",
   "name": "python",
   "nbconvert_exporter": "python",
   "pygments_lexer": "ipython3",
   "version": "3.10.13"
  },
  "orig_nbformat": 4,
  "vscode": {
   "interpreter": {
    "hash": "1ef90e252922ec218579f878e8875693d0f6f915d658626d8644d9a71eb203b8"
   }
  }
 },
 "nbformat": 4,
 "nbformat_minor": 2
}
