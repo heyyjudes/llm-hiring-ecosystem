{
 "cells": [
  {
   "cell_type": "code",
   "execution_count": 132,
   "metadata": {},
   "outputs": [
    {
     "name": "stdout",
     "output_type": "stream",
     "text": [
      "The autoreload extension is already loaded. To reload it, use:\n",
      "  %reload_ext autoreload\n"
     ]
    }
   ],
   "source": [
    "# Imports needed in every section\n",
    "import pandas as pd\n",
    "import testing_scripts.constants as constants\n",
    "import numpy as np\n",
    "import matplotlib.pyplot as plt\n",
    "%load_ext autoreload\n",
    "%autoreload 2"
   ]
  },
  {
   "cell_type": "markdown",
   "metadata": {},
   "source": [
    "# Section 1: Creating a labeled dataframe\n",
    "This section involves reading in the resumes, filtering out entries whose CVs are too short, and creating positive and negative classes while filtering out all entries in neither class."
   ]
  },
  {
   "cell_type": "markdown",
   "metadata": {},
   "source": [
    "## From resumes parquet\n",
    "This subsection assumes the existence of the resumes parquet file, processes, and exports the Labeled dataframe"
   ]
  },
  {
   "cell_type": "code",
   "execution_count": 316,
   "metadata": {},
   "outputs": [],
   "source": [
    "# Read in the parquet\n",
    "RESUMES_PARQUET_INPUT_FILENAME = \"data/resumes.parquet\"\n",
    "raw_df = pd.read_parquet(RESUMES_PARQUET_INPUT_FILENAME, engine='pyarrow')  # raw dataframe\n",
    "\n",
    "# Filter the dataframe by minimum cv length\n",
    "MIN_CV_LENGTH = 1000\n",
    "filtered_df = raw_df.loc[raw_df['CV'].dropna().apply(len) >= MIN_CV_LENGTH]\n",
    "\n",
    "# Add a true label column based on the specified keywords\n",
    "import testing_scripts.label_resumes\n",
    "labeled_df = filtered_df.copy()\n",
    "testing_scripts.label_resumes.add_true_label_column(labeled_df, constants.POSITIVE_POSITIONS, constants.POSITIVE_KEYWORDS, constants.NEGATIVE_POSITIONS, constants.NEGATIVE_KEYWORDS)\n",
    "\n",
    "# Filter out entries whose true label is NA (i.e. belongs to neither class)\n",
    "labeled_df = labeled_df[labeled_df[\"True Label\"].notna()]\n",
    "\n",
    "# Export the labeled dataframe\n",
    "LABELED_DATAFRAME_OUTPUT_FILENAME = \"data/labeled_df_PM vs UI_1000 chars min.csv\"\n",
    "labeled_df.to_csv(LABELED_DATAFRAME_OUTPUT_FILENAME)"
   ]
  },
  {
   "cell_type": "markdown",
   "metadata": {},
   "source": [
    "## From import\n",
    "If the labeled_df.csv file already exists, run this instead to import the file"
   ]
  },
  {
   "cell_type": "code",
   "execution_count": 317,
   "metadata": {},
   "outputs": [],
   "source": [
    "LABELED_DATAFRAME_INPUT_FILENAME = \"data/labeled_df_PM vs UI_1000 chars min.csv\"\n",
    "labeled_df = pd.read_csv(LABELED_DATAFRAME_INPUT_FILENAME)"
   ]
  },
  {
   "cell_type": "markdown",
   "metadata": {},
   "source": [
    "## True label playground\n",
    "This subsection contains some light code for examining the true label"
   ]
  },
  {
   "cell_type": "code",
   "execution_count": 318,
   "metadata": {},
   "outputs": [
    {
     "name": "stdout",
     "output_type": "stream",
     "text": [
      "True Label\n",
      "1    5232\n",
      "0    3596\n",
      "Name: count, dtype: int64\n",
      "Proportion of positives = 0.5926597190756683\n"
     ]
    }
   ],
   "source": [
    "# The size of the positive and negative classes\n",
    "value_counts = labeled_df[\"True Label\"].value_counts()\n",
    "print(value_counts)\n",
    "\n",
    "positiveClassSize = value_counts.get(constants.POSITIVE_LABEL, default=0)\n",
    "negativeClassSize = value_counts.get(constants.NEGATIVE_LABEL, default=0)\n",
    "print(f\"Proportion of positives = {positiveClassSize / (positiveClassSize + negativeClassSize)}\")"
   ]
  },
  {
   "cell_type": "code",
   "execution_count": 313,
   "metadata": {},
   "outputs": [
    {
     "name": "stdout",
     "output_type": "stream",
     "text": [
      "Truncated positive CV:\n",
      "====================\n",
      " During my work in a role of a Client Success Manager, I was responsible for the large US-based accounts health and growth. I used to work on 3 - 4 large enterprise-level accounts in parallel with the total number of dedicated engineering teams 30 – 50 people.\n",
      "I've generated a lot of ideas for improvements, participated in building up strong engineering teams and working out the processes and strategy for the clients, which have resulted in the account and team growth.\n",
      "I had a chance to mentor and inspire many people, who have later become talented engineers and solution architects, and learn from them as well.\n",
      "- Managing multiple accounts with different engagement models. \n",
      "- Managing all aspects of client relationships. \n",
      "- Analyzing client's business pain-points, assisting with the roadmap to help reaching out strategic goals. \n",
      "- Taking active part in the whole opportunity initiation process. Drafting Proposals and SOWs.\n",
      "- Extending partnership with the existing clients.\n",
      "- Execu...\n"
     ]
    }
   ],
   "source": [
    "# Example positive entry\n",
    "example_positive_entry = labeled_df.loc[labeled_df[\"True Label\"] == constants.POSITIVE_LABEL].iloc[0]\n",
    "example_positive_cv: str = example_positive_entry.to_dict()[\"CV\"]\n",
    "print(f\"Truncated positive CV:\\n====================\\n {example_positive_cv[:1000]}...\")"
   ]
  },
  {
   "cell_type": "code",
   "execution_count": 327,
   "metadata": {},
   "outputs": [
    {
     "name": "stdout",
     "output_type": "stream",
     "text": [
      "Truncated negative CV:\n",
      "====================\n",
      " \n",
      "•   Possession of Adobe Photoshop, Adobe-AI, skills of working with a graphic tablet;\n",
      "•   UI/UX ;\n",
      "•.  Figma, Zeplin, Sketch, MarvelApp, Invision;\n",
      "•   2D graphics (understanding of pixel and vector graphics and their specifics);\n",
      "•.  2D Design;\n",
      "•.  3D Max;\n",
      "•   Ability to work in different styles;\n",
      "•   Ability to draw by hand;\n",
      "•   Creation of design banners, layouts, logos, frameworks and prototypes for websites and mobile applications;\n",
      "•   Testing of games;\n",
      "•   Making presentations in Power Point;\n",
      "Availability of portfolio;\n",
      "Bug tracking systems and project management tools: Trello and Jira.\n",
      "I'm self-motivated artist with a strong skills at game industry. I have more 5 years experience in game company, and now, I want to broaden my world with interesting projects, to share own experience and to acquire new skills and knowledge.\n",
      "So, my goal is putting into practice somebody's dreams, in so doing, working with pleasure.\n",
      "I would like to work at company with friendly team, inter\n"
     ]
    }
   ],
   "source": [
    "# Example negative entry \n",
    "example_negative_entry = labeled_df.loc[labeled_df[\"True Label\"] == constants.NEGATIVE_LABEL].iloc[0]\n",
    "example_negative_cv = example_negative_entry.to_dict()[\"CV\"]\n",
    "print(f\"Truncated negative CV:\\n====================\\n {example_negative_cv[:1000]}\")"
   ]
  },
  {
   "cell_type": "code",
   "execution_count": 329,
   "metadata": {},
   "outputs": [
    {
     "data": {
      "text/plain": [
       "\"\\n•   Possession of Adobe Photoshop, Adobe-AI, skills of working with a graphic tablet;\\r\\n•   UI/UX ;\\r\\n•.  Figma, Zeplin, Sketch, MarvelApp, Invision;\\r\\n•   2D graphics (understanding of pixel and vector graphics and their specifics);\\r\\n•.  2D Design;\\r\\n•.  3D Max;\\r\\n•   Ability to work in different styles;\\r\\n•   Ability to draw by hand;\\r\\n•   Creation of design banners, layouts, logos, frameworks and prototypes for websites and mobile applications;\\r\\n•   Testing of games;\\r\\n•   Making presentations in Power Point;\\r\\nAvailability of portfolio;\\r\\nBug tracking systems and project management tools: Trello and Jira.\\nI'm self-motivated artist with a strong skills at game industry. I have more 5 years experience in game company, and now, I want to broaden my world with interesting projects, to share own experience and to acquire new skills and knowledge.\\r\\nSo, my goal is putting into practice somebody's dreams, in so doing, working with pleasure.\\r\\nI would like to work at company with friendly team, interesting projects and a decent wage.\""
      ]
     },
     "execution_count": 329,
     "metadata": {},
     "output_type": "execute_result"
    }
   ],
   "source": [
    "example_negative_cv"
   ]
  },
  {
   "cell_type": "code",
   "execution_count": 40,
   "metadata": {},
   "outputs": [],
   "source": [
    "# Look at negative labeled entries\n",
    "# labeled_df.loc[labeled_df[\"True Label\"] == constants.NEGATIVE_LABEL]"
   ]
  },
  {
   "cell_type": "markdown",
   "metadata": {},
   "source": [
    "# Section 2: Marking samples for Experiments\n",
    "This section involves marking samples in the labeled dataframe for experiments. This allows us to experiment on a few samples at a time, rather than all entries at once."
   ]
  },
  {
   "cell_type": "markdown",
   "metadata": {},
   "source": [
    "## From labeled_df\n",
    "This subsection assumes the existence of the labeled_df object within this notebook, processes, and exports the Marked dataframe"
   ]
  },
  {
   "cell_type": "code",
   "execution_count": 331,
   "metadata": {},
   "outputs": [],
   "source": [
    "# How many samples from each class we want to mark for experiments\n",
    "NUM_POSITIVE_SAMPLES = 100\n",
    "NUM_NEGATIVE_SAMPLES = 100\n",
    "\n",
    "# Create a new column \"Marked for Experiments\" and deterministically mark \n",
    "# the first NUM_POSITIVE_SAMPLES positive entries and the first NUM_NEGATIVE_SAMPLES negative entries True and all others false\n",
    "marked_df = labeled_df.copy()\n",
    "marked_df[\"Marked for Experiments\"] = False\n",
    "positive_sample_indices = marked_df[marked_df[\"True Label\"] == constants.POSITIVE_LABEL].index[:NUM_POSITIVE_SAMPLES]\n",
    "negative_sample_indices = marked_df[marked_df[\"True Label\"] == constants.NEGATIVE_LABEL].index[:NUM_NEGATIVE_SAMPLES]\n",
    "marked_df.loc[positive_sample_indices, \"Marked for Experiments\"] = True\n",
    "marked_df.loc[negative_sample_indices, \"Marked for Experiments\"] = True\n",
    "\n",
    "# Export the marked dataframe\n",
    "MARKED_DATAFRAME_OUTPUT_FILENAME = \"data/marked_df_100 PM vs 100 UI_1000 chars min.csv\"\n",
    "marked_df.to_csv(MARKED_DATAFRAME_OUTPUT_FILENAME)"
   ]
  },
  {
   "cell_type": "markdown",
   "metadata": {},
   "source": [
    "## From import\n",
    "If the marked_df.csv file already exists, run this instead to import the file"
   ]
  },
  {
   "cell_type": "code",
   "execution_count": 2,
   "metadata": {},
   "outputs": [],
   "source": [
    "MARKED_DATAFRAME_INPUT_FILENAME = \"data/marked_df_100 PM vs 100 UI_1000 chars min.csv\"\n",
    "marked_df = pd.read_csv(MARKED_DATAFRAME_INPUT_FILENAME)"
   ]
  },
  {
   "cell_type": "markdown",
   "metadata": {},
   "source": [
    "## Mark playground\n",
    "This subsection contains some light code for examining the true label"
   ]
  },
  {
   "cell_type": "code",
   "execution_count": 332,
   "metadata": {},
   "outputs": [
    {
     "name": "stdout",
     "output_type": "stream",
     "text": [
      "Number of samples = 200\n"
     ]
    }
   ],
   "source": [
    "# The total number of marked entries (should match NUM_POSITIVE_SAMPLES + NUM_NEGATIVE_SAMPLES)\n",
    "value_counts = marked_df[\"Marked for Experiments\"].value_counts()\n",
    "print(f\"Number of samples = {value_counts.get(True)}\")"
   ]
  },
  {
   "cell_type": "markdown",
   "metadata": {},
   "source": [
    "# Section 3: Generating tailored resumes\n",
    "This section involves generating resumes tailored toward a specific job over the samples marked for experiments"
   ]
  },
  {
   "cell_type": "markdown",
   "metadata": {},
   "source": [
    "## From marked_df\n",
    "This subsection assumes the existence of the marked_df object within this notebook and generates modified resumes tailored toward the job specified in constants.py"
   ]
  },
  {
   "cell_type": "code",
   "execution_count": 333,
   "metadata": {},
   "outputs": [
    {
     "name": "stdout",
     "output_type": "stream",
     "text": [
      "Number of samples marked for experiments = 200\n",
      "Generating a new tailored resume (1 generated so far)...\n",
      "Generating a new tailored resume (2 generated so far)...\n",
      "Generating a new tailored resume (3 generated so far)...\n",
      "Generating a new tailored resume (4 generated so far)...\n",
      "Generating a new tailored resume (5 generated so far)...\n",
      "Generating a new tailored resume (6 generated so far)...\n",
      "Generating a new tailored resume (7 generated so far)...\n",
      "Generating a new tailored resume (8 generated so far)...\n",
      "Generating a new tailored resume (9 generated so far)...\n",
      "Generating a new tailored resume (10 generated so far)...\n",
      "Generating a new tailored resume (11 generated so far)...\n",
      "Generating a new tailored resume (12 generated so far)...\n",
      "Generating a new tailored resume (13 generated so far)...\n",
      "Generating a new tailored resume (14 generated so far)...\n",
      "Generating a new tailored resume (15 generated so far)...\n",
      "Generating a new tailored resume (16 generated so far)...\n",
      "Generating a new tailored resume (17 generated so far)...\n",
      "Generating a new tailored resume (18 generated so far)...\n",
      "Generating a new tailored resume (19 generated so far)...\n",
      "Generating a new tailored resume (20 generated so far)...\n",
      "Generating a new tailored resume (21 generated so far)...\n",
      "Generating a new tailored resume (22 generated so far)...\n",
      "Generating a new tailored resume (23 generated so far)...\n",
      "Generating a new tailored resume (24 generated so far)...\n",
      "Generating a new tailored resume (25 generated so far)...\n",
      "Generating a new tailored resume (26 generated so far)...\n",
      "Generating a new tailored resume (27 generated so far)...\n",
      "Generating a new tailored resume (28 generated so far)...\n",
      "Generating a new tailored resume (29 generated so far)...\n",
      "Generating a new tailored resume (30 generated so far)...\n",
      "Generating a new tailored resume (31 generated so far)...\n",
      "Generating a new tailored resume (32 generated so far)...\n",
      "Generating a new tailored resume (33 generated so far)...\n",
      "Generating a new tailored resume (34 generated so far)...\n",
      "Generating a new tailored resume (35 generated so far)...\n",
      "Generating a new tailored resume (36 generated so far)...\n",
      "Generating a new tailored resume (37 generated so far)...\n",
      "Generating a new tailored resume (38 generated so far)...\n",
      "Generating a new tailored resume (39 generated so far)...\n",
      "Generating a new tailored resume (40 generated so far)...\n",
      "Generating a new tailored resume (41 generated so far)...\n",
      "Generating a new tailored resume (42 generated so far)...\n",
      "Generating a new tailored resume (43 generated so far)...\n",
      "Generating a new tailored resume (44 generated so far)...\n",
      "Generating a new tailored resume (45 generated so far)...\n",
      "Generating a new tailored resume (46 generated so far)...\n",
      "Generating a new tailored resume (47 generated so far)...\n",
      "Generating a new tailored resume (48 generated so far)...\n",
      "Generating a new tailored resume (49 generated so far)...\n",
      "Generating a new tailored resume (50 generated so far)...\n",
      "Generating a new tailored resume (51 generated so far)...\n",
      "Generating a new tailored resume (52 generated so far)...\n",
      "Generating a new tailored resume (53 generated so far)...\n",
      "Generating a new tailored resume (54 generated so far)...\n",
      "Generating a new tailored resume (55 generated so far)...\n",
      "Generating a new tailored resume (56 generated so far)...\n",
      "Generating a new tailored resume (57 generated so far)...\n",
      "Generating a new tailored resume (58 generated so far)...\n",
      "Generating a new tailored resume (59 generated so far)...\n",
      "Generating a new tailored resume (60 generated so far)...\n",
      "Generating a new tailored resume (61 generated so far)...\n",
      "Generating a new tailored resume (62 generated so far)...\n",
      "Generating a new tailored resume (63 generated so far)...\n",
      "Generating a new tailored resume (64 generated so far)...\n",
      "Generating a new tailored resume (65 generated so far)...\n",
      "Generating a new tailored resume (66 generated so far)...\n",
      "Generating a new tailored resume (67 generated so far)...\n",
      "Generating a new tailored resume (68 generated so far)...\n",
      "Generating a new tailored resume (69 generated so far)...\n",
      "Generating a new tailored resume (70 generated so far)...\n",
      "Generating a new tailored resume (71 generated so far)...\n",
      "Generating a new tailored resume (72 generated so far)...\n",
      "Generating a new tailored resume (73 generated so far)...\n",
      "Generating a new tailored resume (74 generated so far)...\n",
      "Generating a new tailored resume (75 generated so far)...\n",
      "Generating a new tailored resume (76 generated so far)...\n",
      "Generating a new tailored resume (77 generated so far)...\n",
      "Generating a new tailored resume (78 generated so far)...\n",
      "Generating a new tailored resume (79 generated so far)...\n",
      "Generating a new tailored resume (80 generated so far)...\n",
      "Generating a new tailored resume (81 generated so far)...\n",
      "Generating a new tailored resume (82 generated so far)...\n",
      "Generating a new tailored resume (83 generated so far)...\n",
      "Generating a new tailored resume (84 generated so far)...\n",
      "Generating a new tailored resume (85 generated so far)...\n",
      "Generating a new tailored resume (86 generated so far)...\n",
      "Generating a new tailored resume (87 generated so far)...\n",
      "Generating a new tailored resume (88 generated so far)...\n",
      "Generating a new tailored resume (89 generated so far)...\n",
      "Generating a new tailored resume (90 generated so far)...\n",
      "Generating a new tailored resume (91 generated so far)...\n",
      "Generating a new tailored resume (92 generated so far)...\n",
      "Generating a new tailored resume (93 generated so far)...\n",
      "Generating a new tailored resume (94 generated so far)...\n",
      "Generating a new tailored resume (95 generated so far)...\n",
      "Generating a new tailored resume (96 generated so far)...\n",
      "Generating a new tailored resume (97 generated so far)...\n",
      "Generating a new tailored resume (98 generated so far)...\n",
      "Generating a new tailored resume (99 generated so far)...\n",
      "Generating a new tailored resume (100 generated so far)...\n",
      "Generating a new tailored resume (101 generated so far)...\n",
      "Generating a new tailored resume (102 generated so far)...\n",
      "Generating a new tailored resume (103 generated so far)...\n",
      "Generating a new tailored resume (104 generated so far)...\n",
      "Generating a new tailored resume (105 generated so far)...\n",
      "Generating a new tailored resume (106 generated so far)...\n",
      "Generating a new tailored resume (107 generated so far)...\n",
      "Generating a new tailored resume (108 generated so far)...\n",
      "Generating a new tailored resume (109 generated so far)...\n",
      "Generating a new tailored resume (110 generated so far)...\n",
      "Generating a new tailored resume (111 generated so far)...\n",
      "Generating a new tailored resume (112 generated so far)...\n",
      "Generating a new tailored resume (113 generated so far)...\n",
      "Generating a new tailored resume (114 generated so far)...\n",
      "Generating a new tailored resume (115 generated so far)...\n",
      "Generating a new tailored resume (116 generated so far)...\n",
      "Generating a new tailored resume (117 generated so far)...\n",
      "Generating a new tailored resume (118 generated so far)...\n",
      "Generating a new tailored resume (119 generated so far)...\n",
      "Generating a new tailored resume (120 generated so far)...\n",
      "Generating a new tailored resume (121 generated so far)...\n",
      "Generating a new tailored resume (122 generated so far)...\n",
      "Generating a new tailored resume (123 generated so far)...\n",
      "Generating a new tailored resume (124 generated so far)...\n",
      "Generating a new tailored resume (125 generated so far)...\n",
      "Generating a new tailored resume (126 generated so far)...\n",
      "Generating a new tailored resume (127 generated so far)...\n",
      "Generating a new tailored resume (128 generated so far)...\n",
      "Generating a new tailored resume (129 generated so far)...\n",
      "Generating a new tailored resume (130 generated so far)...\n",
      "Generating a new tailored resume (131 generated so far)...\n",
      "Generating a new tailored resume (132 generated so far)...\n",
      "Generating a new tailored resume (133 generated so far)...\n",
      "Generating a new tailored resume (134 generated so far)...\n",
      "Generating a new tailored resume (135 generated so far)...\n",
      "Generating a new tailored resume (136 generated so far)...\n",
      "Generating a new tailored resume (137 generated so far)...\n",
      "Generating a new tailored resume (138 generated so far)...\n",
      "Generating a new tailored resume (139 generated so far)...\n",
      "Generating a new tailored resume (140 generated so far)...\n",
      "Generating a new tailored resume (141 generated so far)...\n",
      "Generating a new tailored resume (142 generated so far)...\n",
      "Generating a new tailored resume (143 generated so far)...\n",
      "Generating a new tailored resume (144 generated so far)...\n",
      "Generating a new tailored resume (145 generated so far)...\n",
      "Generating a new tailored resume (146 generated so far)...\n",
      "Generating a new tailored resume (147 generated so far)...\n",
      "Generating a new tailored resume (148 generated so far)...\n",
      "Generating a new tailored resume (149 generated so far)...\n",
      "Generating a new tailored resume (150 generated so far)...\n",
      "Generating a new tailored resume (151 generated so far)...\n",
      "Generating a new tailored resume (152 generated so far)...\n",
      "Generating a new tailored resume (153 generated so far)...\n",
      "Generating a new tailored resume (154 generated so far)...\n",
      "Generating a new tailored resume (155 generated so far)...\n",
      "Generating a new tailored resume (156 generated so far)...\n",
      "Generating a new tailored resume (157 generated so far)...\n",
      "Generating a new tailored resume (158 generated so far)...\n",
      "Generating a new tailored resume (159 generated so far)...\n",
      "Generating a new tailored resume (160 generated so far)...\n",
      "Generating a new tailored resume (161 generated so far)...\n",
      "Generating a new tailored resume (162 generated so far)...\n",
      "Generating a new tailored resume (163 generated so far)...\n",
      "Generating a new tailored resume (164 generated so far)...\n",
      "Generating a new tailored resume (165 generated so far)...\n",
      "Generating a new tailored resume (166 generated so far)...\n",
      "Generating a new tailored resume (167 generated so far)...\n",
      "Generating a new tailored resume (168 generated so far)...\n",
      "Generating a new tailored resume (169 generated so far)...\n",
      "Generating a new tailored resume (170 generated so far)...\n",
      "Generating a new tailored resume (171 generated so far)...\n",
      "Generating a new tailored resume (172 generated so far)...\n",
      "Generating a new tailored resume (173 generated so far)...\n",
      "Generating a new tailored resume (174 generated so far)...\n",
      "Generating a new tailored resume (175 generated so far)...\n",
      "Generating a new tailored resume (176 generated so far)...\n",
      "Generating a new tailored resume (177 generated so far)...\n",
      "Generating a new tailored resume (178 generated so far)...\n",
      "Generating a new tailored resume (179 generated so far)...\n",
      "Generating a new tailored resume (180 generated so far)...\n",
      "Generating a new tailored resume (181 generated so far)...\n",
      "Generating a new tailored resume (182 generated so far)...\n",
      "Generating a new tailored resume (183 generated so far)...\n",
      "Generating a new tailored resume (184 generated so far)...\n",
      "Generating a new tailored resume (185 generated so far)...\n",
      "Generating a new tailored resume (186 generated so far)...\n",
      "Generating a new tailored resume (187 generated so far)...\n",
      "Generating a new tailored resume (188 generated so far)...\n",
      "Generating a new tailored resume (189 generated so far)...\n",
      "Generating a new tailored resume (190 generated so far)...\n",
      "Generating a new tailored resume (191 generated so far)...\n",
      "Generating a new tailored resume (192 generated so far)...\n",
      "Generating a new tailored resume (193 generated so far)...\n",
      "Generating a new tailored resume (194 generated so far)...\n",
      "Generating a new tailored resume (195 generated so far)...\n",
      "Generating a new tailored resume (196 generated so far)...\n",
      "Generating a new tailored resume (197 generated so far)...\n",
      "Generating a new tailored resume (198 generated so far)...\n",
      "Generating a new tailored resume (199 generated so far)...\n",
      "Generating a new tailored resume (200 generated so far)...\n"
     ]
    }
   ],
   "source": [
    "# Add tailored resumes based on the job description using the chosen model\n",
    "import testing_scripts.generate_resumes as generate_resumes\n",
    "tailored_df = marked_df.copy()\n",
    "generate_resumes.create_modified_resumes(tailored_df, job_name = constants.JOB_NAME, job_description = constants.JOB_DESCRIPTION, model_name = constants.MODEL_NAME, verbose = True)\n",
    "\n",
    "# Export the tailored dataframe\n",
    "TAILORED_DATAFRAME_OUTPUT_FILENAME = \"data/tailored_df_100 PM vs 100 UI_1000 chars min_GPT-4o-mini general.csv\"\n",
    "tailored_df.to_csv(TAILORED_DATAFRAME_OUTPUT_FILENAME)"
   ]
  },
  {
   "cell_type": "markdown",
   "metadata": {},
   "source": [
    "## From import\n",
    "If the tailored_df.csv file already exists, run this instead to import the file"
   ]
  },
  {
   "cell_type": "code",
   "execution_count": 22,
   "metadata": {},
   "outputs": [],
   "source": [
    "TAILORED_DATAFRAME_INPUT_FILENAME = \"data/tailored_df_100 PM vs 100 UI_1000 chars min_GPT-4o-mini general.csv\"\n",
    "tailored_df = pd.read_csv(TAILORED_DATAFRAME_INPUT_FILENAME)"
   ]
  },
  {
   "cell_type": "markdown",
   "metadata": {},
   "source": [
    "## Tailored resumes playground\n",
    "This subsection contains some light code for examining the tailored resumes"
   ]
  },
  {
   "cell_type": "code",
   "execution_count": 343,
   "metadata": {},
   "outputs": [
    {
     "name": "stdout",
     "output_type": "stream",
     "text": [
      "Truncated positive CV:\n",
      "====================\n",
      " During my work in a role of a Client Success Manager, I was responsible for the large US-based accounts health and growth. I used to work on 3 - 4 large enterprise-level accounts in parallel with the total number of dedicated engineering teams 30 – 50 people.\n",
      "I've generated a lot of ideas for improvements, participated in building up strong engineering teams and working out the processes and strategy for the clients, which have resulted in the account and team growth.\n",
      "I had a chance to mentor and inspire many people, who have later become talented engineers and solution architects, and learn from them as well.\n",
      "- Managing multiple accounts with different engagement models. \n",
      "- Managing all aspects of client relationships. \n",
      "- Analyzing cli...\n",
      "\n",
      "\n",
      "Truncated positive tailored CV:\n",
      "====================\n",
      " **[Your Name]**  \n",
      "[Your Address]  \n",
      "[City, State, Zip]  \n",
      "[Your Email]  \n",
      "[Your Phone Number]  \n",
      "[LinkedIn Profile]  \n",
      "\n",
      "---\n",
      "\n",
      "**PROFESSIONAL SUMMARY**  \n",
      "Results-driven Project Manager with a strong background in client success and account management. Adept at driving growth for large enterprise-level accounts through strategic planning, team collaboration, and process optimization. Proven ability to analyze client needs, foster team development, and manage complex projects while maintaining strong relationships with stakeholders.\n",
      "\n",
      "---\n",
      "\n",
      "**PROFESSIONAL EXPERIENCE**  \n",
      "\n",
      "**Client Success Manager**  \n",
      "[Company Name], [Location]  \n",
      "[Month, Year] – Present  \n",
      "\n",
      "- Managed the health and growth of multiple large US-based enterprise accounts, overseeing dedicat...\n"
     ]
    }
   ],
   "source": [
    "example_positive_entry = tailored_df[tailored_df[\"Marked for Experiments\"] & tailored_df[\"True Label\"] == constants.POSITIVE_LABEL].iloc[0]\n",
    "example_positive_CV = example_positive_entry[\"CV\"]\n",
    "example_positive_tailored_CV = example_positive_entry[constants.TAILORED_CV_NAME]\n",
    "\n",
    "print(f\"Truncated positive CV:\\n====================\\n {example_positive_CV[:750]}...\")\n",
    "print(f\"\\n\\nTruncated positive tailored CV:\\n====================\\n {example_positive_tailored_CV[:750]}...\")\n",
    "# print(f\"Example positive CV = {example_positive_cv}\\n\\n\")\n",
    "\n",
    "# example_tailored_positive_cv = generate_resumes.tailor_resume(example_positive_cv, job_description = constants.JOB_DESCRIPTION, model_name = constants.MODEL_NAME)\n",
    "# print(f\"Example positive tailored CV = {example_tailored_positive_cv}\")"
   ]
  },
  {
   "cell_type": "code",
   "execution_count": 344,
   "metadata": {},
   "outputs": [
    {
     "name": "stdout",
     "output_type": "stream",
     "text": [
      "Truncated negative CV:\n",
      "====================\n",
      " \n",
      "•   Possession of Adobe Photoshop, Adobe-AI, skills of working with a graphic tablet;\n",
      "•   UI/UX ;\n",
      "•.  Figma, Zeplin, Sketch, MarvelApp, Invision;\n",
      "•   2D graphics (understanding of pixel and vector graphics and their specifics);\n",
      "•.  2D Design;\n",
      "•.  3D Max;\n",
      "•   Ability to work in different styles;\n",
      "•   Ability to draw by hand;\n",
      "•   Creation of design banners, layouts, logos, frameworks and prototypes for websites and mobile applications;\n",
      "•   Testing of games;\n",
      "•   Making presentations in Power Point;\n",
      "Availability of portfolio;\n",
      "Bug tracking systems and project management tools: Trello and Jira.\n",
      "I'm self-motivated artist with a strong skills at game industry. I have more 5 years experience in game company, and now, I want to broaden my...\n",
      "\n",
      "\n",
      "Truncated negative tailored CV:\n",
      "====================\n",
      " **[Your Name]**  \n",
      "[Your Address]  \n",
      "[City, State, Zip]  \n",
      "[Your Email]  \n",
      "[Your Phone Number]  \n",
      "[LinkedIn Profile / Portfolio URL]  \n",
      "\n",
      "---\n",
      "\n",
      "**PROFESSIONAL SUMMARY**  \n",
      "Self-motivated project manager and artist with over 5 years of experience in the game industry. Adept at leading design projects from conception through execution, with expertise in UI/UX design, 2D and 3D graphics, and project management methodologies. Proven ability to collaborate within teams and deliver high-quality products that meet client expectations.\n",
      "\n",
      "---\n",
      "\n",
      "**SKILLS**  \n",
      "- Proficient in Adobe Photoshop, Adobe Illustrator, and graphic tablet techniques  \n",
      "- Strong knowledge of UI/UX principles and best practices  \n",
      "- Experience with design tools: Figma, Zeplin, Sketch, MarvelA...\n"
     ]
    }
   ],
   "source": [
    "example_negative_entry = tailored_df[tailored_df[\"Marked for Experiments\"] & tailored_df[\"True Label\"] == constants.NEGATIVE_LABEL].iloc[0]\n",
    "example_negativeCV = example_negative_entry[\"CV\"]\n",
    "example_negative_tailored_CV = example_negative_entry[constants.tailored_CV_name(model_name = constants.MODEL_NAME, job_name = constants.JOB_NAME)]\n",
    "\n",
    "print(f\"Truncated negative CV:\\n====================\\n {example_negativeCV[:750]}...\")\n",
    "print(f\"\\n\\nTruncated negative tailored CV:\\n====================\\n {example_negative_tailored_CV[:750]}...\")\n",
    "# print(f\"Example positive CV = {example_positive_cv}\\n\\n\")\n",
    "\n",
    "# example_tailored_positive_cv = generate_resumes.tailor_resume(example_positive_cv, job_description = constants.JOB_DESCRIPTION, model_name = constants.MODEL_NAME)\n",
    "# print(f\"Example positive tailored CV = {example_tailored_positive_cv}\")"
   ]
  },
  {
   "cell_type": "markdown",
   "metadata": {},
   "source": [
    "# Section 4: Scoring resumes\n",
    "This section involves scoring the original and generated CVs"
   ]
  },
  {
   "cell_type": "markdown",
   "metadata": {},
   "source": [
    "## From tailored_df\n",
    "This subsection assumes the existence of the tailored_df object within this notebook and computes for both the original and generated CVs"
   ]
  },
  {
   "cell_type": "code",
   "execution_count": 352,
   "metadata": {},
   "outputs": [
    {
     "name": "stdout",
     "output_type": "stream",
     "text": [
      "Number of samples marked for experiments = 200\n",
      "Scoring a new resume (300 scored so far)...\n",
      "Scoring a new resume (301 scored so far)...\n",
      "Scoring a new resume (302 scored so far)...\n",
      "Scoring a new resume (303 scored so far)...\n",
      "Scoring a new resume (304 scored so far)...\n",
      "Scoring a new resume (305 scored so far)...\n",
      "Scoring a new resume (306 scored so far)...\n",
      "Scoring a new resume (307 scored so far)...\n",
      "Scoring a new resume (308 scored so far)...\n",
      "Scoring a new resume (309 scored so far)...\n",
      "Scoring a new resume (310 scored so far)...\n",
      "Scoring a new resume (311 scored so far)...\n",
      "Scoring a new resume (312 scored so far)...\n",
      "Scoring a new resume (313 scored so far)...\n",
      "Scoring a new resume (314 scored so far)...\n",
      "Scoring a new resume (315 scored so far)...\n",
      "Scoring a new resume (316 scored so far)...\n",
      "Scoring a new resume (317 scored so far)...\n",
      "Scoring a new resume (318 scored so far)...\n",
      "Scoring a new resume (319 scored so far)...\n",
      "Scoring a new resume (320 scored so far)...\n",
      "Scoring a new resume (321 scored so far)...\n",
      "Scoring a new resume (322 scored so far)...\n",
      "Scoring a new resume (323 scored so far)...\n",
      "Scoring a new resume (324 scored so far)...\n",
      "Scoring a new resume (325 scored so far)...\n",
      "Scoring a new resume (326 scored so far)...\n",
      "Scoring a new resume (327 scored so far)...\n",
      "Scoring a new resume (328 scored so far)...\n",
      "Scoring a new resume (329 scored so far)...\n",
      "Scoring a new resume (330 scored so far)...\n",
      "Scoring a new resume (331 scored so far)...\n",
      "Scoring a new resume (332 scored so far)...\n",
      "Scoring a new resume (333 scored so far)...\n",
      "Scoring a new resume (334 scored so far)...\n",
      "Scoring a new resume (335 scored so far)...\n",
      "Scoring a new resume (336 scored so far)...\n",
      "Scoring a new resume (337 scored so far)...\n",
      "Scoring a new resume (338 scored so far)...\n",
      "Scoring a new resume (339 scored so far)...\n",
      "Scoring a new resume (340 scored so far)...\n",
      "Scoring a new resume (341 scored so far)...\n",
      "Scoring a new resume (342 scored so far)...\n",
      "Scoring a new resume (343 scored so far)...\n",
      "Scoring a new resume (344 scored so far)...\n",
      "Scoring a new resume (345 scored so far)...\n",
      "Scoring a new resume (346 scored so far)...\n",
      "Scoring a new resume (347 scored so far)...\n",
      "Scoring a new resume (348 scored so far)...\n",
      "Scoring a new resume (349 scored so far)...\n",
      "Scoring a new resume (350 scored so far)...\n",
      "Scoring a new resume (351 scored so far)...\n",
      "Scoring a new resume (352 scored so far)...\n",
      "Scoring a new resume (353 scored so far)...\n",
      "Scoring a new resume (354 scored so far)...\n",
      "Scoring a new resume (355 scored so far)...\n",
      "Scoring a new resume (356 scored so far)...\n",
      "Scoring a new resume (357 scored so far)...\n",
      "Scoring a new resume (358 scored so far)...\n",
      "Scoring a new resume (359 scored so far)...\n",
      "Scoring a new resume (360 scored so far)...\n",
      "Scoring a new resume (361 scored so far)...\n",
      "Scoring a new resume (362 scored so far)...\n",
      "Scoring a new resume (363 scored so far)...\n",
      "Scoring a new resume (364 scored so far)...\n",
      "Scoring a new resume (365 scored so far)...\n",
      "Scoring a new resume (366 scored so far)...\n",
      "Scoring a new resume (367 scored so far)...\n",
      "Scoring a new resume (368 scored so far)...\n",
      "Scoring a new resume (369 scored so far)...\n",
      "Scoring a new resume (370 scored so far)...\n",
      "Scoring a new resume (371 scored so far)...\n",
      "Scoring a new resume (372 scored so far)...\n",
      "Scoring a new resume (373 scored so far)...\n",
      "Scoring a new resume (374 scored so far)...\n",
      "Scoring a new resume (375 scored so far)...\n",
      "Scoring a new resume (376 scored so far)...\n",
      "Scoring a new resume (377 scored so far)...\n",
      "Scoring a new resume (378 scored so far)...\n",
      "Scoring a new resume (379 scored so far)...\n",
      "Scoring a new resume (380 scored so far)...\n",
      "Scoring a new resume (381 scored so far)...\n",
      "Scoring a new resume (382 scored so far)...\n",
      "Scoring a new resume (383 scored so far)...\n",
      "Scoring a new resume (384 scored so far)...\n",
      "Scoring a new resume (385 scored so far)...\n",
      "Scoring a new resume (386 scored so far)...\n",
      "Scoring a new resume (387 scored so far)...\n",
      "Scoring a new resume (388 scored so far)...\n",
      "Scoring a new resume (389 scored so far)...\n",
      "Scoring a new resume (390 scored so far)...\n",
      "Scoring a new resume (391 scored so far)...\n",
      "Scoring a new resume (392 scored so far)...\n",
      "Scoring a new resume (393 scored so far)...\n",
      "Scoring a new resume (394 scored so far)...\n",
      "Scoring a new resume (395 scored so far)...\n",
      "Scoring a new resume (396 scored so far)...\n",
      "Scoring a new resume (397 scored so far)...\n",
      "Scoring a new resume (398 scored so far)...\n",
      "Scoring a new resume (399 scored so far)...\n",
      "Scoring a new resume (400 scored so far)...\n",
      "Scoring a new resume (401 scored so far)...\n",
      "Scoring a new resume (402 scored so far)...\n",
      "Scoring a new resume (403 scored so far)...\n",
      "Scoring a new resume (404 scored so far)...\n",
      "Scoring a new resume (405 scored so far)...\n",
      "Scoring a new resume (406 scored so far)...\n",
      "Scoring a new resume (407 scored so far)...\n",
      "Scoring a new resume (408 scored so far)...\n",
      "Scoring a new resume (409 scored so far)...\n",
      "Scoring a new resume (410 scored so far)...\n",
      "Scoring a new resume (411 scored so far)...\n",
      "Scoring a new resume (412 scored so far)...\n",
      "Scoring a new resume (413 scored so far)...\n",
      "Scoring a new resume (414 scored so far)...\n",
      "Scoring a new resume (415 scored so far)...\n",
      "Scoring a new resume (416 scored so far)...\n",
      "Scoring a new resume (417 scored so far)...\n",
      "Scoring a new resume (418 scored so far)...\n",
      "Scoring a new resume (419 scored so far)...\n",
      "Scoring a new resume (420 scored so far)...\n",
      "Scoring a new resume (421 scored so far)...\n",
      "Scoring a new resume (422 scored so far)...\n",
      "Scoring a new resume (423 scored so far)...\n",
      "Scoring a new resume (424 scored so far)...\n",
      "Scoring a new resume (425 scored so far)...\n",
      "Scoring a new resume (426 scored so far)...\n",
      "Scoring a new resume (427 scored so far)...\n",
      "Scoring a new resume (428 scored so far)...\n",
      "Scoring a new resume (429 scored so far)...\n",
      "Scoring a new resume (430 scored so far)...\n",
      "Scoring a new resume (431 scored so far)...\n",
      "Scoring a new resume (432 scored so far)...\n",
      "Scoring a new resume (433 scored so far)...\n",
      "Scoring a new resume (434 scored so far)...\n",
      "Scoring a new resume (435 scored so far)...\n",
      "Scoring a new resume (436 scored so far)...\n",
      "Scoring a new resume (437 scored so far)...\n",
      "Scoring a new resume (438 scored so far)...\n",
      "Scoring a new resume (439 scored so far)...\n",
      "Scoring a new resume (440 scored so far)...\n",
      "Scoring a new resume (441 scored so far)...\n",
      "Scoring a new resume (442 scored so far)...\n",
      "Scoring a new resume (443 scored so far)...\n",
      "Scoring a new resume (444 scored so far)...\n",
      "Scoring a new resume (445 scored so far)...\n",
      "Scoring a new resume (446 scored so far)...\n",
      "Scoring a new resume (447 scored so far)...\n",
      "Scoring a new resume (448 scored so far)...\n",
      "Scoring a new resume (449 scored so far)...\n",
      "Scoring a new resume (450 scored so far)...\n",
      "Scoring a new resume (451 scored so far)...\n",
      "Scoring a new resume (452 scored so far)...\n",
      "Scoring a new resume (453 scored so far)...\n",
      "Scoring a new resume (454 scored so far)...\n",
      "Scoring a new resume (455 scored so far)...\n",
      "Scoring a new resume (456 scored so far)...\n",
      "Scoring a new resume (457 scored so far)...\n",
      "Scoring a new resume (458 scored so far)...\n",
      "Scoring a new resume (459 scored so far)...\n",
      "Scoring a new resume (460 scored so far)...\n",
      "Scoring a new resume (461 scored so far)...\n",
      "Scoring a new resume (462 scored so far)...\n",
      "Scoring a new resume (463 scored so far)...\n",
      "Scoring a new resume (464 scored so far)...\n",
      "Scoring a new resume (465 scored so far)...\n",
      "Scoring a new resume (466 scored so far)...\n",
      "Scoring a new resume (467 scored so far)...\n",
      "Scoring a new resume (468 scored so far)...\n",
      "Scoring a new resume (469 scored so far)...\n",
      "Scoring a new resume (470 scored so far)...\n",
      "Scoring a new resume (471 scored so far)...\n",
      "Scoring a new resume (472 scored so far)...\n",
      "Scoring a new resume (473 scored so far)...\n",
      "Scoring a new resume (474 scored so far)...\n",
      "Scoring a new resume (475 scored so far)...\n",
      "Scoring a new resume (476 scored so far)...\n",
      "Scoring a new resume (477 scored so far)...\n",
      "Scoring a new resume (478 scored so far)...\n",
      "Scoring a new resume (479 scored so far)...\n",
      "Scoring a new resume (480 scored so far)...\n",
      "Scoring a new resume (481 scored so far)...\n",
      "Scoring a new resume (482 scored so far)...\n",
      "Scoring a new resume (483 scored so far)...\n",
      "Scoring a new resume (484 scored so far)...\n",
      "Scoring a new resume (485 scored so far)...\n",
      "Scoring a new resume (486 scored so far)...\n",
      "Scoring a new resume (487 scored so far)...\n",
      "Scoring a new resume (488 scored so far)...\n",
      "Scoring a new resume (489 scored so far)...\n",
      "Scoring a new resume (490 scored so far)...\n",
      "Scoring a new resume (491 scored so far)...\n",
      "Scoring a new resume (492 scored so far)...\n",
      "Scoring a new resume (493 scored so far)...\n",
      "Scoring a new resume (494 scored so far)...\n",
      "Scoring a new resume (495 scored so far)...\n",
      "Scoring a new resume (496 scored so far)...\n",
      "Scoring a new resume (497 scored so far)...\n",
      "Scoring a new resume (498 scored so far)...\n",
      "Scoring a new resume (499 scored so far)...\n"
     ]
    }
   ],
   "source": [
    "# Add scores for both the original and generated CVs\n",
    "import testing_scripts.score_resumes as score_resumes\n",
    "# scored_df = tailored_df.copy()\n",
    "# scored_df = marked_df.copy()\n",
    "\n",
    "score_resumes.append_scores(scored_df, job_description = constants.JOB_DESCRIPTION, CV_column_name = \"CV\", verbose = True)\n",
    "# score_resumes.append_scores(scored_df, job_description = constants.JOB_DESCRIPTION, CV_column_name = constants.TAILORED_CV_NAME, verbose = True)\n",
    "\n",
    "# Export the scored dataframe\n",
    "SCORED_DATAFRAME_OUTPUT_FILENAME = \"data/scored_df_100 PM vs 100 UI_1000 chars min_GPT-4o-mini general.csv\"\n",
    "scored_df.to_csv(SCORED_DATAFRAME_OUTPUT_FILENAME)"
   ]
  },
  {
   "cell_type": "markdown",
   "metadata": {},
   "source": [
    "## From import\n",
    "If the scored_df.csv file already exists, run this instead to import the file"
   ]
  },
  {
   "cell_type": "code",
   "execution_count": 272,
   "metadata": {},
   "outputs": [],
   "source": [
    "SCORED_DATAFRAME_INPUT_FILENAME = \"data/scored_df_100 PM vs 100 UI_1000 chars min_GPT-4o-mini general.csv\"\n",
    "scored_df = pd.read_csv(SCORED_DATAFRAME_INPUT_FILENAME)"
   ]
  },
  {
   "cell_type": "markdown",
   "metadata": {},
   "source": [
    "## Scored resumes playground\n",
    "This subsection contains some light code for examining the resume scores"
   ]
  },
  {
   "cell_type": "code",
   "execution_count": 370,
   "metadata": {},
   "outputs": [],
   "source": [
    "# Extract original CV score series\n",
    "# original_cv_scores: pd.Series = scored_df.loc[scored_df[\"CV Score\"].notna(),\"CV Score\"]\n",
    "\n",
    "original_positive_cv_scores: pd.Series = scored_df.loc[scored_df[\"Marked for Experiments\"] & (scored_df[\"True Label\"] == constants.POSITIVE_LABEL), \"CV Score\"]\n",
    "original_negative_cv_scores: pd.Series = scored_df.loc[scored_df[\"Marked for Experiments\"] & (scored_df[\"True Label\"] == constants.NEGATIVE_LABEL), \"CV Score\"]\n",
    "\n",
    "ORIGINAL_POSITIVE_CV_SCORES_OUTPUT_FILENAME = \"data/100 original PM CV scores_1000 chars min_GPT-4o-mini general.csv\"\n",
    "ORIGINAL_NEGATIVE_CV_SCORES_OUTPUT_FILENAME = \"data/100 original UI CV scores_1000 chars min_GPT-4o-mini general.csv\"\n",
    "\n",
    "original_positive_cv_scores.to_csv(ORIGINAL_POSITIVE_CV_SCORES_OUTPUT_FILENAME)\n",
    "original_negative_cv_scores.to_csv(ORIGINAL_NEGATIVE_CV_SCORES_OUTPUT_FILENAME)\n",
    "\n",
    "# Extract tailored CV score series\n",
    "tailored_positive_cv_scores: pd.Series = scored_df.loc[scored_df[\"Marked for Experiments\"] & (scored_df[\"True Label\"] == constants.POSITIVE_LABEL), f\"{constants.TAILORED_CV_NAME} Score\"]\n",
    "tailored_negative_cv_scores: pd.Series = scored_df.loc[scored_df[\"Marked for Experiments\"] & (scored_df[\"True Label\"] == constants.NEGATIVE_LABEL), f\"{constants.TAILORED_CV_NAME} Score\"]\n",
    "\n",
    "TAILORED_POSITIVE_CV_SCORES_OUTPUT_FILENAME = \"data/100 tailored PM CV scores_1000 chars min_GPT-4o-mini general.csv\"\n",
    "TAILORED_NEGATIVE_CV_SCORES_OUTPUT_FILENAME = \"data/100 tailored UI CV scores_1000 chars min_GPT-4o-mini general.csv\"\n",
    "\n",
    "tailored_positive_cv_scores.to_csv(TAILORED_POSITIVE_CV_SCORES_OUTPUT_FILENAME)\n",
    "tailored_negative_cv_scores.to_csv(TAILORED_NEGATIVE_CV_SCORES_OUTPUT_FILENAME)"
   ]
  },
  {
   "cell_type": "code",
   "execution_count": 371,
   "metadata": {},
   "outputs": [],
   "source": [
    "# Import each type\n",
    "ORIGINAL_POSITIVE_SCORES_INPUT_FILENAME = \"data/100 original PM CV scores_1000 chars min_GPT-4o-mini general.csv\"\n",
    "ORIGINAL_NEGATIVE_SCORES_INPUT_FILENAME = \"data/100 original UI CV scores_1000 chars min_GPT-4o-mini general.csv\"\n",
    "\n",
    "original_positive_cv_scores: np.ndarray = pd.read_csv(ORIGINAL_POSITIVE_SCORES_INPUT_FILENAME)[\"CV Score\"].values\n",
    "original_negative_cv_scores: np.ndarray = pd.read_csv(ORIGINAL_NEGATIVE_SCORES_INPUT_FILENAME)[\"CV Score\"].values\n",
    "\n",
    "TAILORED_POSITIVE_SCORES_INPUT_FILENAME = \"data/100 tailored PM CV scores_1000 chars min_GPT-4o-mini general.csv\"\n",
    "TAILORED_NEGATIVE_SCORES_INPUT_FILENAME = \"data/100 tailored UI CV scores_1000 chars min_GPT-4o-mini general.csv\"\n",
    "\n",
    "tailored_positive_cv_scores: np.ndarray = pd.read_csv(TAILORED_POSITIVE_SCORES_INPUT_FILENAME)[f\"{constants.TAILORED_CV_NAME} Score\"].values\n",
    "tailored_negative_cv_scores: np.ndarray = pd.read_csv(TAILORED_NEGATIVE_SCORES_INPUT_FILENAME)[f\"{constants.TAILORED_CV_NAME} Score\"].values"
   ]
  },
  {
   "cell_type": "code",
   "execution_count": 376,
   "metadata": {},
   "outputs": [],
   "source": [
    "# positive_cv_scores = original_positive_cv_scores\n",
    "# negative_cv_scores = original_negative_cv_scores\n",
    "# positive_name: str = \"Original PM\"          # change me\n",
    "# negative_name: str = \"Original UI\"          # change me\n",
    "\n",
    "positive_cv_scores = tailored_positive_cv_scores\n",
    "negative_cv_scores = tailored_negative_cv_scores\n",
    "positive_name: str = \"Tailored PM\"          # change me\n",
    "negative_name: str = \"Tailored UI\"          # change me\n",
    "\n",
    "'''\n",
    "Collect key statistics\n",
    "'''\n",
    "num_positive_scores = positive_cv_scores.size\n",
    "num_negative_scores = negative_cv_scores.size\n",
    "positive_proportion = num_positive_scores / (num_positive_scores + num_negative_scores)\n",
    "negative_proportion = 1 - positive_proportion\n",
    "\n",
    "positive_mean = positive_cv_scores.mean()\n",
    "positive_std = positive_cv_scores.std()\n",
    "negative_mean = negative_cv_scores.mean()\n",
    "negative_std = negative_cv_scores.std()\n",
    "\n",
    "from sklearn.metrics import roc_curve, auc\n",
    "y_true = np.concatenate((np.ones(num_positive_scores), np.zeros(num_negative_scores)))\n",
    "y_score = np.concatenate((positive_cv_scores, negative_cv_scores))\n",
    "FPRs, TPRs, thresholds = roc_curve(y_true, y_score, drop_intermediate=False) \n",
    "roc_auc = auc(FPRs, TPRs)\n",
    "\n",
    "accuracies = positive_proportion * TPRs + negative_proportion * (1 - FPRs)\n",
    "optimal_index = np.argmax(accuracies)\n",
    "optimal_accuracy = accuracies[optimal_index]\n",
    "optimal_threshold = thresholds[optimal_index]\n",
    "optimal_TPR = TPRs[optimal_index]\n",
    "optimal_TNR = 1 - FPRs[optimal_index]\n",
    "\n",
    "conservatively_optimal_index = np.argmax(np.where(FPRs == 0, TPRs, -np.NAN))      # mask elements where FPR is not 0 with negative infinity\n",
    "conservatively_optimal_TPR = TPRs[conservatively_optimal_index]\n",
    "conservatively_optimal_threshold = thresholds[conservatively_optimal_index]\n"
   ]
  },
  {
   "cell_type": "code",
   "execution_count": 377,
   "metadata": {},
   "outputs": [
    {
     "name": "stdout",
     "output_type": "stream",
     "text": [
      "Tailored PM score mean = 88.362, std = 1.657\n",
      "Tailored UI score mean = 85.210, std = 1.643\n",
      "Optimal accuracy = 0.8400000000000001\n",
      "\tOptimal threshold = 87.007\n",
      "\tOptimal TPR = 0.79\n",
      "\tOptimal TNR = 0.89\n",
      "Conservatively optimal TPR = 0.37\n",
      "\tConservatively optimal threshold = 89.027\n",
      "AUC = 0.910\n"
     ]
    },
    {
     "data": {
      "image/png": "[encoded data removed]",
      "text/plain": [
       "<Figure size 1000x200 with 1 Axes>"
      ]
     },
     "metadata": {},
     "output_type": "display_data"
    },
    {
     "data": {
      "image/png": "[encoded data removed]",
      "text/plain": [
       "<Figure size 640x480 with 1 Axes>"
      ]
     },
     "metadata": {},
     "output_type": "display_data"
    },
    {
     "name": "stdout",
     "output_type": "stream",
     "text": [
      "Saved to data/figures/100 tailored PM vs 100 tailored UI CV scores_1000 chars min_GPT-4o-mini general.csv.png\n",
      "Saved to data/figures/100 tailored PM vs 100 tailored UI CV ROC curve_1000 chars min_GPT-4o-mini general.csv.png\n"
     ]
    }
   ],
   "source": [
    "'''\n",
    "Print report\n",
    "'''\n",
    "save_to_file: bool = True                   # change me\n",
    "\n",
    "\n",
    "uppercase_first = lambda string : string[0].upper() + string[1:]    # capitalizes first letter\n",
    "lowercase_first = lambda string : string[0].lower() + string[1:]    # uncapitalizes first letter\n",
    "\n",
    "# Print statistics\n",
    "print(f\"{positive_name} score mean = {positive_mean:.3f}, std = {positive_std:.3f}\")\n",
    "print(f\"{negative_name} score mean = {negative_mean:.3f}, std = {negative_std:.3f}\")\n",
    "\n",
    "print(f\"Optimal accuracy = {optimal_accuracy}\\n\\tOptimal threshold = {optimal_threshold}\\n\\tOptimal TPR = {optimal_TPR}\\n\\tOptimal TNR = {optimal_TNR}\")\n",
    "print(f\"Conservatively optimal TPR = {conservatively_optimal_TPR}\\n\\tConservatively optimal threshold = {conservatively_optimal_threshold}\")\n",
    "print(f\"AUC = {roc_auc:.3f}\")\n",
    "\n",
    "\n",
    "# Plot the distributions as a dot plot\n",
    "distribution_figure, distribution_ax = plt.subplots(figsize=(10, 2))  # Create a figure and axis\n",
    "\n",
    "positive_distribution_plot_label: str = f\"{uppercase_first(positive_name)} CV scores\\n(mean = {positive_mean:.2f}, std = {positive_std:.2f})\"\n",
    "negative_distribution_plot_label: str = f\"{uppercase_first(negative_name)} CV scores\\n(mean = {negative_mean:.2f}, std = {negative_std:.2f})\"\n",
    "distribution_ax.plot(positive_cv_scores, np.ones_like(positive_cv_scores), 'o', color='orange', label = positive_distribution_plot_label)  # Plot the positive scores\n",
    "distribution_ax.plot(negative_cv_scores, np.zeros_like(negative_cv_scores), 'o', color='blue', label = negative_distribution_plot_label)   # Plot the negative scores\n",
    "\n",
    "distribution_ax.set_ylim([-0.5, 1.5])\n",
    "distribution_ax.set_yticks([])                                                                                                                           # Set y-ticks to be hidden to make it look like a 1-dimensional plot\n",
    "distribution_ax.set_xlabel('CV Scores')\n",
    "distribution_ax.set_title(f'Dot Plot of {uppercase_first(positive_name)} and {uppercase_first(negative_name)} CV scores')\n",
    "distribution_ax.legend(bbox_to_anchor=(1, 1), loc='upper left')                             # Move legend outside plot\n",
    "# distribution_figure.show()        # causes strange error\n",
    "plt.show()\n",
    "\n",
    "\n",
    "# Plot the ROC curve\n",
    "ROC_figure, ROC_ax = plt.subplots()\n",
    "\n",
    "ROC_ax .plot(FPRs, TPRs, label='ROC curve (area = %0.2f)' % roc_auc)\n",
    "ROC_ax .plot([0, 1], [0, 1], 'k--', label='No Skill')\n",
    "ROC_ax.set_xlim([0.0, 1.0])\n",
    "ROC_ax.set_ylim([0.0, 1.05])\n",
    "ROC_ax.set_xlabel('False Positive Rate')\n",
    "ROC_ax.set_ylabel('True Positive Rate')\n",
    "ROC_ax.set_title(f'ROC Curve for {uppercase_first(positive_name)} vs. {uppercase_first(negative_name)}')\n",
    "ROC_ax.legend()\n",
    "plt.show()\n",
    "\n",
    "# Export the plots\n",
    "if save_to_file:\n",
    "    distribution_plot_filename  = f\"data/figures/{num_positive_scores} {lowercase_first(positive_name)} vs {num_negative_scores} {lowercase_first(negative_name)} CV scores_1000 chars min_GPT-4o-mini general.csv.png\"\n",
    "    ROC_plot_filename           = f\"data/figures/{num_positive_scores} {lowercase_first(positive_name)} vs {num_negative_scores} {lowercase_first(negative_name)} CV ROC curve_1000 chars min_GPT-4o-mini general.csv.png\"\n",
    "\n",
    "    distribution_figure.savefig(distribution_plot_filename, bbox_inches='tight')    # prevent from cropping off\n",
    "    ROC_figure.savefig(ROC_plot_filename, bbox_inches='tight')                      # prevent from cropping off\n",
    "\n",
    "    print(f\"Saved to {distribution_plot_filename}\")\n",
    "    print(f\"Saved to {ROC_plot_filename}\")"
   ]
  },
  {
   "cell_type": "code",
   "execution_count": 269,
   "metadata": {},
   "outputs": [],
   "source": [
    "# Find the threshold that maximizes TPR subject to FPR <= 0.2\n",
    "semiconservatively_optimal_index = np.argmax(np.where(FPRs <= 0.2, TPRs, -np.NAN))      # mask elements where FPR is not 0 with negative infinity\n",
    "semiconservatively_optimal_TPR = TPRs[semiconservatively_optimal_index]\n",
    "semiconservatively_optimal_threshold = thresholds[semiconservatively_optimal_index]\n"
   ]
  },
  {
   "cell_type": "code",
   "execution_count": 279,
   "metadata": {},
   "outputs": [
    {
     "data": {
      "text/plain": [
       "0.49"
      ]
     },
     "execution_count": 279,
     "metadata": {},
     "output_type": "execute_result"
    }
   ],
   "source": [
    "semiconservatively_optimal_TPR "
   ]
  },
  {
   "cell_type": "code",
   "execution_count": 271,
   "metadata": {},
   "outputs": [
    {
     "data": {
      "text/plain": [
       "90.603"
      ]
     },
     "execution_count": 271,
     "metadata": {},
     "output_type": "execute_result"
    }
   ],
   "source": [
    "semiconservatively_optimal_threshold"
   ]
  },
  {
   "cell_type": "code",
   "execution_count": 294,
   "metadata": {},
   "outputs": [
    {
     "data": {
      "text/plain": [
       "\"\\nI worked on the creation and implementation of ideas for branding tenders. I deveoped logos and outdoor advertising, actively worked with UNICEF projects. Also created presentations.I worked with the design of social media and together with the team we developed and designed ideas for outdoor advertising and social projects. Worked on design for the DARNITSA company's social media and its internal projects. I also led the social advertising project for Nova Poshta. Participated in creation of visual design of websites \\r\\nfor customers. Continued to work with UNICEF. Was making landing pages on Tilda and in Figma.\\n\""
      ]
     },
     "execution_count": 294,
     "metadata": {},
     "output_type": "execute_result"
    }
   ],
   "source": [
    "scored_df.loc[scored_df[f\"{constants.TAILORED_CV_NAME} Score\"] >= semiconservatively_optimal_threshold, f\"CV\"].iloc[10]"
   ]
  },
  {
   "cell_type": "code",
   "execution_count": 386,
   "metadata": {},
   "outputs": [
    {
     "name": "stdout",
     "output_type": "stream",
     "text": [
      "[85.019 85.86  85.258 85.191 80.716 88.986 88.174 87.421 87.48  82.948\n",
      " 82.95  86.7   81.252 79.948 83.163 85.802 85.78  87.567 84.017 85.041\n",
      " 86.276 88.236 87.166 88.869 85.653 86.735 83.36  85.094 82.957 86.642\n",
      " 84.382 83.709 88.748 83.627 86.529 88.783 84.996 86.963 84.085 78.62\n",
      " 80.576 80.938 81.939 83.849 86.885 88.398 83.143 80.91  87.553 86.729\n",
      " 79.521 88.263 85.722 80.547 81.972 84.452 87.35  85.361 86.681 83.839\n",
      " 84.7   83.452 84.739 87.49  84.304 84.822 84.889 83.661 80.976 83.479\n",
      " 84.817 80.684 84.8   83.725 86.251 84.455 82.658 85.338 84.794 86.22\n",
      " 86.516 84.571 87.029 88.988 86.619 84.711 81.996 83.662 87.372 82.12\n",
      " 84.539 83.914 83.275 82.212 80.48  83.091 84.527 81.432 85.947 82.644]\n",
      "[84.723 76.719 77.253 78.801 82.66  79.292 76.74  83.928 80.487 79.881\n",
      " 83.368 84.158 80.552 81.784 81.198 80.614 77.925 80.315 80.926 77.916\n",
      " 78.835 80.383 80.544 82.678 79.095 76.556 79.146 80.512 79.188 78.836\n",
      " 78.542 78.768 80.818 77.171 76.636 79.858 81.624 79.969 79.64  79.679\n",
      " 78.789 76.81  77.576 80.6   79.922 73.973 83.031 78.6   79.094 78.66\n",
      " 75.469 78.431 75.736 79.27  77.659 78.4   82.886 75.993 82.161 78.537\n",
      " 81.876 83.023 83.075 78.856 80.211 75.131 78.758 76.724 78.266 76.889\n",
      " 80.42  80.976 79.265 75.965 79.631 83.472 79.074 77.299 77.066 78.232\n",
      " 78.813 79.473 79.649 82.811 82.844 78.645 80.186 80.263 81.928 80.81\n",
      " 72.208 76.093 79.757 77.32  79.415 77.945 79.916 79.152 80.988 77.   ]\n",
      "[89.778 88.325 89.658 89.289 86.528 88.99  90.972 90.417 88.463 85.897\n",
      " 85.439 90.643 88.049 87.258 87.393 87.973 91.676 89.889 91.094 90.506\n",
      " 90.513 88.433 90.437 91.084 88.432 90.192 86.19  88.    86.513 89.042\n",
      " 88.777 86.736 90.595 89.617 88.584 89.954 88.981 88.834 88.472 87.362\n",
      " 86.22  86.062 87.055 87.832 88.211 89.811 87.331 87.931 90.998 87.803\n",
      " 86.472 89.278 89.367 86.234 87.692 87.126 89.369 89.037 89.018 85.498\n",
      " 88.751 86.236 88.051 89.952 85.103 89.614 88.261 89.652 87.081 88.659\n",
      " 88.92  85.261 89.122 86.908 89.228 86.087 89.676 87.333 87.007 89.85\n",
      " 91.12  88.245 90.798 88.498 89.566 90.601 87.845 87.035 90.818 86.396\n",
      " 89.197 87.797 86.886 88.106 86.625 83.744 88.148 84.942 87.149 88.575]\n",
      "[86.651 84.299 85.211 85.602 87.46  84.907 81.742 87.609 84.073 84.296\n",
      " 87.781 87.298 86.774 86.226 83.702 86.249 85.95  86.959 86.251 85.098\n",
      " 83.287 86.991 85.631 86.593 85.036 82.369 85.436 84.829 82.613 84.967\n",
      " 85.831 84.15  84.598 82.615 84.563 85.865 86.047 84.386 84.623 85.816\n",
      " 85.373 82.184 83.422 86.445 88.488 84.073 85.365 85.458 82.411 86.739\n",
      " 85.357 85.947 82.378 80.312 84.701 84.882 86.012 82.989 86.775 86.627\n",
      " 88.694 83.745 87.574 85.859 82.802 84.251 83.75  84.194 86.234 86.\n",
      " 87.062 84.86  84.881 85.444 85.21  84.648 83.514 84.213 82.331 84.526\n",
      " 84.124 86.582 85.452 85.136 88.668 82.774 85.592 84.14  89.027 83.499\n",
      " 84.736 84.627 86.919 87.63  86.811 85.98  86.12  86.132 86.443 84.515]\n"
     ]
    }
   ],
   "source": [
    "# Compute the rate of improvement\n",
    "tailored_negative_cv_scores > original_negative_cv_scores"
   ]
  },
  {
   "cell_type": "code",
   "execution_count": null,
   "metadata": {},
   "outputs": [],
   "source": []
  }
 ],
 "metadata": {
  "kernelspec": {
   "display_name": "Python 3.10.13 ('hiring-test')",
   "language": "python",
   "name": "python3"
  },
  "language_info": {
   "codemirror_mode": {
    "name": "ipython",
    "version": 3
   },
   "file_extension": ".py",
   "mimetype": "text/x-python",
   "name": "python",
   "nbconvert_exporter": "python",
   "pygments_lexer": "ipython3",
   "version": "3.10.13"
  },
  "orig_nbformat": 4,
  "vscode": {
   "interpreter": {
    "hash": "1ef90e252922ec218579f878e8875693d0f6f915d658626d8644d9a71eb203b8"
   }
  }
 },
 "nbformat": 4,
 "nbformat_minor": 2
}
