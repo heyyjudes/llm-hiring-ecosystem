{
 "cells": [
  {
   "cell_type": "code",
   "execution_count": 132,
   "metadata": {},
   "outputs": [
    {
     "name": "stdout",
     "output_type": "stream",
     "text": [
      "The autoreload extension is already loaded. To reload it, use:\n",
      "  %reload_ext autoreload\n"
     ]
    }
   ],
   "source": [
    "# Imports needed in every section\n",
    "import pandas as pd\n",
    "import testing_scripts.constants as constants\n",
    "import numpy as np\n",
    "import matplotlib.pyplot as plt\n",
    "%load_ext autoreload\n",
    "%autoreload 2"
   ]
  },
  {
   "cell_type": "markdown",
   "metadata": {},
   "source": [
    "# Section 1: Creating a labeled dataframe\n",
    "This section involves reading in the resumes, filtering out entries whose CVs are too short, and creating positive and negative classes while filtering out all entries in neither class."
   ]
  },
  {
   "cell_type": "markdown",
   "metadata": {},
   "source": [
    "## From resumes parquet\n",
    "This subsection assumes the existence of the resumes parquet file, processes, and exports the Labeled dataframe"
   ]
  },
  {
   "cell_type": "code",
   "execution_count": 46,
   "metadata": {},
   "outputs": [],
   "source": [
    "# Read in the parquet\n",
    "RESUMES_PARQUET_INPUT_FILENAME = \"data/resumes.parquet\"\n",
    "raw_df = pd.read_parquet(RESUMES_PARQUET_INPUT_FILENAME, engine='pyarrow')  # raw dataframe\n",
    "\n",
    "# Filter the dataframe by minimum cv length\n",
    "MIN_CV_LENGTH = 1000\n",
    "filtered_df = raw_df.loc[raw_df['CV'].dropna().apply(len) >= MIN_CV_LENGTH]\n",
    "\n",
    "# Add a true label column based on the specified keywords\n",
    "import testing_scripts.label_resumes\n",
    "labeled_df = filtered_df.copy()\n",
    "testing_scripts.label_resumes.add_true_label_column(labeled_df, constants.POSITIVE_POSITIONS, constants.POSITIVE_KEYWORDS, constants.NEGATIVE_POSITIONS, constants.NEGATIVE_KEYWORDS)\n",
    "\n",
    "# Filter out entries whose true label is NA (i.e. belongs to neither class)\n",
    "labeled_df = labeled_df[labeled_df[\"True Label\"].notna()]\n",
    "\n",
    "# # Export the labeled dataframe\n",
    "# LABELED_DATAFRAME_OUTPUT_FILENAME = \"data/labeled_df_PM vs UI.csv\"\n",
    "# labeled_df.to_csv(LABELED_DATAFRAME_OUTPUT_FILENAME)"
   ]
  },
  {
   "cell_type": "markdown",
   "metadata": {},
   "source": [
    "## From import\n",
    "If the labeled_df.csv file already exists, run this instead to import the file"
   ]
  },
  {
   "cell_type": "code",
   "execution_count": 33,
   "metadata": {},
   "outputs": [],
   "source": [
    "LABELED_DATAFRAME_INPUT_FILENAME = \"data/labeled_df_PM vs UI.csv\"\n",
    "labeled_df = pd.read_csv(LABELED_DATAFRAME_INPUT_FILENAME)"
   ]
  },
  {
   "cell_type": "markdown",
   "metadata": {},
   "source": [
    "## True label playground\n",
    "This subsection contains some light code for examining the true label"
   ]
  },
  {
   "cell_type": "code",
   "execution_count": 6,
   "metadata": {},
   "outputs": [
    {
     "ename": "NameError",
     "evalue": "name 'labeled_df' is not defined",
     "output_type": "error",
     "traceback": [
      "\u001b[0;31m---------------------------------------------------------------------------\u001b[0m",
      "\u001b[0;31mNameError\u001b[0m                                 Traceback (most recent call last)",
      "Cell \u001b[0;32mIn[6], line 2\u001b[0m\n\u001b[1;32m      1\u001b[0m \u001b[38;5;66;03m# The size of the positive and negative classes\u001b[39;00m\n\u001b[0;32m----> 2\u001b[0m value_counts \u001b[38;5;241m=\u001b[39m \u001b[43mlabeled_df\u001b[49m[\u001b[38;5;124m\"\u001b[39m\u001b[38;5;124mTrue Label\u001b[39m\u001b[38;5;124m\"\u001b[39m]\u001b[38;5;241m.\u001b[39mvalue_counts()\n\u001b[1;32m      3\u001b[0m \u001b[38;5;28mprint\u001b[39m(value_counts)\n\u001b[1;32m      5\u001b[0m positiveClassSize \u001b[38;5;241m=\u001b[39m value_counts\u001b[38;5;241m.\u001b[39mget(constants\u001b[38;5;241m.\u001b[39mPOSITIVE_LABEL, default\u001b[38;5;241m=\u001b[39m\u001b[38;5;241m0\u001b[39m)\n",
      "\u001b[0;31mNameError\u001b[0m: name 'labeled_df' is not defined"
     ]
    }
   ],
   "source": [
    "# The size of the positive and negative classes\n",
    "value_counts = labeled_df[\"True Label\"].value_counts()\n",
    "print(value_counts)\n",
    "\n",
    "positiveClassSize = value_counts.get(constants.POSITIVE_LABEL, default=0)\n",
    "negativeClassSize = value_counts.get(constants.NEGATIVE_LABEL, default=0)\n",
    "print(f\"Proportion of positives = {positiveClassSize / (positiveClassSize + negativeClassSize)}\")"
   ]
  },
  {
   "cell_type": "code",
   "execution_count": 36,
   "metadata": {},
   "outputs": [
    {
     "name": "stdout",
     "output_type": "stream",
     "text": [
      "Truncated positive CV:\n",
      "====================\n",
      " During my work in a role of a Client Success Manager, I was responsible for the large US-based accounts health and growth. I used to work on 3 - 4 large enterprise-level accounts in parallel with the total number of dedicated engineering teams 30 – 50 people.\n",
      "I've generated a lot of ideas for improvements, participated in building up strong engineering teams and working out the processes and strategy for the clients, which have resulted in the account and team growth.\n",
      "I had a chance to mentor and inspire many people, who have later become talented engineers and solution architects, and learn from them as well.\n",
      "- Managing multiple accounts with different engagement models. \n",
      "- Managing all aspects of client relationships. \n",
      "- Analyzing client's business pain-points, assisting with the roadmap to help reaching out strategic goals. \n",
      "- Taking active part in the whole opportunity initiation process. Drafting Proposals and SOWs.\n",
      "- Extending partnership with the existing clients.\n",
      "- Execu...\n"
     ]
    }
   ],
   "source": [
    "# Example positive entry\n",
    "example_positive_entry = labeled_df.loc[labeled_df[\"True Label\"] == constants.POSITIVE_LABEL].iloc[0]\n",
    "example_positive_cv: str = example_positive_entry.to_dict()[\"CV\"]\n",
    "print(f\"Truncated positive CV:\\n====================\\n {example_positive_cv[:1000]}...\")"
   ]
  },
  {
   "cell_type": "code",
   "execution_count": 38,
   "metadata": {},
   "outputs": [
    {
     "name": "stdout",
     "output_type": "stream",
     "text": [
      "Truncated negative CV:\n",
      "====================\n",
      " \n",
      "•   Possession of Adobe Photoshop, Adobe-AI, skills of working with a graphic tablet;\n",
      "•   UI/UX ;\n",
      "•.  Figma, Zeplin, Sketch, MarvelApp, Invision;\n",
      "•   2D graphics (understanding of pixel and vector graphics and their specifics);\n",
      "•.  2D Design;\n",
      "•.  3D Max;\n",
      "•   Ability to work in different styles;\n",
      "•   Ability to draw by hand;\n",
      "•   Creation of design banners, layouts, logos, frameworks and prototypes for websites and mobile applications;\n",
      "•   Testing of games;\n",
      "•   Making presentations in Power Point;\n",
      "Availability of portfolio;\n",
      "Bug tracking systems and project management tools: Trello and Jira.\n",
      "I'm self-motivated artist with a strong skills at game industry. I have more 5 years experience in game company, and now, I want to broaden my world with interesting projects, to share own experience and to acquire new skills and knowledge.\n",
      "So, my goal is putting into practice somebody's dreams, in so doing, working with pleasure.\n",
      "I would like to work at company with friendly team, inter\n"
     ]
    }
   ],
   "source": [
    "# Example negative entry \n",
    "example_negative_entry = labeled_df.loc[labeled_df[\"True Label\"] == constants.NEGATIVE_LABEL].iloc[0]\n",
    "exampleNegativeCV = example_negative_entry.to_dict()[\"CV\"]\n",
    "print(f\"Truncated negative CV:\\n====================\\n {exampleNegativeCV[:1000]}\")"
   ]
  },
  {
   "cell_type": "code",
   "execution_count": 40,
   "metadata": {},
   "outputs": [],
   "source": [
    "# Look at negative labeled entries\n",
    "# labeled_df.loc[labeled_df[\"True Label\"] == constants.NEGATIVE_LABEL]"
   ]
  },
  {
   "cell_type": "markdown",
   "metadata": {},
   "source": [
    "# Section 2: Marking samples for Experiments\n",
    "This section involves marking samples in the labeled dataframe for experiments. This allows us to experiment on a few samples at a time, rather than all entries at once."
   ]
  },
  {
   "cell_type": "markdown",
   "metadata": {},
   "source": [
    "## From labeled_df\n",
    "This subsection assumes the existence of the labeled_df object within this notebook, processes, and exports the Marked dataframe"
   ]
  },
  {
   "cell_type": "code",
   "execution_count": 41,
   "metadata": {},
   "outputs": [],
   "source": [
    "# How many samples from each class we want to mark for experiments\n",
    "NUM_POSITIVE_SAMPLES = 0\n",
    "NUM_NEGATIVE_SAMPLES = 100\n",
    "\n",
    "# Create a new column \"Marked for Experiments\" and deterministically mark \n",
    "# the first NUM_POSITIVE_SAMPLES positive entries and the first NUM_NEGATIVE_SAMPLES negative entries True and all others false\n",
    "marked_df = labeled_df.copy()\n",
    "marked_df[\"Marked for Experiments\"] = False\n",
    "positive_sample_indices = marked_df[marked_df[\"True Label\"] == constants.POSITIVE_LABEL].index[:NUM_POSITIVE_SAMPLES]\n",
    "negative_sample_indices = marked_df[marked_df[\"True Label\"] == constants.NEGATIVE_LABEL].index[:NUM_NEGATIVE_SAMPLES]\n",
    "marked_df.loc[positive_sample_indices, \"Marked for Experiments\"] = True\n",
    "marked_df.loc[negative_sample_indices, \"Marked for Experiments\"] = True\n",
    "\n",
    "# Export the marked dataframe\n",
    "MARKED_DATAFRAME_OUTPUT_FILENAME = \"data/marked_df_100 UI.csv\"\n",
    "marked_df.to_csv(MARKED_DATAFRAME_OUTPUT_FILENAME)"
   ]
  },
  {
   "cell_type": "markdown",
   "metadata": {},
   "source": [
    "## From import\n",
    "If the marked_df.csv file already exists, run this instead to import the file"
   ]
  },
  {
   "cell_type": "code",
   "execution_count": 2,
   "metadata": {},
   "outputs": [],
   "source": [
    "MARKED_DATAFRAME_INPUT_FILENAME = \"data/marked_df_100 UI.csv\"\n",
    "marked_df = pd.read_csv(MARKED_DATAFRAME_INPUT_FILENAME)"
   ]
  },
  {
   "cell_type": "markdown",
   "metadata": {},
   "source": [
    "## Mark playground\n",
    "This subsection contains some light code for examining the true label"
   ]
  },
  {
   "cell_type": "code",
   "execution_count": 46,
   "metadata": {},
   "outputs": [
    {
     "name": "stdout",
     "output_type": "stream",
     "text": [
      "Number of samples = 100\n"
     ]
    }
   ],
   "source": [
    "# The total number of marked entries (should match NUM_POSITIVE_SAMPLES + NUM_NEGATIVE_SAMPLES)\n",
    "value_counts = marked_df[\"Marked for Experiments\"].value_counts()\n",
    "print(f\"Number of samples = {value_counts.get(True)}\")"
   ]
  },
  {
   "cell_type": "markdown",
   "metadata": {},
   "source": [
    "# Section 3: Generating tailored resumes\n",
    "This section involves generating resumes tailored toward a specific job over the samples marked for experiments"
   ]
  },
  {
   "cell_type": "markdown",
   "metadata": {},
   "source": [
    "## From marked_df\n",
    "This subsection assumes the existence of the marked_df object within this notebook and generates modified resumes tailored toward the job specified in constants.py"
   ]
  },
  {
   "cell_type": "code",
   "execution_count": 5,
   "metadata": {},
   "outputs": [
    {
     "name": "stdout",
     "output_type": "stream",
     "text": [
      "Number of samples marked for experiments = 100\n",
      "Generating a new tailored resume (0 generated so far)...\n",
      "Generating a new tailored resume (1 generated so far)...\n",
      "Generating a new tailored resume (2 generated so far)...\n",
      "Generating a new tailored resume (3 generated so far)...\n",
      "Generating a new tailored resume (4 generated so far)...\n",
      "Generating a new tailored resume (5 generated so far)...\n",
      "Generating a new tailored resume (6 generated so far)...\n",
      "Generating a new tailored resume (7 generated so far)...\n",
      "Generating a new tailored resume (8 generated so far)...\n",
      "Generating a new tailored resume (9 generated so far)...\n",
      "Generating a new tailored resume (10 generated so far)...\n",
      "Generating a new tailored resume (11 generated so far)...\n",
      "Generating a new tailored resume (12 generated so far)...\n",
      "Generating a new tailored resume (13 generated so far)...\n",
      "Generating a new tailored resume (14 generated so far)...\n",
      "Generating a new tailored resume (15 generated so far)...\n",
      "Generating a new tailored resume (16 generated so far)...\n",
      "Generating a new tailored resume (17 generated so far)...\n",
      "Generating a new tailored resume (18 generated so far)...\n",
      "Generating a new tailored resume (19 generated so far)...\n",
      "Generating a new tailored resume (20 generated so far)...\n",
      "Generating a new tailored resume (21 generated so far)...\n",
      "Generating a new tailored resume (22 generated so far)...\n",
      "Generating a new tailored resume (23 generated so far)...\n",
      "Generating a new tailored resume (24 generated so far)...\n",
      "Generating a new tailored resume (25 generated so far)...\n",
      "Generating a new tailored resume (26 generated so far)...\n",
      "Generating a new tailored resume (27 generated so far)...\n",
      "Generating a new tailored resume (28 generated so far)...\n",
      "Generating a new tailored resume (29 generated so far)...\n",
      "Generating a new tailored resume (30 generated so far)...\n",
      "Generating a new tailored resume (31 generated so far)...\n",
      "Generating a new tailored resume (32 generated so far)...\n",
      "Generating a new tailored resume (33 generated so far)...\n",
      "Generating a new tailored resume (34 generated so far)...\n",
      "Generating a new tailored resume (35 generated so far)...\n",
      "Generating a new tailored resume (36 generated so far)...\n",
      "Generating a new tailored resume (37 generated so far)...\n",
      "Generating a new tailored resume (38 generated so far)...\n",
      "Generating a new tailored resume (39 generated so far)...\n",
      "Generating a new tailored resume (40 generated so far)...\n",
      "Generating a new tailored resume (41 generated so far)...\n",
      "Generating a new tailored resume (42 generated so far)...\n",
      "Generating a new tailored resume (43 generated so far)...\n",
      "Generating a new tailored resume (44 generated so far)...\n",
      "Generating a new tailored resume (45 generated so far)...\n",
      "Generating a new tailored resume (46 generated so far)...\n",
      "Generating a new tailored resume (47 generated so far)...\n",
      "Generating a new tailored resume (48 generated so far)...\n",
      "Generating a new tailored resume (49 generated so far)...\n",
      "Generating a new tailored resume (50 generated so far)...\n",
      "Generating a new tailored resume (51 generated so far)...\n",
      "Generating a new tailored resume (52 generated so far)...\n",
      "Generating a new tailored resume (53 generated so far)...\n",
      "Generating a new tailored resume (54 generated so far)...\n",
      "Generating a new tailored resume (55 generated so far)...\n",
      "Generating a new tailored resume (56 generated so far)...\n",
      "Generating a new tailored resume (57 generated so far)...\n",
      "Generating a new tailored resume (58 generated so far)...\n",
      "Generating a new tailored resume (59 generated so far)...\n",
      "Generating a new tailored resume (60 generated so far)...\n",
      "Generating a new tailored resume (61 generated so far)...\n",
      "Generating a new tailored resume (62 generated so far)...\n",
      "Generating a new tailored resume (63 generated so far)...\n",
      "Generating a new tailored resume (64 generated so far)...\n",
      "Generating a new tailored resume (65 generated so far)...\n",
      "Generating a new tailored resume (66 generated so far)...\n",
      "Generating a new tailored resume (67 generated so far)...\n",
      "Generating a new tailored resume (68 generated so far)...\n",
      "Generating a new tailored resume (69 generated so far)...\n",
      "Generating a new tailored resume (70 generated so far)...\n",
      "Generating a new tailored resume (71 generated so far)...\n",
      "Generating a new tailored resume (72 generated so far)...\n",
      "Generating a new tailored resume (73 generated so far)...\n",
      "Generating a new tailored resume (74 generated so far)...\n",
      "Generating a new tailored resume (75 generated so far)...\n",
      "Generating a new tailored resume (76 generated so far)...\n",
      "Generating a new tailored resume (77 generated so far)...\n",
      "Generating a new tailored resume (78 generated so far)...\n",
      "Generating a new tailored resume (79 generated so far)...\n",
      "Generating a new tailored resume (80 generated so far)...\n",
      "Generating a new tailored resume (81 generated so far)...\n",
      "Generating a new tailored resume (82 generated so far)...\n",
      "Generating a new tailored resume (83 generated so far)...\n",
      "Generating a new tailored resume (84 generated so far)...\n",
      "Generating a new tailored resume (85 generated so far)...\n",
      "Generating a new tailored resume (86 generated so far)...\n",
      "Generating a new tailored resume (87 generated so far)...\n",
      "Generating a new tailored resume (88 generated so far)...\n",
      "Generating a new tailored resume (89 generated so far)...\n",
      "Generating a new tailored resume (90 generated so far)...\n",
      "Generating a new tailored resume (91 generated so far)...\n",
      "Generating a new tailored resume (92 generated so far)...\n",
      "Generating a new tailored resume (93 generated so far)...\n",
      "Generating a new tailored resume (94 generated so far)...\n",
      "Generating a new tailored resume (95 generated so far)...\n",
      "Generating a new tailored resume (96 generated so far)...\n",
      "Generating a new tailored resume (97 generated so far)...\n",
      "Generating a new tailored resume (98 generated so far)...\n",
      "Generating a new tailored resume (99 generated so far)...\n"
     ]
    }
   ],
   "source": [
    "# Add tailored resumes based on the job description using the chosen model\n",
    "import testing_scripts.generate_resumes as generate_resumes\n",
    "tailored_df = marked_df.copy()\n",
    "generate_resumes.create_modified_resumes(tailored_df, job_name = constants.JOB_NAME, job_description = constants.JOB_DESCRIPTION, model_name = constants.MODEL_NAME, verbose = True)\n",
    "\n",
    "# Export the tailored dataframe\n",
    "TAILORED_DATAFRAME_OUTPUT_FILENAME = \"data/tailored_df_100 PM vs 100 UI.csv\"\n",
    "tailored_df.to_csv(TAILORED_DATAFRAME_OUTPUT_FILENAME)"
   ]
  },
  {
   "cell_type": "markdown",
   "metadata": {},
   "source": [
    "## From import\n",
    "If the tailored_df.csv file already exists, run this instead to import the file"
   ]
  },
  {
   "cell_type": "code",
   "execution_count": 22,
   "metadata": {},
   "outputs": [],
   "source": [
    "TAILORED_DATAFRAME_INPUT_FILENAME = \"data/tailored_df_100 PM vs 100 UI.csv\"\n",
    "tailored_df = pd.read_csv(TAILORED_DATAFRAME_INPUT_FILENAME)"
   ]
  },
  {
   "cell_type": "markdown",
   "metadata": {},
   "source": [
    "## Tailored resumes playground\n",
    "This subsection contains some light code for examining the tailored resumes"
   ]
  },
  {
   "cell_type": "code",
   "execution_count": 7,
   "metadata": {},
   "outputs": [
    {
     "ename": "IndexError",
     "evalue": "single positional indexer is out-of-bounds",
     "output_type": "error",
     "traceback": [
      "\u001b[0;31m---------------------------------------------------------------------------\u001b[0m",
      "\u001b[0;31mIndexError\u001b[0m                                Traceback (most recent call last)",
      "Cell \u001b[0;32mIn[7], line 1\u001b[0m\n\u001b[0;32m----> 1\u001b[0m example_positive_entry \u001b[38;5;241m=\u001b[39m \u001b[43mtailored_df\u001b[49m\u001b[43m[\u001b[49m\u001b[43mtailored_df\u001b[49m\u001b[43m[\u001b[49m\u001b[38;5;124;43m\"\u001b[39;49m\u001b[38;5;124;43mMarked for Experiments\u001b[39;49m\u001b[38;5;124;43m\"\u001b[39;49m\u001b[43m]\u001b[49m\u001b[43m \u001b[49m\u001b[38;5;241;43m&\u001b[39;49m\u001b[43m \u001b[49m\u001b[43mtailored_df\u001b[49m\u001b[43m[\u001b[49m\u001b[38;5;124;43m\"\u001b[39;49m\u001b[38;5;124;43mTrue Label\u001b[39;49m\u001b[38;5;124;43m\"\u001b[39;49m\u001b[43m]\u001b[49m\u001b[43m \u001b[49m\u001b[38;5;241;43m==\u001b[39;49m\u001b[43m \u001b[49m\u001b[43mconstants\u001b[49m\u001b[38;5;241;43m.\u001b[39;49m\u001b[43mPOSITIVE_LABEL\u001b[49m\u001b[43m]\u001b[49m\u001b[38;5;241;43m.\u001b[39;49m\u001b[43miloc\u001b[49m\u001b[43m[\u001b[49m\u001b[38;5;241;43m0\u001b[39;49m\u001b[43m]\u001b[49m\n\u001b[1;32m      2\u001b[0m example_positive_CV \u001b[38;5;241m=\u001b[39m example_positive_entry[\u001b[38;5;124m\"\u001b[39m\u001b[38;5;124mCV\u001b[39m\u001b[38;5;124m\"\u001b[39m]\n\u001b[1;32m      3\u001b[0m example_positive_tailored_CV \u001b[38;5;241m=\u001b[39m example_positive_entry[constants\u001b[38;5;241m.\u001b[39mtailored_cv_name(model_name \u001b[38;5;241m=\u001b[39m constants\u001b[38;5;241m.\u001b[39mMODEL_NAME, job_name \u001b[38;5;241m=\u001b[39m constants\u001b[38;5;241m.\u001b[39mJOB_NAME)]\n",
      "File \u001b[0;32m~/miniforge3/envs/hiring-test/lib/python3.10/site-packages/pandas/core/indexing.py:1191\u001b[0m, in \u001b[0;36m_LocationIndexer.__getitem__\u001b[0;34m(self, key)\u001b[0m\n\u001b[1;32m   1189\u001b[0m maybe_callable \u001b[39m=\u001b[39m com\u001b[39m.\u001b[39mapply_if_callable(key, \u001b[39mself\u001b[39m\u001b[39m.\u001b[39mobj)\n\u001b[1;32m   1190\u001b[0m maybe_callable \u001b[39m=\u001b[39m \u001b[39mself\u001b[39m\u001b[39m.\u001b[39m_check_deprecated_callable_usage(key, maybe_callable)\n\u001b[0;32m-> 1191\u001b[0m \u001b[39mreturn\u001b[39;00m \u001b[39mself\u001b[39;49m\u001b[39m.\u001b[39;49m_getitem_axis(maybe_callable, axis\u001b[39m=\u001b[39;49maxis)\n",
      "File \u001b[0;32m~/miniforge3/envs/hiring-test/lib/python3.10/site-packages/pandas/core/indexing.py:1752\u001b[0m, in \u001b[0;36m_iLocIndexer._getitem_axis\u001b[0;34m(self, key, axis)\u001b[0m\n\u001b[1;32m   1749\u001b[0m     \u001b[39mraise\u001b[39;00m \u001b[39mTypeError\u001b[39;00m(\u001b[39m\"\u001b[39m\u001b[39mCannot index by location index with a non-integer key\u001b[39m\u001b[39m\"\u001b[39m)\n\u001b[1;32m   1751\u001b[0m \u001b[39m# validate the location\u001b[39;00m\n\u001b[0;32m-> 1752\u001b[0m \u001b[39mself\u001b[39;49m\u001b[39m.\u001b[39;49m_validate_integer(key, axis)\n\u001b[1;32m   1754\u001b[0m \u001b[39mreturn\u001b[39;00m \u001b[39mself\u001b[39m\u001b[39m.\u001b[39mobj\u001b[39m.\u001b[39m_ixs(key, axis\u001b[39m=\u001b[39maxis)\n",
      "File \u001b[0;32m~/miniforge3/envs/hiring-test/lib/python3.10/site-packages/pandas/core/indexing.py:1685\u001b[0m, in \u001b[0;36m_iLocIndexer._validate_integer\u001b[0;34m(self, key, axis)\u001b[0m\n\u001b[1;32m   1683\u001b[0m len_axis \u001b[39m=\u001b[39m \u001b[39mlen\u001b[39m(\u001b[39mself\u001b[39m\u001b[39m.\u001b[39mobj\u001b[39m.\u001b[39m_get_axis(axis))\n\u001b[1;32m   1684\u001b[0m \u001b[39mif\u001b[39;00m key \u001b[39m>\u001b[39m\u001b[39m=\u001b[39m len_axis \u001b[39mor\u001b[39;00m key \u001b[39m<\u001b[39m \u001b[39m-\u001b[39mlen_axis:\n\u001b[0;32m-> 1685\u001b[0m     \u001b[39mraise\u001b[39;00m \u001b[39mIndexError\u001b[39;00m(\u001b[39m\"\u001b[39m\u001b[39msingle positional indexer is out-of-bounds\u001b[39m\u001b[39m\"\u001b[39m)\n",
      "\u001b[0;31mIndexError\u001b[0m: single positional indexer is out-of-bounds"
     ]
    }
   ],
   "source": [
    "example_positive_entry = tailored_df[tailored_df[\"Marked for Experiments\"] & tailored_df[\"True Label\"] == constants.POSITIVE_LABEL].iloc[0]\n",
    "example_positive_CV = example_positive_entry[\"CV\"]\n",
    "example_positive_tailored_CV = example_positive_entry[constants.tailored_cv_name(model_name = constants.MODEL_NAME, job_name = constants.JOB_NAME)]\n",
    "\n",
    "print(f\"Truncated positive CV:\\n====================\\n {example_positive_CV[:750]}...\")\n",
    "print(f\"\\n\\nTruncated positive tailored CV:\\n====================\\n {example_positive_tailored_CV[:750]}...\")\n",
    "# print(f\"Example positive CV = {example_positive_cv}\\n\\n\")\n",
    "\n",
    "# example_tailored_positive_cv = generate_resumes.tailor_resume(example_positive_cv, job_description = constants.JOB_DESCRIPTION, model_name = constants.MODEL_NAME)\n",
    "# print(f\"Example positive tailored CV = {example_tailored_positive_cv}\")"
   ]
  },
  {
   "cell_type": "code",
   "execution_count": 9,
   "metadata": {},
   "outputs": [
    {
     "name": "stdout",
     "output_type": "stream",
     "text": [
      "Truncated negative CV:\n",
      "====================\n",
      " \n",
      "•   Possession of Adobe Photoshop, Adobe-AI, skills of working with a graphic tablet;\n",
      "•   UI/UX ;\n",
      "•.  Figma, Zeplin, Sketch, MarvelApp, Invision;\n",
      "•   2D graphics (understanding of pixel and vector graphics and their specifics);\n",
      "•.  2D Design;\n",
      "•.  3D Max;\n",
      "•   Ability to work in different styles;\n",
      "•   Ability to draw by hand;\n",
      "•   Creation of design banners, layouts, logos, frameworks and prototypes for websites and mobile applications;\n",
      "•   Testing of games;\n",
      "•   Making presentations in Power Point;\n",
      "Availability of portfolio;\n",
      "Bug tracking systems and project management tools: Trello and Jira.\n",
      "I'm self-motivated artist with a strong skills at game industry. I have more 5 years experience in game company, and now, I want to broaden my...\n",
      "\n",
      "\n",
      "Truncated negative tailored CV:\n",
      "====================\n",
      "  **PROFESSIONAL PROFILE**\n",
      "\n",
      "Self-motivated artist with over 5 years of experience in the game industry, seeking to broaden my skills and knowledge by working on exciting projects. Strong expertise in Adobe Photoshop, Adobe-AI, Figma, Zeplin, Sketch, MarvelApp, Invision, 2D graphics, 2D design, 3D Max, and bug tracking systems like Jira.\n",
      "\n",
      "**CORE COMPETENCIES**\n",
      "\n",
      "• Project Management: Managed full project life cycle including requirements gathering, creation of project plans and schedules, and facilitating project execution, deployment, and closure using Jira.\n",
      "• Documentation: Collaborated with technical leads to create and maintain comprehensive project documentation.\n",
      "• Client Management: Monitored and increased CSAT level by managing client e...\n"
     ]
    }
   ],
   "source": [
    "example_negative_entry = tailored_df[tailored_df[\"Marked for Experiments\"] & tailored_df[\"True Label\"] == constants.NEGATIVE_LABEL].iloc[0]\n",
    "example_negativeCV = example_negative_entry[\"CV\"]\n",
    "example_negative_tailored_CV = example_negative_entry[constants.tailored_CV_name(model_name = constants.MODEL_NAME, job_name = constants.JOB_NAME)]\n",
    "\n",
    "print(f\"Truncated negative CV:\\n====================\\n {example_negativeCV[:750]}...\")\n",
    "print(f\"\\n\\nTruncated negative tailored CV:\\n====================\\n {example_negative_tailored_CV[:750]}...\")\n",
    "# print(f\"Example positive CV = {example_positive_cv}\\n\\n\")\n",
    "\n",
    "# example_tailored_positive_cv = generate_resumes.tailor_resume(example_positive_cv, job_description = constants.JOB_DESCRIPTION, model_name = constants.MODEL_NAME)\n",
    "# print(f\"Example positive tailored CV = {example_tailored_positive_cv}\")"
   ]
  },
  {
   "cell_type": "markdown",
   "metadata": {},
   "source": [
    "# Section 4: Scoring resumes\n",
    "This section involves scoring the original and generated CVs"
   ]
  },
  {
   "cell_type": "markdown",
   "metadata": {},
   "source": [
    "## From tailored_df\n",
    "This subsection assumes the existence of the tailored_df object within this notebook and computes for both the original and generated CVs"
   ]
  },
  {
   "cell_type": "code",
   "execution_count": 13,
   "metadata": {},
   "outputs": [
    {
     "name": "stdout",
     "output_type": "stream",
     "text": [
      "Number of samples marked for experiments = 100\n",
      "Scoring a new resume (0 scored so far)...\n",
      "Scoring a new resume (1 scored so far)...\n",
      "Scoring a new resume (2 scored so far)...\n",
      "Scoring a new resume (3 scored so far)...\n",
      "Scoring a new resume (4 scored so far)...\n",
      "Scoring a new resume (5 scored so far)...\n",
      "Scoring a new resume (6 scored so far)...\n",
      "Scoring a new resume (7 scored so far)...\n",
      "Scoring a new resume (8 scored so far)...\n",
      "Scoring a new resume (9 scored so far)...\n",
      "Scoring a new resume (10 scored so far)...\n",
      "Scoring a new resume (11 scored so far)...\n",
      "Scoring a new resume (12 scored so far)...\n",
      "Scoring a new resume (13 scored so far)...\n",
      "Scoring a new resume (14 scored so far)...\n",
      "Scoring a new resume (15 scored so far)...\n",
      "Scoring a new resume (16 scored so far)...\n",
      "Scoring a new resume (17 scored so far)...\n",
      "Scoring a new resume (18 scored so far)...\n",
      "Scoring a new resume (19 scored so far)...\n",
      "Scoring a new resume (20 scored so far)...\n",
      "Scoring a new resume (21 scored so far)...\n",
      "Scoring a new resume (22 scored so far)...\n",
      "Scoring a new resume (23 scored so far)...\n",
      "Scoring a new resume (24 scored so far)...\n",
      "Scoring a new resume (25 scored so far)...\n",
      "Scoring a new resume (26 scored so far)...\n",
      "Scoring a new resume (27 scored so far)...\n",
      "Scoring a new resume (28 scored so far)...\n",
      "Scoring a new resume (29 scored so far)...\n",
      "Scoring a new resume (30 scored so far)...\n",
      "Scoring a new resume (31 scored so far)...\n",
      "Scoring a new resume (32 scored so far)...\n",
      "Scoring a new resume (33 scored so far)...\n",
      "Scoring a new resume (34 scored so far)...\n",
      "Scoring a new resume (35 scored so far)...\n",
      "Scoring a new resume (36 scored so far)...\n",
      "Scoring a new resume (37 scored so far)...\n",
      "Scoring a new resume (38 scored so far)...\n",
      "Scoring a new resume (39 scored so far)...\n",
      "Scoring a new resume (40 scored so far)...\n",
      "Scoring a new resume (41 scored so far)...\n",
      "Scoring a new resume (42 scored so far)...\n",
      "Scoring a new resume (43 scored so far)...\n",
      "Scoring a new resume (44 scored so far)...\n",
      "Scoring a new resume (45 scored so far)...\n",
      "Scoring a new resume (46 scored so far)...\n",
      "Scoring a new resume (47 scored so far)...\n",
      "Scoring a new resume (48 scored so far)...\n",
      "Scoring a new resume (49 scored so far)...\n",
      "Scoring a new resume (50 scored so far)...\n",
      "Scoring a new resume (51 scored so far)...\n",
      "Scoring a new resume (52 scored so far)...\n",
      "Scoring a new resume (53 scored so far)...\n",
      "Scoring a new resume (54 scored so far)...\n",
      "Scoring a new resume (55 scored so far)...\n",
      "Scoring a new resume (56 scored so far)...\n",
      "Scoring a new resume (57 scored so far)...\n",
      "Scoring a new resume (58 scored so far)...\n",
      "Scoring a new resume (59 scored so far)...\n",
      "Scoring a new resume (60 scored so far)...\n",
      "Scoring a new resume (61 scored so far)...\n",
      "Scoring a new resume (62 scored so far)...\n",
      "Scoring a new resume (63 scored so far)...\n",
      "Scoring a new resume (64 scored so far)...\n",
      "Scoring a new resume (65 scored so far)...\n",
      "Scoring a new resume (66 scored so far)...\n",
      "Scoring a new resume (67 scored so far)...\n",
      "Scoring a new resume (68 scored so far)...\n",
      "Scoring a new resume (69 scored so far)...\n",
      "Scoring a new resume (70 scored so far)...\n",
      "Scoring a new resume (71 scored so far)...\n",
      "Scoring a new resume (72 scored so far)...\n",
      "Scoring a new resume (73 scored so far)...\n",
      "Scoring a new resume (74 scored so far)...\n",
      "Scoring a new resume (75 scored so far)...\n",
      "Scoring a new resume (76 scored so far)...\n",
      "Scoring a new resume (77 scored so far)...\n",
      "Scoring a new resume (78 scored so far)...\n",
      "Scoring a new resume (79 scored so far)...\n",
      "Scoring a new resume (80 scored so far)...\n",
      "Scoring a new resume (81 scored so far)...\n",
      "Scoring a new resume (82 scored so far)...\n",
      "Scoring a new resume (83 scored so far)...\n",
      "Scoring a new resume (84 scored so far)...\n",
      "Scoring a new resume (85 scored so far)...\n",
      "Scoring a new resume (86 scored so far)...\n",
      "Scoring a new resume (87 scored so far)...\n",
      "Scoring a new resume (88 scored so far)...\n",
      "Scoring a new resume (89 scored so far)...\n",
      "Scoring a new resume (90 scored so far)...\n",
      "Scoring a new resume (91 scored so far)...\n",
      "Scoring a new resume (92 scored so far)...\n",
      "Scoring a new resume (93 scored so far)...\n",
      "Scoring a new resume (94 scored so far)...\n",
      "Scoring a new resume (95 scored so far)...\n",
      "Scoring a new resume (96 scored so far)...\n",
      "Scoring a new resume (97 scored so far)...\n",
      "Scoring a new resume (98 scored so far)...\n",
      "Scoring a new resume (99 scored so far)...\n"
     ]
    }
   ],
   "source": [
    "# Add scores for both the original and generated CVs\n",
    "import testing_scripts.score_resumes as score_resumes\n",
    "scored_df = tailored_df.copy()\n",
    "# scored_df = marked_df.copy()\n",
    "\n",
    "# score_resumes.append_scores(scored_df, job_description = constants.JOB_DESCRIPTION, CV_column_name = \"CV\", verbose = True)\n",
    "score_resumes.append_scores(scored_df, job_description = constants.JOB_DESCRIPTION, CV_column_name = constants.TAILORED_CV_NAME, verbose = True)\n",
    "\n",
    "# Export the scored dataframe\n",
    "SCORED_DATAFRAME_OUTPUT_FILENAME = \"data/scored_df_100 tailored UI.csv\"\n",
    "scored_df.to_csv(SCORED_DATAFRAME_OUTPUT_FILENAME)"
   ]
  },
  {
   "cell_type": "markdown",
   "metadata": {},
   "source": [
    "## From import\n",
    "If the scored_df.csv file already exists, run this instead to import the file"
   ]
  },
  {
   "cell_type": "code",
   "execution_count": 272,
   "metadata": {},
   "outputs": [],
   "source": [
    "SCORED_DATAFRAME_INPUT_FILENAME = \"data/scored_df_100 tailored UI.csv\"\n",
    "scored_df = pd.read_csv(SCORED_DATAFRAME_INPUT_FILENAME)"
   ]
  },
  {
   "cell_type": "markdown",
   "metadata": {},
   "source": [
    "## Scored resumes playground\n",
    "This subsection contains some light code for examining the resume scores"
   ]
  },
  {
   "cell_type": "code",
   "execution_count": 260,
   "metadata": {},
   "outputs": [],
   "source": [
    "# # Extract original CV score series\n",
    "# original_cv_scores: pd.Series = scored_df.loc[scored_df[\"CV Score\"].notna(),\"CV Score\"]\n",
    "\n",
    "# ORIGINAL_CV_SCORES_OUTPUT_FILENAME = \"data/100 original UI CV scores.csv\"\n",
    "# original_cv_scores.to_csv(ORIGINAL_CV_SCORES_OUTPUT_FILENAME)\n",
    "\n",
    "# Extract tailored CV score series\n",
    "tailored_cv_scores: pd.Series = scored_df.loc[scored_df[constants.TAILORED_CV_NAME].notna(), f\"{constants.TAILORED_CV_NAME} Score\"]\n",
    "\n",
    "TAILORED_CV_SCORES_OUTPUT_FILENAME = \"data/100 tailored UI CV scores.csv\"\n",
    "tailored_cv_scores.to_csv(TAILORED_CV_SCORES_OUTPUT_FILENAME)"
   ]
  },
  {
   "cell_type": "code",
   "execution_count": 261,
   "metadata": {},
   "outputs": [],
   "source": [
    "# Import each type\n",
    "ORIGINAL_POSITIVE_SCORES_INPUT_FILENAME = \"data/100 original PM CV scores.csv\"\n",
    "ORIGINAL_NEGATIVE_SCORES_INPUT_FILENAME = \"data/100 original UI CV scores.csv\"\n",
    "\n",
    "original_positive_cv_scores: np.ndarray = pd.read_csv(ORIGINAL_POSITIVE_SCORES_INPUT_FILENAME)[\"CV Score\"].values\n",
    "original_negative_cv_scores: np.ndarray = pd.read_csv(ORIGINAL_NEGATIVE_SCORES_INPUT_FILENAME)[\"CV Score\"].values\n",
    "\n",
    "TAILORED_POSITIVE_SCORES_INPUT_FILENAME = \"data/100 tailored PM CV scores.csv\"\n",
    "TAILORED_NEGATIVE_SCORES_INPUT_FILENAME = \"data/100 tailored UI CV scores.csv\"\n",
    "\n",
    "tailored_positive_cv_scores: np.ndarray = pd.read_csv(TAILORED_POSITIVE_SCORES_INPUT_FILENAME)[f\"{constants.TAILORED_CV_NAME} Score\"].values\n",
    "tailored_negative_cv_scores: np.ndarray = pd.read_csv(TAILORED_NEGATIVE_SCORES_INPUT_FILENAME)[f\"{constants.TAILORED_CV_NAME} Score\"].values"
   ]
  },
  {
   "cell_type": "code",
   "execution_count": 265,
   "metadata": {},
   "outputs": [],
   "source": [
    "# positive_cv_scores = original_positive_cv_scores\n",
    "# negative_cv_scores = original_negative_cv_scores\n",
    "# positive_name: str = \"Original PM\"          # change me\n",
    "# negative_name: str = \"Original UI\"          # change me\n",
    "\n",
    "positive_cv_scores = tailored_positive_cv_scores\n",
    "negative_cv_scores = tailored_negative_cv_scores\n",
    "positive_name: str = \"Tailored PM\"          # change me\n",
    "negative_name: str = \"Tailored UI\"          # change me\n",
    "\n",
    "'''\n",
    "Collect key statistics\n",
    "'''\n",
    "num_positive_scores = positive_cv_scores.size\n",
    "num_negative_scores = negative_cv_scores.size\n",
    "positive_proportion = num_positive_scores / (num_positive_scores + num_negative_scores)\n",
    "negative_proportion = 1 - positive_proportion\n",
    "\n",
    "positive_mean = positive_cv_scores.mean()\n",
    "positive_std = positive_cv_scores.std()\n",
    "negative_mean = negative_cv_scores.mean()\n",
    "negative_std = negative_cv_scores.std()\n",
    "\n",
    "from sklearn.metrics import roc_curve, auc\n",
    "y_true = np.concatenate((np.ones(num_positive_scores), np.zeros(num_negative_scores)))\n",
    "y_score = np.concatenate((positive_cv_scores, negative_cv_scores))\n",
    "FPRs, TPRs, thresholds = roc_curve(y_true, y_score, drop_intermediate=False) \n",
    "roc_auc = auc(FPRs, TPRs)\n",
    "\n",
    "accuracies = positive_proportion * TPRs + negative_proportion * (1 - FPRs)\n",
    "optimal_index = np.argmax(accuracies)\n",
    "optimal_accuracy = accuracies[optimal_index]\n",
    "optimal_threshold = thresholds[optimal_index]\n",
    "optimal_TPR = TPRs[optimal_index]\n",
    "optimal_TNR = 1 - FPRs[optimal_index]\n",
    "\n",
    "conservatively_optimal_index = np.argmax(np.where(FPRs == 0, TPRs, -np.NAN))      # mask elements where FPR is not 0 with negative infinity\n",
    "conservatively_optimal_TPR = TPRs[conservatively_optimal_index]\n",
    "conservatively_optimal_threshold = thresholds[conservatively_optimal_index]\n"
   ]
  },
  {
   "cell_type": "code",
   "execution_count": 266,
   "metadata": {},
   "outputs": [
    {
     "name": "stdout",
     "output_type": "stream",
     "text": [
      "Tailored PM score mean = 89.633, std = 3.392\n",
      "Tailored UI score mean = 88.039, std = 3.421\n",
      "Optimal accuracy = 0.665\n",
      "\tOptimal threshold = 90.33\n",
      "\tOptimal TPR = 0.57\n",
      "\tOptimal TNR = 0.76\n",
      "Conservatively optimal TPR = 0.01\n",
      "\tConservatively optimal threshold = 93.332\n",
      "AUC = 0.675\n"
     ]
    },
    {
     "data": {
      "image/png": "[encoded data removed]",
      "text/plain": [
       "<Figure size 1000x200 with 1 Axes>"
      ]
     },
     "metadata": {},
     "output_type": "display_data"
    },
    {
     "data": {
      "image/png": "[encoded data removed]",
      "text/plain": [
       "<Figure size 640x480 with 1 Axes>"
      ]
     },
     "metadata": {},
     "output_type": "display_data"
    },
    {
     "name": "stdout",
     "output_type": "stream",
     "text": [
      "Saved to data/figures/100 tailored PM vs 100 tailored UI CV scores.png\n",
      "Saved to data/figures/100 tailored PM vs 100 tailored UI CV ROC curve.png\n"
     ]
    }
   ],
   "source": [
    "'''\n",
    "Print report\n",
    "'''\n",
    "save_to_file: bool = True                   # change me\n",
    "\n",
    "\n",
    "uppercase_first = lambda string : string[0].upper() + string[1:]    # capitalizes first letter\n",
    "lowercase_first = lambda string : string[0].lower() + string[1:]    # uncapitalizes first letter\n",
    "\n",
    "# Print statistics\n",
    "print(f\"{positive_name} score mean = {positive_mean:.3f}, std = {positive_std:.3f}\")\n",
    "print(f\"{negative_name} score mean = {negative_mean:.3f}, std = {negative_std:.3f}\")\n",
    "\n",
    "print(f\"Optimal accuracy = {optimal_accuracy}\\n\\tOptimal threshold = {optimal_threshold}\\n\\tOptimal TPR = {optimal_TPR}\\n\\tOptimal TNR = {optimal_TNR}\")\n",
    "print(f\"Conservatively optimal TPR = {conservatively_optimal_TPR}\\n\\tConservatively optimal threshold = {conservatively_optimal_threshold}\")\n",
    "print(f\"AUC = {roc_auc:.3f}\")\n",
    "\n",
    "\n",
    "# Plot the distributions as a dot plot\n",
    "distribution_figure, distribution_ax = plt.subplots(figsize=(10, 2))  # Create a figure and axis\n",
    "\n",
    "positive_distribution_plot_label: str = f\"{uppercase_first(positive_name)} CV scores\\n(mean = {positive_mean:.2f}, std = {positive_std:.2f})\"\n",
    "negative_distribution_plot_label: str = f\"{uppercase_first(negative_name)} CV scores\\n(mean = {negative_mean:.2f}, std = {negative_std:.2f})\"\n",
    "distribution_ax.plot(positive_cv_scores, np.ones_like(positive_cv_scores), 'o', color='orange', label = positive_distribution_plot_label)  # Plot the positive scores\n",
    "distribution_ax.plot(negative_cv_scores, np.zeros_like(negative_cv_scores), 'o', color='blue', label = negative_distribution_plot_label)   # Plot the negative scores\n",
    "\n",
    "distribution_ax.set_ylim([-0.5, 1.5])\n",
    "distribution_ax.set_yticks([])                                                                                                                           # Set y-ticks to be hidden to make it look like a 1-dimensional plot\n",
    "distribution_ax.set_xlabel('CV Scores')\n",
    "distribution_ax.set_title(f'Dot Plot of {uppercase_first(positive_name)} and {uppercase_first(negative_name)} CV scores')\n",
    "distribution_ax.legend(bbox_to_anchor=(1, 1), loc='upper left')                             # Move legend outside plot\n",
    "# distribution_figure.show()        # causes strange error\n",
    "plt.show()\n",
    "\n",
    "\n",
    "# Plot the ROC curve\n",
    "ROC_figure, ROC_ax = plt.subplots()\n",
    "\n",
    "ROC_ax .plot(FPRs, TPRs, label='ROC curve (area = %0.2f)' % roc_auc)\n",
    "ROC_ax .plot([0, 1], [0, 1], 'k--', label='No Skill')\n",
    "ROC_ax.set_xlim([0.0, 1.0])\n",
    "ROC_ax.set_ylim([0.0, 1.05])\n",
    "ROC_ax.set_xlabel('False Positive Rate')\n",
    "ROC_ax.set_ylabel('True Positive Rate')\n",
    "ROC_ax.set_title(f'ROC Curve for {uppercase_first(positive_name)} vs. {uppercase_first(negative_name)}')\n",
    "ROC_ax.legend()\n",
    "plt.show()\n",
    "\n",
    "# Export the plots\n",
    "if save_to_file:\n",
    "    distribution_plot_filename  = f\"data/figures/{num_positive_scores} {lowercase_first(positive_name)} vs {num_negative_scores} {lowercase_first(negative_name)} CV scores.png\"\n",
    "    ROC_plot_filename           = f\"data/figures/{num_positive_scores} {lowercase_first(positive_name)} vs {num_negative_scores} {lowercase_first(negative_name)} CV ROC curve.png\"\n",
    "\n",
    "    distribution_figure.savefig(distribution_plot_filename, bbox_inches='tight')    # prevent from cropping off\n",
    "    ROC_figure.savefig(ROC_plot_filename, bbox_inches='tight')                      # prevent from cropping off\n",
    "\n",
    "    print(f\"Saved to {distribution_plot_filename}\")\n",
    "    print(f\"Saved to {ROC_plot_filename}\")"
   ]
  },
  {
   "cell_type": "code",
   "execution_count": 269,
   "metadata": {},
   "outputs": [],
   "source": [
    "# Find the threshold that maximizes TPR subject to FPR <= 0.2\n",
    "semiconservatively_optimal_index = np.argmax(np.where(FPRs <= 0.2, TPRs, -np.NAN))      # mask elements where FPR is not 0 with negative infinity\n",
    "semiconservatively_optimal_TPR = TPRs[semiconservatively_optimal_index]\n",
    "semiconservatively_optimal_threshold = thresholds[semiconservatively_optimal_index]\n"
   ]
  },
  {
   "cell_type": "code",
   "execution_count": 279,
   "metadata": {},
   "outputs": [
    {
     "data": {
      "text/plain": [
       "0.49"
      ]
     },
     "execution_count": 279,
     "metadata": {},
     "output_type": "execute_result"
    }
   ],
   "source": [
    "semiconservatively_optimal_TPR "
   ]
  },
  {
   "cell_type": "code",
   "execution_count": 271,
   "metadata": {},
   "outputs": [
    {
     "data": {
      "text/plain": [
       "90.603"
      ]
     },
     "execution_count": 271,
     "metadata": {},
     "output_type": "execute_result"
    }
   ],
   "source": [
    "semiconservatively_optimal_threshold"
   ]
  },
  {
   "cell_type": "code",
   "execution_count": 294,
   "metadata": {},
   "outputs": [
    {
     "data": {
      "text/plain": [
       "\"\\nI worked on the creation and implementation of ideas for branding tenders. I deveoped logos and outdoor advertising, actively worked with UNICEF projects. Also created presentations.I worked with the design of social media and together with the team we developed and designed ideas for outdoor advertising and social projects. Worked on design for the DARNITSA company's social media and its internal projects. I also led the social advertising project for Nova Poshta. Participated in creation of visual design of websites \\r\\nfor customers. Continued to work with UNICEF. Was making landing pages on Tilda and in Figma.\\n\""
      ]
     },
     "execution_count": 294,
     "metadata": {},
     "output_type": "execute_result"
    }
   ],
   "source": [
    "scored_df.loc[scored_df[f\"{constants.TAILORED_CV_NAME} Score\"] >= semiconservatively_optimal_threshold, f\"CV\"].iloc[10]"
   ]
  },
  {
   "cell_type": "code",
   "execution_count": 285,
   "metadata": {},
   "outputs": [
    {
     "data": {
      "text/plain": [
       "'A commitment to collaborative problem solving, agile thinking, and adaptability is essential. We are looking for a candidate who is able to balance a fast moving and changing environment with the ability to identify, investigate, and predict project risks Recruiting stages: HR interview, Tech interview **Core Responsibilities:** - Manage the full project life cycle including requirements gathering, creation of project plans and schedules, obtaining and managing resources, and facilitating project execution, deployment, and closure. - In cooperation with Technical Leads create and maintain comprehensive project documentation. - Manage Client expectations, monitor and increase CSAT level; - Plan, perform and implement process improvement initiatives. - Organize, lead, and facilitate cross-functional project teams. - Prepare weekly and monthly project status reports **What you need to Succeed:** - 1+ Year of dedicated Project Management in a production environment - Excellent organization and communication skills and the ability to communicate effectively with customers and co-workers. - Strong understanding of a Project Management Methodology (SDLC, Agile, Waterfall, etc.) - Creative mind with the ability to think outside-of-the-box. - The ability to manage multiple projects simultaneously - Experience with Jira or similar project management tool - Upper-intermediate level of English is a must'"
      ]
     },
     "execution_count": 285,
     "metadata": {},
     "output_type": "execute_result"
    }
   ],
   "source": [
    "f\"{constants.TAILORED_CV_NAME}\""
   ]
  },
  {
   "cell_type": "code",
   "execution_count": null,
   "metadata": {},
   "outputs": [],
   "source": []
  }
 ],
 "metadata": {
  "kernelspec": {
   "display_name": "Python 3.10.13 ('hiring-test')",
   "language": "python",
   "name": "python3"
  },
  "language_info": {
   "codemirror_mode": {
    "name": "ipython",
    "version": 3
   },
   "file_extension": ".py",
   "mimetype": "text/x-python",
   "name": "python",
   "nbconvert_exporter": "python",
   "pygments_lexer": "ipython3",
   "version": "3.10.13"
  },
  "orig_nbformat": 4,
  "vscode": {
   "interpreter": {
    "hash": "1ef90e252922ec218579f878e8875693d0f6f915d658626d8644d9a71eb203b8"
   }
  }
 },
 "nbformat": 4,
 "nbformat_minor": 2
}
